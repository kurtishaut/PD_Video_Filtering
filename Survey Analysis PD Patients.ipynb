{
 "cells": [
  {
   "cell_type": "code",
   "execution_count": 1,
   "metadata": {},
   "outputs": [
    {
     "data": {
      "text/plain": [
       "'PROGRAM LOGIC\\n-Merge into one dataframe\\n-Stats analysis\\n'"
      ]
     },
     "execution_count": 1,
     "metadata": {},
     "output_type": "execute_result"
    }
   ],
   "source": [
    "'''PROGRAM LOGIC\n",
    "-Merge into one dataframe\n",
    "-Stats analysis\n",
    "'''"
   ]
  },
  {
   "cell_type": "code",
   "execution_count": 2,
   "metadata": {},
   "outputs": [],
   "source": [
    "import numpy as np\n",
    "import pandas as pd\n",
    "import matplotlib.pyplot as plt\n",
    "from scipy.stats import mannwhitneyu\n",
    "from statsmodels.stats.proportion import proportions_ztest"
   ]
  },
  {
   "cell_type": "code",
   "execution_count": 3,
   "metadata": {},
   "outputs": [],
   "source": [
    "df_rc = pd.read_csv('pd_patients_redcap.csv')"
   ]
  },
  {
   "cell_type": "code",
   "execution_count": 4,
   "metadata": {},
   "outputs": [],
   "source": [
    "df_g = pd.read_csv('pd_patients_google.csv')"
   ]
  },
  {
   "cell_type": "code",
   "execution_count": 5,
   "metadata": {},
   "outputs": [
    {
     "data": {
      "text/html": [
       "<div>\n",
       "<style scoped>\n",
       "    .dataframe tbody tr th:only-of-type {\n",
       "        vertical-align: middle;\n",
       "    }\n",
       "\n",
       "    .dataframe tbody tr th {\n",
       "        vertical-align: top;\n",
       "    }\n",
       "\n",
       "    .dataframe thead th {\n",
       "        text-align: right;\n",
       "    }\n",
       "</style>\n",
       "<table border=\"1\" class=\"dataframe\">\n",
       "  <thead>\n",
       "    <tr style=\"text-align: right;\">\n",
       "      <th></th>\n",
       "      <th>Record ID</th>\n",
       "      <th>What is your age?</th>\n",
       "      <th>What is your current employment status?</th>\n",
       "      <th>If you are retired, what was your last job?</th>\n",
       "      <th>What is your job/profession?</th>\n",
       "      <th>What is your gender?&amp;nbsp;</th>\n",
       "      <th>Are you of Hispanic, Latino/a, or Spanish origin?</th>\n",
       "      <th>What is your race? (Check all that apply)  (choice=White)</th>\n",
       "      <th>What is your race? (Check all that apply)  (choice=Black or African American)</th>\n",
       "      <th>What is your race? (Check all that apply)  (choice=American Indian or Alaska Native)</th>\n",
       "      <th>...</th>\n",
       "      <th>How long have you been diagnosed with Parkinson's Disease?</th>\n",
       "      <th>How many people do you personally know with Parkinson's Disease?</th>\n",
       "      <th>How often do you make video calls or post videos online?</th>\n",
       "      <th>I would like to have the option to remove tremors from videos of myself.</th>\n",
       "      <th>I would like for viewers to have the option to remove tremors from a video of myself.</th>\n",
       "      <th>My tremors affect my level of confidence.</th>\n",
       "      <th>I feel like my tremors cause others to perceive me as less competent.</th>\n",
       "      <th>Would you like to be contacted in the future for a follow-up interview or other research projects?</th>\n",
       "      <th>What is your email? (optional)</th>\n",
       "      <th>Complete?</th>\n",
       "    </tr>\n",
       "  </thead>\n",
       "  <tbody>\n",
       "  </tbody>\n",
       "</table>\n",
       "<p>0 rows × 26 columns</p>\n",
       "</div>"
      ],
      "text/plain": [
       "Empty DataFrame\n",
       "Columns: [Record ID, What is your age?, What is your current employment status?, If you are retired, what was your last job? , What is your job/profession? , What is your gender?&nbsp;, Are you of Hispanic, Latino/a, or Spanish origin?, What is your race? (Check all that apply)  (choice=White), What is your race? (Check all that apply)  (choice=Black or African American), What is your race? (Check all that apply)  (choice=American Indian or Alaska Native), What is your race? (Check all that apply)  (choice=Asian), What is your race? (Check all that apply)  (choice=Native Hawaiian or Pacific Islander), What is your race? (Check all that apply)  (choice=Other), What is the highest level of education you have obtained?, Are you part of a Parkinson's disease support group?, Have you taken on leadership or advocacy roles within the Parkinson's Disease community?, How long have you been diagnosed with Parkinson's Disease?, How many people do you personally know with Parkinson's Disease?, How often do you make video calls or post videos online?, I would like to have the option to remove tremors from videos of myself., I would like for viewers to have the option to remove tremors from a video of myself., My tremors affect my level of confidence. , I feel like my tremors cause others to perceive me as less competent. , Would you like to be contacted in the future for a follow-up interview or other research projects?, What is your email? (optional), Complete?]\n",
       "Index: []\n",
       "\n",
       "[0 rows x 26 columns]"
      ]
     },
     "metadata": {},
     "output_type": "display_data"
    },
    {
     "data": {
      "text/html": [
       "<div>\n",
       "<style scoped>\n",
       "    .dataframe tbody tr th:only-of-type {\n",
       "        vertical-align: middle;\n",
       "    }\n",
       "\n",
       "    .dataframe tbody tr th {\n",
       "        vertical-align: top;\n",
       "    }\n",
       "\n",
       "    .dataframe thead th {\n",
       "        text-align: right;\n",
       "    }\n",
       "</style>\n",
       "<table border=\"1\" class=\"dataframe\">\n",
       "  <thead>\n",
       "    <tr style=\"text-align: right;\">\n",
       "      <th></th>\n",
       "      <th>Timestamp</th>\n",
       "      <th>Username</th>\n",
       "      <th>What is your age?</th>\n",
       "      <th>What is your current employment status?</th>\n",
       "      <th>If you are retired, what was your last job?</th>\n",
       "      <th>What is your job/profession?</th>\n",
       "      <th>What is your gender?</th>\n",
       "      <th>Are you of Hispanic, Latino/a, or Spanish origin?</th>\n",
       "      <th>What is your race? (Check all that apply)</th>\n",
       "      <th>What the highest level of education you have obtained?</th>\n",
       "      <th>...</th>\n",
       "      <th>How many people do you personally know with Parkinson’s Disease?</th>\n",
       "      <th>How often do you make video calls or post videos online?</th>\n",
       "      <th>I would like to have the option to remove tremors from videos of myself.</th>\n",
       "      <th>I would like for viewers to have the option to remove tremors from a video of myself.</th>\n",
       "      <th>My tremors affect my level of confidence.</th>\n",
       "      <th>I feel like my tremors cause others to perceive me as less competent.</th>\n",
       "      <th>What is your email? (optional)</th>\n",
       "      <th>Would you like to be contacted in the future for a follow-up interview or other research projects?</th>\n",
       "      <th>Unnamed: 21</th>\n",
       "      <th>Unnamed: 22</th>\n",
       "    </tr>\n",
       "  </thead>\n",
       "  <tbody>\n",
       "  </tbody>\n",
       "</table>\n",
       "<p>0 rows × 23 columns</p>\n",
       "</div>"
      ],
      "text/plain": [
       "Empty DataFrame\n",
       "Columns: [Timestamp, Username, What is your age?, What is your current employment status?, If you are retired, what was your last job? , What is your job/profession? , What is your gender?, Are you of Hispanic, Latino/a, or Spanish origin?, What is your race? (Check all that apply), What the highest level of education you have obtained?, Are you part of a Parkinson's Disease support group?, Have you taken on leadership or advocacy roles within the Parkinson's Disease community?, How long have you been diagnosed with Parkinson's Disease?, How many people do you personally know with Parkinson’s Disease?, How often do you make video calls or post videos online?, I would like to have the option to remove tremors from videos of myself., I would like for viewers to have the option to remove tremors from a video of myself., My tremors affect my level of confidence. , I feel like my tremors cause others to perceive me as less competent. , What is your email? (optional), Would you like to be contacted in the future for a follow-up interview or other research projects?, Unnamed: 21, Unnamed: 22]\n",
       "Index: []\n",
       "\n",
       "[0 rows x 23 columns]"
      ]
     },
     "metadata": {},
     "output_type": "display_data"
    },
    {
     "name": "stdout",
     "output_type": "stream",
     "text": [
      "101 76\n"
     ]
    },
    {
     "data": {
      "text/html": [
       "<div>\n",
       "<style scoped>\n",
       "    .dataframe tbody tr th:only-of-type {\n",
       "        vertical-align: middle;\n",
       "    }\n",
       "\n",
       "    .dataframe tbody tr th {\n",
       "        vertical-align: top;\n",
       "    }\n",
       "\n",
       "    .dataframe thead th {\n",
       "        text-align: right;\n",
       "    }\n",
       "</style>\n",
       "<table border=\"1\" class=\"dataframe\">\n",
       "  <thead>\n",
       "    <tr style=\"text-align: right;\">\n",
       "      <th></th>\n",
       "      <th>Record ID</th>\n",
       "      <th>What is your age?</th>\n",
       "      <th>What is your current employment status?</th>\n",
       "      <th>If you are retired, what was your last job?</th>\n",
       "      <th>What is your job/profession?</th>\n",
       "      <th>What is your gender?&amp;nbsp;</th>\n",
       "      <th>Are you of Hispanic, Latino/a, or Spanish origin?</th>\n",
       "      <th>What is your race? (Check all that apply)  (choice=White)</th>\n",
       "      <th>What is your race? (Check all that apply)  (choice=Black or African American)</th>\n",
       "      <th>What is your race? (Check all that apply)  (choice=American Indian or Alaska Native)</th>\n",
       "      <th>...</th>\n",
       "      <th>Complete?</th>\n",
       "      <th>Timestamp</th>\n",
       "      <th>Username</th>\n",
       "      <th>What is your gender?</th>\n",
       "      <th>What is your race? (Check all that apply)</th>\n",
       "      <th>What the highest level of education you have obtained?</th>\n",
       "      <th>Are you part of a Parkinson's Disease support group?</th>\n",
       "      <th>How many people do you personally know with Parkinson’s Disease?</th>\n",
       "      <th>Unnamed: 21</th>\n",
       "      <th>Unnamed: 22</th>\n",
       "    </tr>\n",
       "  </thead>\n",
       "  <tbody>\n",
       "    <tr>\n",
       "      <th>0</th>\n",
       "      <td>1.0</td>\n",
       "      <td>45-54 years old</td>\n",
       "      <td>Employed</td>\n",
       "      <td>NaN</td>\n",
       "      <td>accountant</td>\n",
       "      <td>Female</td>\n",
       "      <td>Not of Hispanic, Latino/a, or Spanish origin</td>\n",
       "      <td>Checked</td>\n",
       "      <td>Unchecked</td>\n",
       "      <td>Unchecked</td>\n",
       "      <td>...</td>\n",
       "      <td>Complete</td>\n",
       "      <td>NaN</td>\n",
       "      <td>NaN</td>\n",
       "      <td>NaN</td>\n",
       "      <td>NaN</td>\n",
       "      <td>NaN</td>\n",
       "      <td>NaN</td>\n",
       "      <td>NaN</td>\n",
       "      <td>NaN</td>\n",
       "      <td>NaN</td>\n",
       "    </tr>\n",
       "    <tr>\n",
       "      <th>1</th>\n",
       "      <td>2.0</td>\n",
       "      <td>75-84 years old</td>\n",
       "      <td>Retired</td>\n",
       "      <td>Software designer</td>\n",
       "      <td>NaN</td>\n",
       "      <td>Male</td>\n",
       "      <td>Not of Hispanic, Latino/a, or Spanish origin</td>\n",
       "      <td>Checked</td>\n",
       "      <td>Unchecked</td>\n",
       "      <td>Unchecked</td>\n",
       "      <td>...</td>\n",
       "      <td>Complete</td>\n",
       "      <td>NaN</td>\n",
       "      <td>NaN</td>\n",
       "      <td>NaN</td>\n",
       "      <td>NaN</td>\n",
       "      <td>NaN</td>\n",
       "      <td>NaN</td>\n",
       "      <td>NaN</td>\n",
       "      <td>NaN</td>\n",
       "      <td>NaN</td>\n",
       "    </tr>\n",
       "    <tr>\n",
       "      <th>2</th>\n",
       "      <td>3.0</td>\n",
       "      <td>45-54 years old</td>\n",
       "      <td>Other</td>\n",
       "      <td>NaN</td>\n",
       "      <td>Disabled via Parkinson's</td>\n",
       "      <td>Male</td>\n",
       "      <td>Not of Hispanic, Latino/a, or Spanish origin</td>\n",
       "      <td>Checked</td>\n",
       "      <td>Unchecked</td>\n",
       "      <td>Unchecked</td>\n",
       "      <td>...</td>\n",
       "      <td>Complete</td>\n",
       "      <td>NaN</td>\n",
       "      <td>NaN</td>\n",
       "      <td>NaN</td>\n",
       "      <td>NaN</td>\n",
       "      <td>NaN</td>\n",
       "      <td>NaN</td>\n",
       "      <td>NaN</td>\n",
       "      <td>NaN</td>\n",
       "      <td>NaN</td>\n",
       "    </tr>\n",
       "    <tr>\n",
       "      <th>3</th>\n",
       "      <td>4.0</td>\n",
       "      <td>65-74 years old</td>\n",
       "      <td>Retired</td>\n",
       "      <td>Buyer</td>\n",
       "      <td>NaN</td>\n",
       "      <td>Male</td>\n",
       "      <td>Not of Hispanic, Latino/a, or Spanish origin</td>\n",
       "      <td>Checked</td>\n",
       "      <td>Unchecked</td>\n",
       "      <td>Unchecked</td>\n",
       "      <td>...</td>\n",
       "      <td>Complete</td>\n",
       "      <td>NaN</td>\n",
       "      <td>NaN</td>\n",
       "      <td>NaN</td>\n",
       "      <td>NaN</td>\n",
       "      <td>NaN</td>\n",
       "      <td>NaN</td>\n",
       "      <td>NaN</td>\n",
       "      <td>NaN</td>\n",
       "      <td>NaN</td>\n",
       "    </tr>\n",
       "    <tr>\n",
       "      <th>4</th>\n",
       "      <td>5.0</td>\n",
       "      <td>55-64 years old</td>\n",
       "      <td>Retired</td>\n",
       "      <td>Aerospace engineering</td>\n",
       "      <td>NaN</td>\n",
       "      <td>Female</td>\n",
       "      <td>Not of Hispanic, Latino/a, or Spanish origin</td>\n",
       "      <td>Checked</td>\n",
       "      <td>Unchecked</td>\n",
       "      <td>Unchecked</td>\n",
       "      <td>...</td>\n",
       "      <td>Incomplete</td>\n",
       "      <td>NaN</td>\n",
       "      <td>NaN</td>\n",
       "      <td>NaN</td>\n",
       "      <td>NaN</td>\n",
       "      <td>NaN</td>\n",
       "      <td>NaN</td>\n",
       "      <td>NaN</td>\n",
       "      <td>NaN</td>\n",
       "      <td>NaN</td>\n",
       "    </tr>\n",
       "  </tbody>\n",
       "</table>\n",
       "<p>5 rows × 35 columns</p>\n",
       "</div>"
      ],
      "text/plain": [
       "   Record ID What is your age? What is your current employment status?  \\\n",
       "0        1.0   45-54 years old                                Employed   \n",
       "1        2.0   75-84 years old                                 Retired   \n",
       "2        3.0   45-54 years old                                   Other   \n",
       "3        4.0   65-74 years old                                 Retired   \n",
       "4        5.0   55-64 years old                                 Retired   \n",
       "\n",
       "  If you are retired, what was your last job?  What is your job/profession?   \\\n",
       "0                                          NaN                   accountant    \n",
       "1                            Software designer                           NaN   \n",
       "2                                          NaN      Disabled via Parkinson's   \n",
       "3                                        Buyer                           NaN   \n",
       "4                        Aerospace engineering                           NaN   \n",
       "\n",
       "  What is your gender?&nbsp;  \\\n",
       "0                     Female   \n",
       "1                       Male   \n",
       "2                       Male   \n",
       "3                       Male   \n",
       "4                     Female   \n",
       "\n",
       "  Are you of Hispanic, Latino/a, or Spanish origin?  \\\n",
       "0      Not of Hispanic, Latino/a, or Spanish origin   \n",
       "1      Not of Hispanic, Latino/a, or Spanish origin   \n",
       "2      Not of Hispanic, Latino/a, or Spanish origin   \n",
       "3      Not of Hispanic, Latino/a, or Spanish origin   \n",
       "4      Not of Hispanic, Latino/a, or Spanish origin   \n",
       "\n",
       "  What is your race? (Check all that apply)  (choice=White)  \\\n",
       "0                                            Checked          \n",
       "1                                            Checked          \n",
       "2                                            Checked          \n",
       "3                                            Checked          \n",
       "4                                            Checked          \n",
       "\n",
       "  What is your race? (Check all that apply)  (choice=Black or African American)  \\\n",
       "0                                          Unchecked                              \n",
       "1                                          Unchecked                              \n",
       "2                                          Unchecked                              \n",
       "3                                          Unchecked                              \n",
       "4                                          Unchecked                              \n",
       "\n",
       "  What is your race? (Check all that apply)  (choice=American Indian or Alaska Native)  \\\n",
       "0                                          Unchecked                                     \n",
       "1                                          Unchecked                                     \n",
       "2                                          Unchecked                                     \n",
       "3                                          Unchecked                                     \n",
       "4                                          Unchecked                                     \n",
       "\n",
       "   ...   Complete? Timestamp Username What is your gender?  \\\n",
       "0  ...    Complete       NaN      NaN                  NaN   \n",
       "1  ...    Complete       NaN      NaN                  NaN   \n",
       "2  ...    Complete       NaN      NaN                  NaN   \n",
       "3  ...    Complete       NaN      NaN                  NaN   \n",
       "4  ...  Incomplete       NaN      NaN                  NaN   \n",
       "\n",
       "  What is your race? (Check all that apply)  \\\n",
       "0                                       NaN   \n",
       "1                                       NaN   \n",
       "2                                       NaN   \n",
       "3                                       NaN   \n",
       "4                                       NaN   \n",
       "\n",
       "  What the highest level of education you have obtained?  \\\n",
       "0                                                NaN       \n",
       "1                                                NaN       \n",
       "2                                                NaN       \n",
       "3                                                NaN       \n",
       "4                                                NaN       \n",
       "\n",
       "  Are you part of a Parkinson's Disease support group?  \\\n",
       "0                                                NaN     \n",
       "1                                                NaN     \n",
       "2                                                NaN     \n",
       "3                                                NaN     \n",
       "4                                                NaN     \n",
       "\n",
       "  How many people do you personally know with Parkinson’s Disease?  \\\n",
       "0                                                NaN                 \n",
       "1                                                NaN                 \n",
       "2                                                NaN                 \n",
       "3                                                NaN                 \n",
       "4                                                NaN                 \n",
       "\n",
       "  Unnamed: 21 Unnamed: 22  \n",
       "0         NaN         NaN  \n",
       "1         NaN         NaN  \n",
       "2         NaN         NaN  \n",
       "3         NaN         NaN  \n",
       "4         NaN         NaN  \n",
       "\n",
       "[5 rows x 35 columns]"
      ]
     },
     "metadata": {},
     "output_type": "display_data"
    },
    {
     "name": "stdout",
     "output_type": "stream",
     "text": [
      "177\n"
     ]
    }
   ],
   "source": [
    "display(df_rc.head(0))\n",
    "display(df_g.head(0))\n",
    "\n",
    "print(len(df_rc), len(df_g))\n",
    "\n",
    "frames = [df_rc, df_g]\n",
    "\n",
    "df_combo = pd.concat(frames, ignore_index=True)\n",
    "\n",
    "display(df_combo.head())\n",
    "print(len(df_combo))\n"
   ]
  },
  {
   "cell_type": "code",
   "execution_count": 6,
   "metadata": {},
   "outputs": [],
   "source": [
    "#Self-contained cell for converting data into numerical format for strongly agree questions\n",
    "str2int_dict = {'Strongly Agree':5.0, 'Agree':4.0, 'Undecided': 3.0,'Disagree':2.0, 'Strongly Disagree':1.0}\n",
    "def str2int(st):\n",
    "    if ((type(st) == str) and (st.endswith('agree') or st.endswith('Agree') or st.endswith('decided'))):\n",
    "        return str2int_dict[st]\n",
    "    else:\n",
    "        return st\n",
    "\n"
   ]
  },
  {
   "cell_type": "code",
   "execution_count": 7,
   "metadata": {},
   "outputs": [],
   "source": [
    "for col in df_combo.columns:\n",
    "    df_combo[col] = df_combo[col].apply(str2int)\n"
   ]
  },
  {
   "cell_type": "code",
   "execution_count": 9,
   "metadata": {},
   "outputs": [],
   "source": [
    "# Create an array of questions to analyze\n",
    "q0 = \"I would like to have the option to remove tremors from videos of myself.\"\n",
    "q1 = \"I would like for viewers to have the option to remove tremors from a video of myself.\"\n",
    "q2 = \"My tremors affect my level of confidence. \" \n",
    "q3 = \"I feel like my tremors cause others to perceive me as less competent. \"\n",
    "\n",
    "q_list = [q0, q1, q2, q3]\n",
    "\n",
    "# There was a space in the google forms for q2 and q3"
   ]
  },
  {
   "cell_type": "code",
   "execution_count": 10,
   "metadata": {},
   "outputs": [
    {
     "data": {
      "text/html": [
       "<div>\n",
       "<style scoped>\n",
       "    .dataframe tbody tr th:only-of-type {\n",
       "        vertical-align: middle;\n",
       "    }\n",
       "\n",
       "    .dataframe tbody tr th {\n",
       "        vertical-align: top;\n",
       "    }\n",
       "\n",
       "    .dataframe thead th {\n",
       "        text-align: right;\n",
       "    }\n",
       "</style>\n",
       "<table border=\"1\" class=\"dataframe\">\n",
       "  <thead>\n",
       "    <tr style=\"text-align: right;\">\n",
       "      <th></th>\n",
       "      <th>I would like to have the option to remove tremors from videos of myself.</th>\n",
       "      <th>I would like for viewers to have the option to remove tremors from a video of myself.</th>\n",
       "      <th>My tremors affect my level of confidence.</th>\n",
       "      <th>I feel like my tremors cause others to perceive me as less competent.</th>\n",
       "    </tr>\n",
       "  </thead>\n",
       "  <tbody>\n",
       "    <tr>\n",
       "      <th>3.0</th>\n",
       "      <td>63</td>\n",
       "      <td>59</td>\n",
       "      <td>30</td>\n",
       "      <td>30</td>\n",
       "    </tr>\n",
       "    <tr>\n",
       "      <th>4.0</th>\n",
       "      <td>57</td>\n",
       "      <td>61</td>\n",
       "      <td>55</td>\n",
       "      <td>71</td>\n",
       "    </tr>\n",
       "    <tr>\n",
       "      <th>2.0</th>\n",
       "      <td>22</td>\n",
       "      <td>16</td>\n",
       "      <td>44</td>\n",
       "      <td>31</td>\n",
       "    </tr>\n",
       "    <tr>\n",
       "      <th>5.0</th>\n",
       "      <td>19</td>\n",
       "      <td>18</td>\n",
       "      <td>16</td>\n",
       "      <td>19</td>\n",
       "    </tr>\n",
       "    <tr>\n",
       "      <th>1.0</th>\n",
       "      <td>9</td>\n",
       "      <td>16</td>\n",
       "      <td>20</td>\n",
       "      <td>14</td>\n",
       "    </tr>\n",
       "  </tbody>\n",
       "</table>\n",
       "</div>"
      ],
      "text/plain": [
       "     I would like to have the option to remove tremors from videos of myself.  \\\n",
       "3.0                                                 63                          \n",
       "4.0                                                 57                          \n",
       "2.0                                                 22                          \n",
       "5.0                                                 19                          \n",
       "1.0                                                  9                          \n",
       "\n",
       "     I would like for viewers to have the option to remove tremors from a video of myself.  \\\n",
       "3.0                                                 59                                       \n",
       "4.0                                                 61                                       \n",
       "2.0                                                 16                                       \n",
       "5.0                                                 18                                       \n",
       "1.0                                                 16                                       \n",
       "\n",
       "     My tremors affect my level of confidence.   \\\n",
       "3.0                                          30   \n",
       "4.0                                          55   \n",
       "2.0                                          44   \n",
       "5.0                                          16   \n",
       "1.0                                          20   \n",
       "\n",
       "     I feel like my tremors cause others to perceive me as less competent.   \n",
       "3.0                                                 30                       \n",
       "4.0                                                 71                       \n",
       "2.0                                                 31                       \n",
       "5.0                                                 19                       \n",
       "1.0                                                 14                       "
      ]
     },
     "metadata": {},
     "output_type": "display_data"
    }
   ],
   "source": [
    "# This is to generate a table of distributions (counts) for each answer for each question\n",
    "# 'Strongly Agree':5, 'Agree':4, 'Undecided': 3,'Disagree':2, 'Strongly Disagree':1\n",
    "# str2int_dict2 = {'Always':5, 'Often':4, 'Sometimes': 3,'Rarely':2, 'Never':1}\n",
    "df_counts = pd.DataFrame()\n",
    "for q in q_list:\n",
    "    col_name = q\n",
    "    df_counts[col_name] = df_combo[col_name].value_counts() # applies function for every row in specified column\n",
    "display(df_counts)"
   ]
  },
  {
   "cell_type": "code",
   "execution_count": 11,
   "metadata": {},
   "outputs": [
    {
     "name": "stdout",
     "output_type": "stream",
     "text": [
      "Count for those who AGREED to the questions: \n"
     ]
    },
    {
     "data": {
      "text/plain": [
       "I would like to have the option to remove tremors from videos of myself.                 76\n",
       "I would like for viewers to have the option to remove tremors from a video of myself.    79\n",
       "My tremors affect my level of confidence.                                                71\n",
       "I feel like my tremors cause others to perceive me as less competent.                    90\n",
       "dtype: int64"
      ]
     },
     "metadata": {},
     "output_type": "display_data"
    },
    {
     "name": "stdout",
     "output_type": "stream",
     "text": [
      "Count for those who DISAGREED to the questions: \n"
     ]
    },
    {
     "data": {
      "text/plain": [
       "I would like to have the option to remove tremors from videos of myself.                 31\n",
       "I would like for viewers to have the option to remove tremors from a video of myself.    32\n",
       "My tremors affect my level of confidence.                                                64\n",
       "I feel like my tremors cause others to perceive me as less competent.                    45\n",
       "dtype: int64"
      ]
     },
     "metadata": {},
     "output_type": "display_data"
    },
    {
     "data": {
      "text/html": [
       "<div>\n",
       "<style scoped>\n",
       "    .dataframe tbody tr th:only-of-type {\n",
       "        vertical-align: middle;\n",
       "    }\n",
       "\n",
       "    .dataframe tbody tr th {\n",
       "        vertical-align: top;\n",
       "    }\n",
       "\n",
       "    .dataframe thead th {\n",
       "        text-align: right;\n",
       "    }\n",
       "</style>\n",
       "<table border=\"1\" class=\"dataframe\">\n",
       "  <thead>\n",
       "    <tr style=\"text-align: right;\">\n",
       "      <th></th>\n",
       "      <th>Agree</th>\n",
       "      <th>Disagree</th>\n",
       "    </tr>\n",
       "  </thead>\n",
       "  <tbody>\n",
       "    <tr>\n",
       "      <th>I would like to have the option to remove tremors from videos of myself.</th>\n",
       "      <td>76</td>\n",
       "      <td>31</td>\n",
       "    </tr>\n",
       "    <tr>\n",
       "      <th>I would like for viewers to have the option to remove tremors from a video of myself.</th>\n",
       "      <td>79</td>\n",
       "      <td>32</td>\n",
       "    </tr>\n",
       "    <tr>\n",
       "      <th>My tremors affect my level of confidence.</th>\n",
       "      <td>71</td>\n",
       "      <td>64</td>\n",
       "    </tr>\n",
       "    <tr>\n",
       "      <th>I feel like my tremors cause others to perceive me as less competent.</th>\n",
       "      <td>90</td>\n",
       "      <td>45</td>\n",
       "    </tr>\n",
       "  </tbody>\n",
       "</table>\n",
       "</div>"
      ],
      "text/plain": [
       "                                                    Agree  Disagree\n",
       "I would like to have the option to remove tremo...     76        31\n",
       "I would like for viewers to have the option to ...     79        32\n",
       "My tremors affect my level of confidence.              71        64\n",
       "I feel like my tremors cause others to perceive...     90        45"
      ]
     },
     "metadata": {},
     "output_type": "display_data"
    }
   ],
   "source": [
    "# here we create a dataframe containing only disagree and agree sums\n",
    "# Keep in mind there is a frequency question... close enough ?\n",
    "df_agree = df_counts.loc[[4.0, 5.0],:].sum()\n",
    "df_disagree = df_counts.loc[[1.0,2.0],:].sum()\n",
    "df_neutral = df_counts.loc[[3.0],:].sum()\n",
    "df_AD = pd.concat([df_agree, df_disagree], axis=1)\n",
    "df_AD.columns = ['Agree','Disagree']\n",
    "print(\"Count for those who AGREED to the questions: \")\n",
    "display(df_agree)\n",
    "print(\"Count for those who DISAGREED to the questions: \")\n",
    "display(df_disagree)\n",
    "display(df_AD)"
   ]
  },
  {
   "cell_type": "code",
   "execution_count": 12,
   "metadata": {},
   "outputs": [
    {
     "name": "stdout",
     "output_type": "stream",
     "text": [
      "I would like to have the option to remove tremors from videos of myself.\n",
      "T:  4.79497960077169 P:  1.6269138550665999e-06\n",
      "\n",
      "==========================\n",
      "\n",
      "I would like for viewers to have the option to remove tremors from a video of myself.\n",
      "T:  4.924258200898274 P:  8.468096480949749e-07\n",
      "\n",
      "==========================\n",
      "\n",
      "My tremors affect my level of confidence. \n",
      "T:  0.6032756097072094 P:  0.5463253557295227\n",
      "\n",
      "==========================\n",
      "\n",
      "I feel like my tremors cause others to perceive me as less competent. \n",
      "T:  4.107919181288745 P:  3.992397476901354e-05\n",
      "\n",
      "==========================\n",
      "\n"
     ]
    }
   ],
   "source": [
    "# testing for population differences on all questions\n",
    "# statsmodels.stats.proportion.proportions_ztest(count, nobs, value=None, \n",
    "#                   alternative='two-sided', prop_var=False)\n",
    "# Returns statistic and p-value\n",
    "# Null Hypothesis = There is no difference in public opinion. \n",
    "    # E.g., Number who agree is equal to the number who disagree\n",
    "\n",
    "for q in q_list:\n",
    "    print(q)\n",
    "    row_ID = q\n",
    "    num_agree = df_AD.loc[row_ID,'Agree']\n",
    "    num_disagree = df_AD.loc[row_ID,'Disagree']\n",
    "    t, p = proportions_ztest(num_agree, (num_agree+num_disagree), value=.5) # Assume no difference \n",
    "    print(\"T: \", t, \"P: \", p)\n",
    "    print(\"\\n==========================\\n\")"
   ]
  },
  {
   "cell_type": "code",
   "execution_count": 13,
   "metadata": {},
   "outputs": [],
   "source": [
    "# self-contained cell to determine interval for 95% of distr\n",
    "# 95 % of a distribution falls between 2 standard-deviations of the mean\n",
    "# params = (mu, std)\n",
    "# returns list [mu-std, mu, mu+std]\n",
    "def compute_interval95(mu, std):\n",
    "    lower_bound = mu - (2*std)\n",
    "    upper_bound = mu + (2*std)\n",
    "    ret_list = [lower_bound, mu, upper_bound]\n",
    "    return ret_list"
   ]
  },
  {
   "cell_type": "code",
   "execution_count": 14,
   "metadata": {},
   "outputs": [],
   "source": [
    "# self-contained cell for determining overlap of confidence intervals\n",
    "# Used to determine DIFFERENCE of opinoin betweeen 2 groups\n",
    "# params =[interval_list1, interval_list2]\n",
    "# Returns TRUE if NO overlap bc no overlap means difference\n",
    "def is_difference(interval_list1, interval_list2):\n",
    "    lower_bound1 = interval_list1[0]\n",
    "    upper_bound1 = interval_list1[-1]\n",
    "    lower_bound2 = interval_list2[0]\n",
    "    upper_bound2 = interval_list2[-1]\n",
    "    if ((lower_bound2 >= upper_bound1) or (upper_bound2 <= lower_bound1)):\n",
    "        return True # distributions do not overlap\n",
    "    else:\n",
    "        return False # distributinos overlap!"
   ]
  },
  {
   "cell_type": "code",
   "execution_count": 15,
   "metadata": {},
   "outputs": [
    {
     "name": "stdout",
     "output_type": "stream",
     "text": [
      "177\n"
     ]
    }
   ],
   "source": [
    "df = df_combo.copy()\n",
    "print(len(df))"
   ]
  },
  {
   "cell_type": "code",
   "execution_count": 18,
   "metadata": {},
   "outputs": [
    {
     "name": "stdout",
     "output_type": "stream",
     "text": [
      "I would like to have the option to remove tremors from videos of myself.\n",
      "Male\n"
     ]
    },
    {
     "data": {
      "image/png": "[encoded data removed]",
      "text/plain": [
       "<Figure size 432x288 with 1 Axes>"
      ]
     },
     "metadata": {
      "needs_background": "light"
     },
     "output_type": "display_data"
    },
    {
     "data": {
      "image/png": "[encoded data removed]",
      "text/plain": [
       "<Figure size 432x288 with 1 Axes>"
      ]
     },
     "metadata": {
      "needs_background": "light"
     },
     "output_type": "display_data"
    },
    {
     "name": "stdout",
     "output_type": "stream",
     "text": [
      "Female\n"
     ]
    },
    {
     "data": {
      "image/png": "[encoded data removed]",
      "text/plain": [
       "<Figure size 432x288 with 1 Axes>"
      ]
     },
     "metadata": {
      "needs_background": "light"
     },
     "output_type": "display_data"
    },
    {
     "data": {
      "image/png": "[encoded data removed]",
      "text/plain": [
       "<Figure size 432x288 with 1 Axes>"
      ]
     },
     "metadata": {
      "needs_background": "light"
     },
     "output_type": "display_data"
    },
    {
     "data": {
      "text/html": [
       "<div>\n",
       "<style scoped>\n",
       "    .dataframe tbody tr th:only-of-type {\n",
       "        vertical-align: middle;\n",
       "    }\n",
       "\n",
       "    .dataframe tbody tr th {\n",
       "        vertical-align: top;\n",
       "    }\n",
       "\n",
       "    .dataframe thead th {\n",
       "        text-align: right;\n",
       "    }\n",
       "</style>\n",
       "<table border=\"1\" class=\"dataframe\">\n",
       "  <thead>\n",
       "    <tr style=\"text-align: right;\">\n",
       "      <th></th>\n",
       "      <th>count</th>\n",
       "      <th>mean</th>\n",
       "      <th>std</th>\n",
       "      <th>min</th>\n",
       "      <th>25%</th>\n",
       "      <th>50%</th>\n",
       "      <th>75%</th>\n",
       "      <th>max</th>\n",
       "    </tr>\n",
       "    <tr>\n",
       "      <th>What is your gender?</th>\n",
       "      <th></th>\n",
       "      <th></th>\n",
       "      <th></th>\n",
       "      <th></th>\n",
       "      <th></th>\n",
       "      <th></th>\n",
       "      <th></th>\n",
       "      <th></th>\n",
       "    </tr>\n",
       "  </thead>\n",
       "  <tbody>\n",
       "    <tr>\n",
       "      <th>Female</th>\n",
       "      <td>36.0</td>\n",
       "      <td>3.277778</td>\n",
       "      <td>1.111270</td>\n",
       "      <td>1.0</td>\n",
       "      <td>2.75</td>\n",
       "      <td>3.0</td>\n",
       "      <td>4.0</td>\n",
       "      <td>5.0</td>\n",
       "    </tr>\n",
       "    <tr>\n",
       "      <th>Genderqueer/gender-non-conforming</th>\n",
       "      <td>1.0</td>\n",
       "      <td>3.000000</td>\n",
       "      <td>NaN</td>\n",
       "      <td>3.0</td>\n",
       "      <td>3.00</td>\n",
       "      <td>3.0</td>\n",
       "      <td>3.0</td>\n",
       "      <td>3.0</td>\n",
       "    </tr>\n",
       "    <tr>\n",
       "      <th>Male</th>\n",
       "      <td>39.0</td>\n",
       "      <td>3.230769</td>\n",
       "      <td>0.841726</td>\n",
       "      <td>1.0</td>\n",
       "      <td>3.00</td>\n",
       "      <td>3.0</td>\n",
       "      <td>4.0</td>\n",
       "      <td>5.0</td>\n",
       "    </tr>\n",
       "  </tbody>\n",
       "</table>\n",
       "</div>"
      ],
      "text/plain": [
       "                                   count      mean       std  min   25%  50%  \\\n",
       "What is your gender?                                                           \n",
       "Female                              36.0  3.277778  1.111270  1.0  2.75  3.0   \n",
       "Genderqueer/gender-non-conforming    1.0  3.000000       NaN  3.0  3.00  3.0   \n",
       "Male                                39.0  3.230769  0.841726  1.0  3.00  3.0   \n",
       "\n",
       "                                   75%  max  \n",
       "What is your gender?                         \n",
       "Female                             4.0  5.0  \n",
       "Genderqueer/gender-non-conforming  3.0  3.0  \n",
       "Male                               4.0  5.0  "
      ]
     },
     "metadata": {},
     "output_type": "display_data"
    },
    {
     "name": "stdout",
     "output_type": "stream",
     "text": [
      "p-value =  0.42447949026457965\n",
      "u-value=  4.107919181288745\n",
      "Male:  [1.5473179849156449, 3.230769230769231, 4.914220476622817]\n",
      "Female:  [1.0552381179105925, 3.2777777777777777, 5.500317437644963]\n",
      "There is a Difference:  False\n",
      "\n",
      "========================================\n",
      "\n",
      "I would like for viewers to have the option to remove tremors from a video of myself.\n",
      "Male\n"
     ]
    },
    {
     "data": {
      "image/png": "[encoded data removed]",
      "text/plain": [
       "<Figure size 432x288 with 1 Axes>"
      ]
     },
     "metadata": {
      "needs_background": "light"
     },
     "output_type": "display_data"
    },
    {
     "data": {
      "image/png": "[encoded data removed]",
      "text/plain": [
       "<Figure size 432x288 with 1 Axes>"
      ]
     },
     "metadata": {
      "needs_background": "light"
     },
     "output_type": "display_data"
    },
    {
     "name": "stdout",
     "output_type": "stream",
     "text": [
      "Female\n"
     ]
    },
    {
     "data": {
      "image/png": "[encoded data removed]",
      "text/plain": [
       "<Figure size 432x288 with 1 Axes>"
      ]
     },
     "metadata": {
      "needs_background": "light"
     },
     "output_type": "display_data"
    },
    {
     "data": {
      "image/png": "[encoded data removed]",
      "text/plain": [
       "<Figure size 432x288 with 1 Axes>"
      ]
     },
     "metadata": {
      "needs_background": "light"
     },
     "output_type": "display_data"
    },
    {
     "data": {
      "text/html": [
       "<div>\n",
       "<style scoped>\n",
       "    .dataframe tbody tr th:only-of-type {\n",
       "        vertical-align: middle;\n",
       "    }\n",
       "\n",
       "    .dataframe tbody tr th {\n",
       "        vertical-align: top;\n",
       "    }\n",
       "\n",
       "    .dataframe thead th {\n",
       "        text-align: right;\n",
       "    }\n",
       "</style>\n",
       "<table border=\"1\" class=\"dataframe\">\n",
       "  <thead>\n",
       "    <tr style=\"text-align: right;\">\n",
       "      <th></th>\n",
       "      <th>count</th>\n",
       "      <th>mean</th>\n",
       "      <th>std</th>\n",
       "      <th>min</th>\n",
       "      <th>25%</th>\n",
       "      <th>50%</th>\n",
       "      <th>75%</th>\n",
       "      <th>max</th>\n",
       "    </tr>\n",
       "    <tr>\n",
       "      <th>What is your gender?</th>\n",
       "      <th></th>\n",
       "      <th></th>\n",
       "      <th></th>\n",
       "      <th></th>\n",
       "      <th></th>\n",
       "      <th></th>\n",
       "      <th></th>\n",
       "      <th></th>\n",
       "    </tr>\n",
       "  </thead>\n",
       "  <tbody>\n",
       "    <tr>\n",
       "      <th>Female</th>\n",
       "      <td>36.0</td>\n",
       "      <td>3.25000</td>\n",
       "      <td>1.079021</td>\n",
       "      <td>1.0</td>\n",
       "      <td>3.0</td>\n",
       "      <td>3.0</td>\n",
       "      <td>4.0</td>\n",
       "      <td>5.0</td>\n",
       "    </tr>\n",
       "    <tr>\n",
       "      <th>Genderqueer/gender-non-conforming</th>\n",
       "      <td>1.0</td>\n",
       "      <td>4.00000</td>\n",
       "      <td>NaN</td>\n",
       "      <td>4.0</td>\n",
       "      <td>4.0</td>\n",
       "      <td>4.0</td>\n",
       "      <td>4.0</td>\n",
       "      <td>4.0</td>\n",
       "    </tr>\n",
       "    <tr>\n",
       "      <th>Male</th>\n",
       "      <td>39.0</td>\n",
       "      <td>3.25641</td>\n",
       "      <td>1.018718</td>\n",
       "      <td>1.0</td>\n",
       "      <td>3.0</td>\n",
       "      <td>3.0</td>\n",
       "      <td>4.0</td>\n",
       "      <td>5.0</td>\n",
       "    </tr>\n",
       "  </tbody>\n",
       "</table>\n",
       "</div>"
      ],
      "text/plain": [
       "                                   count     mean       std  min  25%  50%  \\\n",
       "What is your gender?                                                         \n",
       "Female                              36.0  3.25000  1.079021  1.0  3.0  3.0   \n",
       "Genderqueer/gender-non-conforming    1.0  4.00000       NaN  4.0  4.0  4.0   \n",
       "Male                                39.0  3.25641  1.018718  1.0  3.0  3.0   \n",
       "\n",
       "                                   75%  max  \n",
       "What is your gender?                         \n",
       "Female                             4.0  5.0  \n",
       "Genderqueer/gender-non-conforming  4.0  4.0  \n",
       "Male                               4.0  5.0  "
      ]
     },
     "metadata": {},
     "output_type": "display_data"
    },
    {
     "name": "stdout",
     "output_type": "stream",
     "text": [
      "p-value =  0.47317125681029254\n",
      "u-value=  4.107919181288745\n",
      "Male:  [1.2189738528590883, 3.2564102564102564, 5.2938466599614245]\n",
      "Female:  [1.0919585599106636, 3.25, 5.408041440089336]\n",
      "There is a Difference:  False\n",
      "\n",
      "========================================\n",
      "\n",
      "My tremors affect my level of confidence. \n",
      "Male\n"
     ]
    },
    {
     "data": {
      "image/png": "[encoded data removed]",
      "text/plain": [
       "<Figure size 432x288 with 1 Axes>"
      ]
     },
     "metadata": {
      "needs_background": "light"
     },
     "output_type": "display_data"
    },
    {
     "data": {
      "image/png": "[encoded data removed]",
      "text/plain": [
       "<Figure size 432x288 with 1 Axes>"
      ]
     },
     "metadata": {
      "needs_background": "light"
     },
     "output_type": "display_data"
    },
    {
     "name": "stdout",
     "output_type": "stream",
     "text": [
      "Female\n"
     ]
    },
    {
     "data": {
      "image/png": "[encoded data removed]",
      "text/plain": [
       "<Figure size 432x288 with 1 Axes>"
      ]
     },
     "metadata": {
      "needs_background": "light"
     },
     "output_type": "display_data"
    },
    {
     "data": {
      "image/png": "[encoded data removed]",
      "text/plain": [
       "<Figure size 432x288 with 1 Axes>"
      ]
     },
     "metadata": {
      "needs_background": "light"
     },
     "output_type": "display_data"
    },
    {
     "data": {
      "text/html": [
       "<div>\n",
       "<style scoped>\n",
       "    .dataframe tbody tr th:only-of-type {\n",
       "        vertical-align: middle;\n",
       "    }\n",
       "\n",
       "    .dataframe tbody tr th {\n",
       "        vertical-align: top;\n",
       "    }\n",
       "\n",
       "    .dataframe thead th {\n",
       "        text-align: right;\n",
       "    }\n",
       "</style>\n",
       "<table border=\"1\" class=\"dataframe\">\n",
       "  <thead>\n",
       "    <tr style=\"text-align: right;\">\n",
       "      <th></th>\n",
       "      <th>count</th>\n",
       "      <th>mean</th>\n",
       "      <th>std</th>\n",
       "      <th>min</th>\n",
       "      <th>25%</th>\n",
       "      <th>50%</th>\n",
       "      <th>75%</th>\n",
       "      <th>max</th>\n",
       "    </tr>\n",
       "    <tr>\n",
       "      <th>What is your gender?</th>\n",
       "      <th></th>\n",
       "      <th></th>\n",
       "      <th></th>\n",
       "      <th></th>\n",
       "      <th></th>\n",
       "      <th></th>\n",
       "      <th></th>\n",
       "      <th></th>\n",
       "    </tr>\n",
       "  </thead>\n",
       "  <tbody>\n",
       "    <tr>\n",
       "      <th>Female</th>\n",
       "      <td>35.0</td>\n",
       "      <td>3.057143</td>\n",
       "      <td>1.327157</td>\n",
       "      <td>1.0</td>\n",
       "      <td>2.0</td>\n",
       "      <td>3.0</td>\n",
       "      <td>4.0</td>\n",
       "      <td>5.0</td>\n",
       "    </tr>\n",
       "    <tr>\n",
       "      <th>Genderqueer/gender-non-conforming</th>\n",
       "      <td>1.0</td>\n",
       "      <td>3.000000</td>\n",
       "      <td>NaN</td>\n",
       "      <td>3.0</td>\n",
       "      <td>3.0</td>\n",
       "      <td>3.0</td>\n",
       "      <td>3.0</td>\n",
       "      <td>3.0</td>\n",
       "    </tr>\n",
       "    <tr>\n",
       "      <th>Male</th>\n",
       "      <td>35.0</td>\n",
       "      <td>2.885714</td>\n",
       "      <td>1.131668</td>\n",
       "      <td>1.0</td>\n",
       "      <td>2.0</td>\n",
       "      <td>3.0</td>\n",
       "      <td>4.0</td>\n",
       "      <td>5.0</td>\n",
       "    </tr>\n",
       "  </tbody>\n",
       "</table>\n",
       "</div>"
      ],
      "text/plain": [
       "                                   count      mean       std  min  25%  50%  \\\n",
       "What is your gender?                                                          \n",
       "Female                              35.0  3.057143  1.327157  1.0  2.0  3.0   \n",
       "Genderqueer/gender-non-conforming    1.0  3.000000       NaN  3.0  3.0  3.0   \n",
       "Male                                35.0  2.885714  1.131668  1.0  2.0  3.0   \n",
       "\n",
       "                                   75%  max  \n",
       "What is your gender?                         \n",
       "Female                             4.0  5.0  \n",
       "Genderqueer/gender-non-conforming  3.0  3.0  \n",
       "Male                               4.0  5.0  "
      ]
     },
     "metadata": {},
     "output_type": "display_data"
    },
    {
     "name": "stdout",
     "output_type": "stream",
     "text": [
      "p-value =  0.46521842992459045\n",
      "u-value=  4.107919181288745\n",
      "Male:  [0.6223784565386299, 2.8857142857142857, 5.149050114889942]\n",
      "Female:  [0.40282973483409146, 3.057142857142857, 5.711455979451623]\n",
      "There is a Difference:  False\n",
      "\n",
      "========================================\n",
      "\n",
      "I feel like my tremors cause others to perceive me as less competent. \n",
      "Male\n"
     ]
    },
    {
     "data": {
      "image/png": "[encoded data removed]",
      "text/plain": [
       "<Figure size 432x288 with 1 Axes>"
      ]
     },
     "metadata": {
      "needs_background": "light"
     },
     "output_type": "display_data"
    },
    {
     "data": {
      "image/png": "[encoded data removed]",
      "text/plain": [
       "<Figure size 432x288 with 1 Axes>"
      ]
     },
     "metadata": {
      "needs_background": "light"
     },
     "output_type": "display_data"
    },
    {
     "name": "stdout",
     "output_type": "stream",
     "text": [
      "Female\n"
     ]
    },
    {
     "data": {
      "image/png": "[encoded data removed]",
      "text/plain": [
       "<Figure size 432x288 with 1 Axes>"
      ]
     },
     "metadata": {
      "needs_background": "light"
     },
     "output_type": "display_data"
    },
    {
     "data": {
      "image/png": "[encoded data removed]",
      "text/plain": [
       "<Figure size 432x288 with 1 Axes>"
      ]
     },
     "metadata": {
      "needs_background": "light"
     },
     "output_type": "display_data"
    },
    {
     "data": {
      "text/html": [
       "<div>\n",
       "<style scoped>\n",
       "    .dataframe tbody tr th:only-of-type {\n",
       "        vertical-align: middle;\n",
       "    }\n",
       "\n",
       "    .dataframe tbody tr th {\n",
       "        vertical-align: top;\n",
       "    }\n",
       "\n",
       "    .dataframe thead th {\n",
       "        text-align: right;\n",
       "    }\n",
       "</style>\n",
       "<table border=\"1\" class=\"dataframe\">\n",
       "  <thead>\n",
       "    <tr style=\"text-align: right;\">\n",
       "      <th></th>\n",
       "      <th>count</th>\n",
       "      <th>mean</th>\n",
       "      <th>std</th>\n",
       "      <th>min</th>\n",
       "      <th>25%</th>\n",
       "      <th>50%</th>\n",
       "      <th>75%</th>\n",
       "      <th>max</th>\n",
       "    </tr>\n",
       "    <tr>\n",
       "      <th>What is your gender?</th>\n",
       "      <th></th>\n",
       "      <th></th>\n",
       "      <th></th>\n",
       "      <th></th>\n",
       "      <th></th>\n",
       "      <th></th>\n",
       "      <th></th>\n",
       "      <th></th>\n",
       "    </tr>\n",
       "  </thead>\n",
       "  <tbody>\n",
       "    <tr>\n",
       "      <th>Female</th>\n",
       "      <td>35.0</td>\n",
       "      <td>3.314286</td>\n",
       "      <td>1.278129</td>\n",
       "      <td>1.0</td>\n",
       "      <td>2.0</td>\n",
       "      <td>4.0</td>\n",
       "      <td>4.0</td>\n",
       "      <td>5.0</td>\n",
       "    </tr>\n",
       "    <tr>\n",
       "      <th>Genderqueer/gender-non-conforming</th>\n",
       "      <td>1.0</td>\n",
       "      <td>4.000000</td>\n",
       "      <td>NaN</td>\n",
       "      <td>4.0</td>\n",
       "      <td>4.0</td>\n",
       "      <td>4.0</td>\n",
       "      <td>4.0</td>\n",
       "      <td>4.0</td>\n",
       "    </tr>\n",
       "    <tr>\n",
       "      <th>Male</th>\n",
       "      <td>35.0</td>\n",
       "      <td>3.257143</td>\n",
       "      <td>0.918530</td>\n",
       "      <td>1.0</td>\n",
       "      <td>3.0</td>\n",
       "      <td>3.0</td>\n",
       "      <td>4.0</td>\n",
       "      <td>5.0</td>\n",
       "    </tr>\n",
       "  </tbody>\n",
       "</table>\n",
       "</div>"
      ],
      "text/plain": [
       "                                   count      mean       std  min  25%  50%  \\\n",
       "What is your gender?                                                          \n",
       "Female                              35.0  3.314286  1.278129  1.0  2.0  4.0   \n",
       "Genderqueer/gender-non-conforming    1.0  4.000000       NaN  4.0  4.0  4.0   \n",
       "Male                                35.0  3.257143  0.918530  1.0  3.0  3.0   \n",
       "\n",
       "                                   75%  max  \n",
       "What is your gender?                         \n",
       "Female                             4.0  5.0  \n",
       "Genderqueer/gender-non-conforming  4.0  4.0  \n",
       "Male                               4.0  5.0  "
      ]
     },
     "metadata": {},
     "output_type": "display_data"
    },
    {
     "name": "stdout",
     "output_type": "stream",
     "text": [
      "p-value =  0.4495840775746512\n",
      "u-value=  4.107919181288745\n",
      "Male:  [1.4200827285770046, 3.257142857142857, 5.094202985708709]\n",
      "Female:  [0.7580279452974996, 3.3142857142857145, 5.870543483273929]\n",
      "There is a Difference:  False\n",
      "\n",
      "========================================\n",
      "\n"
     ]
    }
   ],
   "source": [
    "# Gender Cell\n",
    "# Compute the Mann-Whitney rank test on samples x and y\n",
    "# scipy.stats.mannwhitneyu(x, y, use_continuity=True, alternative=None)\n",
    "\n",
    "g = df.groupby('What is your gender?')\n",
    "\n",
    "df_male = df[(df['What is your gender?'] == 'Male')].copy()\n",
    "df_female = df[(df['What is your gender?'] == 'Female')].copy()\n",
    "\n",
    "for q in q_list:\n",
    "    col_name = q\n",
    "    print(col_name)\n",
    "    print(\"Male\")\n",
    "    df_male[col_name].hist()\n",
    "    plt.show()\n",
    "    df_male.boxplot(col_name)\n",
    "    plt.show()\n",
    "    print(\"Female\")\n",
    "    df_female[col_name].hist()\n",
    "    plt.show()\n",
    "    df_female.boxplot(col_name)\n",
    "    plt.show()\n",
    "    display(g[col_name].describe())\n",
    "    #Statistic test\n",
    "    u,p = mannwhitneyu(df_male[col_name], df_female[col_name])\n",
    "    print('p-value = ', p)\n",
    "    print('u-value= ', t)\n",
    "    mu1 = df_male[col_name].mean()\n",
    "    std1 = df_male[col_name].std()\n",
    "    mu2 = df_female[col_name].mean()\n",
    "    std2 = df_female[col_name].std()\n",
    "    print(\"Male: \", compute_interval95(mu1, std1))\n",
    "    print(\"Female: \", compute_interval95(mu2, std2))\n",
    "    print(\"There is a Difference: \", is_difference(compute_interval95(mu1, std1), compute_interval95(mu2, std2)))\n",
    "    #data1 = df_male[col_name]\n",
    "    #data2 = df_female[col_name]\n",
    "    #data = [data1, data2]\n",
    "    #plt.boxplot(data)\n",
    "    #plt.show()\n",
    "    print('\\n========================================\\n')"
   ]
  },
  {
   "cell_type": "code",
   "execution_count": 20,
   "metadata": {},
   "outputs": [
    {
     "name": "stdout",
     "output_type": "stream",
     "text": [
      "I would like to have the option to remove tremors from videos of myself.\n",
      "Young\n"
     ]
    },
    {
     "data": {
      "image/png": "[encoded data removed]",
      "text/plain": [
       "<Figure size 432x288 with 1 Axes>"
      ]
     },
     "metadata": {
      "needs_background": "light"
     },
     "output_type": "display_data"
    },
    {
     "data": {
      "image/png": "[encoded data removed]",
      "text/plain": [
       "<Figure size 432x288 with 1 Axes>"
      ]
     },
     "metadata": {
      "needs_background": "light"
     },
     "output_type": "display_data"
    },
    {
     "name": "stdout",
     "output_type": "stream",
     "text": [
      "Old\n"
     ]
    },
    {
     "data": {
      "image/png": "[encoded data removed]",
      "text/plain": [
       "<Figure size 432x288 with 1 Axes>"
      ]
     },
     "metadata": {
      "needs_background": "light"
     },
     "output_type": "display_data"
    },
    {
     "data": {
      "image/png": "[encoded data removed]",
      "text/plain": [
       "<Figure size 432x288 with 1 Axes>"
      ]
     },
     "metadata": {
      "needs_background": "light"
     },
     "output_type": "display_data"
    },
    {
     "data": {
      "text/html": [
       "<div>\n",
       "<style scoped>\n",
       "    .dataframe tbody tr th:only-of-type {\n",
       "        vertical-align: middle;\n",
       "    }\n",
       "\n",
       "    .dataframe tbody tr th {\n",
       "        vertical-align: top;\n",
       "    }\n",
       "\n",
       "    .dataframe thead th {\n",
       "        text-align: right;\n",
       "    }\n",
       "</style>\n",
       "<table border=\"1\" class=\"dataframe\">\n",
       "  <thead>\n",
       "    <tr style=\"text-align: right;\">\n",
       "      <th></th>\n",
       "      <th>count</th>\n",
       "      <th>mean</th>\n",
       "      <th>std</th>\n",
       "      <th>min</th>\n",
       "      <th>25%</th>\n",
       "      <th>50%</th>\n",
       "      <th>75%</th>\n",
       "      <th>max</th>\n",
       "    </tr>\n",
       "    <tr>\n",
       "      <th>What is your age?</th>\n",
       "      <th></th>\n",
       "      <th></th>\n",
       "      <th></th>\n",
       "      <th></th>\n",
       "      <th></th>\n",
       "      <th></th>\n",
       "      <th></th>\n",
       "      <th></th>\n",
       "    </tr>\n",
       "  </thead>\n",
       "  <tbody>\n",
       "    <tr>\n",
       "      <th>35-44 years old</th>\n",
       "      <td>1.0</td>\n",
       "      <td>3.000000</td>\n",
       "      <td>NaN</td>\n",
       "      <td>3.0</td>\n",
       "      <td>3.00</td>\n",
       "      <td>3.0</td>\n",
       "      <td>3.0</td>\n",
       "      <td>3.0</td>\n",
       "    </tr>\n",
       "    <tr>\n",
       "      <th>45-54 years old</th>\n",
       "      <td>12.0</td>\n",
       "      <td>3.416667</td>\n",
       "      <td>1.164500</td>\n",
       "      <td>1.0</td>\n",
       "      <td>2.75</td>\n",
       "      <td>4.0</td>\n",
       "      <td>4.0</td>\n",
       "      <td>5.0</td>\n",
       "    </tr>\n",
       "    <tr>\n",
       "      <th>55-64 years old</th>\n",
       "      <td>50.0</td>\n",
       "      <td>3.440000</td>\n",
       "      <td>0.951047</td>\n",
       "      <td>1.0</td>\n",
       "      <td>3.00</td>\n",
       "      <td>4.0</td>\n",
       "      <td>4.0</td>\n",
       "      <td>5.0</td>\n",
       "    </tr>\n",
       "    <tr>\n",
       "      <th>65-74 years old</th>\n",
       "      <td>71.0</td>\n",
       "      <td>3.295775</td>\n",
       "      <td>0.976793</td>\n",
       "      <td>1.0</td>\n",
       "      <td>3.00</td>\n",
       "      <td>3.0</td>\n",
       "      <td>4.0</td>\n",
       "      <td>5.0</td>\n",
       "    </tr>\n",
       "    <tr>\n",
       "      <th>75-84 years old</th>\n",
       "      <td>35.0</td>\n",
       "      <td>3.200000</td>\n",
       "      <td>1.158092</td>\n",
       "      <td>1.0</td>\n",
       "      <td>3.00</td>\n",
       "      <td>3.0</td>\n",
       "      <td>4.0</td>\n",
       "      <td>5.0</td>\n",
       "    </tr>\n",
       "    <tr>\n",
       "      <th>85 or older</th>\n",
       "      <td>1.0</td>\n",
       "      <td>3.000000</td>\n",
       "      <td>NaN</td>\n",
       "      <td>3.0</td>\n",
       "      <td>3.00</td>\n",
       "      <td>3.0</td>\n",
       "      <td>3.0</td>\n",
       "      <td>3.0</td>\n",
       "    </tr>\n",
       "  </tbody>\n",
       "</table>\n",
       "</div>"
      ],
      "text/plain": [
       "                   count      mean       std  min   25%  50%  75%  max\n",
       "What is your age?                                                     \n",
       "35-44 years old      1.0  3.000000       NaN  3.0  3.00  3.0  3.0  3.0\n",
       "45-54 years old     12.0  3.416667  1.164500  1.0  2.75  4.0  4.0  5.0\n",
       "55-64 years old     50.0  3.440000  0.951047  1.0  3.00  4.0  4.0  5.0\n",
       "65-74 years old     71.0  3.295775  0.976793  1.0  3.00  3.0  4.0  5.0\n",
       "75-84 years old     35.0  3.200000  1.158092  1.0  3.00  3.0  4.0  5.0\n",
       "85 or older          1.0  3.000000       NaN  3.0  3.00  3.0  3.0  3.0"
      ]
     },
     "metadata": {},
     "output_type": "display_data"
    },
    {
     "name": "stdout",
     "output_type": "stream",
     "text": [
      "p-value =  0.2421733451012376\n",
      "u-value=  2338.5\n",
      "Young:  [1.4704852755923319, 3.4285714285714284, 5.386657581550525]\n",
      "Old:  [1.3506345613673192, 3.2916666666666665, 5.232698771966014]\n",
      "There is a Difference:  False\n",
      "\n",
      "========================================\n",
      "\n",
      "I would like for viewers to have the option to remove tremors from a video of myself.\n",
      "Young\n"
     ]
    },
    {
     "data": {
      "image/png": "[encoded data removed]",
      "text/plain": [
       "<Figure size 432x288 with 1 Axes>"
      ]
     },
     "metadata": {
      "needs_background": "light"
     },
     "output_type": "display_data"
    },
    {
     "data": {
      "image/png": "[encoded data removed]",
      "text/plain": [
       "<Figure size 432x288 with 1 Axes>"
      ]
     },
     "metadata": {
      "needs_background": "light"
     },
     "output_type": "display_data"
    },
    {
     "name": "stdout",
     "output_type": "stream",
     "text": [
      "Old\n"
     ]
    },
    {
     "data": {
      "image/png": "[encoded data removed]",
      "text/plain": [
       "<Figure size 432x288 with 1 Axes>"
      ]
     },
     "metadata": {
      "needs_background": "light"
     },
     "output_type": "display_data"
    },
    {
     "data": {
      "image/png": "[encoded data removed]",
      "text/plain": [
       "<Figure size 432x288 with 1 Axes>"
      ]
     },
     "metadata": {
      "needs_background": "light"
     },
     "output_type": "display_data"
    },
    {
     "data": {
      "text/html": [
       "<div>\n",
       "<style scoped>\n",
       "    .dataframe tbody tr th:only-of-type {\n",
       "        vertical-align: middle;\n",
       "    }\n",
       "\n",
       "    .dataframe tbody tr th {\n",
       "        vertical-align: top;\n",
       "    }\n",
       "\n",
       "    .dataframe thead th {\n",
       "        text-align: right;\n",
       "    }\n",
       "</style>\n",
       "<table border=\"1\" class=\"dataframe\">\n",
       "  <thead>\n",
       "    <tr style=\"text-align: right;\">\n",
       "      <th></th>\n",
       "      <th>count</th>\n",
       "      <th>mean</th>\n",
       "      <th>std</th>\n",
       "      <th>min</th>\n",
       "      <th>25%</th>\n",
       "      <th>50%</th>\n",
       "      <th>75%</th>\n",
       "      <th>max</th>\n",
       "    </tr>\n",
       "    <tr>\n",
       "      <th>What is your age?</th>\n",
       "      <th></th>\n",
       "      <th></th>\n",
       "      <th></th>\n",
       "      <th></th>\n",
       "      <th></th>\n",
       "      <th></th>\n",
       "      <th></th>\n",
       "      <th></th>\n",
       "    </tr>\n",
       "  </thead>\n",
       "  <tbody>\n",
       "    <tr>\n",
       "      <th>35-44 years old</th>\n",
       "      <td>1.0</td>\n",
       "      <td>3.000000</td>\n",
       "      <td>NaN</td>\n",
       "      <td>3.0</td>\n",
       "      <td>3.0</td>\n",
       "      <td>3.0</td>\n",
       "      <td>3.0</td>\n",
       "      <td>3.0</td>\n",
       "    </tr>\n",
       "    <tr>\n",
       "      <th>45-54 years old</th>\n",
       "      <td>12.0</td>\n",
       "      <td>3.416667</td>\n",
       "      <td>1.311372</td>\n",
       "      <td>1.0</td>\n",
       "      <td>2.0</td>\n",
       "      <td>4.0</td>\n",
       "      <td>4.0</td>\n",
       "      <td>5.0</td>\n",
       "    </tr>\n",
       "    <tr>\n",
       "      <th>55-64 years old</th>\n",
       "      <td>50.0</td>\n",
       "      <td>3.320000</td>\n",
       "      <td>1.038838</td>\n",
       "      <td>1.0</td>\n",
       "      <td>3.0</td>\n",
       "      <td>3.5</td>\n",
       "      <td>4.0</td>\n",
       "      <td>5.0</td>\n",
       "    </tr>\n",
       "    <tr>\n",
       "      <th>65-74 years old</th>\n",
       "      <td>71.0</td>\n",
       "      <td>3.169014</td>\n",
       "      <td>1.027979</td>\n",
       "      <td>1.0</td>\n",
       "      <td>3.0</td>\n",
       "      <td>3.0</td>\n",
       "      <td>4.0</td>\n",
       "      <td>5.0</td>\n",
       "    </tr>\n",
       "    <tr>\n",
       "      <th>75-84 years old</th>\n",
       "      <td>35.0</td>\n",
       "      <td>3.457143</td>\n",
       "      <td>1.220965</td>\n",
       "      <td>1.0</td>\n",
       "      <td>3.0</td>\n",
       "      <td>4.0</td>\n",
       "      <td>4.0</td>\n",
       "      <td>5.0</td>\n",
       "    </tr>\n",
       "    <tr>\n",
       "      <th>85 or older</th>\n",
       "      <td>1.0</td>\n",
       "      <td>3.000000</td>\n",
       "      <td>NaN</td>\n",
       "      <td>3.0</td>\n",
       "      <td>3.0</td>\n",
       "      <td>3.0</td>\n",
       "      <td>3.0</td>\n",
       "      <td>3.0</td>\n",
       "    </tr>\n",
       "  </tbody>\n",
       "</table>\n",
       "</div>"
      ],
      "text/plain": [
       "                   count      mean       std  min  25%  50%  75%  max\n",
       "What is your age?                                                    \n",
       "35-44 years old      1.0  3.000000       NaN  3.0  3.0  3.0  3.0  3.0\n",
       "45-54 years old     12.0  3.416667  1.311372  1.0  2.0  4.0  4.0  5.0\n",
       "55-64 years old     50.0  3.320000  1.038838  1.0  3.0  3.5  4.0  5.0\n",
       "65-74 years old     71.0  3.169014  1.027979  1.0  3.0  3.0  4.0  5.0\n",
       "75-84 years old     35.0  3.457143  1.220965  1.0  3.0  4.0  4.0  5.0\n",
       "85 or older          1.0  3.000000       NaN  3.0  3.0  3.0  3.0  3.0"
      ]
     },
     "metadata": {},
     "output_type": "display_data"
    },
    {
     "name": "stdout",
     "output_type": "stream",
     "text": [
      "p-value =  0.20001866279477193\n",
      "u-value=  2305.0\n",
      "Young:  [1.1780697090120347, 3.3333333333333335, 5.488596957654632]\n",
      "Old:  [1.1248502977179209, 3.1666666666666665, 5.208483035615412]\n",
      "There is a Difference:  False\n",
      "\n",
      "========================================\n",
      "\n",
      "My tremors affect my level of confidence. \n",
      "Young\n"
     ]
    },
    {
     "data": {
      "image/png": "[encoded data removed]",
      "text/plain": [
       "<Figure size 432x288 with 1 Axes>"
      ]
     },
     "metadata": {
      "needs_background": "light"
     },
     "output_type": "display_data"
    },
    {
     "data": {
      "image/png": "[encoded data removed]",
      "text/plain": [
       "<Figure size 432x288 with 1 Axes>"
      ]
     },
     "metadata": {
      "needs_background": "light"
     },
     "output_type": "display_data"
    },
    {
     "name": "stdout",
     "output_type": "stream",
     "text": [
      "Old\n"
     ]
    },
    {
     "data": {
      "image/png": "[encoded data removed]",
      "text/plain": [
       "<Figure size 432x288 with 1 Axes>"
      ]
     },
     "metadata": {
      "needs_background": "light"
     },
     "output_type": "display_data"
    },
    {
     "data": {
      "image/png": "[encoded data removed]",
      "text/plain": [
       "<Figure size 432x288 with 1 Axes>"
      ]
     },
     "metadata": {
      "needs_background": "light"
     },
     "output_type": "display_data"
    },
    {
     "data": {
      "text/html": [
       "<div>\n",
       "<style scoped>\n",
       "    .dataframe tbody tr th:only-of-type {\n",
       "        vertical-align: middle;\n",
       "    }\n",
       "\n",
       "    .dataframe tbody tr th {\n",
       "        vertical-align: top;\n",
       "    }\n",
       "\n",
       "    .dataframe thead th {\n",
       "        text-align: right;\n",
       "    }\n",
       "</style>\n",
       "<table border=\"1\" class=\"dataframe\">\n",
       "  <thead>\n",
       "    <tr style=\"text-align: right;\">\n",
       "      <th></th>\n",
       "      <th>count</th>\n",
       "      <th>mean</th>\n",
       "      <th>std</th>\n",
       "      <th>min</th>\n",
       "      <th>25%</th>\n",
       "      <th>50%</th>\n",
       "      <th>75%</th>\n",
       "      <th>max</th>\n",
       "    </tr>\n",
       "    <tr>\n",
       "      <th>What is your age?</th>\n",
       "      <th></th>\n",
       "      <th></th>\n",
       "      <th></th>\n",
       "      <th></th>\n",
       "      <th></th>\n",
       "      <th></th>\n",
       "      <th></th>\n",
       "      <th></th>\n",
       "    </tr>\n",
       "  </thead>\n",
       "  <tbody>\n",
       "    <tr>\n",
       "      <th>35-44 years old</th>\n",
       "      <td>0.0</td>\n",
       "      <td>NaN</td>\n",
       "      <td>NaN</td>\n",
       "      <td>NaN</td>\n",
       "      <td>NaN</td>\n",
       "      <td>NaN</td>\n",
       "      <td>NaN</td>\n",
       "      <td>NaN</td>\n",
       "    </tr>\n",
       "    <tr>\n",
       "      <th>45-54 years old</th>\n",
       "      <td>10.0</td>\n",
       "      <td>3.700000</td>\n",
       "      <td>1.251666</td>\n",
       "      <td>1.0</td>\n",
       "      <td>4.0</td>\n",
       "      <td>4.0</td>\n",
       "      <td>4.0</td>\n",
       "      <td>5.0</td>\n",
       "    </tr>\n",
       "    <tr>\n",
       "      <th>55-64 years old</th>\n",
       "      <td>49.0</td>\n",
       "      <td>3.224490</td>\n",
       "      <td>1.159477</td>\n",
       "      <td>1.0</td>\n",
       "      <td>2.0</td>\n",
       "      <td>3.0</td>\n",
       "      <td>4.0</td>\n",
       "      <td>5.0</td>\n",
       "    </tr>\n",
       "    <tr>\n",
       "      <th>65-74 years old</th>\n",
       "      <td>70.0</td>\n",
       "      <td>2.957143</td>\n",
       "      <td>1.256124</td>\n",
       "      <td>1.0</td>\n",
       "      <td>2.0</td>\n",
       "      <td>3.0</td>\n",
       "      <td>4.0</td>\n",
       "      <td>5.0</td>\n",
       "    </tr>\n",
       "    <tr>\n",
       "      <th>75-84 years old</th>\n",
       "      <td>35.0</td>\n",
       "      <td>2.657143</td>\n",
       "      <td>1.136115</td>\n",
       "      <td>1.0</td>\n",
       "      <td>2.0</td>\n",
       "      <td>2.0</td>\n",
       "      <td>4.0</td>\n",
       "      <td>5.0</td>\n",
       "    </tr>\n",
       "    <tr>\n",
       "      <th>85 or older</th>\n",
       "      <td>1.0</td>\n",
       "      <td>3.000000</td>\n",
       "      <td>NaN</td>\n",
       "      <td>3.0</td>\n",
       "      <td>3.0</td>\n",
       "      <td>3.0</td>\n",
       "      <td>3.0</td>\n",
       "      <td>3.0</td>\n",
       "    </tr>\n",
       "  </tbody>\n",
       "</table>\n",
       "</div>"
      ],
      "text/plain": [
       "                   count      mean       std  min  25%  50%  75%  max\n",
       "What is your age?                                                    \n",
       "35-44 years old      0.0       NaN       NaN  NaN  NaN  NaN  NaN  NaN\n",
       "45-54 years old     10.0  3.700000  1.251666  1.0  4.0  4.0  4.0  5.0\n",
       "55-64 years old     49.0  3.224490  1.159477  1.0  2.0  3.0  4.0  5.0\n",
       "65-74 years old     70.0  2.957143  1.256124  1.0  2.0  3.0  4.0  5.0\n",
       "75-84 years old     35.0  2.657143  1.136115  1.0  2.0  2.0  4.0  5.0\n",
       "85 or older          1.0  3.000000       NaN  3.0  3.0  3.0  3.0  3.0"
      ]
     },
     "metadata": {},
     "output_type": "display_data"
    },
    {
     "name": "stdout",
     "output_type": "stream",
     "text": [
      "p-value =  0.06293667319666853\n",
      "u-value=  2138.0\n",
      "Young:  [0.9487510275752871, 3.305084745762712, 5.661418463950136]\n",
      "Old:  [0.4634874771240556, 2.9577464788732395, 5.452005480622423]\n",
      "There is a Difference:  False\n",
      "\n",
      "========================================\n",
      "\n",
      "I feel like my tremors cause others to perceive me as less competent. \n",
      "Young\n"
     ]
    },
    {
     "data": {
      "image/png": "[encoded data removed]",
      "text/plain": [
       "<Figure size 432x288 with 1 Axes>"
      ]
     },
     "metadata": {
      "needs_background": "light"
     },
     "output_type": "display_data"
    },
    {
     "data": {
      "image/png": "[encoded data removed]",
      "text/plain": [
       "<Figure size 432x288 with 1 Axes>"
      ]
     },
     "metadata": {
      "needs_background": "light"
     },
     "output_type": "display_data"
    },
    {
     "name": "stdout",
     "output_type": "stream",
     "text": [
      "Old\n"
     ]
    },
    {
     "data": {
      "image/png": "[encoded data removed]",
      "text/plain": [
       "<Figure size 432x288 with 1 Axes>"
      ]
     },
     "metadata": {
      "needs_background": "light"
     },
     "output_type": "display_data"
    },
    {
     "data": {
      "image/png": "[encoded data removed]",
      "text/plain": [
       "<Figure size 432x288 with 1 Axes>"
      ]
     },
     "metadata": {
      "needs_background": "light"
     },
     "output_type": "display_data"
    },
    {
     "data": {
      "text/html": [
       "<div>\n",
       "<style scoped>\n",
       "    .dataframe tbody tr th:only-of-type {\n",
       "        vertical-align: middle;\n",
       "    }\n",
       "\n",
       "    .dataframe tbody tr th {\n",
       "        vertical-align: top;\n",
       "    }\n",
       "\n",
       "    .dataframe thead th {\n",
       "        text-align: right;\n",
       "    }\n",
       "</style>\n",
       "<table border=\"1\" class=\"dataframe\">\n",
       "  <thead>\n",
       "    <tr style=\"text-align: right;\">\n",
       "      <th></th>\n",
       "      <th>count</th>\n",
       "      <th>mean</th>\n",
       "      <th>std</th>\n",
       "      <th>min</th>\n",
       "      <th>25%</th>\n",
       "      <th>50%</th>\n",
       "      <th>75%</th>\n",
       "      <th>max</th>\n",
       "    </tr>\n",
       "    <tr>\n",
       "      <th>What is your age?</th>\n",
       "      <th></th>\n",
       "      <th></th>\n",
       "      <th></th>\n",
       "      <th></th>\n",
       "      <th></th>\n",
       "      <th></th>\n",
       "      <th></th>\n",
       "      <th></th>\n",
       "    </tr>\n",
       "  </thead>\n",
       "  <tbody>\n",
       "    <tr>\n",
       "      <th>35-44 years old</th>\n",
       "      <td>0.0</td>\n",
       "      <td>NaN</td>\n",
       "      <td>NaN</td>\n",
       "      <td>NaN</td>\n",
       "      <td>NaN</td>\n",
       "      <td>NaN</td>\n",
       "      <td>NaN</td>\n",
       "      <td>NaN</td>\n",
       "    </tr>\n",
       "    <tr>\n",
       "      <th>45-54 years old</th>\n",
       "      <td>10.0</td>\n",
       "      <td>3.400000</td>\n",
       "      <td>1.074968</td>\n",
       "      <td>1.0</td>\n",
       "      <td>3.25</td>\n",
       "      <td>4.0</td>\n",
       "      <td>4.0</td>\n",
       "      <td>4.0</td>\n",
       "    </tr>\n",
       "    <tr>\n",
       "      <th>55-64 years old</th>\n",
       "      <td>49.0</td>\n",
       "      <td>3.571429</td>\n",
       "      <td>1.118034</td>\n",
       "      <td>1.0</td>\n",
       "      <td>3.00</td>\n",
       "      <td>4.0</td>\n",
       "      <td>4.0</td>\n",
       "      <td>5.0</td>\n",
       "    </tr>\n",
       "    <tr>\n",
       "      <th>65-74 years old</th>\n",
       "      <td>70.0</td>\n",
       "      <td>3.242857</td>\n",
       "      <td>1.172582</td>\n",
       "      <td>1.0</td>\n",
       "      <td>2.00</td>\n",
       "      <td>4.0</td>\n",
       "      <td>4.0</td>\n",
       "      <td>5.0</td>\n",
       "    </tr>\n",
       "    <tr>\n",
       "      <th>75-84 years old</th>\n",
       "      <td>35.0</td>\n",
       "      <td>3.028571</td>\n",
       "      <td>1.175378</td>\n",
       "      <td>1.0</td>\n",
       "      <td>2.00</td>\n",
       "      <td>3.0</td>\n",
       "      <td>4.0</td>\n",
       "      <td>5.0</td>\n",
       "    </tr>\n",
       "    <tr>\n",
       "      <th>85 or older</th>\n",
       "      <td>1.0</td>\n",
       "      <td>3.000000</td>\n",
       "      <td>NaN</td>\n",
       "      <td>3.0</td>\n",
       "      <td>3.00</td>\n",
       "      <td>3.0</td>\n",
       "      <td>3.0</td>\n",
       "      <td>3.0</td>\n",
       "    </tr>\n",
       "  </tbody>\n",
       "</table>\n",
       "</div>"
      ],
      "text/plain": [
       "                   count      mean       std  min   25%  50%  75%  max\n",
       "What is your age?                                                     \n",
       "35-44 years old      0.0       NaN       NaN  NaN   NaN  NaN  NaN  NaN\n",
       "45-54 years old     10.0  3.400000  1.074968  1.0  3.25  4.0  4.0  4.0\n",
       "55-64 years old     49.0  3.571429  1.118034  1.0  3.00  4.0  4.0  5.0\n",
       "65-74 years old     70.0  3.242857  1.172582  1.0  2.00  4.0  4.0  5.0\n",
       "75-84 years old     35.0  3.028571  1.175378  1.0  2.00  3.0  4.0  5.0\n",
       "85 or older          1.0  3.000000       NaN  3.0  3.00  3.0  3.0  3.0"
      ]
     },
     "metadata": {},
     "output_type": "display_data"
    },
    {
     "name": "stdout",
     "output_type": "stream",
     "text": [
      "p-value =  0.06344250352906804\n",
      "u-value=  2143.5\n",
      "Young:  [1.3351110763975154, 3.542372881355932, 5.749634686314349]\n",
      "Old:  [0.9103708663093997, 3.23943661971831, 5.56850237312722]\n",
      "There is a Difference:  False\n",
      "\n",
      "========================================\n",
      "\n"
     ]
    }
   ],
   "source": [
    "# Age Cell\n",
    "# Compute the Mann-Whitney rank test on samples x and y\n",
    "# scipy.stats.mannwhitneyu(x, y, use_continuity=True, alternative=None)\n",
    "\n",
    "g = df.groupby('What is your age?')\n",
    "\n",
    "df_young = df[(df['What is your age?'] == '18-24 years old') | \n",
    "             (df['What is your age?'] == '25-34 years old') |\n",
    "             (df['What is your age?'] == '35-44 years old') |\n",
    "             (df['What is your age?'] == '45-54 years old') |\n",
    "             (df['What is your age?'] == '55-64 years old')].copy()\n",
    "\n",
    "df_old = df[(df['What is your age?'] == '65-74 years old') |\n",
    "             (df['What is your age?'] == '75-74 years old') |\n",
    "             (df['What is your age?'] == '85 or older')].copy()\n",
    "\n",
    "for q in q_list:\n",
    "    col_name = q\n",
    "    print(col_name)\n",
    "    print(\"Young\")\n",
    "    df_young[col_name].hist()\n",
    "    plt.show()\n",
    "    df_young.boxplot(col_name)\n",
    "    plt.show()\n",
    "    print(\"Old\")\n",
    "    df_old[col_name].hist()\n",
    "    plt.show()\n",
    "    df_old.boxplot(col_name)\n",
    "    plt.show()\n",
    "    display(g[col_name].describe())\n",
    "    #Statistic test\n",
    "    u,p = mannwhitneyu(df_young[col_name], df_old[col_name])\n",
    "    print('p-value = ', p)\n",
    "    print('u-value= ', u)\n",
    "    mu1 = df_young[col_name].mean()\n",
    "    std1 = df_young[col_name].std()\n",
    "    mu2 = df_old[col_name].mean()\n",
    "    std2 = df_old[col_name].std()\n",
    "    print(\"Young: \", compute_interval95(mu1, std1))\n",
    "    print(\"Old: \", compute_interval95(mu2, std2))\n",
    "    print(\"There is a Difference: \", is_difference(compute_interval95(mu1, std1), compute_interval95(mu2, std2)))\n",
    "    print('\\n========================================\\n')"
   ]
  },
  {
   "cell_type": "code",
   "execution_count": null,
   "metadata": {},
   "outputs": [],
   "source": []
  }
 ],
 "metadata": {
  "kernelspec": {
   "display_name": "Python 3",
   "language": "python",
   "name": "python3"
  },
  "language_info": {
   "codemirror_mode": {
    "name": "ipython",
    "version": 3
   },
   "file_extension": ".py",
   "mimetype": "text/x-python",
   "name": "python",
   "nbconvert_exporter": "python",
   "pygments_lexer": "ipython3",
   "version": "3.7.6"
  }
 },
 "nbformat": 4,
 "nbformat_minor": 4
}
