{
 "cells": [
  {
   "cell_type": "code",
   "execution_count": 1,
   "metadata": {},
   "outputs": [],
   "source": [
    "import numpy as np\n",
    "import pandas as pd\n",
    "import matplotlib.pyplot as plt\n",
    "from scipy.stats import mannwhitneyu\n",
    "from statsmodels.stats.proportion import proportions_ztest"
   ]
  },
  {
   "cell_type": "code",
   "execution_count": 2,
   "metadata": {},
   "outputs": [],
   "source": [
    "df_rc = pd.read_csv('pd_patients_redcap.csv')"
   ]
  },
  {
   "cell_type": "code",
   "execution_count": 3,
   "metadata": {},
   "outputs": [],
   "source": [
    "df_g = pd.read_csv('pd_patients_google.csv')"
   ]
  },
  {
   "cell_type": "code",
   "execution_count": 4,
   "metadata": {},
   "outputs": [],
   "source": [
    "frames = [df_rc, df_g]\n",
    "df_pd = pd.concat(frames, ignore_index=True)"
   ]
  },
  {
   "cell_type": "code",
   "execution_count": 6,
   "metadata": {},
   "outputs": [],
   "source": [
    "df_gen = pd.read_csv('general_public.csv')"
   ]
  },
  {
   "cell_type": "code",
   "execution_count": 9,
   "metadata": {},
   "outputs": [],
   "source": [
    "#Self-contained cell for converting data into numerical format for strongly agree questions\n",
    "str2int_dict = {'Strongly Agree':5.0, 'Agree':4.0, 'Undecided': 3.0,'Disagree':2.0, 'Strongly Disagree':1.0}\n",
    "def str2int(st):\n",
    "    if ((type(st) == str) and (st.endswith('agree') or st.endswith('Agree') or st.endswith('decided'))):\n",
    "        return str2int_dict[st]\n",
    "    else:\n",
    "        return st"
   ]
  },
  {
   "cell_type": "code",
   "execution_count": 10,
   "metadata": {},
   "outputs": [],
   "source": [
    "for col in df_pd.columns:\n",
    "    df_pd[col] = df_pd[col].apply(str2int)\n",
    "    \n",
    "for col in df_gen.columns:\n",
    "    df_gen[col] = df_gen[col].apply(str2int)"
   ]
  },
  {
   "cell_type": "code",
   "execution_count": 12,
   "metadata": {},
   "outputs": [],
   "source": [
    "# following question lists will contain three questions in sequence that can be compared\n",
    "# put questions next to each other to make this obv. \n",
    "q_pd0 = \"I would like to have the option to remove tremors from videos of myself.\"\n",
    "q_gen0 = \"The speaker should have the option to remove the tremors from the video.\"\n",
    "\n",
    "q_pd1 = \"I would like for viewers to have the option to remove tremors from a video of myself.\"\n",
    "q_gen1 = \"I would like to have the option to remove the tremors from the video.\"\n",
    "\n",
    "q_pd2 = \"I feel like my tremors cause others to perceive me as less competent. \"\n",
    "q_gen2 = \"The speaker would appear more competent if the tremors were removed from the video\"\n",
    "\n",
    "q_pd_list = [q_pd0, q_pd1, q_pd2]\n",
    "q_gen_list = [q_gen0, q_gen1, q_gen2]"
   ]
  },
  {
   "cell_type": "code",
   "execution_count": 14,
   "metadata": {},
   "outputs": [
    {
     "data": {
      "text/html": [
       "<div>\n",
       "<style scoped>\n",
       "    .dataframe tbody tr th:only-of-type {\n",
       "        vertical-align: middle;\n",
       "    }\n",
       "\n",
       "    .dataframe tbody tr th {\n",
       "        vertical-align: top;\n",
       "    }\n",
       "\n",
       "    .dataframe thead th {\n",
       "        text-align: right;\n",
       "    }\n",
       "</style>\n",
       "<table border=\"1\" class=\"dataframe\">\n",
       "  <thead>\n",
       "    <tr style=\"text-align: right;\">\n",
       "      <th></th>\n",
       "      <th>I would like to have the option to remove tremors from videos of myself.</th>\n",
       "      <th>I would like for viewers to have the option to remove tremors from a video of myself.</th>\n",
       "      <th>I feel like my tremors cause others to perceive me as less competent.</th>\n",
       "    </tr>\n",
       "  </thead>\n",
       "  <tbody>\n",
       "    <tr>\n",
       "      <th>3.0</th>\n",
       "      <td>63</td>\n",
       "      <td>59</td>\n",
       "      <td>30</td>\n",
       "    </tr>\n",
       "    <tr>\n",
       "      <th>4.0</th>\n",
       "      <td>57</td>\n",
       "      <td>61</td>\n",
       "      <td>71</td>\n",
       "    </tr>\n",
       "    <tr>\n",
       "      <th>2.0</th>\n",
       "      <td>22</td>\n",
       "      <td>16</td>\n",
       "      <td>31</td>\n",
       "    </tr>\n",
       "    <tr>\n",
       "      <th>5.0</th>\n",
       "      <td>19</td>\n",
       "      <td>18</td>\n",
       "      <td>19</td>\n",
       "    </tr>\n",
       "    <tr>\n",
       "      <th>1.0</th>\n",
       "      <td>9</td>\n",
       "      <td>16</td>\n",
       "      <td>14</td>\n",
       "    </tr>\n",
       "  </tbody>\n",
       "</table>\n",
       "</div>"
      ],
      "text/plain": [
       "     I would like to have the option to remove tremors from videos of myself.  \\\n",
       "3.0                                                 63                          \n",
       "4.0                                                 57                          \n",
       "2.0                                                 22                          \n",
       "5.0                                                 19                          \n",
       "1.0                                                  9                          \n",
       "\n",
       "     I would like for viewers to have the option to remove tremors from a video of myself.  \\\n",
       "3.0                                                 59                                       \n",
       "4.0                                                 61                                       \n",
       "2.0                                                 16                                       \n",
       "5.0                                                 18                                       \n",
       "1.0                                                 16                                       \n",
       "\n",
       "     I feel like my tremors cause others to perceive me as less competent.   \n",
       "3.0                                                 30                       \n",
       "4.0                                                 71                       \n",
       "2.0                                                 31                       \n",
       "5.0                                                 19                       \n",
       "1.0                                                 14                       "
      ]
     },
     "metadata": {},
     "output_type": "display_data"
    },
    {
     "data": {
      "text/html": [
       "<div>\n",
       "<style scoped>\n",
       "    .dataframe tbody tr th:only-of-type {\n",
       "        vertical-align: middle;\n",
       "    }\n",
       "\n",
       "    .dataframe tbody tr th {\n",
       "        vertical-align: top;\n",
       "    }\n",
       "\n",
       "    .dataframe thead th {\n",
       "        text-align: right;\n",
       "    }\n",
       "</style>\n",
       "<table border=\"1\" class=\"dataframe\">\n",
       "  <thead>\n",
       "    <tr style=\"text-align: right;\">\n",
       "      <th></th>\n",
       "      <th>The speaker should have the option to remove the tremors from the video.</th>\n",
       "      <th>I would like to have the option to remove the tremors from the video.</th>\n",
       "      <th>The speaker would appear more competent if the tremors were removed from the video</th>\n",
       "    </tr>\n",
       "  </thead>\n",
       "  <tbody>\n",
       "    <tr>\n",
       "      <th>4</th>\n",
       "      <td>44</td>\n",
       "      <td>35</td>\n",
       "      <td>30</td>\n",
       "    </tr>\n",
       "    <tr>\n",
       "      <th>5</th>\n",
       "      <td>30</td>\n",
       "      <td>10</td>\n",
       "      <td>12</td>\n",
       "    </tr>\n",
       "    <tr>\n",
       "      <th>3</th>\n",
       "      <td>19</td>\n",
       "      <td>17</td>\n",
       "      <td>17</td>\n",
       "    </tr>\n",
       "    <tr>\n",
       "      <th>2</th>\n",
       "      <td>12</td>\n",
       "      <td>35</td>\n",
       "      <td>27</td>\n",
       "    </tr>\n",
       "    <tr>\n",
       "      <th>1</th>\n",
       "      <td>3</td>\n",
       "      <td>11</td>\n",
       "      <td>22</td>\n",
       "    </tr>\n",
       "  </tbody>\n",
       "</table>\n",
       "</div>"
      ],
      "text/plain": [
       "   The speaker should have the option to remove the tremors from the video.  \\\n",
       "4                                                 44                          \n",
       "5                                                 30                          \n",
       "3                                                 19                          \n",
       "2                                                 12                          \n",
       "1                                                  3                          \n",
       "\n",
       "   I would like to have the option to remove the tremors from the video.  \\\n",
       "4                                                 35                       \n",
       "5                                                 10                       \n",
       "3                                                 17                       \n",
       "2                                                 35                       \n",
       "1                                                 11                       \n",
       "\n",
       "   The speaker would appear more competent if the tremors were removed from the video  \n",
       "4                                                 30                                   \n",
       "5                                                 12                                   \n",
       "3                                                 17                                   \n",
       "2                                                 27                                   \n",
       "1                                                 22                                   "
      ]
     },
     "metadata": {},
     "output_type": "display_data"
    }
   ],
   "source": [
    "# This is to generate a table of distributions (counts) for each answer for each question\n",
    "# 'Strongly Agree':5, 'Agree':4, 'Undecided': 3,'Disagree':2, 'Strongly Disagree':1\n",
    "# str2int_dict2 = {'Always':5, 'Often':4, 'Sometimes': 3,'Rarely':2, 'Never':1}\n",
    "df_counts_pd = pd.DataFrame()\n",
    "for q in q_pd_list:\n",
    "    col_name = q\n",
    "    df_counts_pd[col_name] = df_pd[col_name].value_counts() # applies function for every row in specified column\n",
    "display(df_counts_pd)\n",
    "\n",
    "df_counts_gen = pd.DataFrame()\n",
    "for q in q_gen_list:\n",
    "    col_name = q\n",
    "    df_counts_gen[col_name] = df_gen[col_name].value_counts() # applies function for every row in specified column\n",
    "display(df_counts_gen)"
   ]
  },
  {
   "cell_type": "code",
   "execution_count": 20,
   "metadata": {},
   "outputs": [
    {
     "name": "stdout",
     "output_type": "stream",
     "text": [
      "Count for those who AGREED to the questions: \n"
     ]
    },
    {
     "data": {
      "text/plain": [
       "I would like to have the option to remove tremors from videos of myself.                 76\n",
       "I would like for viewers to have the option to remove tremors from a video of myself.    79\n",
       "I feel like my tremors cause others to perceive me as less competent.                    90\n",
       "dtype: int64"
      ]
     },
     "metadata": {},
     "output_type": "display_data"
    },
    {
     "name": "stdout",
     "output_type": "stream",
     "text": [
      "Count for those who DISAGREED to the questions: \n"
     ]
    },
    {
     "data": {
      "text/plain": [
       "I would like to have the option to remove tremors from videos of myself.                 31\n",
       "I would like for viewers to have the option to remove tremors from a video of myself.    32\n",
       "I feel like my tremors cause others to perceive me as less competent.                    45\n",
       "dtype: int64"
      ]
     },
     "metadata": {},
     "output_type": "display_data"
    },
    {
     "data": {
      "text/html": [
       "<div>\n",
       "<style scoped>\n",
       "    .dataframe tbody tr th:only-of-type {\n",
       "        vertical-align: middle;\n",
       "    }\n",
       "\n",
       "    .dataframe tbody tr th {\n",
       "        vertical-align: top;\n",
       "    }\n",
       "\n",
       "    .dataframe thead th {\n",
       "        text-align: right;\n",
       "    }\n",
       "</style>\n",
       "<table border=\"1\" class=\"dataframe\">\n",
       "  <thead>\n",
       "    <tr style=\"text-align: right;\">\n",
       "      <th></th>\n",
       "      <th>Agree</th>\n",
       "      <th>Disagree</th>\n",
       "    </tr>\n",
       "  </thead>\n",
       "  <tbody>\n",
       "    <tr>\n",
       "      <th>I would like to have the option to remove tremors from videos of myself.</th>\n",
       "      <td>76</td>\n",
       "      <td>31</td>\n",
       "    </tr>\n",
       "    <tr>\n",
       "      <th>I would like for viewers to have the option to remove tremors from a video of myself.</th>\n",
       "      <td>79</td>\n",
       "      <td>32</td>\n",
       "    </tr>\n",
       "    <tr>\n",
       "      <th>I feel like my tremors cause others to perceive me as less competent.</th>\n",
       "      <td>90</td>\n",
       "      <td>45</td>\n",
       "    </tr>\n",
       "  </tbody>\n",
       "</table>\n",
       "</div>"
      ],
      "text/plain": [
       "                                                    Agree  Disagree\n",
       "I would like to have the option to remove tremo...     76        31\n",
       "I would like for viewers to have the option to ...     79        32\n",
       "I feel like my tremors cause others to perceive...     90        45"
      ]
     },
     "metadata": {},
     "output_type": "display_data"
    },
    {
     "name": "stdout",
     "output_type": "stream",
     "text": [
      "Count for those who AGREED to the questions: \n"
     ]
    },
    {
     "data": {
      "text/plain": [
       "The speaker should have the option to remove the tremors from the video.              74\n",
       "I would like to have the option to remove the tremors from the video.                 45\n",
       "The speaker would appear more competent if the tremors were removed from the video    42\n",
       "dtype: int64"
      ]
     },
     "metadata": {},
     "output_type": "display_data"
    },
    {
     "name": "stdout",
     "output_type": "stream",
     "text": [
      "Count for those who DISAGREED to the questions: \n"
     ]
    },
    {
     "data": {
      "text/plain": [
       "The speaker should have the option to remove the tremors from the video.              15\n",
       "I would like to have the option to remove the tremors from the video.                 46\n",
       "The speaker would appear more competent if the tremors were removed from the video    49\n",
       "dtype: int64"
      ]
     },
     "metadata": {},
     "output_type": "display_data"
    },
    {
     "data": {
      "text/html": [
       "<div>\n",
       "<style scoped>\n",
       "    .dataframe tbody tr th:only-of-type {\n",
       "        vertical-align: middle;\n",
       "    }\n",
       "\n",
       "    .dataframe tbody tr th {\n",
       "        vertical-align: top;\n",
       "    }\n",
       "\n",
       "    .dataframe thead th {\n",
       "        text-align: right;\n",
       "    }\n",
       "</style>\n",
       "<table border=\"1\" class=\"dataframe\">\n",
       "  <thead>\n",
       "    <tr style=\"text-align: right;\">\n",
       "      <th></th>\n",
       "      <th>Agree</th>\n",
       "      <th>Disagree</th>\n",
       "    </tr>\n",
       "  </thead>\n",
       "  <tbody>\n",
       "    <tr>\n",
       "      <th>The speaker should have the option to remove the tremors from the video.</th>\n",
       "      <td>74</td>\n",
       "      <td>15</td>\n",
       "    </tr>\n",
       "    <tr>\n",
       "      <th>I would like to have the option to remove the tremors from the video.</th>\n",
       "      <td>45</td>\n",
       "      <td>46</td>\n",
       "    </tr>\n",
       "    <tr>\n",
       "      <th>The speaker would appear more competent if the tremors were removed from the video</th>\n",
       "      <td>42</td>\n",
       "      <td>49</td>\n",
       "    </tr>\n",
       "  </tbody>\n",
       "</table>\n",
       "</div>"
      ],
      "text/plain": [
       "                                                    Agree  Disagree\n",
       "The speaker should have the option to remove th...     74        15\n",
       "I would like to have the option to remove the t...     45        46\n",
       "The speaker would appear more competent if the ...     42        49"
      ]
     },
     "metadata": {},
     "output_type": "display_data"
    }
   ],
   "source": [
    "# here we create a dataframe containing only disagree and agree sums\n",
    "# begin with PD\n",
    "df_agree_pd = df_counts_pd.loc[[4.0, 5.0],:].sum()\n",
    "df_disagree_pd = df_counts_pd.loc[[1.0,2.0],:].sum()\n",
    "df_neutral = df_counts_pd.loc[[3.0],:].sum()\n",
    "df_AD_pd = pd.concat([df_agree_pd, df_disagree_pd], axis=1)\n",
    "df_AD_pd.columns = ['Agree','Disagree']\n",
    "print(\"Count for those who AGREED to the questions: \")\n",
    "display(df_agree_pd)\n",
    "print(\"Count for those who DISAGREED to the questions: \")\n",
    "display(df_disagree_pd)\n",
    "display(df_AD_pd)\n",
    "\n",
    "# now for general public\n",
    "df_agree_gen = df_counts_gen.loc[[4.0, 5.0],:].sum()\n",
    "df_disagree_gen = df_counts_gen.loc[[1.0,2.0],:].sum()\n",
    "df_neutral_gen = df_counts_gen.loc[[3.0],:].sum()\n",
    "df_AD_gen = pd.concat([df_agree_gen, df_disagree_gen], axis=1)\n",
    "df_AD_gen.columns = ['Agree','Disagree']\n",
    "print(\"Count for those who AGREED to the questions: \")\n",
    "display(df_agree_gen)\n",
    "print(\"Count for those who DISAGREED to the questions: \")\n",
    "display(df_disagree_gen)\n",
    "display(df_AD_gen)"
   ]
  },
  {
   "cell_type": "code",
   "execution_count": 23,
   "metadata": {},
   "outputs": [
    {
     "data": {
      "text/html": [
       "<div>\n",
       "<style scoped>\n",
       "    .dataframe tbody tr th:only-of-type {\n",
       "        vertical-align: middle;\n",
       "    }\n",
       "\n",
       "    .dataframe tbody tr th {\n",
       "        vertical-align: top;\n",
       "    }\n",
       "\n",
       "    .dataframe thead th {\n",
       "        text-align: right;\n",
       "    }\n",
       "</style>\n",
       "<table border=\"1\" class=\"dataframe\">\n",
       "  <thead>\n",
       "    <tr style=\"text-align: right;\">\n",
       "      <th></th>\n",
       "      <th>Agree</th>\n",
       "      <th>Disagree</th>\n",
       "    </tr>\n",
       "  </thead>\n",
       "  <tbody>\n",
       "    <tr>\n",
       "      <th>I would like to have the option to remove tremors from videos of myself.</th>\n",
       "      <td>76</td>\n",
       "      <td>31</td>\n",
       "    </tr>\n",
       "    <tr>\n",
       "      <th>I would like for viewers to have the option to remove tremors from a video of myself.</th>\n",
       "      <td>79</td>\n",
       "      <td>32</td>\n",
       "    </tr>\n",
       "    <tr>\n",
       "      <th>I feel like my tremors cause others to perceive me as less competent.</th>\n",
       "      <td>90</td>\n",
       "      <td>45</td>\n",
       "    </tr>\n",
       "  </tbody>\n",
       "</table>\n",
       "</div>"
      ],
      "text/plain": [
       "                                                    Agree  Disagree\n",
       "I would like to have the option to remove tremo...     76        31\n",
       "I would like for viewers to have the option to ...     79        32\n",
       "I feel like my tremors cause others to perceive...     90        45"
      ]
     },
     "metadata": {},
     "output_type": "display_data"
    },
    {
     "data": {
      "text/html": [
       "<div>\n",
       "<style scoped>\n",
       "    .dataframe tbody tr th:only-of-type {\n",
       "        vertical-align: middle;\n",
       "    }\n",
       "\n",
       "    .dataframe tbody tr th {\n",
       "        vertical-align: top;\n",
       "    }\n",
       "\n",
       "    .dataframe thead th {\n",
       "        text-align: right;\n",
       "    }\n",
       "</style>\n",
       "<table border=\"1\" class=\"dataframe\">\n",
       "  <thead>\n",
       "    <tr style=\"text-align: right;\">\n",
       "      <th></th>\n",
       "      <th>Agree</th>\n",
       "      <th>Disagree</th>\n",
       "    </tr>\n",
       "  </thead>\n",
       "  <tbody>\n",
       "    <tr>\n",
       "      <th>The speaker should have the option to remove the tremors from the video.</th>\n",
       "      <td>74</td>\n",
       "      <td>15</td>\n",
       "    </tr>\n",
       "    <tr>\n",
       "      <th>I would like to have the option to remove the tremors from the video.</th>\n",
       "      <td>45</td>\n",
       "      <td>46</td>\n",
       "    </tr>\n",
       "    <tr>\n",
       "      <th>The speaker would appear more competent if the tremors were removed from the video</th>\n",
       "      <td>42</td>\n",
       "      <td>49</td>\n",
       "    </tr>\n",
       "  </tbody>\n",
       "</table>\n",
       "</div>"
      ],
      "text/plain": [
       "                                                    Agree  Disagree\n",
       "The speaker should have the option to remove th...     74        15\n",
       "I would like to have the option to remove the t...     45        46\n",
       "The speaker would appear more competent if the ...     42        49"
      ]
     },
     "metadata": {},
     "output_type": "display_data"
    },
    {
     "name": "stdout",
     "output_type": "stream",
     "text": [
      "Comparing Questions:\n",
      "PD Patients Question:  I would like to have the option to remove tremors from videos of myself.\n",
      "General Pub Question:  The speaker should have the option to remove the tremors from the video.\n",
      "T:  8.764090104643996 P:  1.8829119360263505e-18\n",
      "\n",
      "==========================\n",
      "\n",
      "Comparing Questions:\n",
      "PD Patients Question:  I would like for viewers to have the option to remove tremors from a video of myself.\n",
      "General Pub Question:  I would like to have the option to remove the tremors from the video.\n",
      "T:  3.323880309865165 P:  0.0008877428759607158\n",
      "\n",
      "==========================\n",
      "\n",
      "Comparing Questions:\n",
      "PD Patients Question:  I feel like my tremors cause others to perceive me as less competent. \n",
      "General Pub Question:  The speaker would appear more competent if the tremors were removed from the video\n",
      "T:  2.564229712167648 P:  0.010340508260585666\n",
      "\n",
      "==========================\n",
      "\n"
     ]
    }
   ],
   "source": [
    "# comparing questions with the z-portions test\n",
    "display(df_AD_pd)\n",
    "display(df_AD_gen)\n",
    "for i in range(len(q_pd_list)):\n",
    "    print(\"Comparing Questions:\")\n",
    "    print(\"PD Patients Question: \", q_pd_list[i])\n",
    "    print(\"General Pub Question: \", q_gen_list[i])\n",
    "    row_ID_pd = q_pd_list[i]\n",
    "    num_agree_pd = df_AD_pd.loc[row_ID_pd,'Agree']\n",
    "    num_disagree_pd = df_AD_pd.loc[row_ID_pd,'Disagree']\n",
    "    row_ID_gen = q_gen_list[i]\n",
    "    num_agree_gen = df_AD_gen.loc[row_ID_gen,'Agree']\n",
    "    num_disagree_gen = df_AD_gen.loc[row_ID_gen,'Disagree']\n",
    "    t, p = proportions_ztest(num_agree_pd+num_agree_gen, \n",
    "                             (num_agree_pd+num_agree_gen+num_disagree_pd+num_disagree_gen), \n",
    "                             value=.5) # Assume no difference \n",
    "    print(\"T: \", t, \"P: \", p)\n",
    "    print(\"\\n==========================\\n\")"
   ]
  },
  {
   "cell_type": "code",
   "execution_count": 26,
   "metadata": {},
   "outputs": [
    {
     "name": "stdout",
     "output_type": "stream",
     "text": [
      "Comparing Questions:\n",
      "PD Patients Question:  I would like to have the option to remove tremors from videos of myself.\n",
      "General Pub Question:  The speaker should have the option to remove the tremors from the video.\n",
      "PD:\n"
     ]
    },
    {
     "data": {
      "image/png": "[encoded data removed]",
      "text/plain": [
       "<Figure size 432x288 with 1 Axes>"
      ]
     },
     "metadata": {
      "needs_background": "light"
     },
     "output_type": "display_data"
    },
    {
     "data": {
      "image/png": "[encoded data removed]",
      "text/plain": [
       "<Figure size 432x288 with 1 Axes>"
      ]
     },
     "metadata": {
      "needs_background": "light"
     },
     "output_type": "display_data"
    },
    {
     "name": "stdout",
     "output_type": "stream",
     "text": [
      "General Public: \n"
     ]
    },
    {
     "data": {
      "image/png": "[encoded data removed]",
      "text/plain": [
       "<Figure size 432x288 with 1 Axes>"
      ]
     },
     "metadata": {
      "needs_background": "light"
     },
     "output_type": "display_data"
    },
    {
     "data": {
      "image/png": "[encoded data removed]",
      "text/plain": [
       "<Figure size 432x288 with 1 Axes>"
      ]
     },
     "metadata": {
      "needs_background": "light"
     },
     "output_type": "display_data"
    },
    {
     "name": "stdout",
     "output_type": "stream",
     "text": [
      "p-value =  0.0006501501012364577\n",
      "u-value=  7470.0\n",
      "T:  2.564229712167648 P:  0.0006501501012364577\n",
      "\n",
      "==========================\n",
      "\n",
      "Comparing Questions:\n",
      "PD Patients Question:  I would like for viewers to have the option to remove tremors from a video of myself.\n",
      "General Pub Question:  I would like to have the option to remove the tremors from the video.\n",
      "PD:\n"
     ]
    },
    {
     "data": {
      "image/png": "[encoded data removed]",
      "text/plain": [
       "<Figure size 432x288 with 1 Axes>"
      ]
     },
     "metadata": {
      "needs_background": "light"
     },
     "output_type": "display_data"
    },
    {
     "data": {
      "image/png": "[encoded data removed]",
      "text/plain": [
       "<Figure size 432x288 with 1 Axes>"
      ]
     },
     "metadata": {
      "needs_background": "light"
     },
     "output_type": "display_data"
    },
    {
     "name": "stdout",
     "output_type": "stream",
     "text": [
      "General Public: \n"
     ]
    },
    {
     "data": {
      "image/png": "[encoded data removed]",
      "text/plain": [
       "<Figure size 432x288 with 1 Axes>"
      ]
     },
     "metadata": {
      "needs_background": "light"
     },
     "output_type": "display_data"
    },
    {
     "data": {
      "image/png": "[encoded data removed]",
      "text/plain": [
       "<Figure size 432x288 with 1 Axes>"
      ]
     },
     "metadata": {
      "needs_background": "light"
     },
     "output_type": "display_data"
    },
    {
     "name": "stdout",
     "output_type": "stream",
     "text": [
      "p-value =  0.00417986440628235\n",
      "u-value=  7836.0\n",
      "T:  2.564229712167648 P:  0.00417986440628235\n",
      "\n",
      "==========================\n",
      "\n",
      "Comparing Questions:\n",
      "PD Patients Question:  I feel like my tremors cause others to perceive me as less competent. \n",
      "General Pub Question:  The speaker would appear more competent if the tremors were removed from the video\n",
      "PD:\n"
     ]
    },
    {
     "data": {
      "image/png": "[encoded data removed]",
      "text/plain": [
       "<Figure size 432x288 with 1 Axes>"
      ]
     },
     "metadata": {
      "needs_background": "light"
     },
     "output_type": "display_data"
    },
    {
     "data": {
      "image/png": "[encoded data removed]",
      "text/plain": [
       "<Figure size 432x288 with 1 Axes>"
      ]
     },
     "metadata": {
      "needs_background": "light"
     },
     "output_type": "display_data"
    },
    {
     "name": "stdout",
     "output_type": "stream",
     "text": [
      "General Public: \n"
     ]
    },
    {
     "data": {
      "image/png": "[encoded data removed]",
      "text/plain": [
       "<Figure size 432x288 with 1 Axes>"
      ]
     },
     "metadata": {
      "needs_background": "light"
     },
     "output_type": "display_data"
    },
    {
     "data": {
      "image/png": "[encoded data removed]",
      "text/plain": [
       "<Figure size 432x288 with 1 Axes>"
      ]
     },
     "metadata": {
      "needs_background": "light"
     },
     "output_type": "display_data"
    },
    {
     "name": "stdout",
     "output_type": "stream",
     "text": [
      "p-value =  0.00011756001881786474\n",
      "u-value=  7151.5\n",
      "T:  2.564229712167648 P:  0.00011756001881786474\n",
      "\n",
      "==========================\n",
      "\n"
     ]
    }
   ],
   "source": [
    "for i in range(len(q_pd_list)):\n",
    "    print(\"Comparing Questions:\")\n",
    "    print(\"PD Patients Question: \", q_pd_list[i])\n",
    "    print(\"General Pub Question: \", q_gen_list[i])\n",
    "    col_ID_pd = q_pd_list[i]\n",
    "    col_ID_gen = q_gen_list[i]\n",
    "    print(\"PD:\")\n",
    "    df_pd[col_ID_pd].hist()\n",
    "    plt.show()\n",
    "    df_pd.boxplot(col_ID_pd)\n",
    "    plt.show()\n",
    "    print(\"General Public: \")\n",
    "    df_gen[col_ID_gen].hist()\n",
    "    plt.show()\n",
    "    df_gen.boxplot(col_ID_gen)\n",
    "    plt.show()\n",
    "    u,p = mannwhitneyu(df_pd[col_ID_pd], df_gen[col_ID_gen])\n",
    "    print('p-value = ', p)\n",
    "    print('u-value= ', u) \n",
    "    print(\"T: \", t, \"P: \", p)\n",
    "    print(\"\\n==========================\\n\")"
   ]
  },
  {
   "cell_type": "code",
   "execution_count": null,
   "metadata": {},
   "outputs": [],
   "source": [
    "'''\n",
    "# questions to analyze\n",
    "# from PD patients survey:\n",
    "# Create an array of questions to analyze\n",
    "*q0 = \"I would like to have the option to remove tremors from videos of myself.\"\n",
    "**q1 = \"I would like for viewers to have the option to remove tremors from a video of myself.\"\n",
    "q2 = \"My tremors affect my level of confidence. \" \n",
    "***q3 = \"I feel like my tremors cause others to perceive me as less competent. \"\n",
    "\n",
    "q_list = [q0, q1, q2, q3]\n",
    "\n",
    "# from general public survey \n",
    "q0 = \"How often were you looking at the tremors?\"\n",
    "q1 = \"I found the tremors to be distracting.\"\n",
    "q2 = \"I understood the content of the video.\"\n",
    "q3 = \"Removing the tremors from the video would help me understand the content better.\"\n",
    "**q4 = \"I would like to have the option to remove the tremors from the video.\"\n",
    "*q5 = \"The speaker should have the option to remove the tremors from the video.\"\n",
    "q6 = \"I perceive the speaker as competent\"\n",
    "***q7 = \"The speaker would appear more competent if the tremors were removed from the video\"\n",
    "\n",
    "q_list = [q0, q1, q2, q3, q4, q5, q6, q7]\n",
    "'''"
   ]
  }
 ],
 "metadata": {
  "kernelspec": {
   "display_name": "Python 3",
   "language": "python",
   "name": "python3"
  },
  "language_info": {
   "codemirror_mode": {
    "name": "ipython",
    "version": 3
   },
   "file_extension": ".py",
   "mimetype": "text/x-python",
   "name": "python",
   "nbconvert_exporter": "python",
   "pygments_lexer": "ipython3",
   "version": "3.7.6"
  }
 },
 "nbformat": 4,
 "nbformat_minor": 4
}
