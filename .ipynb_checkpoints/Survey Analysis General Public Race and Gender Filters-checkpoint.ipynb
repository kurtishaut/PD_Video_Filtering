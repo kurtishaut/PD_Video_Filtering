{
 "cells": [
  {
   "cell_type": "code",
   "execution_count": 1,
   "metadata": {},
   "outputs": [
    {
     "data": {
      "text/plain": [
       "'PROGRAM LOGIC\\n1. Convert to numberic representation scale 1-5 for Strongly Disagree - Strongly Agree\\n2. Proportions Z-test for entire population (Differences in public opinion?)\\n    (a) Execute test after discretizing 1-5 scale to [agree, disagree]\\n3. Seperate Large DF into smaller DFs based on demographic questions and atrribute values\\n    (a) Compare answers across groups using MANN-WHITNEY & Inference Interval Comparisons\\n    (b) Pay attention to questions where proportions z-test showed no difference in public opinion\\n        (i)(e.g. number agree roughly equal to number disagree)\\n        (ii) Find out where the difference is coming from (E.g. Men agree, woman disagree?)\\n'"
      ]
     },
     "execution_count": 1,
     "metadata": {},
     "output_type": "execute_result"
    }
   ],
   "source": [
    "'''PROGRAM LOGIC\n",
    "1. Convert to numberic representation scale 1-5 for Strongly Disagree - Strongly Agree\n",
    "2. Proportions Z-test for entire population (Differences in public opinion?)\n",
    "    (a) Execute test after discretizing 1-5 scale to [agree, disagree]\n",
    "3. Seperate Large DF into smaller DFs based on demographic questions and atrribute values\n",
    "    (a) Compare answers across groups using MANN-WHITNEY & Inference Interval Comparisons\n",
    "    (b) Pay attention to questions where proportions z-test showed no difference in public opinion\n",
    "        (i)(e.g. number agree roughly equal to number disagree)\n",
    "        (ii) Find out where the difference is coming from (E.g. Men agree, woman disagree?)\n",
    "'''"
   ]
  },
  {
   "cell_type": "code",
   "execution_count": 2,
   "metadata": {},
   "outputs": [],
   "source": [
    "import numpy as np\n",
    "import pandas as pd\n",
    "import matplotlib.pyplot as plt\n",
    "from scipy.stats import mannwhitneyu\n",
    "from statsmodels.stats.proportion import proportions_ztest"
   ]
  },
  {
   "cell_type": "code",
   "execution_count": 3,
   "metadata": {},
   "outputs": [],
   "source": [
    "df = pd.read_csv('general_public.csv')"
   ]
  },
  {
   "cell_type": "code",
   "execution_count": 4,
   "metadata": {},
   "outputs": [],
   "source": [
    "#Self-contained cell for converting data into numerical format for strongly agree questions\n",
    "str2int_dict = {'Strongly Agree':5, 'Agree':4, 'Undecided': 3,'Disagree':2, 'Strongly Disagree':1}\n",
    "def str2int(st):\n",
    "    if ((type(st) == str) and (st.endswith('agree') or st.endswith('Agree') or st.endswith('decided'))):\n",
    "        return str2int_dict[st]\n",
    "    else:\n",
    "        return st\n",
    "\n",
    "for col in df.columns:\n",
    "    df[col] = df[col].apply(str2int)"
   ]
  },
  {
   "cell_type": "code",
   "execution_count": 5,
   "metadata": {},
   "outputs": [],
   "source": [
    "#Self-contained cell for converting data into numerical format for frequency questions\n",
    "str2int_dict2 = {'Always':5, 'Often':4, 'Sometimes': 3,'Rarely':2, 'Never':1}\n",
    "def str2int(st):\n",
    "    if ((type(st) == str) and (st.endswith('Always') or st.endswith('Often') or \n",
    "                               st.endswith('Sometimes') or st.endswith('Rarely') or\n",
    "                               st.endswith('Never'))):\n",
    "        return str2int_dict2[st]\n",
    "    else:\n",
    "        return st\n",
    "\n",
    "for col in df.columns:\n",
    "    df[col] = df[col].apply(str2int)"
   ]
  },
  {
   "cell_type": "code",
   "execution_count": 16,
   "metadata": {},
   "outputs": [],
   "source": [
    "# Cell for hard coding the questions we want to analyze\n",
    "q0 = \"I would find it useful to have a filter that could change my race in videos.\"\n",
    "q1 = \"I would want a viewer to have the option to change my race in videos.\"\n",
    "q2 = \"I would find it useful to have a filter that could change my gender in videos.\"\n",
    "q3 = \"I would want a viewer to have the option to change my gender in videos.\"\n",
    "q4 = \"The speaker should have the option to remove the tremors from the video.\"\n",
    "q_list = [q0, q1, q2, q3, q4]"
   ]
  },
  {
   "cell_type": "code",
   "execution_count": 17,
   "metadata": {},
   "outputs": [
    {
     "data": {
      "text/html": [
       "<div>\n",
       "<style scoped>\n",
       "    .dataframe tbody tr th:only-of-type {\n",
       "        vertical-align: middle;\n",
       "    }\n",
       "\n",
       "    .dataframe tbody tr th {\n",
       "        vertical-align: top;\n",
       "    }\n",
       "\n",
       "    .dataframe thead th {\n",
       "        text-align: right;\n",
       "    }\n",
       "</style>\n",
       "<table border=\"1\" class=\"dataframe\">\n",
       "  <thead>\n",
       "    <tr style=\"text-align: right;\">\n",
       "      <th></th>\n",
       "      <th>I would find it useful to have a filter that could change my race in videos.</th>\n",
       "      <th>I would want a viewer to have the option to change my race in videos.</th>\n",
       "      <th>I would find it useful to have a filter that could change my gender in videos.</th>\n",
       "      <th>I would want a viewer to have the option to change my gender in videos.</th>\n",
       "      <th>The speaker should have the option to remove the tremors from the video.</th>\n",
       "    </tr>\n",
       "  </thead>\n",
       "  <tbody>\n",
       "    <tr>\n",
       "      <th>1</th>\n",
       "      <td>35</td>\n",
       "      <td>34</td>\n",
       "      <td>27</td>\n",
       "      <td>35</td>\n",
       "      <td>3</td>\n",
       "    </tr>\n",
       "    <tr>\n",
       "      <th>4</th>\n",
       "      <td>30</td>\n",
       "      <td>27</td>\n",
       "      <td>28</td>\n",
       "      <td>23</td>\n",
       "      <td>44</td>\n",
       "    </tr>\n",
       "    <tr>\n",
       "      <th>2</th>\n",
       "      <td>25</td>\n",
       "      <td>21</td>\n",
       "      <td>30</td>\n",
       "      <td>27</td>\n",
       "      <td>12</td>\n",
       "    </tr>\n",
       "    <tr>\n",
       "      <th>5</th>\n",
       "      <td>9</td>\n",
       "      <td>11</td>\n",
       "      <td>11</td>\n",
       "      <td>12</td>\n",
       "      <td>30</td>\n",
       "    </tr>\n",
       "    <tr>\n",
       "      <th>3</th>\n",
       "      <td>9</td>\n",
       "      <td>15</td>\n",
       "      <td>12</td>\n",
       "      <td>11</td>\n",
       "      <td>19</td>\n",
       "    </tr>\n",
       "  </tbody>\n",
       "</table>\n",
       "</div>"
      ],
      "text/plain": [
       "   I would find it useful to have a filter that could change my race in videos.  \\\n",
       "1                                                 35                              \n",
       "4                                                 30                              \n",
       "2                                                 25                              \n",
       "5                                                  9                              \n",
       "3                                                  9                              \n",
       "\n",
       "   I would want a viewer to have the option to change my race in videos.  \\\n",
       "1                                                 34                       \n",
       "4                                                 27                       \n",
       "2                                                 21                       \n",
       "5                                                 11                       \n",
       "3                                                 15                       \n",
       "\n",
       "   I would find it useful to have a filter that could change my gender in videos.  \\\n",
       "1                                                 27                                \n",
       "4                                                 28                                \n",
       "2                                                 30                                \n",
       "5                                                 11                                \n",
       "3                                                 12                                \n",
       "\n",
       "   I would want a viewer to have the option to change my gender in videos.  \\\n",
       "1                                                 35                         \n",
       "4                                                 23                         \n",
       "2                                                 27                         \n",
       "5                                                 12                         \n",
       "3                                                 11                         \n",
       "\n",
       "   The speaker should have the option to remove the tremors from the video.  \n",
       "1                                                  3                         \n",
       "4                                                 44                         \n",
       "2                                                 12                         \n",
       "5                                                 30                         \n",
       "3                                                 19                         "
      ]
     },
     "metadata": {},
     "output_type": "display_data"
    }
   ],
   "source": [
    "# This is to generate a table of distributions (counts) for each answer for each question\n",
    "# 'Strongly Agree':5, 'Agree':4, 'Undecided': 3,'Disagree':2, 'Strongly Disagree':1\n",
    "# str2int_dict2 = {'Always':5, 'Often':4, 'Sometimes': 3,'Rarely':2, 'Never':1}\n",
    "df_counts = pd.DataFrame()\n",
    "for q in q_list:\n",
    "    col_name = q\n",
    "    df_counts[col_name] = df[col_name].value_counts() # applies function for every row in specified column\n",
    "display(df_counts)"
   ]
  },
  {
   "cell_type": "code",
   "execution_count": 18,
   "metadata": {},
   "outputs": [
    {
     "name": "stdout",
     "output_type": "stream",
     "text": [
      "Count for those who AGREED to the questions: \n"
     ]
    },
    {
     "data": {
      "text/plain": [
       "I would find it useful to have a filter that could change my race in videos.      39\n",
       "I would want a viewer to have the option to change my race in videos.             38\n",
       "I would find it useful to have a filter that could change my gender in videos.    39\n",
       "I would want a viewer to have the option to change my gender in videos.           35\n",
       "The speaker should have the option to remove the tremors from the video.          74\n",
       "dtype: int64"
      ]
     },
     "metadata": {},
     "output_type": "display_data"
    },
    {
     "name": "stdout",
     "output_type": "stream",
     "text": [
      "Count for those who DISAGREED to the questions: \n"
     ]
    },
    {
     "data": {
      "text/plain": [
       "I would find it useful to have a filter that could change my race in videos.      60\n",
       "I would want a viewer to have the option to change my race in videos.             55\n",
       "I would find it useful to have a filter that could change my gender in videos.    57\n",
       "I would want a viewer to have the option to change my gender in videos.           62\n",
       "The speaker should have the option to remove the tremors from the video.          15\n",
       "dtype: int64"
      ]
     },
     "metadata": {},
     "output_type": "display_data"
    },
    {
     "data": {
      "text/html": [
       "<div>\n",
       "<style scoped>\n",
       "    .dataframe tbody tr th:only-of-type {\n",
       "        vertical-align: middle;\n",
       "    }\n",
       "\n",
       "    .dataframe tbody tr th {\n",
       "        vertical-align: top;\n",
       "    }\n",
       "\n",
       "    .dataframe thead th {\n",
       "        text-align: right;\n",
       "    }\n",
       "</style>\n",
       "<table border=\"1\" class=\"dataframe\">\n",
       "  <thead>\n",
       "    <tr style=\"text-align: right;\">\n",
       "      <th></th>\n",
       "      <th>Agree</th>\n",
       "      <th>Disagree</th>\n",
       "    </tr>\n",
       "  </thead>\n",
       "  <tbody>\n",
       "    <tr>\n",
       "      <th>I would find it useful to have a filter that could change my race in videos.</th>\n",
       "      <td>39</td>\n",
       "      <td>60</td>\n",
       "    </tr>\n",
       "    <tr>\n",
       "      <th>I would want a viewer to have the option to change my race in videos.</th>\n",
       "      <td>38</td>\n",
       "      <td>55</td>\n",
       "    </tr>\n",
       "    <tr>\n",
       "      <th>I would find it useful to have a filter that could change my gender in videos.</th>\n",
       "      <td>39</td>\n",
       "      <td>57</td>\n",
       "    </tr>\n",
       "    <tr>\n",
       "      <th>I would want a viewer to have the option to change my gender in videos.</th>\n",
       "      <td>35</td>\n",
       "      <td>62</td>\n",
       "    </tr>\n",
       "    <tr>\n",
       "      <th>The speaker should have the option to remove the tremors from the video.</th>\n",
       "      <td>74</td>\n",
       "      <td>15</td>\n",
       "    </tr>\n",
       "  </tbody>\n",
       "</table>\n",
       "</div>"
      ],
      "text/plain": [
       "                                                    Agree  Disagree\n",
       "I would find it useful to have a filter that co...     39        60\n",
       "I would want a viewer to have the option to cha...     38        55\n",
       "I would find it useful to have a filter that co...     39        57\n",
       "I would want a viewer to have the option to cha...     35        62\n",
       "The speaker should have the option to remove th...     74        15"
      ]
     },
     "metadata": {},
     "output_type": "display_data"
    }
   ],
   "source": [
    "# here we create a dataframe containing only disagree and agree sums\n",
    "# Keep in mind there is a frequency question... close enough ?\n",
    "df_agree = df_counts.loc[[4, 5],:].sum()\n",
    "df_disagree = df_counts.loc[[1,2],:].sum()\n",
    "df_neutral = df_counts.loc[[3],:].sum()\n",
    "df_AD = pd.concat([df_agree, df_disagree], axis=1)\n",
    "df_AD.columns = ['Agree','Disagree']\n",
    "print(\"Count for those who AGREED to the questions: \")\n",
    "display(df_agree)\n",
    "print(\"Count for those who DISAGREED to the questions: \")\n",
    "display(df_disagree)\n",
    "display(df_AD)"
   ]
  },
  {
   "cell_type": "code",
   "execution_count": 9,
   "metadata": {},
   "outputs": [
    {
     "name": "stdout",
     "output_type": "stream",
     "text": [
      "I would find it useful to have a filter that could change my race in videos.\n",
      "T:  -2.1597275469195365 P:  0.03079376737938273\n",
      "\n",
      "==========================\n",
      "\n",
      "I would want a viewer to have the option to change my race in videos.\n",
      "T:  -1.7930287652768 P:  0.07296832466551766\n",
      "\n",
      "==========================\n",
      "\n",
      "I would find it useful to have a filter that could change my gender in videos.\n",
      "T:  -1.870287600478072 P:  0.06144389048998359\n",
      "\n",
      "==========================\n",
      "\n",
      "I would want a viewer to have the option to change my gender in videos.\n",
      "T:  -2.854235271692773 P:  0.004314056953702637\n",
      "\n",
      "==========================\n",
      "\n"
     ]
    }
   ],
   "source": [
    "# testing for population differences on all questions\n",
    "# statsmodels.stats.proportion.proportions_ztest(count, nobs, value=None, \n",
    "#                   alternative='two-sided', prop_var=False)\n",
    "# Returns statistic and p-value\n",
    "# Null Hypothesis = There is no difference in public opinion. \n",
    "    # E.g., Number who agree is equal to the number who disagree\n",
    "\n",
    "for q in q_list:\n",
    "    print(q)\n",
    "    row_ID = q\n",
    "    num_agree = df_AD.loc[row_ID,'Agree']\n",
    "    num_disagree = df_AD.loc[row_ID,'Disagree']\n",
    "    t, p = proportions_ztest(num_agree, (num_agree+num_disagree), value=.5) # Assume no difference \n",
    "    print(\"T: \", t, \"P: \", p)\n",
    "    print(\"\\n==========================\\n\")"
   ]
  },
  {
   "cell_type": "code",
   "execution_count": 38,
   "metadata": {},
   "outputs": [
    {
     "data": {
      "text/html": [
       "<div>\n",
       "<style scoped>\n",
       "    .dataframe tbody tr th:only-of-type {\n",
       "        vertical-align: middle;\n",
       "    }\n",
       "\n",
       "    .dataframe tbody tr th {\n",
       "        vertical-align: top;\n",
       "    }\n",
       "\n",
       "    .dataframe thead th {\n",
       "        text-align: right;\n",
       "    }\n",
       "</style>\n",
       "<table border=\"1\" class=\"dataframe\">\n",
       "  <thead>\n",
       "    <tr style=\"text-align: right;\">\n",
       "      <th></th>\n",
       "      <th>I would find it useful to have a filter that could change my race in videos.</th>\n",
       "      <th>I would want a viewer to have the option to change my race in videos.</th>\n",
       "      <th>I would find it useful to have a filter that could change my gender in videos.</th>\n",
       "      <th>I would want a viewer to have the option to change my gender in videos.</th>\n",
       "      <th>The speaker should have the option to remove the tremors from the video.</th>\n",
       "    </tr>\n",
       "  </thead>\n",
       "  <tbody>\n",
       "    <tr>\n",
       "      <th>4</th>\n",
       "      <td>27</td>\n",
       "      <td>23</td>\n",
       "      <td>24</td>\n",
       "      <td>19</td>\n",
       "      <td>44.0</td>\n",
       "    </tr>\n",
       "    <tr>\n",
       "      <th>1</th>\n",
       "      <td>20</td>\n",
       "      <td>20</td>\n",
       "      <td>16</td>\n",
       "      <td>22</td>\n",
       "      <td>NaN</td>\n",
       "    </tr>\n",
       "    <tr>\n",
       "      <th>2</th>\n",
       "      <td>14</td>\n",
       "      <td>12</td>\n",
       "      <td>16</td>\n",
       "      <td>13</td>\n",
       "      <td>NaN</td>\n",
       "    </tr>\n",
       "    <tr>\n",
       "      <th>5</th>\n",
       "      <td>8</td>\n",
       "      <td>11</td>\n",
       "      <td>9</td>\n",
       "      <td>12</td>\n",
       "      <td>30.0</td>\n",
       "    </tr>\n",
       "    <tr>\n",
       "      <th>3</th>\n",
       "      <td>5</td>\n",
       "      <td>8</td>\n",
       "      <td>9</td>\n",
       "      <td>8</td>\n",
       "      <td>NaN</td>\n",
       "    </tr>\n",
       "  </tbody>\n",
       "</table>\n",
       "</div>"
      ],
      "text/plain": [
       "   I would find it useful to have a filter that could change my race in videos.  \\\n",
       "4                                                 27                              \n",
       "1                                                 20                              \n",
       "2                                                 14                              \n",
       "5                                                  8                              \n",
       "3                                                  5                              \n",
       "\n",
       "   I would want a viewer to have the option to change my race in videos.  \\\n",
       "4                                                 23                       \n",
       "1                                                 20                       \n",
       "2                                                 12                       \n",
       "5                                                 11                       \n",
       "3                                                  8                       \n",
       "\n",
       "   I would find it useful to have a filter that could change my gender in videos.  \\\n",
       "4                                                 24                                \n",
       "1                                                 16                                \n",
       "2                                                 16                                \n",
       "5                                                  9                                \n",
       "3                                                  9                                \n",
       "\n",
       "   I would want a viewer to have the option to change my gender in videos.  \\\n",
       "4                                                 19                         \n",
       "1                                                 22                         \n",
       "2                                                 13                         \n",
       "5                                                 12                         \n",
       "3                                                  8                         \n",
       "\n",
       "   The speaker should have the option to remove the tremors from the video.  \n",
       "4                                               44.0                         \n",
       "1                                                NaN                         \n",
       "2                                                NaN                         \n",
       "5                                               30.0                         \n",
       "3                                                NaN                         "
      ]
     },
     "metadata": {},
     "output_type": "display_data"
    },
    {
     "name": "stdout",
     "output_type": "stream",
     "text": [
      "Agree Disagree Counts for people who agreed to PD video filter:\n",
      "Count for those who AGREED to the race and gender filter questions: \n"
     ]
    },
    {
     "data": {
      "text/plain": [
       "I would find it useful to have a filter that could change my race in videos.      35.0\n",
       "I would want a viewer to have the option to change my race in videos.             34.0\n",
       "I would find it useful to have a filter that could change my gender in videos.    33.0\n",
       "I would want a viewer to have the option to change my gender in videos.           31.0\n",
       "The speaker should have the option to remove the tremors from the video.          74.0\n",
       "dtype: float64"
      ]
     },
     "metadata": {},
     "output_type": "display_data"
    },
    {
     "name": "stdout",
     "output_type": "stream",
     "text": [
      "Count for those who DISAGREED to the race and gender filter questions: \n"
     ]
    },
    {
     "data": {
      "text/plain": [
       "I would find it useful to have a filter that could change my race in videos.      34.0\n",
       "I would want a viewer to have the option to change my race in videos.             32.0\n",
       "I would find it useful to have a filter that could change my gender in videos.    32.0\n",
       "I would want a viewer to have the option to change my gender in videos.           35.0\n",
       "The speaker should have the option to remove the tremors from the video.           0.0\n",
       "dtype: float64"
      ]
     },
     "metadata": {},
     "output_type": "display_data"
    },
    {
     "data": {
      "text/html": [
       "<div>\n",
       "<style scoped>\n",
       "    .dataframe tbody tr th:only-of-type {\n",
       "        vertical-align: middle;\n",
       "    }\n",
       "\n",
       "    .dataframe tbody tr th {\n",
       "        vertical-align: top;\n",
       "    }\n",
       "\n",
       "    .dataframe thead th {\n",
       "        text-align: right;\n",
       "    }\n",
       "</style>\n",
       "<table border=\"1\" class=\"dataframe\">\n",
       "  <thead>\n",
       "    <tr style=\"text-align: right;\">\n",
       "      <th></th>\n",
       "      <th>Agree</th>\n",
       "      <th>Disagree</th>\n",
       "    </tr>\n",
       "  </thead>\n",
       "  <tbody>\n",
       "    <tr>\n",
       "      <th>I would find it useful to have a filter that could change my race in videos.</th>\n",
       "      <td>35.0</td>\n",
       "      <td>34.0</td>\n",
       "    </tr>\n",
       "    <tr>\n",
       "      <th>I would want a viewer to have the option to change my race in videos.</th>\n",
       "      <td>34.0</td>\n",
       "      <td>32.0</td>\n",
       "    </tr>\n",
       "    <tr>\n",
       "      <th>I would find it useful to have a filter that could change my gender in videos.</th>\n",
       "      <td>33.0</td>\n",
       "      <td>32.0</td>\n",
       "    </tr>\n",
       "    <tr>\n",
       "      <th>I would want a viewer to have the option to change my gender in videos.</th>\n",
       "      <td>31.0</td>\n",
       "      <td>35.0</td>\n",
       "    </tr>\n",
       "    <tr>\n",
       "      <th>The speaker should have the option to remove the tremors from the video.</th>\n",
       "      <td>74.0</td>\n",
       "      <td>0.0</td>\n",
       "    </tr>\n",
       "  </tbody>\n",
       "</table>\n",
       "</div>"
      ],
      "text/plain": [
       "                                                    Agree  Disagree\n",
       "I would find it useful to have a filter that co...   35.0      34.0\n",
       "I would want a viewer to have the option to cha...   34.0      32.0\n",
       "I would find it useful to have a filter that co...   33.0      32.0\n",
       "I would want a viewer to have the option to cha...   31.0      35.0\n",
       "The speaker should have the option to remove th...   74.0       0.0"
      ]
     },
     "metadata": {},
     "output_type": "display_data"
    }
   ],
   "source": [
    "# Self contained cell Looking at only the people who supported PD filter\n",
    "df_pd_agree = df[(df['The speaker should have the option to remove the tremors from the video.'] == 4) |\n",
    "                (df['The speaker should have the option to remove the tremors from the video.'] == 5)].copy()\n",
    "\n",
    "# This is to generate a table of distributions (counts) for each answer for each question\n",
    "# 'Strongly Agree':5, 'Agree':4, 'Undecided': 3,'Disagree':2, 'Strongly Disagree':1\n",
    "# str2int_dict2 = {'Always':5, 'Often':4, 'Sometimes': 3,'Rarely':2, 'Never':1}\n",
    "df_counts = pd.DataFrame()\n",
    "for q in q_list:\n",
    "    col_name = q\n",
    "    df_counts[col_name] = df_pd_agree[col_name].value_counts() # applies function for every row in specified column\n",
    "# here we create a dataframe containing only disagree and agree sums\n",
    "# Keep in mind there is a frequency question... close enough ?\n",
    "display(df_counts)\n",
    "print(\"Agree Disagree Counts for people who agreed to PD video filter:\")\n",
    "df_agree = df_counts.loc[[4, 5],:].sum()\n",
    "df_disagree = df_counts.loc[[1,2],:].sum()\n",
    "df_neutral = df_counts.loc[[3],:].sum()\n",
    "df_AD = pd.concat([df_agree, df_disagree], axis=1)\n",
    "df_AD.columns = ['Agree','Disagree']\n",
    "print(\"Count for those who AGREED to the race and gender filter questions: \")\n",
    "display(df_agree)\n",
    "print(\"Count for those who DISAGREED to the race and gender filter questions: \")\n",
    "display(df_disagree)\n",
    "display(df_AD)"
   ]
  },
  {
   "cell_type": "code",
   "execution_count": 37,
   "metadata": {},
   "outputs": [
    {
     "data": {
      "text/plain": [
       "'length of df race gender:'"
      ]
     },
     "metadata": {},
     "output_type": "display_data"
    },
    {
     "data": {
      "text/plain": [
       "31"
      ]
     },
     "metadata": {},
     "output_type": "display_data"
    },
    {
     "data": {
      "text/html": [
       "<div>\n",
       "<style scoped>\n",
       "    .dataframe tbody tr th:only-of-type {\n",
       "        vertical-align: middle;\n",
       "    }\n",
       "\n",
       "    .dataframe tbody tr th {\n",
       "        vertical-align: top;\n",
       "    }\n",
       "\n",
       "    .dataframe thead th {\n",
       "        text-align: right;\n",
       "    }\n",
       "</style>\n",
       "<table border=\"1\" class=\"dataframe\">\n",
       "  <thead>\n",
       "    <tr style=\"text-align: right;\">\n",
       "      <th></th>\n",
       "      <th>The speaker should have the option to remove the tremors from the video.</th>\n",
       "    </tr>\n",
       "  </thead>\n",
       "  <tbody>\n",
       "    <tr>\n",
       "      <th>4</th>\n",
       "      <td>16</td>\n",
       "    </tr>\n",
       "    <tr>\n",
       "      <th>5</th>\n",
       "      <td>11</td>\n",
       "    </tr>\n",
       "    <tr>\n",
       "      <th>3</th>\n",
       "      <td>3</td>\n",
       "    </tr>\n",
       "    <tr>\n",
       "      <th>2</th>\n",
       "      <td>1</td>\n",
       "    </tr>\n",
       "  </tbody>\n",
       "</table>\n",
       "</div>"
      ],
      "text/plain": [
       "   The speaker should have the option to remove the tremors from the video.\n",
       "4                                                 16                       \n",
       "5                                                 11                       \n",
       "3                                                  3                       \n",
       "2                                                  1                       "
      ]
     },
     "metadata": {},
     "output_type": "display_data"
    },
    {
     "name": "stdout",
     "output_type": "stream",
     "text": [
      "Count for those who AGREED to the race and gender filter questions: \n"
     ]
    },
    {
     "data": {
      "text/plain": [
       "The speaker should have the option to remove the tremors from the video.    27\n",
       "dtype: int64"
      ]
     },
     "metadata": {},
     "output_type": "display_data"
    },
    {
     "name": "stdout",
     "output_type": "stream",
     "text": [
      "Count for those who DISAGREED to the race and gender filter questions: \n"
     ]
    },
    {
     "data": {
      "text/plain": [
       "The speaker should have the option to remove the tremors from the video.    1\n",
       "dtype: int64"
      ]
     },
     "metadata": {},
     "output_type": "display_data"
    },
    {
     "data": {
      "text/html": [
       "<div>\n",
       "<style scoped>\n",
       "    .dataframe tbody tr th:only-of-type {\n",
       "        vertical-align: middle;\n",
       "    }\n",
       "\n",
       "    .dataframe tbody tr th {\n",
       "        vertical-align: top;\n",
       "    }\n",
       "\n",
       "    .dataframe thead th {\n",
       "        text-align: right;\n",
       "    }\n",
       "</style>\n",
       "<table border=\"1\" class=\"dataframe\">\n",
       "  <thead>\n",
       "    <tr style=\"text-align: right;\">\n",
       "      <th></th>\n",
       "      <th>Agree</th>\n",
       "      <th>Disagree</th>\n",
       "    </tr>\n",
       "  </thead>\n",
       "  <tbody>\n",
       "    <tr>\n",
       "      <th>The speaker should have the option to remove the tremors from the video.</th>\n",
       "      <td>27</td>\n",
       "      <td>1</td>\n",
       "    </tr>\n",
       "  </tbody>\n",
       "</table>\n",
       "</div>"
      ],
      "text/plain": [
       "                                                    Agree  Disagree\n",
       "The speaker should have the option to remove th...     27         1"
      ]
     },
     "metadata": {},
     "output_type": "display_data"
    }
   ],
   "source": [
    "# Here we only look at the people who support the race AND gender filters\n",
    "df_race_gender_agree = df[((df['I would find it useful to have a filter that could change my race in videos.'] == 4) |\n",
    "                (df['I would find it useful to have a filter that could change my race in videos.'] == 5)) &\n",
    "                ((df['I would find it useful to have a filter that could change my gender in videos.'] == 4) |\n",
    "                (df['I would find it useful to have a filter that could change my gender in videos.'] == 5))].copy()\n",
    "\n",
    "print('Size of DF for those who supported BOTH race and gender filter')\n",
    "display(len(df_race_gender_agree))\n",
    "df_counts = pd.DataFrame()\n",
    "#for q in q_list:\n",
    " #   col_name = q\n",
    "  #  df_counts[col_name] = df_race_gender_agree[col_name].value_counts() # applies function for every row in specified column\n",
    "\n",
    "col_name = q_list[-1]\n",
    "df_counts[col_name] = df_race_gender_agree[col_name].value_counts()\n",
    "display(df_counts)\n",
    "df_agree = df_counts.loc[[4, 5],:].sum()\n",
    "df_disagree = df_counts.loc[[2],:].sum()\n",
    "df_neutral = df_counts.loc[[3],:].sum()\n",
    "df_AD = pd.concat([df_agree, df_disagree], axis=1)\n",
    "df_AD.columns = ['Agree','Disagree']\n",
    "print(\"Count for those who AGREED to  \")\n",
    "display(df_agree)\n",
    "print(\"Count for those who DISAGREED to the race and gender filter questions: \")\n",
    "display(df_disagree)\n",
    "display(df_AD)"
   ]
  },
  {
   "cell_type": "code",
   "execution_count": null,
   "metadata": {},
   "outputs": [],
   "source": []
  },
  {
   "cell_type": "code",
   "execution_count": 10,
   "metadata": {},
   "outputs": [],
   "source": [
    "# self-contained cell to determine interval for 95% of distr\n",
    "# 95 % of a distribution falls between 2 standard-deviations of the mean\n",
    "# params = (mu, std)\n",
    "# returns list [mu-(2*std), mu, mu+(2*std)]\n",
    "def compute_interval95(mu, std):\n",
    "    lower_bound = mu - (2*std)\n",
    "    upper_bound = mu + (2*std)\n",
    "    ret_list = [lower_bound, mu, upper_bound]\n",
    "    return ret_list"
   ]
  },
  {
   "cell_type": "code",
   "execution_count": 11,
   "metadata": {},
   "outputs": [],
   "source": [
    "# self-contained cell for determining overlap of confidence intervals\n",
    "# Used to determine DIFFERENCE of opinoin betweeen 2 groups\n",
    "# params =[interval_list1, interval_list2]\n",
    "# Returns TRUE if NO overlap bc no overlap means difference\n",
    "def is_difference(interval_list1, interval_list2):\n",
    "    lower_bound1 = interval_list1[0]\n",
    "    upper_bound1 = interval_list1[-1]\n",
    "    lower_bound2 = interval_list2[0]\n",
    "    upper_bound2 = interval_list2[-1]\n",
    "    if ((lower_bound2 >= upper_bound1) or (upper_bound2 <= lower_bound1)):\n",
    "        return True # distributions do not overlap\n",
    "    else:\n",
    "        return False # distributinos overlap!"
   ]
  },
  {
   "cell_type": "code",
   "execution_count": 12,
   "metadata": {},
   "outputs": [
    {
     "name": "stdout",
     "output_type": "stream",
     "text": [
      "I would find it useful to have a filter that could change my race in videos.\n",
      "Male\n"
     ]
    },
    {
     "data": {
      "image/png": "[encoded data removed]",
      "text/plain": [
       "<Figure size 432x288 with 1 Axes>"
      ]
     },
     "metadata": {
      "needs_background": "light"
     },
     "output_type": "display_data"
    },
    {
     "data": {
      "image/png": "[encoded data removed]",
      "text/plain": [
       "<Figure size 432x288 with 1 Axes>"
      ]
     },
     "metadata": {
      "needs_background": "light"
     },
     "output_type": "display_data"
    },
    {
     "name": "stdout",
     "output_type": "stream",
     "text": [
      "Female\n"
     ]
    },
    {
     "data": {
      "image/png": "[encoded data removed]",
      "text/plain": [
       "<Figure size 432x288 with 1 Axes>"
      ]
     },
     "metadata": {
      "needs_background": "light"
     },
     "output_type": "display_data"
    },
    {
     "data": {
      "image/png": "[encoded data removed]",
      "text/plain": [
       "<Figure size 432x288 with 1 Axes>"
      ]
     },
     "metadata": {
      "needs_background": "light"
     },
     "output_type": "display_data"
    },
    {
     "data": {
      "text/html": [
       "<div>\n",
       "<style scoped>\n",
       "    .dataframe tbody tr th:only-of-type {\n",
       "        vertical-align: middle;\n",
       "    }\n",
       "\n",
       "    .dataframe tbody tr th {\n",
       "        vertical-align: top;\n",
       "    }\n",
       "\n",
       "    .dataframe thead th {\n",
       "        text-align: right;\n",
       "    }\n",
       "</style>\n",
       "<table border=\"1\" class=\"dataframe\">\n",
       "  <thead>\n",
       "    <tr style=\"text-align: right;\">\n",
       "      <th></th>\n",
       "      <th>count</th>\n",
       "      <th>mean</th>\n",
       "      <th>std</th>\n",
       "      <th>min</th>\n",
       "      <th>25%</th>\n",
       "      <th>50%</th>\n",
       "      <th>75%</th>\n",
       "      <th>max</th>\n",
       "    </tr>\n",
       "    <tr>\n",
       "      <th>What is your gender?</th>\n",
       "      <th></th>\n",
       "      <th></th>\n",
       "      <th></th>\n",
       "      <th></th>\n",
       "      <th></th>\n",
       "      <th></th>\n",
       "      <th></th>\n",
       "      <th></th>\n",
       "    </tr>\n",
       "  </thead>\n",
       "  <tbody>\n",
       "    <tr>\n",
       "      <th>Female</th>\n",
       "      <td>37.0</td>\n",
       "      <td>2.432432</td>\n",
       "      <td>1.500751</td>\n",
       "      <td>1.0</td>\n",
       "      <td>1.0</td>\n",
       "      <td>2.0</td>\n",
       "      <td>4.0</td>\n",
       "      <td>5.0</td>\n",
       "    </tr>\n",
       "    <tr>\n",
       "      <th>Male</th>\n",
       "      <td>71.0</td>\n",
       "      <td>2.633803</td>\n",
       "      <td>1.354774</td>\n",
       "      <td>1.0</td>\n",
       "      <td>1.0</td>\n",
       "      <td>2.0</td>\n",
       "      <td>4.0</td>\n",
       "      <td>5.0</td>\n",
       "    </tr>\n",
       "  </tbody>\n",
       "</table>\n",
       "</div>"
      ],
      "text/plain": [
       "                      count      mean       std  min  25%  50%  75%  max\n",
       "What is your gender?                                                    \n",
       "Female                 37.0  2.432432  1.500751  1.0  1.0  2.0  4.0  5.0\n",
       "Male                   71.0  2.633803  1.354774  1.0  1.0  2.0  4.0  5.0"
      ]
     },
     "metadata": {},
     "output_type": "display_data"
    },
    {
     "name": "stdout",
     "output_type": "stream",
     "text": [
      "p-value =  0.18521775281815867\n",
      "u-value=  -2.854235271692773\n",
      "Male:  [-0.07574509730796786, 2.6338028169014085, 5.343350731110785]\n",
      "Female:  [-0.569068693505888, 2.4324324324324325, 5.433933558370753]\n",
      "There is a Difference:  False\n",
      "\n",
      "========================================\n",
      "\n",
      "I would want a viewer to have the option to change my race in videos.\n",
      "Male\n"
     ]
    },
    {
     "data": {
      "image/png": "[encoded data removed]",
      "text/plain": [
       "<Figure size 432x288 with 1 Axes>"
      ]
     },
     "metadata": {
      "needs_background": "light"
     },
     "output_type": "display_data"
    },
    {
     "data": {
      "image/png": "[encoded data removed]",
      "text/plain": [
       "<Figure size 432x288 with 1 Axes>"
      ]
     },
     "metadata": {
      "needs_background": "light"
     },
     "output_type": "display_data"
    },
    {
     "name": "stdout",
     "output_type": "stream",
     "text": [
      "Female\n"
     ]
    },
    {
     "data": {
      "image/png": "[encoded data removed]",
      "text/plain": [
       "<Figure size 432x288 with 1 Axes>"
      ]
     },
     "metadata": {
      "needs_background": "light"
     },
     "output_type": "display_data"
    },
    {
     "data": {
      "image/png": "[encoded data removed]",
      "text/plain": [
       "<Figure size 432x288 with 1 Axes>"
      ]
     },
     "metadata": {
      "needs_background": "light"
     },
     "output_type": "display_data"
    },
    {
     "data": {
      "text/html": [
       "<div>\n",
       "<style scoped>\n",
       "    .dataframe tbody tr th:only-of-type {\n",
       "        vertical-align: middle;\n",
       "    }\n",
       "\n",
       "    .dataframe tbody tr th {\n",
       "        vertical-align: top;\n",
       "    }\n",
       "\n",
       "    .dataframe thead th {\n",
       "        text-align: right;\n",
       "    }\n",
       "</style>\n",
       "<table border=\"1\" class=\"dataframe\">\n",
       "  <thead>\n",
       "    <tr style=\"text-align: right;\">\n",
       "      <th></th>\n",
       "      <th>count</th>\n",
       "      <th>mean</th>\n",
       "      <th>std</th>\n",
       "      <th>min</th>\n",
       "      <th>25%</th>\n",
       "      <th>50%</th>\n",
       "      <th>75%</th>\n",
       "      <th>max</th>\n",
       "    </tr>\n",
       "    <tr>\n",
       "      <th>What is your gender?</th>\n",
       "      <th></th>\n",
       "      <th></th>\n",
       "      <th></th>\n",
       "      <th></th>\n",
       "      <th></th>\n",
       "      <th></th>\n",
       "      <th></th>\n",
       "      <th></th>\n",
       "    </tr>\n",
       "  </thead>\n",
       "  <tbody>\n",
       "    <tr>\n",
       "      <th>Female</th>\n",
       "      <td>37.0</td>\n",
       "      <td>2.459459</td>\n",
       "      <td>1.483138</td>\n",
       "      <td>1.0</td>\n",
       "      <td>1.0</td>\n",
       "      <td>2.0</td>\n",
       "      <td>4.0</td>\n",
       "      <td>5.0</td>\n",
       "    </tr>\n",
       "    <tr>\n",
       "      <th>Male</th>\n",
       "      <td>71.0</td>\n",
       "      <td>2.718310</td>\n",
       "      <td>1.375117</td>\n",
       "      <td>1.0</td>\n",
       "      <td>1.0</td>\n",
       "      <td>3.0</td>\n",
       "      <td>4.0</td>\n",
       "      <td>5.0</td>\n",
       "    </tr>\n",
       "  </tbody>\n",
       "</table>\n",
       "</div>"
      ],
      "text/plain": [
       "                      count      mean       std  min  25%  50%  75%  max\n",
       "What is your gender?                                                    \n",
       "Female                 37.0  2.459459  1.483138  1.0  1.0  2.0  4.0  5.0\n",
       "Male                   71.0  2.718310  1.375117  1.0  1.0  3.0  4.0  5.0"
      ]
     },
     "metadata": {},
     "output_type": "display_data"
    },
    {
     "name": "stdout",
     "output_type": "stream",
     "text": [
      "p-value =  0.16262449148833485\n",
      "u-value=  -2.854235271692773\n",
      "Male:  [-0.031923348443485544, 2.7183098591549295, 5.468543066753345]\n",
      "Female:  [-0.5068174660481364, 2.4594594594594597, 5.425736384967056]\n",
      "There is a Difference:  False\n",
      "\n",
      "========================================\n",
      "\n",
      "I would find it useful to have a filter that could change my gender in videos.\n",
      "Male\n"
     ]
    },
    {
     "data": {
      "image/png": "[encoded data removed]",
      "text/plain": [
       "<Figure size 432x288 with 1 Axes>"
      ]
     },
     "metadata": {
      "needs_background": "light"
     },
     "output_type": "display_data"
    },
    {
     "data": {
      "image/png": "[encoded data removed]",
      "text/plain": [
       "<Figure size 432x288 with 1 Axes>"
      ]
     },
     "metadata": {
      "needs_background": "light"
     },
     "output_type": "display_data"
    },
    {
     "name": "stdout",
     "output_type": "stream",
     "text": [
      "Female\n"
     ]
    },
    {
     "data": {
      "image/png": "[encoded data removed]",
      "text/plain": [
       "<Figure size 432x288 with 1 Axes>"
      ]
     },
     "metadata": {
      "needs_background": "light"
     },
     "output_type": "display_data"
    },
    {
     "data": {
      "image/png": "[encoded data removed]",
      "text/plain": [
       "<Figure size 432x288 with 1 Axes>"
      ]
     },
     "metadata": {
      "needs_background": "light"
     },
     "output_type": "display_data"
    },
    {
     "data": {
      "text/html": [
       "<div>\n",
       "<style scoped>\n",
       "    .dataframe tbody tr th:only-of-type {\n",
       "        vertical-align: middle;\n",
       "    }\n",
       "\n",
       "    .dataframe tbody tr th {\n",
       "        vertical-align: top;\n",
       "    }\n",
       "\n",
       "    .dataframe thead th {\n",
       "        text-align: right;\n",
       "    }\n",
       "</style>\n",
       "<table border=\"1\" class=\"dataframe\">\n",
       "  <thead>\n",
       "    <tr style=\"text-align: right;\">\n",
       "      <th></th>\n",
       "      <th>count</th>\n",
       "      <th>mean</th>\n",
       "      <th>std</th>\n",
       "      <th>min</th>\n",
       "      <th>25%</th>\n",
       "      <th>50%</th>\n",
       "      <th>75%</th>\n",
       "      <th>max</th>\n",
       "    </tr>\n",
       "    <tr>\n",
       "      <th>What is your gender?</th>\n",
       "      <th></th>\n",
       "      <th></th>\n",
       "      <th></th>\n",
       "      <th></th>\n",
       "      <th></th>\n",
       "      <th></th>\n",
       "      <th></th>\n",
       "      <th></th>\n",
       "    </tr>\n",
       "  </thead>\n",
       "  <tbody>\n",
       "    <tr>\n",
       "      <th>Female</th>\n",
       "      <td>37.0</td>\n",
       "      <td>2.675676</td>\n",
       "      <td>1.564432</td>\n",
       "      <td>1.0</td>\n",
       "      <td>1.0</td>\n",
       "      <td>2.0</td>\n",
       "      <td>4.0</td>\n",
       "      <td>5.0</td>\n",
       "    </tr>\n",
       "    <tr>\n",
       "      <th>Male</th>\n",
       "      <td>71.0</td>\n",
       "      <td>2.690141</td>\n",
       "      <td>1.260290</td>\n",
       "      <td>1.0</td>\n",
       "      <td>2.0</td>\n",
       "      <td>2.0</td>\n",
       "      <td>4.0</td>\n",
       "      <td>5.0</td>\n",
       "    </tr>\n",
       "  </tbody>\n",
       "</table>\n",
       "</div>"
      ],
      "text/plain": [
       "                      count      mean       std  min  25%  50%  75%  max\n",
       "What is your gender?                                                    \n",
       "Female                 37.0  2.675676  1.564432  1.0  1.0  2.0  4.0  5.0\n",
       "Male                   71.0  2.690141  1.260290  1.0  2.0  2.0  4.0  5.0"
      ]
     },
     "metadata": {},
     "output_type": "display_data"
    },
    {
     "name": "stdout",
     "output_type": "stream",
     "text": [
      "p-value =  0.4129466031294241\n",
      "u-value=  -2.854235271692773\n",
      "Male:  [0.1695615625408884, 2.6901408450704225, 5.210720127599957]\n",
      "Female:  [-0.45318830183913317, 2.675675675675676, 5.804539653190485]\n",
      "There is a Difference:  False\n",
      "\n",
      "========================================\n",
      "\n",
      "I would want a viewer to have the option to change my gender in videos.\n",
      "Male\n"
     ]
    },
    {
     "data": {
      "image/png": "[encoded data removed]",
      "text/plain": [
       "<Figure size 432x288 with 1 Axes>"
      ]
     },
     "metadata": {
      "needs_background": "light"
     },
     "output_type": "display_data"
    },
    {
     "data": {
      "image/png": "[encoded data removed]",
      "text/plain": [
       "<Figure size 432x288 with 1 Axes>"
      ]
     },
     "metadata": {
      "needs_background": "light"
     },
     "output_type": "display_data"
    },
    {
     "name": "stdout",
     "output_type": "stream",
     "text": [
      "Female\n"
     ]
    },
    {
     "data": {
      "image/png": "[encoded data removed]",
      "text/plain": [
       "<Figure size 432x288 with 1 Axes>"
      ]
     },
     "metadata": {
      "needs_background": "light"
     },
     "output_type": "display_data"
    },
    {
     "data": {
      "image/png": "[encoded data removed]",
      "text/plain": [
       "<Figure size 432x288 with 1 Axes>"
      ]
     },
     "metadata": {
      "needs_background": "light"
     },
     "output_type": "display_data"
    },
    {
     "data": {
      "text/html": [
       "<div>\n",
       "<style scoped>\n",
       "    .dataframe tbody tr th:only-of-type {\n",
       "        vertical-align: middle;\n",
       "    }\n",
       "\n",
       "    .dataframe tbody tr th {\n",
       "        vertical-align: top;\n",
       "    }\n",
       "\n",
       "    .dataframe thead th {\n",
       "        text-align: right;\n",
       "    }\n",
       "</style>\n",
       "<table border=\"1\" class=\"dataframe\">\n",
       "  <thead>\n",
       "    <tr style=\"text-align: right;\">\n",
       "      <th></th>\n",
       "      <th>count</th>\n",
       "      <th>mean</th>\n",
       "      <th>std</th>\n",
       "      <th>min</th>\n",
       "      <th>25%</th>\n",
       "      <th>50%</th>\n",
       "      <th>75%</th>\n",
       "      <th>max</th>\n",
       "    </tr>\n",
       "    <tr>\n",
       "      <th>What is your gender?</th>\n",
       "      <th></th>\n",
       "      <th></th>\n",
       "      <th></th>\n",
       "      <th></th>\n",
       "      <th></th>\n",
       "      <th></th>\n",
       "      <th></th>\n",
       "      <th></th>\n",
       "    </tr>\n",
       "  </thead>\n",
       "  <tbody>\n",
       "    <tr>\n",
       "      <th>Female</th>\n",
       "      <td>37.0</td>\n",
       "      <td>2.351351</td>\n",
       "      <td>1.567309</td>\n",
       "      <td>1.0</td>\n",
       "      <td>1.0</td>\n",
       "      <td>2.0</td>\n",
       "      <td>4.0</td>\n",
       "      <td>5.0</td>\n",
       "    </tr>\n",
       "    <tr>\n",
       "      <th>Male</th>\n",
       "      <td>71.0</td>\n",
       "      <td>2.633803</td>\n",
       "      <td>1.333518</td>\n",
       "      <td>1.0</td>\n",
       "      <td>1.5</td>\n",
       "      <td>2.0</td>\n",
       "      <td>4.0</td>\n",
       "      <td>5.0</td>\n",
       "    </tr>\n",
       "  </tbody>\n",
       "</table>\n",
       "</div>"
      ],
      "text/plain": [
       "                      count      mean       std  min  25%  50%  75%  max\n",
       "What is your gender?                                                    \n",
       "Female                 37.0  2.351351  1.567309  1.0  1.0  2.0  4.0  5.0\n",
       "Male                   71.0  2.633803  1.333518  1.0  1.5  2.0  4.0  5.0"
      ]
     },
     "metadata": {},
     "output_type": "display_data"
    },
    {
     "name": "stdout",
     "output_type": "stream",
     "text": [
      "p-value =  0.10089907505818263\n",
      "u-value=  -2.854235271692773\n",
      "Male:  [-0.03323270420155433, 2.6338028169014085, 5.300838338004372]\n",
      "Female:  [-0.7832659818850076, 2.3513513513513513, 5.485968684587711]\n",
      "There is a Difference:  False\n",
      "\n",
      "========================================\n",
      "\n"
     ]
    }
   ],
   "source": [
    "# Gender Cell\n",
    "# Compute the Mann-Whitney rank test on samples x and y\n",
    "# scipy.stats.mannwhitneyu(x, y, use_continuity=True, alternative=None)\n",
    "\n",
    "g = df.groupby('What is your gender?')\n",
    "\n",
    "df_male = df[(df['What is your gender?'] == 'Male')].copy()\n",
    "df_female = df[(df['What is your gender?'] == 'Female')].copy()\n",
    "\n",
    "for q in q_list:\n",
    "    col_name = q\n",
    "    print(col_name)\n",
    "    print(\"Male\")\n",
    "    df_male[col_name].hist()\n",
    "    plt.show()\n",
    "    df_male.boxplot(col_name)\n",
    "    plt.show()\n",
    "    print(\"Female\")\n",
    "    df_female[col_name].hist()\n",
    "    plt.show()\n",
    "    df_female.boxplot(col_name)\n",
    "    plt.show()\n",
    "    display(g[col_name].describe())\n",
    "    #Statistic test\n",
    "    u,p = mannwhitneyu(df_male[col_name], df_female[col_name])\n",
    "    print('p-value = ', p)\n",
    "    print('u-value= ', t)\n",
    "    mu1 = df_male[col_name].mean()\n",
    "    std1 = df_male[col_name].std()\n",
    "    mu2 = df_female[col_name].mean()\n",
    "    std2 = df_female[col_name].std()\n",
    "    print(\"Male: \", compute_interval95(mu1, std1))\n",
    "    print(\"Female: \", compute_interval95(mu2, std2))\n",
    "    print(\"There is a Difference: \", is_difference(compute_interval95(mu1, std1), compute_interval95(mu2, std2)))\n",
    "    print('\\n========================================\\n')"
   ]
  },
  {
   "cell_type": "code",
   "execution_count": 13,
   "metadata": {},
   "outputs": [
    {
     "name": "stdout",
     "output_type": "stream",
     "text": [
      "I would find it useful to have a filter that could change my race in videos.\n",
      "Young\n"
     ]
    },
    {
     "data": {
      "image/png": "[encoded data removed]",
      "text/plain": [
       "<Figure size 432x288 with 1 Axes>"
      ]
     },
     "metadata": {
      "needs_background": "light"
     },
     "output_type": "display_data"
    },
    {
     "data": {
      "image/png": "[encoded data removed]",
      "text/plain": [
       "<Figure size 432x288 with 1 Axes>"
      ]
     },
     "metadata": {
      "needs_background": "light"
     },
     "output_type": "display_data"
    },
    {
     "name": "stdout",
     "output_type": "stream",
     "text": [
      "Old\n"
     ]
    },
    {
     "data": {
      "image/png": "[encoded data removed]",
      "text/plain": [
       "<Figure size 432x288 with 1 Axes>"
      ]
     },
     "metadata": {
      "needs_background": "light"
     },
     "output_type": "display_data"
    },
    {
     "data": {
      "image/png": "[encoded data removed]",
      "text/plain": [
       "<Figure size 432x288 with 1 Axes>"
      ]
     },
     "metadata": {
      "needs_background": "light"
     },
     "output_type": "display_data"
    },
    {
     "data": {
      "text/html": [
       "<div>\n",
       "<style scoped>\n",
       "    .dataframe tbody tr th:only-of-type {\n",
       "        vertical-align: middle;\n",
       "    }\n",
       "\n",
       "    .dataframe tbody tr th {\n",
       "        vertical-align: top;\n",
       "    }\n",
       "\n",
       "    .dataframe thead th {\n",
       "        text-align: right;\n",
       "    }\n",
       "</style>\n",
       "<table border=\"1\" class=\"dataframe\">\n",
       "  <thead>\n",
       "    <tr style=\"text-align: right;\">\n",
       "      <th></th>\n",
       "      <th>count</th>\n",
       "      <th>mean</th>\n",
       "      <th>std</th>\n",
       "      <th>min</th>\n",
       "      <th>25%</th>\n",
       "      <th>50%</th>\n",
       "      <th>75%</th>\n",
       "      <th>max</th>\n",
       "    </tr>\n",
       "    <tr>\n",
       "      <th>What is your age?</th>\n",
       "      <th></th>\n",
       "      <th></th>\n",
       "      <th></th>\n",
       "      <th></th>\n",
       "      <th></th>\n",
       "      <th></th>\n",
       "      <th></th>\n",
       "      <th></th>\n",
       "    </tr>\n",
       "  </thead>\n",
       "  <tbody>\n",
       "    <tr>\n",
       "      <th>18-24 years old</th>\n",
       "      <td>4.0</td>\n",
       "      <td>1.750000</td>\n",
       "      <td>1.500000</td>\n",
       "      <td>1.0</td>\n",
       "      <td>1.00</td>\n",
       "      <td>1.0</td>\n",
       "      <td>1.75</td>\n",
       "      <td>4.0</td>\n",
       "    </tr>\n",
       "    <tr>\n",
       "      <th>25-34 years old</th>\n",
       "      <td>55.0</td>\n",
       "      <td>2.800000</td>\n",
       "      <td>1.458056</td>\n",
       "      <td>1.0</td>\n",
       "      <td>1.00</td>\n",
       "      <td>3.0</td>\n",
       "      <td>4.00</td>\n",
       "      <td>5.0</td>\n",
       "    </tr>\n",
       "    <tr>\n",
       "      <th>35-44 years old</th>\n",
       "      <td>22.0</td>\n",
       "      <td>2.318182</td>\n",
       "      <td>1.358794</td>\n",
       "      <td>1.0</td>\n",
       "      <td>1.00</td>\n",
       "      <td>2.0</td>\n",
       "      <td>4.00</td>\n",
       "      <td>4.0</td>\n",
       "    </tr>\n",
       "    <tr>\n",
       "      <th>45-54 years old</th>\n",
       "      <td>14.0</td>\n",
       "      <td>2.642857</td>\n",
       "      <td>1.499084</td>\n",
       "      <td>1.0</td>\n",
       "      <td>1.25</td>\n",
       "      <td>2.0</td>\n",
       "      <td>4.00</td>\n",
       "      <td>5.0</td>\n",
       "    </tr>\n",
       "    <tr>\n",
       "      <th>55-64 years old</th>\n",
       "      <td>12.0</td>\n",
       "      <td>2.166667</td>\n",
       "      <td>1.029857</td>\n",
       "      <td>1.0</td>\n",
       "      <td>1.75</td>\n",
       "      <td>2.0</td>\n",
       "      <td>2.25</td>\n",
       "      <td>4.0</td>\n",
       "    </tr>\n",
       "    <tr>\n",
       "      <th>65-74 years old</th>\n",
       "      <td>1.0</td>\n",
       "      <td>2.000000</td>\n",
       "      <td>NaN</td>\n",
       "      <td>2.0</td>\n",
       "      <td>2.00</td>\n",
       "      <td>2.0</td>\n",
       "      <td>2.00</td>\n",
       "      <td>2.0</td>\n",
       "    </tr>\n",
       "  </tbody>\n",
       "</table>\n",
       "</div>"
      ],
      "text/plain": [
       "                   count      mean       std  min   25%  50%   75%  max\n",
       "What is your age?                                                      \n",
       "18-24 years old      4.0  1.750000  1.500000  1.0  1.00  1.0  1.75  4.0\n",
       "25-34 years old     55.0  2.800000  1.458056  1.0  1.00  3.0  4.00  5.0\n",
       "35-44 years old     22.0  2.318182  1.358794  1.0  1.00  2.0  4.00  4.0\n",
       "45-54 years old     14.0  2.642857  1.499084  1.0  1.25  2.0  4.00  5.0\n",
       "55-64 years old     12.0  2.166667  1.029857  1.0  1.75  2.0  2.25  4.0\n",
       "65-74 years old      1.0  2.000000       NaN  2.0  2.00  2.0  2.00  2.0"
      ]
     },
     "metadata": {},
     "output_type": "display_data"
    },
    {
     "name": "stdout",
     "output_type": "stream",
     "text": [
      "p-value =  0.3389075781537646\n",
      "u-value=  -2.854235271692773\n",
      "Young:  [-0.2735273755430363, 2.617283950617284, 5.508095276777604]\n",
      "Old:  [-0.1501911813688963, 2.4074074074074074, 4.965005996183711]\n",
      "There is a Difference:  False\n",
      "\n",
      "========================================\n",
      "\n",
      "I would want a viewer to have the option to change my race in videos.\n",
      "Young\n"
     ]
    },
    {
     "data": {
      "image/png": "[encoded data removed]",
      "text/plain": [
       "<Figure size 432x288 with 1 Axes>"
      ]
     },
     "metadata": {
      "needs_background": "light"
     },
     "output_type": "display_data"
    },
    {
     "data": {
      "image/png": "[encoded data removed]",
      "text/plain": [
       "<Figure size 432x288 with 1 Axes>"
      ]
     },
     "metadata": {
      "needs_background": "light"
     },
     "output_type": "display_data"
    },
    {
     "name": "stdout",
     "output_type": "stream",
     "text": [
      "Old\n"
     ]
    },
    {
     "data": {
      "image/png": "[encoded data removed]",
      "text/plain": [
       "<Figure size 432x288 with 1 Axes>"
      ]
     },
     "metadata": {
      "needs_background": "light"
     },
     "output_type": "display_data"
    },
    {
     "data": {
      "image/png": "[encoded data removed]",
      "text/plain": [
       "<Figure size 432x288 with 1 Axes>"
      ]
     },
     "metadata": {
      "needs_background": "light"
     },
     "output_type": "display_data"
    },
    {
     "data": {
      "text/html": [
       "<div>\n",
       "<style scoped>\n",
       "    .dataframe tbody tr th:only-of-type {\n",
       "        vertical-align: middle;\n",
       "    }\n",
       "\n",
       "    .dataframe tbody tr th {\n",
       "        vertical-align: top;\n",
       "    }\n",
       "\n",
       "    .dataframe thead th {\n",
       "        text-align: right;\n",
       "    }\n",
       "</style>\n",
       "<table border=\"1\" class=\"dataframe\">\n",
       "  <thead>\n",
       "    <tr style=\"text-align: right;\">\n",
       "      <th></th>\n",
       "      <th>count</th>\n",
       "      <th>mean</th>\n",
       "      <th>std</th>\n",
       "      <th>min</th>\n",
       "      <th>25%</th>\n",
       "      <th>50%</th>\n",
       "      <th>75%</th>\n",
       "      <th>max</th>\n",
       "    </tr>\n",
       "    <tr>\n",
       "      <th>What is your age?</th>\n",
       "      <th></th>\n",
       "      <th></th>\n",
       "      <th></th>\n",
       "      <th></th>\n",
       "      <th></th>\n",
       "      <th></th>\n",
       "      <th></th>\n",
       "      <th></th>\n",
       "    </tr>\n",
       "  </thead>\n",
       "  <tbody>\n",
       "    <tr>\n",
       "      <th>18-24 years old</th>\n",
       "      <td>4.0</td>\n",
       "      <td>1.500000</td>\n",
       "      <td>1.000000</td>\n",
       "      <td>1.0</td>\n",
       "      <td>1.0</td>\n",
       "      <td>1.0</td>\n",
       "      <td>1.50</td>\n",
       "      <td>3.0</td>\n",
       "    </tr>\n",
       "    <tr>\n",
       "      <th>25-34 years old</th>\n",
       "      <td>55.0</td>\n",
       "      <td>2.909091</td>\n",
       "      <td>1.481650</td>\n",
       "      <td>1.0</td>\n",
       "      <td>1.0</td>\n",
       "      <td>3.0</td>\n",
       "      <td>4.00</td>\n",
       "      <td>5.0</td>\n",
       "    </tr>\n",
       "    <tr>\n",
       "      <th>35-44 years old</th>\n",
       "      <td>22.0</td>\n",
       "      <td>2.409091</td>\n",
       "      <td>1.296849</td>\n",
       "      <td>1.0</td>\n",
       "      <td>1.0</td>\n",
       "      <td>2.0</td>\n",
       "      <td>3.75</td>\n",
       "      <td>5.0</td>\n",
       "    </tr>\n",
       "    <tr>\n",
       "      <th>45-54 years old</th>\n",
       "      <td>14.0</td>\n",
       "      <td>2.785714</td>\n",
       "      <td>1.423893</td>\n",
       "      <td>1.0</td>\n",
       "      <td>2.0</td>\n",
       "      <td>2.5</td>\n",
       "      <td>4.00</td>\n",
       "      <td>5.0</td>\n",
       "    </tr>\n",
       "    <tr>\n",
       "      <th>55-64 years old</th>\n",
       "      <td>12.0</td>\n",
       "      <td>2.000000</td>\n",
       "      <td>1.128152</td>\n",
       "      <td>1.0</td>\n",
       "      <td>1.0</td>\n",
       "      <td>2.0</td>\n",
       "      <td>2.25</td>\n",
       "      <td>4.0</td>\n",
       "    </tr>\n",
       "    <tr>\n",
       "      <th>65-74 years old</th>\n",
       "      <td>1.0</td>\n",
       "      <td>2.000000</td>\n",
       "      <td>NaN</td>\n",
       "      <td>2.0</td>\n",
       "      <td>2.0</td>\n",
       "      <td>2.0</td>\n",
       "      <td>2.00</td>\n",
       "      <td>2.0</td>\n",
       "    </tr>\n",
       "  </tbody>\n",
       "</table>\n",
       "</div>"
      ],
      "text/plain": [
       "                   count      mean       std  min  25%  50%   75%  max\n",
       "What is your age?                                                     \n",
       "18-24 years old      4.0  1.500000  1.000000  1.0  1.0  1.0  1.50  3.0\n",
       "25-34 years old     55.0  2.909091  1.481650  1.0  1.0  3.0  4.00  5.0\n",
       "35-44 years old     22.0  2.409091  1.296849  1.0  1.0  2.0  3.75  5.0\n",
       "45-54 years old     14.0  2.785714  1.423893  1.0  2.0  2.5  4.00  5.0\n",
       "55-64 years old     12.0  2.000000  1.128152  1.0  1.0  2.0  2.25  4.0\n",
       "65-74 years old      1.0  2.000000       NaN  2.0  2.0  2.0  2.00  2.0"
      ]
     },
     "metadata": {},
     "output_type": "display_data"
    },
    {
     "name": "stdout",
     "output_type": "stream",
     "text": [
      "p-value =  0.20858039332577527\n",
      "u-value=  -2.854235271692773\n",
      "Young:  [-0.18497150206873547, 2.7037037037037037, 5.5923789094761425]\n",
      "Old:  [-0.2096525554140123, 2.4074074074074074, 5.024467370228827]\n",
      "There is a Difference:  False\n",
      "\n",
      "========================================\n",
      "\n",
      "I would find it useful to have a filter that could change my gender in videos.\n",
      "Young\n"
     ]
    },
    {
     "data": {
      "image/png": "[encoded data removed]",
      "text/plain": [
       "<Figure size 432x288 with 1 Axes>"
      ]
     },
     "metadata": {
      "needs_background": "light"
     },
     "output_type": "display_data"
    },
    {
     "data": {
      "image/png": "[encoded data removed]",
      "text/plain": [
       "<Figure size 432x288 with 1 Axes>"
      ]
     },
     "metadata": {
      "needs_background": "light"
     },
     "output_type": "display_data"
    },
    {
     "name": "stdout",
     "output_type": "stream",
     "text": [
      "Old\n"
     ]
    },
    {
     "data": {
      "image/png": "[encoded data removed]",
      "text/plain": [
       "<Figure size 432x288 with 1 Axes>"
      ]
     },
     "metadata": {
      "needs_background": "light"
     },
     "output_type": "display_data"
    },
    {
     "data": {
      "image/png": "[encoded data removed]",
      "text/plain": [
       "<Figure size 432x288 with 1 Axes>"
      ]
     },
     "metadata": {
      "needs_background": "light"
     },
     "output_type": "display_data"
    },
    {
     "data": {
      "text/html": [
       "<div>\n",
       "<style scoped>\n",
       "    .dataframe tbody tr th:only-of-type {\n",
       "        vertical-align: middle;\n",
       "    }\n",
       "\n",
       "    .dataframe tbody tr th {\n",
       "        vertical-align: top;\n",
       "    }\n",
       "\n",
       "    .dataframe thead th {\n",
       "        text-align: right;\n",
       "    }\n",
       "</style>\n",
       "<table border=\"1\" class=\"dataframe\">\n",
       "  <thead>\n",
       "    <tr style=\"text-align: right;\">\n",
       "      <th></th>\n",
       "      <th>count</th>\n",
       "      <th>mean</th>\n",
       "      <th>std</th>\n",
       "      <th>min</th>\n",
       "      <th>25%</th>\n",
       "      <th>50%</th>\n",
       "      <th>75%</th>\n",
       "      <th>max</th>\n",
       "    </tr>\n",
       "    <tr>\n",
       "      <th>What is your age?</th>\n",
       "      <th></th>\n",
       "      <th></th>\n",
       "      <th></th>\n",
       "      <th></th>\n",
       "      <th></th>\n",
       "      <th></th>\n",
       "      <th></th>\n",
       "      <th></th>\n",
       "    </tr>\n",
       "  </thead>\n",
       "  <tbody>\n",
       "    <tr>\n",
       "      <th>18-24 years old</th>\n",
       "      <td>4.0</td>\n",
       "      <td>2.000000</td>\n",
       "      <td>2.000000</td>\n",
       "      <td>1.0</td>\n",
       "      <td>1.00</td>\n",
       "      <td>1.0</td>\n",
       "      <td>2.0</td>\n",
       "      <td>5.0</td>\n",
       "    </tr>\n",
       "    <tr>\n",
       "      <th>25-34 years old</th>\n",
       "      <td>55.0</td>\n",
       "      <td>2.909091</td>\n",
       "      <td>1.391412</td>\n",
       "      <td>1.0</td>\n",
       "      <td>2.00</td>\n",
       "      <td>3.0</td>\n",
       "      <td>4.0</td>\n",
       "      <td>5.0</td>\n",
       "    </tr>\n",
       "    <tr>\n",
       "      <th>35-44 years old</th>\n",
       "      <td>22.0</td>\n",
       "      <td>2.500000</td>\n",
       "      <td>1.336306</td>\n",
       "      <td>1.0</td>\n",
       "      <td>1.00</td>\n",
       "      <td>2.0</td>\n",
       "      <td>4.0</td>\n",
       "      <td>5.0</td>\n",
       "    </tr>\n",
       "    <tr>\n",
       "      <th>45-54 years old</th>\n",
       "      <td>14.0</td>\n",
       "      <td>2.785714</td>\n",
       "      <td>1.251373</td>\n",
       "      <td>1.0</td>\n",
       "      <td>2.00</td>\n",
       "      <td>3.0</td>\n",
       "      <td>4.0</td>\n",
       "      <td>4.0</td>\n",
       "    </tr>\n",
       "    <tr>\n",
       "      <th>55-64 years old</th>\n",
       "      <td>12.0</td>\n",
       "      <td>2.166667</td>\n",
       "      <td>1.193416</td>\n",
       "      <td>1.0</td>\n",
       "      <td>1.75</td>\n",
       "      <td>2.0</td>\n",
       "      <td>2.0</td>\n",
       "      <td>5.0</td>\n",
       "    </tr>\n",
       "    <tr>\n",
       "      <th>65-74 years old</th>\n",
       "      <td>1.0</td>\n",
       "      <td>2.000000</td>\n",
       "      <td>NaN</td>\n",
       "      <td>2.0</td>\n",
       "      <td>2.00</td>\n",
       "      <td>2.0</td>\n",
       "      <td>2.0</td>\n",
       "      <td>2.0</td>\n",
       "    </tr>\n",
       "  </tbody>\n",
       "</table>\n",
       "</div>"
      ],
      "text/plain": [
       "                   count      mean       std  min   25%  50%  75%  max\n",
       "What is your age?                                                     \n",
       "18-24 years old      4.0  2.000000  2.000000  1.0  1.00  1.0  2.0  5.0\n",
       "25-34 years old     55.0  2.909091  1.391412  1.0  2.00  3.0  4.0  5.0\n",
       "35-44 years old     22.0  2.500000  1.336306  1.0  1.00  2.0  4.0  5.0\n",
       "45-54 years old     14.0  2.785714  1.251373  1.0  2.00  3.0  4.0  4.0\n",
       "55-64 years old     12.0  2.166667  1.193416  1.0  1.75  2.0  2.0  5.0\n",
       "65-74 years old      1.0  2.000000       NaN  2.0  2.00  2.0  2.0  2.0"
      ]
     },
     "metadata": {},
     "output_type": "display_data"
    },
    {
     "name": "stdout",
     "output_type": "stream",
     "text": [
      "p-value =  0.2215132340624733\n",
      "u-value=  -2.854235271692773\n",
      "Young:  [-0.06703528325071995, 2.753086419753086, 5.573208122756892]\n",
      "Old:  [0.04014701850555413, 2.4814814814814814, 4.922815944457408]\n",
      "There is a Difference:  False\n",
      "\n",
      "========================================\n",
      "\n",
      "I would want a viewer to have the option to change my gender in videos.\n",
      "Young\n"
     ]
    },
    {
     "data": {
      "image/png": "[encoded data removed]",
      "text/plain": [
       "<Figure size 432x288 with 1 Axes>"
      ]
     },
     "metadata": {
      "needs_background": "light"
     },
     "output_type": "display_data"
    },
    {
     "data": {
      "image/png": "[encoded data removed]",
      "text/plain": [
       "<Figure size 432x288 with 1 Axes>"
      ]
     },
     "metadata": {
      "needs_background": "light"
     },
     "output_type": "display_data"
    },
    {
     "name": "stdout",
     "output_type": "stream",
     "text": [
      "Old\n"
     ]
    },
    {
     "data": {
      "image/png": "[encoded data removed]",
      "text/plain": [
       "<Figure size 432x288 with 1 Axes>"
      ]
     },
     "metadata": {
      "needs_background": "light"
     },
     "output_type": "display_data"
    },
    {
     "data": {
      "image/png": "[encoded data removed]",
      "text/plain": [
       "<Figure size 432x288 with 1 Axes>"
      ]
     },
     "metadata": {
      "needs_background": "light"
     },
     "output_type": "display_data"
    },
    {
     "data": {
      "text/html": [
       "<div>\n",
       "<style scoped>\n",
       "    .dataframe tbody tr th:only-of-type {\n",
       "        vertical-align: middle;\n",
       "    }\n",
       "\n",
       "    .dataframe tbody tr th {\n",
       "        vertical-align: top;\n",
       "    }\n",
       "\n",
       "    .dataframe thead th {\n",
       "        text-align: right;\n",
       "    }\n",
       "</style>\n",
       "<table border=\"1\" class=\"dataframe\">\n",
       "  <thead>\n",
       "    <tr style=\"text-align: right;\">\n",
       "      <th></th>\n",
       "      <th>count</th>\n",
       "      <th>mean</th>\n",
       "      <th>std</th>\n",
       "      <th>min</th>\n",
       "      <th>25%</th>\n",
       "      <th>50%</th>\n",
       "      <th>75%</th>\n",
       "      <th>max</th>\n",
       "    </tr>\n",
       "    <tr>\n",
       "      <th>What is your age?</th>\n",
       "      <th></th>\n",
       "      <th></th>\n",
       "      <th></th>\n",
       "      <th></th>\n",
       "      <th></th>\n",
       "      <th></th>\n",
       "      <th></th>\n",
       "      <th></th>\n",
       "    </tr>\n",
       "  </thead>\n",
       "  <tbody>\n",
       "    <tr>\n",
       "      <th>18-24 years old</th>\n",
       "      <td>4.0</td>\n",
       "      <td>1.500000</td>\n",
       "      <td>1.000000</td>\n",
       "      <td>1.0</td>\n",
       "      <td>1.0</td>\n",
       "      <td>1.0</td>\n",
       "      <td>1.50</td>\n",
       "      <td>3.0</td>\n",
       "    </tr>\n",
       "    <tr>\n",
       "      <th>25-34 years old</th>\n",
       "      <td>55.0</td>\n",
       "      <td>2.745455</td>\n",
       "      <td>1.530168</td>\n",
       "      <td>1.0</td>\n",
       "      <td>1.0</td>\n",
       "      <td>3.0</td>\n",
       "      <td>4.00</td>\n",
       "      <td>5.0</td>\n",
       "    </tr>\n",
       "    <tr>\n",
       "      <th>35-44 years old</th>\n",
       "      <td>22.0</td>\n",
       "      <td>2.318182</td>\n",
       "      <td>1.323285</td>\n",
       "      <td>1.0</td>\n",
       "      <td>1.0</td>\n",
       "      <td>2.0</td>\n",
       "      <td>3.75</td>\n",
       "      <td>5.0</td>\n",
       "    </tr>\n",
       "    <tr>\n",
       "      <th>45-54 years old</th>\n",
       "      <td>14.0</td>\n",
       "      <td>2.857143</td>\n",
       "      <td>1.350621</td>\n",
       "      <td>1.0</td>\n",
       "      <td>2.0</td>\n",
       "      <td>2.5</td>\n",
       "      <td>4.00</td>\n",
       "      <td>5.0</td>\n",
       "    </tr>\n",
       "    <tr>\n",
       "      <th>55-64 years old</th>\n",
       "      <td>12.0</td>\n",
       "      <td>2.000000</td>\n",
       "      <td>1.044466</td>\n",
       "      <td>1.0</td>\n",
       "      <td>1.0</td>\n",
       "      <td>2.0</td>\n",
       "      <td>2.00</td>\n",
       "      <td>4.0</td>\n",
       "    </tr>\n",
       "    <tr>\n",
       "      <th>65-74 years old</th>\n",
       "      <td>1.0</td>\n",
       "      <td>2.000000</td>\n",
       "      <td>NaN</td>\n",
       "      <td>2.0</td>\n",
       "      <td>2.0</td>\n",
       "      <td>2.0</td>\n",
       "      <td>2.00</td>\n",
       "      <td>2.0</td>\n",
       "    </tr>\n",
       "  </tbody>\n",
       "</table>\n",
       "</div>"
      ],
      "text/plain": [
       "                   count      mean       std  min  25%  50%   75%  max\n",
       "What is your age?                                                     \n",
       "18-24 years old      4.0  1.500000  1.000000  1.0  1.0  1.0  1.50  3.0\n",
       "25-34 years old     55.0  2.745455  1.530168  1.0  1.0  3.0  4.00  5.0\n",
       "35-44 years old     22.0  2.318182  1.323285  1.0  1.0  2.0  3.75  5.0\n",
       "45-54 years old     14.0  2.857143  1.350621  1.0  2.0  2.5  4.00  5.0\n",
       "55-64 years old     12.0  2.000000  1.044466  1.0  1.0  2.0  2.00  4.0\n",
       "65-74 years old      1.0  2.000000       NaN  2.0  2.0  2.0  2.00  2.0"
      ]
     },
     "metadata": {},
     "output_type": "display_data"
    },
    {
     "name": "stdout",
     "output_type": "stream",
     "text": [
      "p-value =  0.47372077095087706\n",
      "u-value=  -2.854235271692773\n",
      "Young:  [-0.3806284262111501, 2.567901234567901, 5.516430895346952]\n",
      "Old:  [-0.056837278274981085, 2.4444444444444446, 4.945726167163871]\n",
      "There is a Difference:  False\n",
      "\n",
      "========================================\n",
      "\n"
     ]
    }
   ],
   "source": [
    "# Age Cell\n",
    "# Compute the Mann-Whitney rank test on samples x and y\n",
    "# scipy.stats.mannwhitneyu(x, y, use_continuity=True, alternative=None)\n",
    "\n",
    "g = df.groupby('What is your age?')\n",
    "\n",
    "df_young = df[(df['What is your age?'] == '18-24 years old') | \n",
    "             (df['What is your age?'] == '25-34 years old') |\n",
    "             (df['What is your age?'] == '35-44 years old')].copy()\n",
    "\n",
    "df_old = df[(df['What is your age?'] == '45-54 years old') | \n",
    "             (df['What is your age?'] == '55-64 years old') |\n",
    "             (df['What is your age?'] == '65-74 years old') |\n",
    "             (df['What is your age?'] == '75 years or older')].copy()\n",
    "\n",
    "for q in q_list:\n",
    "    col_name = q\n",
    "    print(col_name)\n",
    "    print(\"Young\")\n",
    "    df_young[col_name].hist()\n",
    "    plt.show()\n",
    "    df_young.boxplot(col_name)\n",
    "    plt.show()\n",
    "    print(\"Old\")\n",
    "    df_old[col_name].hist()\n",
    "    plt.show()\n",
    "    df_old.boxplot(col_name)\n",
    "    plt.show()\n",
    "    display(g[col_name].describe())\n",
    "    #Statistic test\n",
    "    u,p = mannwhitneyu(df_young[col_name], df_old[col_name])\n",
    "    print('p-value = ', p)\n",
    "    print('u-value= ', t)\n",
    "    mu1 = df_young[col_name].mean()\n",
    "    std1 = df_young[col_name].std()\n",
    "    mu2 = df_old[col_name].mean()\n",
    "    std2 = df_old[col_name].std()\n",
    "    print(\"Young: \", compute_interval95(mu1, std1))\n",
    "    print(\"Old: \", compute_interval95(mu2, std2))\n",
    "    print(\"There is a Difference: \", is_difference(compute_interval95(mu1, std1), compute_interval95(mu2, std2)))\n",
    "    print('\\n========================================\\n')"
   ]
  },
  {
   "cell_type": "code",
   "execution_count": 14,
   "metadata": {},
   "outputs": [
    {
     "name": "stdout",
     "output_type": "stream",
     "text": [
      "I would find it useful to have a filter that could change my race in videos.\n",
      "White\n"
     ]
    },
    {
     "data": {
      "image/png": "[encoded data removed]",
      "text/plain": [
       "<Figure size 432x288 with 1 Axes>"
      ]
     },
     "metadata": {
      "needs_background": "light"
     },
     "output_type": "display_data"
    },
    {
     "data": {
      "image/png": "[encoded data removed]",
      "text/plain": [
       "<Figure size 432x288 with 1 Axes>"
      ]
     },
     "metadata": {
      "needs_background": "light"
     },
     "output_type": "display_data"
    },
    {
     "name": "stdout",
     "output_type": "stream",
     "text": [
      "Not White\n"
     ]
    },
    {
     "data": {
      "image/png": "[encoded data removed]",
      "text/plain": [
       "<Figure size 432x288 with 1 Axes>"
      ]
     },
     "metadata": {
      "needs_background": "light"
     },
     "output_type": "display_data"
    },
    {
     "data": {
      "image/png": "[encoded data removed]",
      "text/plain": [
       "<Figure size 432x288 with 1 Axes>"
      ]
     },
     "metadata": {
      "needs_background": "light"
     },
     "output_type": "display_data"
    },
    {
     "data": {
      "text/html": [
       "<div>\n",
       "<style scoped>\n",
       "    .dataframe tbody tr th:only-of-type {\n",
       "        vertical-align: middle;\n",
       "    }\n",
       "\n",
       "    .dataframe tbody tr th {\n",
       "        vertical-align: top;\n",
       "    }\n",
       "\n",
       "    .dataframe thead th {\n",
       "        text-align: right;\n",
       "    }\n",
       "</style>\n",
       "<table border=\"1\" class=\"dataframe\">\n",
       "  <thead>\n",
       "    <tr style=\"text-align: right;\">\n",
       "      <th></th>\n",
       "      <th>count</th>\n",
       "      <th>mean</th>\n",
       "      <th>std</th>\n",
       "      <th>min</th>\n",
       "      <th>25%</th>\n",
       "      <th>50%</th>\n",
       "      <th>75%</th>\n",
       "      <th>max</th>\n",
       "    </tr>\n",
       "    <tr>\n",
       "      <th>What is your race? (Check all that apply)</th>\n",
       "      <th></th>\n",
       "      <th></th>\n",
       "      <th></th>\n",
       "      <th></th>\n",
       "      <th></th>\n",
       "      <th></th>\n",
       "      <th></th>\n",
       "      <th></th>\n",
       "    </tr>\n",
       "  </thead>\n",
       "  <tbody>\n",
       "    <tr>\n",
       "      <th>American Indian or Alaska Native</th>\n",
       "      <td>1.0</td>\n",
       "      <td>5.000000</td>\n",
       "      <td>NaN</td>\n",
       "      <td>5.0</td>\n",
       "      <td>5.0</td>\n",
       "      <td>5.0</td>\n",
       "      <td>5.0</td>\n",
       "      <td>5.0</td>\n",
       "    </tr>\n",
       "    <tr>\n",
       "      <th>Asian</th>\n",
       "      <td>7.0</td>\n",
       "      <td>2.714286</td>\n",
       "      <td>1.603567</td>\n",
       "      <td>1.0</td>\n",
       "      <td>1.5</td>\n",
       "      <td>2.0</td>\n",
       "      <td>4.0</td>\n",
       "      <td>5.0</td>\n",
       "    </tr>\n",
       "    <tr>\n",
       "      <th>Black or African American</th>\n",
       "      <td>11.0</td>\n",
       "      <td>2.818182</td>\n",
       "      <td>1.470930</td>\n",
       "      <td>1.0</td>\n",
       "      <td>1.5</td>\n",
       "      <td>3.0</td>\n",
       "      <td>4.0</td>\n",
       "      <td>5.0</td>\n",
       "    </tr>\n",
       "    <tr>\n",
       "      <th>White</th>\n",
       "      <td>84.0</td>\n",
       "      <td>2.464286</td>\n",
       "      <td>1.348327</td>\n",
       "      <td>1.0</td>\n",
       "      <td>1.0</td>\n",
       "      <td>2.0</td>\n",
       "      <td>4.0</td>\n",
       "      <td>5.0</td>\n",
       "    </tr>\n",
       "    <tr>\n",
       "      <th>White, American Indian or Alaska Native</th>\n",
       "      <td>1.0</td>\n",
       "      <td>1.000000</td>\n",
       "      <td>NaN</td>\n",
       "      <td>1.0</td>\n",
       "      <td>1.0</td>\n",
       "      <td>1.0</td>\n",
       "      <td>1.0</td>\n",
       "      <td>1.0</td>\n",
       "    </tr>\n",
       "    <tr>\n",
       "      <th>White, Asian</th>\n",
       "      <td>2.0</td>\n",
       "      <td>4.000000</td>\n",
       "      <td>0.000000</td>\n",
       "      <td>4.0</td>\n",
       "      <td>4.0</td>\n",
       "      <td>4.0</td>\n",
       "      <td>4.0</td>\n",
       "      <td>4.0</td>\n",
       "    </tr>\n",
       "    <tr>\n",
       "      <th>White, Asian, Native Hawaiian or Pacific Islander</th>\n",
       "      <td>1.0</td>\n",
       "      <td>1.000000</td>\n",
       "      <td>NaN</td>\n",
       "      <td>1.0</td>\n",
       "      <td>1.0</td>\n",
       "      <td>1.0</td>\n",
       "      <td>1.0</td>\n",
       "      <td>1.0</td>\n",
       "    </tr>\n",
       "    <tr>\n",
       "      <th>White, Black or African American, American Indian or Alaska Native, Asian, Native Hawaiian or Pacific Islander</th>\n",
       "      <td>1.0</td>\n",
       "      <td>5.000000</td>\n",
       "      <td>NaN</td>\n",
       "      <td>5.0</td>\n",
       "      <td>5.0</td>\n",
       "      <td>5.0</td>\n",
       "      <td>5.0</td>\n",
       "      <td>5.0</td>\n",
       "    </tr>\n",
       "  </tbody>\n",
       "</table>\n",
       "</div>"
      ],
      "text/plain": [
       "                                                    count      mean       std  \\\n",
       "What is your race? (Check all that apply)                                       \n",
       "American Indian or Alaska Native                      1.0  5.000000       NaN   \n",
       "Asian                                                 7.0  2.714286  1.603567   \n",
       "Black or African American                            11.0  2.818182  1.470930   \n",
       "White                                                84.0  2.464286  1.348327   \n",
       "White, American Indian or Alaska Native               1.0  1.000000       NaN   \n",
       "White, Asian                                          2.0  4.000000  0.000000   \n",
       "White, Asian, Native Hawaiian or Pacific Islander     1.0  1.000000       NaN   \n",
       "White, Black or African American, American Indi...    1.0  5.000000       NaN   \n",
       "\n",
       "                                                    min  25%  50%  75%  max  \n",
       "What is your race? (Check all that apply)                                    \n",
       "American Indian or Alaska Native                    5.0  5.0  5.0  5.0  5.0  \n",
       "Asian                                               1.0  1.5  2.0  4.0  5.0  \n",
       "Black or African American                           1.0  1.5  3.0  4.0  5.0  \n",
       "White                                               1.0  1.0  2.0  4.0  5.0  \n",
       "White, American Indian or Alaska Native             1.0  1.0  1.0  1.0  1.0  \n",
       "White, Asian                                        4.0  4.0  4.0  4.0  4.0  \n",
       "White, Asian, Native Hawaiian or Pacific Islander   1.0  1.0  1.0  1.0  1.0  \n",
       "White, Black or African American, American Indi...  5.0  5.0  5.0  5.0  5.0  "
      ]
     },
     "metadata": {},
     "output_type": "display_data"
    },
    {
     "name": "stdout",
     "output_type": "stream",
     "text": [
      "p-value =  0.10112879076265013\n",
      "u-value=  -2.854235271692773\n",
      "White:  [-0.23236868006060707, 2.4642857142857144, 5.160940108632036]\n",
      "Not White:  [-0.19944387815298636, 2.9166666666666665, 6.032777211486319]\n",
      "There is a Difference:  False\n",
      "\n",
      "========================================\n",
      "\n",
      "I would want a viewer to have the option to change my race in videos.\n",
      "White\n"
     ]
    },
    {
     "data": {
      "image/png": "[encoded data removed]",
      "text/plain": [
       "<Figure size 432x288 with 1 Axes>"
      ]
     },
     "metadata": {
      "needs_background": "light"
     },
     "output_type": "display_data"
    },
    {
     "data": {
      "image/png": "[encoded data removed]",
      "text/plain": [
       "<Figure size 432x288 with 1 Axes>"
      ]
     },
     "metadata": {
      "needs_background": "light"
     },
     "output_type": "display_data"
    },
    {
     "name": "stdout",
     "output_type": "stream",
     "text": [
      "Not White\n"
     ]
    },
    {
     "data": {
      "image/png": "[encoded data removed]",
      "text/plain": [
       "<Figure size 432x288 with 1 Axes>"
      ]
     },
     "metadata": {
      "needs_background": "light"
     },
     "output_type": "display_data"
    },
    {
     "data": {
      "image/png": "[encoded data removed]",
      "text/plain": [
       "<Figure size 432x288 with 1 Axes>"
      ]
     },
     "metadata": {
      "needs_background": "light"
     },
     "output_type": "display_data"
    },
    {
     "data": {
      "text/html": [
       "<div>\n",
       "<style scoped>\n",
       "    .dataframe tbody tr th:only-of-type {\n",
       "        vertical-align: middle;\n",
       "    }\n",
       "\n",
       "    .dataframe tbody tr th {\n",
       "        vertical-align: top;\n",
       "    }\n",
       "\n",
       "    .dataframe thead th {\n",
       "        text-align: right;\n",
       "    }\n",
       "</style>\n",
       "<table border=\"1\" class=\"dataframe\">\n",
       "  <thead>\n",
       "    <tr style=\"text-align: right;\">\n",
       "      <th></th>\n",
       "      <th>count</th>\n",
       "      <th>mean</th>\n",
       "      <th>std</th>\n",
       "      <th>min</th>\n",
       "      <th>25%</th>\n",
       "      <th>50%</th>\n",
       "      <th>75%</th>\n",
       "      <th>max</th>\n",
       "    </tr>\n",
       "    <tr>\n",
       "      <th>What is your race? (Check all that apply)</th>\n",
       "      <th></th>\n",
       "      <th></th>\n",
       "      <th></th>\n",
       "      <th></th>\n",
       "      <th></th>\n",
       "      <th></th>\n",
       "      <th></th>\n",
       "      <th></th>\n",
       "    </tr>\n",
       "  </thead>\n",
       "  <tbody>\n",
       "    <tr>\n",
       "      <th>American Indian or Alaska Native</th>\n",
       "      <td>1.0</td>\n",
       "      <td>5.000000</td>\n",
       "      <td>NaN</td>\n",
       "      <td>5.0</td>\n",
       "      <td>5.0</td>\n",
       "      <td>5.0</td>\n",
       "      <td>5.0</td>\n",
       "      <td>5.0</td>\n",
       "    </tr>\n",
       "    <tr>\n",
       "      <th>Asian</th>\n",
       "      <td>7.0</td>\n",
       "      <td>2.714286</td>\n",
       "      <td>1.704336</td>\n",
       "      <td>1.0</td>\n",
       "      <td>1.0</td>\n",
       "      <td>3.0</td>\n",
       "      <td>4.0</td>\n",
       "      <td>5.0</td>\n",
       "    </tr>\n",
       "    <tr>\n",
       "      <th>Black or African American</th>\n",
       "      <td>11.0</td>\n",
       "      <td>2.818182</td>\n",
       "      <td>1.401298</td>\n",
       "      <td>1.0</td>\n",
       "      <td>2.0</td>\n",
       "      <td>2.0</td>\n",
       "      <td>4.0</td>\n",
       "      <td>5.0</td>\n",
       "    </tr>\n",
       "    <tr>\n",
       "      <th>White</th>\n",
       "      <td>84.0</td>\n",
       "      <td>2.511905</td>\n",
       "      <td>1.366502</td>\n",
       "      <td>1.0</td>\n",
       "      <td>1.0</td>\n",
       "      <td>2.0</td>\n",
       "      <td>4.0</td>\n",
       "      <td>5.0</td>\n",
       "    </tr>\n",
       "    <tr>\n",
       "      <th>White, American Indian or Alaska Native</th>\n",
       "      <td>1.0</td>\n",
       "      <td>4.000000</td>\n",
       "      <td>NaN</td>\n",
       "      <td>4.0</td>\n",
       "      <td>4.0</td>\n",
       "      <td>4.0</td>\n",
       "      <td>4.0</td>\n",
       "      <td>4.0</td>\n",
       "    </tr>\n",
       "    <tr>\n",
       "      <th>White, Asian</th>\n",
       "      <td>2.0</td>\n",
       "      <td>4.000000</td>\n",
       "      <td>0.000000</td>\n",
       "      <td>4.0</td>\n",
       "      <td>4.0</td>\n",
       "      <td>4.0</td>\n",
       "      <td>4.0</td>\n",
       "      <td>4.0</td>\n",
       "    </tr>\n",
       "    <tr>\n",
       "      <th>White, Asian, Native Hawaiian or Pacific Islander</th>\n",
       "      <td>1.0</td>\n",
       "      <td>1.000000</td>\n",
       "      <td>NaN</td>\n",
       "      <td>1.0</td>\n",
       "      <td>1.0</td>\n",
       "      <td>1.0</td>\n",
       "      <td>1.0</td>\n",
       "      <td>1.0</td>\n",
       "    </tr>\n",
       "    <tr>\n",
       "      <th>White, Black or African American, American Indian or Alaska Native, Asian, Native Hawaiian or Pacific Islander</th>\n",
       "      <td>1.0</td>\n",
       "      <td>5.000000</td>\n",
       "      <td>NaN</td>\n",
       "      <td>5.0</td>\n",
       "      <td>5.0</td>\n",
       "      <td>5.0</td>\n",
       "      <td>5.0</td>\n",
       "      <td>5.0</td>\n",
       "    </tr>\n",
       "  </tbody>\n",
       "</table>\n",
       "</div>"
      ],
      "text/plain": [
       "                                                    count      mean       std  \\\n",
       "What is your race? (Check all that apply)                                       \n",
       "American Indian or Alaska Native                      1.0  5.000000       NaN   \n",
       "Asian                                                 7.0  2.714286  1.704336   \n",
       "Black or African American                            11.0  2.818182  1.401298   \n",
       "White                                                84.0  2.511905  1.366502   \n",
       "White, American Indian or Alaska Native               1.0  4.000000       NaN   \n",
       "White, Asian                                          2.0  4.000000  0.000000   \n",
       "White, Asian, Native Hawaiian or Pacific Islander     1.0  1.000000       NaN   \n",
       "White, Black or African American, American Indi...    1.0  5.000000       NaN   \n",
       "\n",
       "                                                    min  25%  50%  75%  max  \n",
       "What is your race? (Check all that apply)                                    \n",
       "American Indian or Alaska Native                    5.0  5.0  5.0  5.0  5.0  \n",
       "Asian                                               1.0  1.0  3.0  4.0  5.0  \n",
       "Black or African American                           1.0  2.0  2.0  4.0  5.0  \n",
       "White                                               1.0  1.0  2.0  4.0  5.0  \n",
       "White, American Indian or Alaska Native             4.0  4.0  4.0  4.0  4.0  \n",
       "White, Asian                                        4.0  4.0  4.0  4.0  4.0  \n",
       "White, Asian, Native Hawaiian or Pacific Islander   1.0  1.0  1.0  1.0  1.0  \n",
       "White, Black or African American, American Indi...  5.0  5.0  5.0  5.0  5.0  "
      ]
     },
     "metadata": {},
     "output_type": "display_data"
    },
    {
     "name": "stdout",
     "output_type": "stream",
     "text": [
      "p-value =  0.057082990645492035\n",
      "u-value=  -2.854235271692773\n",
      "White:  [-0.2210983106524207, 2.511904761904762, 5.244907834461944]\n",
      "Not White:  [0.00684460803847875, 3.0416666666666665, 6.076488725294855]\n",
      "There is a Difference:  False\n",
      "\n",
      "========================================\n",
      "\n",
      "I would find it useful to have a filter that could change my gender in videos.\n",
      "White\n"
     ]
    },
    {
     "data": {
      "image/png": "[encoded data removed]",
      "text/plain": [
       "<Figure size 432x288 with 1 Axes>"
      ]
     },
     "metadata": {
      "needs_background": "light"
     },
     "output_type": "display_data"
    },
    {
     "data": {
      "image/png": "[encoded data removed]",
      "text/plain": [
       "<Figure size 432x288 with 1 Axes>"
      ]
     },
     "metadata": {
      "needs_background": "light"
     },
     "output_type": "display_data"
    },
    {
     "name": "stdout",
     "output_type": "stream",
     "text": [
      "Not White\n"
     ]
    },
    {
     "data": {
      "image/png": "[encoded data removed]",
      "text/plain": [
       "<Figure size 432x288 with 1 Axes>"
      ]
     },
     "metadata": {
      "needs_background": "light"
     },
     "output_type": "display_data"
    },
    {
     "data": {
      "image/png": "[encoded data removed]",
      "text/plain": [
       "<Figure size 432x288 with 1 Axes>"
      ]
     },
     "metadata": {
      "needs_background": "light"
     },
     "output_type": "display_data"
    },
    {
     "data": {
      "text/html": [
       "<div>\n",
       "<style scoped>\n",
       "    .dataframe tbody tr th:only-of-type {\n",
       "        vertical-align: middle;\n",
       "    }\n",
       "\n",
       "    .dataframe tbody tr th {\n",
       "        vertical-align: top;\n",
       "    }\n",
       "\n",
       "    .dataframe thead th {\n",
       "        text-align: right;\n",
       "    }\n",
       "</style>\n",
       "<table border=\"1\" class=\"dataframe\">\n",
       "  <thead>\n",
       "    <tr style=\"text-align: right;\">\n",
       "      <th></th>\n",
       "      <th>count</th>\n",
       "      <th>mean</th>\n",
       "      <th>std</th>\n",
       "      <th>min</th>\n",
       "      <th>25%</th>\n",
       "      <th>50%</th>\n",
       "      <th>75%</th>\n",
       "      <th>max</th>\n",
       "    </tr>\n",
       "    <tr>\n",
       "      <th>What is your race? (Check all that apply)</th>\n",
       "      <th></th>\n",
       "      <th></th>\n",
       "      <th></th>\n",
       "      <th></th>\n",
       "      <th></th>\n",
       "      <th></th>\n",
       "      <th></th>\n",
       "      <th></th>\n",
       "    </tr>\n",
       "  </thead>\n",
       "  <tbody>\n",
       "    <tr>\n",
       "      <th>American Indian or Alaska Native</th>\n",
       "      <td>1.0</td>\n",
       "      <td>5.000000</td>\n",
       "      <td>NaN</td>\n",
       "      <td>5.0</td>\n",
       "      <td>5.0</td>\n",
       "      <td>5.0</td>\n",
       "      <td>5.0</td>\n",
       "      <td>5.0</td>\n",
       "    </tr>\n",
       "    <tr>\n",
       "      <th>Asian</th>\n",
       "      <td>7.0</td>\n",
       "      <td>2.571429</td>\n",
       "      <td>1.272418</td>\n",
       "      <td>1.0</td>\n",
       "      <td>1.5</td>\n",
       "      <td>3.0</td>\n",
       "      <td>3.5</td>\n",
       "      <td>4.0</td>\n",
       "    </tr>\n",
       "    <tr>\n",
       "      <th>Black or African American</th>\n",
       "      <td>11.0</td>\n",
       "      <td>3.000000</td>\n",
       "      <td>1.414214</td>\n",
       "      <td>1.0</td>\n",
       "      <td>2.0</td>\n",
       "      <td>4.0</td>\n",
       "      <td>4.0</td>\n",
       "      <td>5.0</td>\n",
       "    </tr>\n",
       "    <tr>\n",
       "      <th>White</th>\n",
       "      <td>84.0</td>\n",
       "      <td>2.607143</td>\n",
       "      <td>1.362297</td>\n",
       "      <td>1.0</td>\n",
       "      <td>1.0</td>\n",
       "      <td>2.0</td>\n",
       "      <td>4.0</td>\n",
       "      <td>5.0</td>\n",
       "    </tr>\n",
       "    <tr>\n",
       "      <th>White, American Indian or Alaska Native</th>\n",
       "      <td>1.0</td>\n",
       "      <td>3.000000</td>\n",
       "      <td>NaN</td>\n",
       "      <td>3.0</td>\n",
       "      <td>3.0</td>\n",
       "      <td>3.0</td>\n",
       "      <td>3.0</td>\n",
       "      <td>3.0</td>\n",
       "    </tr>\n",
       "    <tr>\n",
       "      <th>White, Asian</th>\n",
       "      <td>2.0</td>\n",
       "      <td>3.000000</td>\n",
       "      <td>0.000000</td>\n",
       "      <td>3.0</td>\n",
       "      <td>3.0</td>\n",
       "      <td>3.0</td>\n",
       "      <td>3.0</td>\n",
       "      <td>3.0</td>\n",
       "    </tr>\n",
       "    <tr>\n",
       "      <th>White, Asian, Native Hawaiian or Pacific Islander</th>\n",
       "      <td>1.0</td>\n",
       "      <td>1.000000</td>\n",
       "      <td>NaN</td>\n",
       "      <td>1.0</td>\n",
       "      <td>1.0</td>\n",
       "      <td>1.0</td>\n",
       "      <td>1.0</td>\n",
       "      <td>1.0</td>\n",
       "    </tr>\n",
       "    <tr>\n",
       "      <th>White, Black or African American, American Indian or Alaska Native, Asian, Native Hawaiian or Pacific Islander</th>\n",
       "      <td>1.0</td>\n",
       "      <td>5.000000</td>\n",
       "      <td>NaN</td>\n",
       "      <td>5.0</td>\n",
       "      <td>5.0</td>\n",
       "      <td>5.0</td>\n",
       "      <td>5.0</td>\n",
       "      <td>5.0</td>\n",
       "    </tr>\n",
       "  </tbody>\n",
       "</table>\n",
       "</div>"
      ],
      "text/plain": [
       "                                                    count      mean       std  \\\n",
       "What is your race? (Check all that apply)                                       \n",
       "American Indian or Alaska Native                      1.0  5.000000       NaN   \n",
       "Asian                                                 7.0  2.571429  1.272418   \n",
       "Black or African American                            11.0  3.000000  1.414214   \n",
       "White                                                84.0  2.607143  1.362297   \n",
       "White, American Indian or Alaska Native               1.0  3.000000       NaN   \n",
       "White, Asian                                          2.0  3.000000  0.000000   \n",
       "White, Asian, Native Hawaiian or Pacific Islander     1.0  1.000000       NaN   \n",
       "White, Black or African American, American Indi...    1.0  5.000000       NaN   \n",
       "\n",
       "                                                    min  25%  50%  75%  max  \n",
       "What is your race? (Check all that apply)                                    \n",
       "American Indian or Alaska Native                    5.0  5.0  5.0  5.0  5.0  \n",
       "Asian                                               1.0  1.5  3.0  3.5  4.0  \n",
       "Black or African American                           1.0  2.0  4.0  4.0  5.0  \n",
       "White                                               1.0  1.0  2.0  4.0  5.0  \n",
       "White, American Indian or Alaska Native             3.0  3.0  3.0  3.0  3.0  \n",
       "White, Asian                                        3.0  3.0  3.0  3.0  3.0  \n",
       "White, Asian, Native Hawaiian or Pacific Islander   1.0  1.0  1.0  1.0  1.0  \n",
       "White, Black or African American, American Indi...  5.0  5.0  5.0  5.0  5.0  "
      ]
     },
     "metadata": {},
     "output_type": "display_data"
    },
    {
     "name": "stdout",
     "output_type": "stream",
     "text": [
      "p-value =  0.13911423059355188\n",
      "u-value=  -2.854235271692773\n",
      "White:  [-0.11745030833778314, 2.607142857142857, 5.331736022623497]\n",
      "Not White:  [0.22501767414692653, 2.9583333333333335, 5.69164899251974]\n",
      "There is a Difference:  False\n",
      "\n",
      "========================================\n",
      "\n",
      "I would want a viewer to have the option to change my gender in videos.\n",
      "White\n"
     ]
    },
    {
     "data": {
      "image/png": "[encoded data removed]",
      "text/plain": [
       "<Figure size 432x288 with 1 Axes>"
      ]
     },
     "metadata": {
      "needs_background": "light"
     },
     "output_type": "display_data"
    },
    {
     "data": {
      "image/png": "[encoded data removed]",
      "text/plain": [
       "<Figure size 432x288 with 1 Axes>"
      ]
     },
     "metadata": {
      "needs_background": "light"
     },
     "output_type": "display_data"
    },
    {
     "name": "stdout",
     "output_type": "stream",
     "text": [
      "Not White\n"
     ]
    },
    {
     "data": {
      "image/png": "[encoded data removed]",
      "text/plain": [
       "<Figure size 432x288 with 1 Axes>"
      ]
     },
     "metadata": {
      "needs_background": "light"
     },
     "output_type": "display_data"
    },
    {
     "data": {
      "image/png": "[encoded data removed]",
      "text/plain": [
       "<Figure size 432x288 with 1 Axes>"
      ]
     },
     "metadata": {
      "needs_background": "light"
     },
     "output_type": "display_data"
    },
    {
     "data": {
      "text/html": [
       "<div>\n",
       "<style scoped>\n",
       "    .dataframe tbody tr th:only-of-type {\n",
       "        vertical-align: middle;\n",
       "    }\n",
       "\n",
       "    .dataframe tbody tr th {\n",
       "        vertical-align: top;\n",
       "    }\n",
       "\n",
       "    .dataframe thead th {\n",
       "        text-align: right;\n",
       "    }\n",
       "</style>\n",
       "<table border=\"1\" class=\"dataframe\">\n",
       "  <thead>\n",
       "    <tr style=\"text-align: right;\">\n",
       "      <th></th>\n",
       "      <th>count</th>\n",
       "      <th>mean</th>\n",
       "      <th>std</th>\n",
       "      <th>min</th>\n",
       "      <th>25%</th>\n",
       "      <th>50%</th>\n",
       "      <th>75%</th>\n",
       "      <th>max</th>\n",
       "    </tr>\n",
       "    <tr>\n",
       "      <th>What is your race? (Check all that apply)</th>\n",
       "      <th></th>\n",
       "      <th></th>\n",
       "      <th></th>\n",
       "      <th></th>\n",
       "      <th></th>\n",
       "      <th></th>\n",
       "      <th></th>\n",
       "      <th></th>\n",
       "    </tr>\n",
       "  </thead>\n",
       "  <tbody>\n",
       "    <tr>\n",
       "      <th>American Indian or Alaska Native</th>\n",
       "      <td>1.0</td>\n",
       "      <td>5.000000</td>\n",
       "      <td>NaN</td>\n",
       "      <td>5.0</td>\n",
       "      <td>5.0</td>\n",
       "      <td>5.0</td>\n",
       "      <td>5.0</td>\n",
       "      <td>5.0</td>\n",
       "    </tr>\n",
       "    <tr>\n",
       "      <th>Asian</th>\n",
       "      <td>7.0</td>\n",
       "      <td>2.428571</td>\n",
       "      <td>1.511858</td>\n",
       "      <td>1.0</td>\n",
       "      <td>1.0</td>\n",
       "      <td>2.0</td>\n",
       "      <td>4.0</td>\n",
       "      <td>4.0</td>\n",
       "    </tr>\n",
       "    <tr>\n",
       "      <th>Black or African American</th>\n",
       "      <td>11.0</td>\n",
       "      <td>2.727273</td>\n",
       "      <td>1.489356</td>\n",
       "      <td>1.0</td>\n",
       "      <td>1.5</td>\n",
       "      <td>2.0</td>\n",
       "      <td>4.0</td>\n",
       "      <td>5.0</td>\n",
       "    </tr>\n",
       "    <tr>\n",
       "      <th>White</th>\n",
       "      <td>84.0</td>\n",
       "      <td>2.428571</td>\n",
       "      <td>1.373464</td>\n",
       "      <td>1.0</td>\n",
       "      <td>1.0</td>\n",
       "      <td>2.0</td>\n",
       "      <td>4.0</td>\n",
       "      <td>5.0</td>\n",
       "    </tr>\n",
       "    <tr>\n",
       "      <th>White, American Indian or Alaska Native</th>\n",
       "      <td>1.0</td>\n",
       "      <td>4.000000</td>\n",
       "      <td>NaN</td>\n",
       "      <td>4.0</td>\n",
       "      <td>4.0</td>\n",
       "      <td>4.0</td>\n",
       "      <td>4.0</td>\n",
       "      <td>4.0</td>\n",
       "    </tr>\n",
       "    <tr>\n",
       "      <th>White, Asian</th>\n",
       "      <td>2.0</td>\n",
       "      <td>4.000000</td>\n",
       "      <td>0.000000</td>\n",
       "      <td>4.0</td>\n",
       "      <td>4.0</td>\n",
       "      <td>4.0</td>\n",
       "      <td>4.0</td>\n",
       "      <td>4.0</td>\n",
       "    </tr>\n",
       "    <tr>\n",
       "      <th>White, Asian, Native Hawaiian or Pacific Islander</th>\n",
       "      <td>1.0</td>\n",
       "      <td>1.000000</td>\n",
       "      <td>NaN</td>\n",
       "      <td>1.0</td>\n",
       "      <td>1.0</td>\n",
       "      <td>1.0</td>\n",
       "      <td>1.0</td>\n",
       "      <td>1.0</td>\n",
       "    </tr>\n",
       "    <tr>\n",
       "      <th>White, Black or African American, American Indian or Alaska Native, Asian, Native Hawaiian or Pacific Islander</th>\n",
       "      <td>1.0</td>\n",
       "      <td>5.000000</td>\n",
       "      <td>NaN</td>\n",
       "      <td>5.0</td>\n",
       "      <td>5.0</td>\n",
       "      <td>5.0</td>\n",
       "      <td>5.0</td>\n",
       "      <td>5.0</td>\n",
       "    </tr>\n",
       "  </tbody>\n",
       "</table>\n",
       "</div>"
      ],
      "text/plain": [
       "                                                    count      mean       std  \\\n",
       "What is your race? (Check all that apply)                                       \n",
       "American Indian or Alaska Native                      1.0  5.000000       NaN   \n",
       "Asian                                                 7.0  2.428571  1.511858   \n",
       "Black or African American                            11.0  2.727273  1.489356   \n",
       "White                                                84.0  2.428571  1.373464   \n",
       "White, American Indian or Alaska Native               1.0  4.000000       NaN   \n",
       "White, Asian                                          2.0  4.000000  0.000000   \n",
       "White, Asian, Native Hawaiian or Pacific Islander     1.0  1.000000       NaN   \n",
       "White, Black or African American, American Indi...    1.0  5.000000       NaN   \n",
       "\n",
       "                                                    min  25%  50%  75%  max  \n",
       "What is your race? (Check all that apply)                                    \n",
       "American Indian or Alaska Native                    5.0  5.0  5.0  5.0  5.0  \n",
       "Asian                                               1.0  1.0  2.0  4.0  4.0  \n",
       "Black or African American                           1.0  1.5  2.0  4.0  5.0  \n",
       "White                                               1.0  1.0  2.0  4.0  5.0  \n",
       "White, American Indian or Alaska Native             4.0  4.0  4.0  4.0  4.0  \n",
       "White, Asian                                        4.0  4.0  4.0  4.0  4.0  \n",
       "White, Asian, Native Hawaiian or Pacific Islander   1.0  1.0  1.0  1.0  1.0  \n",
       "White, Black or African American, American Indi...  5.0  5.0  5.0  5.0  5.0  "
      ]
     },
     "metadata": {},
     "output_type": "display_data"
    },
    {
     "name": "stdout",
     "output_type": "stream",
     "text": [
      "p-value =  0.09602869253142748\n",
      "u-value=  -2.854235271692773\n",
      "White:  [-0.31835613062821944, 2.4285714285714284, 5.175498987771077]\n",
      "Not White:  [-0.14312398639764323, 2.9166666666666665, 5.976457319730976]\n",
      "There is a Difference:  False\n",
      "\n",
      "========================================\n",
      "\n"
     ]
    }
   ],
   "source": [
    "# Race Cell\n",
    "# Compute the Mann-Whitney rank test on samples x and y\n",
    "# scipy.stats.mannwhitneyu(x, y, use_continuity=True, alternative=None)\n",
    "\n",
    "g = df.groupby('What is your race? (Check all that apply)')\n",
    "\n",
    "df_white = df[(df['What is your race? (Check all that apply)'] == 'White')].copy()\n",
    "df_notwhite = df[(df['What is your race? (Check all that apply)'] != 'White')].copy()\n",
    "\n",
    "for q in q_list:\n",
    "    col_name = q\n",
    "    print(col_name)\n",
    "    print(\"White\")\n",
    "    df_white[col_name].hist()\n",
    "    plt.show()\n",
    "    df_white.boxplot(col_name)\n",
    "    plt.show()\n",
    "    print(\"Not White\")\n",
    "    df_notwhite[col_name].hist()\n",
    "    plt.show()\n",
    "    df_notwhite.boxplot(col_name)\n",
    "    plt.show()\n",
    "    display(g[col_name].describe())\n",
    "    #Statistic test\n",
    "    u,p = mannwhitneyu(df_white[col_name], df_notwhite[col_name])\n",
    "    print('p-value = ', p)\n",
    "    print('u-value= ', t)\n",
    "    mu1 = df_white[col_name].mean()\n",
    "    std1 = df_white[col_name].std()\n",
    "    mu2 = df_notwhite[col_name].mean()\n",
    "    std2 = df_notwhite[col_name].std()\n",
    "    print(\"White: \", compute_interval95(mu1, std1))\n",
    "    print(\"Not White: \", compute_interval95(mu2, std2))\n",
    "    print(\"There is a Difference: \", is_difference(compute_interval95(mu1, std1), compute_interval95(mu2, std2)))\n",
    "    print('\\n========================================\\n')"
   ]
  },
  {
   "cell_type": "code",
   "execution_count": 15,
   "metadata": {},
   "outputs": [
    {
     "name": "stdout",
     "output_type": "stream",
     "text": [
      "I would find it useful to have a filter that could change my race in videos.\n",
      "High Education\n"
     ]
    },
    {
     "data": {
      "image/png": "[encoded data removed]",
      "text/plain": [
       "<Figure size 432x288 with 1 Axes>"
      ]
     },
     "metadata": {
      "needs_background": "light"
     },
     "output_type": "display_data"
    },
    {
     "data": {
      "image/png": "[encoded data removed]",
      "text/plain": [
       "<Figure size 432x288 with 1 Axes>"
      ]
     },
     "metadata": {
      "needs_background": "light"
     },
     "output_type": "display_data"
    },
    {
     "name": "stdout",
     "output_type": "stream",
     "text": [
      "Low Education\n"
     ]
    },
    {
     "data": {
      "image/png": "[encoded data removed]",
      "text/plain": [
       "<Figure size 432x288 with 1 Axes>"
      ]
     },
     "metadata": {
      "needs_background": "light"
     },
     "output_type": "display_data"
    },
    {
     "data": {
      "image/png": "[encoded data removed]",
      "text/plain": [
       "<Figure size 432x288 with 1 Axes>"
      ]
     },
     "metadata": {
      "needs_background": "light"
     },
     "output_type": "display_data"
    },
    {
     "data": {
      "text/html": [
       "<div>\n",
       "<style scoped>\n",
       "    .dataframe tbody tr th:only-of-type {\n",
       "        vertical-align: middle;\n",
       "    }\n",
       "\n",
       "    .dataframe tbody tr th {\n",
       "        vertical-align: top;\n",
       "    }\n",
       "\n",
       "    .dataframe thead th {\n",
       "        text-align: right;\n",
       "    }\n",
       "</style>\n",
       "<table border=\"1\" class=\"dataframe\">\n",
       "  <thead>\n",
       "    <tr style=\"text-align: right;\">\n",
       "      <th></th>\n",
       "      <th>count</th>\n",
       "      <th>mean</th>\n",
       "      <th>std</th>\n",
       "      <th>min</th>\n",
       "      <th>25%</th>\n",
       "      <th>50%</th>\n",
       "      <th>75%</th>\n",
       "      <th>max</th>\n",
       "    </tr>\n",
       "    <tr>\n",
       "      <th>What is your education level?</th>\n",
       "      <th></th>\n",
       "      <th></th>\n",
       "      <th></th>\n",
       "      <th></th>\n",
       "      <th></th>\n",
       "      <th></th>\n",
       "      <th></th>\n",
       "      <th></th>\n",
       "    </tr>\n",
       "  </thead>\n",
       "  <tbody>\n",
       "    <tr>\n",
       "      <th>Bachelor's Degree</th>\n",
       "      <td>56.0</td>\n",
       "      <td>3.089286</td>\n",
       "      <td>1.378758</td>\n",
       "      <td>1.0</td>\n",
       "      <td>2.0</td>\n",
       "      <td>4.0</td>\n",
       "      <td>4.0</td>\n",
       "      <td>5.0</td>\n",
       "    </tr>\n",
       "    <tr>\n",
       "      <th>High School</th>\n",
       "      <td>12.0</td>\n",
       "      <td>1.666667</td>\n",
       "      <td>0.984732</td>\n",
       "      <td>1.0</td>\n",
       "      <td>1.0</td>\n",
       "      <td>1.0</td>\n",
       "      <td>2.0</td>\n",
       "      <td>4.0</td>\n",
       "    </tr>\n",
       "    <tr>\n",
       "      <th>Master's Degree</th>\n",
       "      <td>15.0</td>\n",
       "      <td>2.733333</td>\n",
       "      <td>1.709915</td>\n",
       "      <td>1.0</td>\n",
       "      <td>1.0</td>\n",
       "      <td>4.0</td>\n",
       "      <td>4.0</td>\n",
       "      <td>5.0</td>\n",
       "    </tr>\n",
       "    <tr>\n",
       "      <th>Some College</th>\n",
       "      <td>23.0</td>\n",
       "      <td>1.695652</td>\n",
       "      <td>0.702902</td>\n",
       "      <td>1.0</td>\n",
       "      <td>1.0</td>\n",
       "      <td>2.0</td>\n",
       "      <td>2.0</td>\n",
       "      <td>3.0</td>\n",
       "    </tr>\n",
       "    <tr>\n",
       "      <th>Trade School</th>\n",
       "      <td>2.0</td>\n",
       "      <td>2.000000</td>\n",
       "      <td>0.000000</td>\n",
       "      <td>2.0</td>\n",
       "      <td>2.0</td>\n",
       "      <td>2.0</td>\n",
       "      <td>2.0</td>\n",
       "      <td>2.0</td>\n",
       "    </tr>\n",
       "  </tbody>\n",
       "</table>\n",
       "</div>"
      ],
      "text/plain": [
       "                               count      mean       std  min  25%  50%  75%  \\\n",
       "What is your education level?                                                  \n",
       "Bachelor's Degree               56.0  3.089286  1.378758  1.0  2.0  4.0  4.0   \n",
       "High School                     12.0  1.666667  0.984732  1.0  1.0  1.0  2.0   \n",
       "Master's Degree                 15.0  2.733333  1.709915  1.0  1.0  4.0  4.0   \n",
       "Some College                    23.0  1.695652  0.702902  1.0  1.0  2.0  2.0   \n",
       "Trade School                     2.0  2.000000  0.000000  2.0  2.0  2.0  2.0   \n",
       "\n",
       "                               max  \n",
       "What is your education level?       \n",
       "Bachelor's Degree              5.0  \n",
       "High School                    4.0  \n",
       "Master's Degree                5.0  \n",
       "Some College                   3.0  \n",
       "Trade School                   2.0  "
      ]
     },
     "metadata": {},
     "output_type": "display_data"
    },
    {
     "name": "stdout",
     "output_type": "stream",
     "text": [
      "p-value =  7.432127296637163e-06\n",
      "u-value=  -2.854235271692773\n",
      "High Education:  [0.11594800731934285, 3.0140845070422535, 5.912221006765164]\n",
      "Low Education:  [0.14886409640717901, 1.7027027027027026, 3.2565413089982265]\n",
      "There is a Difference:  False\n",
      "\n",
      "========================================\n",
      "\n",
      "I would want a viewer to have the option to change my race in videos.\n",
      "High Education\n"
     ]
    },
    {
     "data": {
      "image/png": "[encoded data removed]",
      "text/plain": [
       "<Figure size 432x288 with 1 Axes>"
      ]
     },
     "metadata": {
      "needs_background": "light"
     },
     "output_type": "display_data"
    },
    {
     "data": {
      "image/png": "[encoded data removed]",
      "text/plain": [
       "<Figure size 432x288 with 1 Axes>"
      ]
     },
     "metadata": {
      "needs_background": "light"
     },
     "output_type": "display_data"
    },
    {
     "name": "stdout",
     "output_type": "stream",
     "text": [
      "Low Education\n"
     ]
    },
    {
     "data": {
      "image/png": "[encoded data removed]",
      "text/plain": [
       "<Figure size 432x288 with 1 Axes>"
      ]
     },
     "metadata": {
      "needs_background": "light"
     },
     "output_type": "display_data"
    },
    {
     "data": {
      "image/png": "[encoded data removed]",
      "text/plain": [
       "<Figure size 432x288 with 1 Axes>"
      ]
     },
     "metadata": {
      "needs_background": "light"
     },
     "output_type": "display_data"
    },
    {
     "data": {
      "text/html": [
       "<div>\n",
       "<style scoped>\n",
       "    .dataframe tbody tr th:only-of-type {\n",
       "        vertical-align: middle;\n",
       "    }\n",
       "\n",
       "    .dataframe tbody tr th {\n",
       "        vertical-align: top;\n",
       "    }\n",
       "\n",
       "    .dataframe thead th {\n",
       "        text-align: right;\n",
       "    }\n",
       "</style>\n",
       "<table border=\"1\" class=\"dataframe\">\n",
       "  <thead>\n",
       "    <tr style=\"text-align: right;\">\n",
       "      <th></th>\n",
       "      <th>count</th>\n",
       "      <th>mean</th>\n",
       "      <th>std</th>\n",
       "      <th>min</th>\n",
       "      <th>25%</th>\n",
       "      <th>50%</th>\n",
       "      <th>75%</th>\n",
       "      <th>max</th>\n",
       "    </tr>\n",
       "    <tr>\n",
       "      <th>What is your education level?</th>\n",
       "      <th></th>\n",
       "      <th></th>\n",
       "      <th></th>\n",
       "      <th></th>\n",
       "      <th></th>\n",
       "      <th></th>\n",
       "      <th></th>\n",
       "      <th></th>\n",
       "    </tr>\n",
       "  </thead>\n",
       "  <tbody>\n",
       "    <tr>\n",
       "      <th>Bachelor's Degree</th>\n",
       "      <td>56.0</td>\n",
       "      <td>3.125000</td>\n",
       "      <td>1.349242</td>\n",
       "      <td>1.0</td>\n",
       "      <td>2.0</td>\n",
       "      <td>4.0</td>\n",
       "      <td>4.00</td>\n",
       "      <td>5.0</td>\n",
       "    </tr>\n",
       "    <tr>\n",
       "      <th>High School</th>\n",
       "      <td>12.0</td>\n",
       "      <td>1.750000</td>\n",
       "      <td>0.866025</td>\n",
       "      <td>1.0</td>\n",
       "      <td>1.0</td>\n",
       "      <td>1.5</td>\n",
       "      <td>2.25</td>\n",
       "      <td>3.0</td>\n",
       "    </tr>\n",
       "    <tr>\n",
       "      <th>Master's Degree</th>\n",
       "      <td>15.0</td>\n",
       "      <td>3.133333</td>\n",
       "      <td>1.726543</td>\n",
       "      <td>1.0</td>\n",
       "      <td>1.0</td>\n",
       "      <td>4.0</td>\n",
       "      <td>4.50</td>\n",
       "      <td>5.0</td>\n",
       "    </tr>\n",
       "    <tr>\n",
       "      <th>Some College</th>\n",
       "      <td>23.0</td>\n",
       "      <td>1.695652</td>\n",
       "      <td>0.702902</td>\n",
       "      <td>1.0</td>\n",
       "      <td>1.0</td>\n",
       "      <td>2.0</td>\n",
       "      <td>2.00</td>\n",
       "      <td>3.0</td>\n",
       "    </tr>\n",
       "    <tr>\n",
       "      <th>Trade School</th>\n",
       "      <td>2.0</td>\n",
       "      <td>1.000000</td>\n",
       "      <td>0.000000</td>\n",
       "      <td>1.0</td>\n",
       "      <td>1.0</td>\n",
       "      <td>1.0</td>\n",
       "      <td>1.00</td>\n",
       "      <td>1.0</td>\n",
       "    </tr>\n",
       "  </tbody>\n",
       "</table>\n",
       "</div>"
      ],
      "text/plain": [
       "                               count      mean       std  min  25%  50%   75%  \\\n",
       "What is your education level?                                                   \n",
       "Bachelor's Degree               56.0  3.125000  1.349242  1.0  2.0  4.0  4.00   \n",
       "High School                     12.0  1.750000  0.866025  1.0  1.0  1.5  2.25   \n",
       "Master's Degree                 15.0  3.133333  1.726543  1.0  1.0  4.0  4.50   \n",
       "Some College                    23.0  1.695652  0.702902  1.0  1.0  2.0  2.00   \n",
       "Trade School                     2.0  1.000000  0.000000  1.0  1.0  1.0  1.00   \n",
       "\n",
       "                               max  \n",
       "What is your education level?       \n",
       "Bachelor's Degree              5.0  \n",
       "High School                    3.0  \n",
       "Master's Degree                5.0  \n",
       "Some College                   3.0  \n",
       "Trade School                   1.0  "
      ]
     },
     "metadata": {},
     "output_type": "display_data"
    },
    {
     "name": "stdout",
     "output_type": "stream",
     "text": [
      "p-value =  4.283701569389806e-07\n",
      "u-value=  -2.854235271692773\n",
      "High Education:  [0.2796150763095411, 3.1267605633802815, 5.973906050451022]\n",
      "Low Education:  [0.18094016922838674, 1.6756756756756757, 3.1704111821229644]\n",
      "There is a Difference:  False\n",
      "\n",
      "========================================\n",
      "\n",
      "I would find it useful to have a filter that could change my gender in videos.\n",
      "High Education\n"
     ]
    },
    {
     "data": {
      "image/png": "[encoded data removed]",
      "text/plain": [
       "<Figure size 432x288 with 1 Axes>"
      ]
     },
     "metadata": {
      "needs_background": "light"
     },
     "output_type": "display_data"
    },
    {
     "data": {
      "image/png": "[encoded data removed]",
      "text/plain": [
       "<Figure size 432x288 with 1 Axes>"
      ]
     },
     "metadata": {
      "needs_background": "light"
     },
     "output_type": "display_data"
    },
    {
     "name": "stdout",
     "output_type": "stream",
     "text": [
      "Low Education\n"
     ]
    },
    {
     "data": {
      "image/png": "[encoded data removed]",
      "text/plain": [
       "<Figure size 432x288 with 1 Axes>"
      ]
     },
     "metadata": {
      "needs_background": "light"
     },
     "output_type": "display_data"
    },
    {
     "data": {
      "image/png": "[encoded data removed]",
      "text/plain": [
       "<Figure size 432x288 with 1 Axes>"
      ]
     },
     "metadata": {
      "needs_background": "light"
     },
     "output_type": "display_data"
    },
    {
     "data": {
      "text/html": [
       "<div>\n",
       "<style scoped>\n",
       "    .dataframe tbody tr th:only-of-type {\n",
       "        vertical-align: middle;\n",
       "    }\n",
       "\n",
       "    .dataframe tbody tr th {\n",
       "        vertical-align: top;\n",
       "    }\n",
       "\n",
       "    .dataframe thead th {\n",
       "        text-align: right;\n",
       "    }\n",
       "</style>\n",
       "<table border=\"1\" class=\"dataframe\">\n",
       "  <thead>\n",
       "    <tr style=\"text-align: right;\">\n",
       "      <th></th>\n",
       "      <th>count</th>\n",
       "      <th>mean</th>\n",
       "      <th>std</th>\n",
       "      <th>min</th>\n",
       "      <th>25%</th>\n",
       "      <th>50%</th>\n",
       "      <th>75%</th>\n",
       "      <th>max</th>\n",
       "    </tr>\n",
       "    <tr>\n",
       "      <th>What is your education level?</th>\n",
       "      <th></th>\n",
       "      <th></th>\n",
       "      <th></th>\n",
       "      <th></th>\n",
       "      <th></th>\n",
       "      <th></th>\n",
       "      <th></th>\n",
       "      <th></th>\n",
       "    </tr>\n",
       "  </thead>\n",
       "  <tbody>\n",
       "    <tr>\n",
       "      <th>Bachelor's Degree</th>\n",
       "      <td>56.0</td>\n",
       "      <td>3.160714</td>\n",
       "      <td>1.385336</td>\n",
       "      <td>1.0</td>\n",
       "      <td>2.0</td>\n",
       "      <td>3.5</td>\n",
       "      <td>4.0</td>\n",
       "      <td>5.0</td>\n",
       "    </tr>\n",
       "    <tr>\n",
       "      <th>High School</th>\n",
       "      <td>12.0</td>\n",
       "      <td>1.833333</td>\n",
       "      <td>1.114641</td>\n",
       "      <td>1.0</td>\n",
       "      <td>1.0</td>\n",
       "      <td>1.5</td>\n",
       "      <td>2.0</td>\n",
       "      <td>4.0</td>\n",
       "    </tr>\n",
       "    <tr>\n",
       "      <th>Master's Degree</th>\n",
       "      <td>15.0</td>\n",
       "      <td>2.933333</td>\n",
       "      <td>1.486447</td>\n",
       "      <td>1.0</td>\n",
       "      <td>1.0</td>\n",
       "      <td>4.0</td>\n",
       "      <td>4.0</td>\n",
       "      <td>5.0</td>\n",
       "    </tr>\n",
       "    <tr>\n",
       "      <th>Some College</th>\n",
       "      <td>23.0</td>\n",
       "      <td>1.869565</td>\n",
       "      <td>0.694416</td>\n",
       "      <td>1.0</td>\n",
       "      <td>1.5</td>\n",
       "      <td>2.0</td>\n",
       "      <td>2.0</td>\n",
       "      <td>4.0</td>\n",
       "    </tr>\n",
       "    <tr>\n",
       "      <th>Trade School</th>\n",
       "      <td>2.0</td>\n",
       "      <td>2.000000</td>\n",
       "      <td>0.000000</td>\n",
       "      <td>2.0</td>\n",
       "      <td>2.0</td>\n",
       "      <td>2.0</td>\n",
       "      <td>2.0</td>\n",
       "      <td>2.0</td>\n",
       "    </tr>\n",
       "  </tbody>\n",
       "</table>\n",
       "</div>"
      ],
      "text/plain": [
       "                               count      mean       std  min  25%  50%  75%  \\\n",
       "What is your education level?                                                  \n",
       "Bachelor's Degree               56.0  3.160714  1.385336  1.0  2.0  3.5  4.0   \n",
       "High School                     12.0  1.833333  1.114641  1.0  1.0  1.5  2.0   \n",
       "Master's Degree                 15.0  2.933333  1.486447  1.0  1.0  4.0  4.0   \n",
       "Some College                    23.0  1.869565  0.694416  1.0  1.5  2.0  2.0   \n",
       "Trade School                     2.0  2.000000  0.000000  2.0  2.0  2.0  2.0   \n",
       "\n",
       "                               max  \n",
       "What is your education level?       \n",
       "Bachelor's Degree              5.0  \n",
       "High School                    4.0  \n",
       "Master's Degree                5.0  \n",
       "Some College                   4.0  \n",
       "Trade School                   2.0  "
      ]
     },
     "metadata": {},
     "output_type": "display_data"
    },
    {
     "name": "stdout",
     "output_type": "stream",
     "text": [
      "p-value =  9.509097002814272e-06\n",
      "u-value=  -2.854235271692773\n",
      "High Education:  [0.31371102772685644, 3.112676056338028, 5.911641084949199]\n",
      "Low Education:  [0.22087499181129244, 1.864864864864865, 3.5088547379184374]\n",
      "There is a Difference:  False\n",
      "\n",
      "========================================\n",
      "\n",
      "I would want a viewer to have the option to change my gender in videos.\n",
      "High Education\n"
     ]
    },
    {
     "data": {
      "image/png": "[encoded data removed]",
      "text/plain": [
       "<Figure size 432x288 with 1 Axes>"
      ]
     },
     "metadata": {
      "needs_background": "light"
     },
     "output_type": "display_data"
    },
    {
     "data": {
      "image/png": "[encoded data removed]",
      "text/plain": [
       "<Figure size 432x288 with 1 Axes>"
      ]
     },
     "metadata": {
      "needs_background": "light"
     },
     "output_type": "display_data"
    },
    {
     "name": "stdout",
     "output_type": "stream",
     "text": [
      "Low Education\n"
     ]
    },
    {
     "data": {
      "image/png": "[encoded data removed]",
      "text/plain": [
       "<Figure size 432x288 with 1 Axes>"
      ]
     },
     "metadata": {
      "needs_background": "light"
     },
     "output_type": "display_data"
    },
    {
     "data": {
      "image/png": "[encoded data removed]",
      "text/plain": [
       "<Figure size 432x288 with 1 Axes>"
      ]
     },
     "metadata": {
      "needs_background": "light"
     },
     "output_type": "display_data"
    },
    {
     "data": {
      "text/html": [
       "<div>\n",
       "<style scoped>\n",
       "    .dataframe tbody tr th:only-of-type {\n",
       "        vertical-align: middle;\n",
       "    }\n",
       "\n",
       "    .dataframe tbody tr th {\n",
       "        vertical-align: top;\n",
       "    }\n",
       "\n",
       "    .dataframe thead th {\n",
       "        text-align: right;\n",
       "    }\n",
       "</style>\n",
       "<table border=\"1\" class=\"dataframe\">\n",
       "  <thead>\n",
       "    <tr style=\"text-align: right;\">\n",
       "      <th></th>\n",
       "      <th>count</th>\n",
       "      <th>mean</th>\n",
       "      <th>std</th>\n",
       "      <th>min</th>\n",
       "      <th>25%</th>\n",
       "      <th>50%</th>\n",
       "      <th>75%</th>\n",
       "      <th>max</th>\n",
       "    </tr>\n",
       "    <tr>\n",
       "      <th>What is your education level?</th>\n",
       "      <th></th>\n",
       "      <th></th>\n",
       "      <th></th>\n",
       "      <th></th>\n",
       "      <th></th>\n",
       "      <th></th>\n",
       "      <th></th>\n",
       "      <th></th>\n",
       "    </tr>\n",
       "  </thead>\n",
       "  <tbody>\n",
       "    <tr>\n",
       "      <th>Bachelor's Degree</th>\n",
       "      <td>56.0</td>\n",
       "      <td>2.982143</td>\n",
       "      <td>1.381581</td>\n",
       "      <td>1.0</td>\n",
       "      <td>2.00</td>\n",
       "      <td>3.0</td>\n",
       "      <td>4.00</td>\n",
       "      <td>5.0</td>\n",
       "    </tr>\n",
       "    <tr>\n",
       "      <th>High School</th>\n",
       "      <td>12.0</td>\n",
       "      <td>1.500000</td>\n",
       "      <td>0.674200</td>\n",
       "      <td>1.0</td>\n",
       "      <td>1.00</td>\n",
       "      <td>1.0</td>\n",
       "      <td>2.00</td>\n",
       "      <td>3.0</td>\n",
       "    </tr>\n",
       "    <tr>\n",
       "      <th>Master's Degree</th>\n",
       "      <td>15.0</td>\n",
       "      <td>3.133333</td>\n",
       "      <td>1.726543</td>\n",
       "      <td>1.0</td>\n",
       "      <td>1.00</td>\n",
       "      <td>4.0</td>\n",
       "      <td>4.50</td>\n",
       "      <td>5.0</td>\n",
       "    </tr>\n",
       "    <tr>\n",
       "      <th>Some College</th>\n",
       "      <td>23.0</td>\n",
       "      <td>1.695652</td>\n",
       "      <td>0.822125</td>\n",
       "      <td>1.0</td>\n",
       "      <td>1.00</td>\n",
       "      <td>2.0</td>\n",
       "      <td>2.00</td>\n",
       "      <td>4.0</td>\n",
       "    </tr>\n",
       "    <tr>\n",
       "      <th>Trade School</th>\n",
       "      <td>2.0</td>\n",
       "      <td>1.500000</td>\n",
       "      <td>0.707107</td>\n",
       "      <td>1.0</td>\n",
       "      <td>1.25</td>\n",
       "      <td>1.5</td>\n",
       "      <td>1.75</td>\n",
       "      <td>2.0</td>\n",
       "    </tr>\n",
       "  </tbody>\n",
       "</table>\n",
       "</div>"
      ],
      "text/plain": [
       "                               count      mean       std  min   25%  50%  \\\n",
       "What is your education level?                                              \n",
       "Bachelor's Degree               56.0  2.982143  1.381581  1.0  2.00  3.0   \n",
       "High School                     12.0  1.500000  0.674200  1.0  1.00  1.0   \n",
       "Master's Degree                 15.0  3.133333  1.726543  1.0  1.00  4.0   \n",
       "Some College                    23.0  1.695652  0.822125  1.0  1.00  2.0   \n",
       "Trade School                     2.0  1.500000  0.707107  1.0  1.25  1.5   \n",
       "\n",
       "                                75%  max  \n",
       "What is your education level?             \n",
       "Bachelor's Degree              4.00  5.0  \n",
       "High School                    2.00  3.0  \n",
       "Master's Degree                4.50  5.0  \n",
       "Some College                   2.00  4.0  \n",
       "Trade School                   1.75  2.0  "
      ]
     },
     "metadata": {},
     "output_type": "display_data"
    },
    {
     "name": "stdout",
     "output_type": "stream",
     "text": [
      "p-value =  1.4958499812049331e-06\n",
      "u-value=  -2.854235271692773\n",
      "High Education:  [0.1159480073193433, 3.0140845070422535, 5.912221006765163]\n",
      "Low Education:  [0.10494752996570456, 1.6216216216216217, 3.1382957132775386]\n",
      "There is a Difference:  False\n",
      "\n",
      "========================================\n",
      "\n"
     ]
    }
   ],
   "source": [
    "# Education Cell\n",
    "# Compute the Mann-Whitney rank test on samples x and y\n",
    "# scipy.stats.mannwhitneyu(x, y, use_continuity=True, alternative=None)\n",
    "\n",
    "g = df.groupby('What is your education level?')\n",
    "\n",
    "df_lowedu = df[(df['What is your education level?'] == 'Trade School') |\n",
    "             (df['What is your education level?'] == 'Some High School') | \n",
    "             (df['What is your education level?'] == 'High School') |\n",
    "             (df['What is your education level?'] == 'Some College')].copy()\n",
    "\n",
    "df_highedu = df[(df['What is your education level?'] == \"Bachelor's Degree\") | \n",
    "             (df['What is your education level?'] == \"Master's Degree\") |\n",
    "             (df['What is your education level?'] == 'Ph.D. or higher')].copy()\n",
    "\n",
    "for q in q_list:\n",
    "    col_name = q\n",
    "    print(col_name)\n",
    "    print(\"High Education\")\n",
    "    df_highedu[col_name].hist()\n",
    "    plt.show()\n",
    "    df_highedu.boxplot(col_name)\n",
    "    plt.show()\n",
    "    print(\"Low Education\")\n",
    "    df_lowedu[col_name].hist()\n",
    "    plt.show()\n",
    "    df_lowedu.boxplot(col_name)\n",
    "    plt.show()\n",
    "    display(g[col_name].describe())\n",
    "    #Statistic test\n",
    "    u,p = mannwhitneyu(df_highedu[col_name], df_lowedu[col_name])\n",
    "    print('p-value = ', p)\n",
    "    print('u-value= ', t)\n",
    "    mu1 = df_highedu[col_name].mean()\n",
    "    std1 = df_highedu[col_name].std()\n",
    "    mu2 = df_lowedu[col_name].mean()\n",
    "    std2 = df_lowedu[col_name].std()\n",
    "    print(\"High Education: \", compute_interval95(mu1, std1))\n",
    "    print(\"Low Education: \", compute_interval95(mu2, std2))\n",
    "    print(\"There is a Difference: \", is_difference(compute_interval95(mu1, std1), compute_interval95(mu2, std2)))\n",
    "    print('\\n========================================\\n')"
   ]
  },
  {
   "cell_type": "code",
   "execution_count": 20,
   "metadata": {},
   "outputs": [
    {
     "name": "stdout",
     "output_type": "stream",
     "text": [
      "I would find it useful to have a filter that could change my race in videos.\n",
      "PD agree\n"
     ]
    },
    {
     "data": {
      "image/png": "[encoded data removed]",
      "text/plain": [
       "<Figure size 432x288 with 1 Axes>"
      ]
     },
     "metadata": {
      "needs_background": "light"
     },
     "output_type": "display_data"
    },
    {
     "data": {
      "image/png": "[encoded data removed]",
      "text/plain": [
       "<Figure size 432x288 with 1 Axes>"
      ]
     },
     "metadata": {
      "needs_background": "light"
     },
     "output_type": "display_data"
    },
    {
     "name": "stdout",
     "output_type": "stream",
     "text": [
      "PD disagree\n"
     ]
    },
    {
     "data": {
      "image/png": "[encoded data removed]",
      "text/plain": [
       "<Figure size 432x288 with 1 Axes>"
      ]
     },
     "metadata": {
      "needs_background": "light"
     },
     "output_type": "display_data"
    },
    {
     "data": {
      "image/png": "[encoded data removed]",
      "text/plain": [
       "<Figure size 432x288 with 1 Axes>"
      ]
     },
     "metadata": {
      "needs_background": "light"
     },
     "output_type": "display_data"
    },
    {
     "data": {
      "text/html": [
       "<div>\n",
       "<style scoped>\n",
       "    .dataframe tbody tr th:only-of-type {\n",
       "        vertical-align: middle;\n",
       "    }\n",
       "\n",
       "    .dataframe tbody tr th {\n",
       "        vertical-align: top;\n",
       "    }\n",
       "\n",
       "    .dataframe thead th {\n",
       "        text-align: right;\n",
       "    }\n",
       "</style>\n",
       "<table border=\"1\" class=\"dataframe\">\n",
       "  <thead>\n",
       "    <tr style=\"text-align: right;\">\n",
       "      <th></th>\n",
       "      <th>count</th>\n",
       "      <th>mean</th>\n",
       "      <th>std</th>\n",
       "      <th>min</th>\n",
       "      <th>25%</th>\n",
       "      <th>50%</th>\n",
       "      <th>75%</th>\n",
       "      <th>max</th>\n",
       "    </tr>\n",
       "    <tr>\n",
       "      <th>The speaker should have the option to remove the tremors from the video.</th>\n",
       "      <th></th>\n",
       "      <th></th>\n",
       "      <th></th>\n",
       "      <th></th>\n",
       "      <th></th>\n",
       "      <th></th>\n",
       "      <th></th>\n",
       "      <th></th>\n",
       "    </tr>\n",
       "  </thead>\n",
       "  <tbody>\n",
       "    <tr>\n",
       "      <th>1</th>\n",
       "      <td>3.0</td>\n",
       "      <td>1.000000</td>\n",
       "      <td>0.000000</td>\n",
       "      <td>1.0</td>\n",
       "      <td>1.0</td>\n",
       "      <td>1.0</td>\n",
       "      <td>1.0</td>\n",
       "      <td>1.0</td>\n",
       "    </tr>\n",
       "    <tr>\n",
       "      <th>2</th>\n",
       "      <td>12.0</td>\n",
       "      <td>2.000000</td>\n",
       "      <td>1.128152</td>\n",
       "      <td>1.0</td>\n",
       "      <td>1.0</td>\n",
       "      <td>2.0</td>\n",
       "      <td>2.0</td>\n",
       "      <td>5.0</td>\n",
       "    </tr>\n",
       "    <tr>\n",
       "      <th>3</th>\n",
       "      <td>19.0</td>\n",
       "      <td>2.052632</td>\n",
       "      <td>1.129094</td>\n",
       "      <td>1.0</td>\n",
       "      <td>1.0</td>\n",
       "      <td>2.0</td>\n",
       "      <td>3.0</td>\n",
       "      <td>4.0</td>\n",
       "    </tr>\n",
       "    <tr>\n",
       "      <th>4</th>\n",
       "      <td>44.0</td>\n",
       "      <td>2.840909</td>\n",
       "      <td>1.429639</td>\n",
       "      <td>1.0</td>\n",
       "      <td>1.0</td>\n",
       "      <td>3.5</td>\n",
       "      <td>4.0</td>\n",
       "      <td>5.0</td>\n",
       "    </tr>\n",
       "    <tr>\n",
       "      <th>5</th>\n",
       "      <td>30.0</td>\n",
       "      <td>2.866667</td>\n",
       "      <td>1.479360</td>\n",
       "      <td>1.0</td>\n",
       "      <td>2.0</td>\n",
       "      <td>2.5</td>\n",
       "      <td>4.0</td>\n",
       "      <td>5.0</td>\n",
       "    </tr>\n",
       "  </tbody>\n",
       "</table>\n",
       "</div>"
      ],
      "text/plain": [
       "                                                    count      mean       std  \\\n",
       "The speaker should have the option to remove th...                              \n",
       "1                                                     3.0  1.000000  0.000000   \n",
       "2                                                    12.0  2.000000  1.128152   \n",
       "3                                                    19.0  2.052632  1.129094   \n",
       "4                                                    44.0  2.840909  1.429639   \n",
       "5                                                    30.0  2.866667  1.479360   \n",
       "\n",
       "                                                    min  25%  50%  75%  max  \n",
       "The speaker should have the option to remove th...                           \n",
       "1                                                   1.0  1.0  1.0  1.0  1.0  \n",
       "2                                                   1.0  1.0  2.0  2.0  5.0  \n",
       "3                                                   1.0  1.0  2.0  3.0  4.0  \n",
       "4                                                   1.0  1.0  3.5  4.0  5.0  \n",
       "5                                                   1.0  2.0  2.5  4.0  5.0  "
      ]
     },
     "metadata": {},
     "output_type": "display_data"
    },
    {
     "name": "stdout",
     "output_type": "stream",
     "text": [
      "p-value =  0.007088850968741378\n",
      "u-value=  -2.854235271692773\n",
      "PD agree:  [-0.028573161214000997, 2.8513513513513513, 5.731275863916704]\n",
      "PD disagree:  [-0.36465107712866396, 1.8, 3.9646510771286643]\n",
      "There is a Difference:  False\n",
      "\n",
      "========================================\n",
      "\n",
      "I would want a viewer to have the option to change my race in videos.\n",
      "PD agree\n"
     ]
    },
    {
     "data": {
      "image/png": "[encoded data removed]",
      "text/plain": [
       "<Figure size 432x288 with 1 Axes>"
      ]
     },
     "metadata": {
      "needs_background": "light"
     },
     "output_type": "display_data"
    },
    {
     "data": {
      "image/png": "[encoded data removed]",
      "text/plain": [
       "<Figure size 432x288 with 1 Axes>"
      ]
     },
     "metadata": {
      "needs_background": "light"
     },
     "output_type": "display_data"
    },
    {
     "name": "stdout",
     "output_type": "stream",
     "text": [
      "PD disagree\n"
     ]
    },
    {
     "data": {
      "image/png": "[encoded data removed]",
      "text/plain": [
       "<Figure size 432x288 with 1 Axes>"
      ]
     },
     "metadata": {
      "needs_background": "light"
     },
     "output_type": "display_data"
    },
    {
     "data": {
      "image/png": "[encoded data removed]",
      "text/plain": [
       "<Figure size 432x288 with 1 Axes>"
      ]
     },
     "metadata": {
      "needs_background": "light"
     },
     "output_type": "display_data"
    },
    {
     "data": {
      "text/html": [
       "<div>\n",
       "<style scoped>\n",
       "    .dataframe tbody tr th:only-of-type {\n",
       "        vertical-align: middle;\n",
       "    }\n",
       "\n",
       "    .dataframe tbody tr th {\n",
       "        vertical-align: top;\n",
       "    }\n",
       "\n",
       "    .dataframe thead th {\n",
       "        text-align: right;\n",
       "    }\n",
       "</style>\n",
       "<table border=\"1\" class=\"dataframe\">\n",
       "  <thead>\n",
       "    <tr style=\"text-align: right;\">\n",
       "      <th></th>\n",
       "      <th>count</th>\n",
       "      <th>mean</th>\n",
       "      <th>std</th>\n",
       "      <th>min</th>\n",
       "      <th>25%</th>\n",
       "      <th>50%</th>\n",
       "      <th>75%</th>\n",
       "      <th>max</th>\n",
       "    </tr>\n",
       "    <tr>\n",
       "      <th>The speaker should have the option to remove the tremors from the video.</th>\n",
       "      <th></th>\n",
       "      <th></th>\n",
       "      <th></th>\n",
       "      <th></th>\n",
       "      <th></th>\n",
       "      <th></th>\n",
       "      <th></th>\n",
       "      <th></th>\n",
       "    </tr>\n",
       "  </thead>\n",
       "  <tbody>\n",
       "    <tr>\n",
       "      <th>1</th>\n",
       "      <td>3.0</td>\n",
       "      <td>1.333333</td>\n",
       "      <td>0.577350</td>\n",
       "      <td>1.0</td>\n",
       "      <td>1.00</td>\n",
       "      <td>1.0</td>\n",
       "      <td>1.50</td>\n",
       "      <td>2.0</td>\n",
       "    </tr>\n",
       "    <tr>\n",
       "      <th>2</th>\n",
       "      <td>12.0</td>\n",
       "      <td>2.083333</td>\n",
       "      <td>1.083625</td>\n",
       "      <td>1.0</td>\n",
       "      <td>1.00</td>\n",
       "      <td>2.0</td>\n",
       "      <td>2.25</td>\n",
       "      <td>4.0</td>\n",
       "    </tr>\n",
       "    <tr>\n",
       "      <th>3</th>\n",
       "      <td>19.0</td>\n",
       "      <td>2.105263</td>\n",
       "      <td>1.100239</td>\n",
       "      <td>1.0</td>\n",
       "      <td>1.00</td>\n",
       "      <td>2.0</td>\n",
       "      <td>3.00</td>\n",
       "      <td>4.0</td>\n",
       "    </tr>\n",
       "    <tr>\n",
       "      <th>4</th>\n",
       "      <td>44.0</td>\n",
       "      <td>2.886364</td>\n",
       "      <td>1.401260</td>\n",
       "      <td>1.0</td>\n",
       "      <td>1.00</td>\n",
       "      <td>3.5</td>\n",
       "      <td>4.00</td>\n",
       "      <td>5.0</td>\n",
       "    </tr>\n",
       "    <tr>\n",
       "      <th>5</th>\n",
       "      <td>30.0</td>\n",
       "      <td>2.933333</td>\n",
       "      <td>1.595972</td>\n",
       "      <td>1.0</td>\n",
       "      <td>1.25</td>\n",
       "      <td>3.0</td>\n",
       "      <td>4.75</td>\n",
       "      <td>5.0</td>\n",
       "    </tr>\n",
       "  </tbody>\n",
       "</table>\n",
       "</div>"
      ],
      "text/plain": [
       "                                                    count      mean       std  \\\n",
       "The speaker should have the option to remove th...                              \n",
       "1                                                     3.0  1.333333  0.577350   \n",
       "2                                                    12.0  2.083333  1.083625   \n",
       "3                                                    19.0  2.105263  1.100239   \n",
       "4                                                    44.0  2.886364  1.401260   \n",
       "5                                                    30.0  2.933333  1.595972   \n",
       "\n",
       "                                                    min   25%  50%   75%  max  \n",
       "The speaker should have the option to remove th...                             \n",
       "1                                                   1.0  1.00  1.0  1.50  2.0  \n",
       "2                                                   1.0  1.00  2.0  2.25  4.0  \n",
       "3                                                   1.0  1.00  2.0  3.00  4.0  \n",
       "4                                                   1.0  1.00  3.5  4.00  5.0  \n",
       "5                                                   1.0  1.25  3.0  4.75  5.0  "
      ]
     },
     "metadata": {},
     "output_type": "display_data"
    },
    {
     "name": "stdout",
     "output_type": "stream",
     "text": [
      "p-value =  0.01212896985303197\n",
      "u-value=  -2.854235271692773\n",
      "PD agree:  [-0.040107437704028026, 2.9054054054054053, 5.850918248514839]\n",
      "PD disagree:  [-0.13225778464395543, 1.9333333333333333, 3.9989244513106224]\n",
      "There is a Difference:  False\n",
      "\n",
      "========================================\n",
      "\n",
      "I would find it useful to have a filter that could change my gender in videos.\n",
      "PD agree\n"
     ]
    },
    {
     "data": {
      "image/png": "[encoded data removed]",
      "text/plain": [
       "<Figure size 432x288 with 1 Axes>"
      ]
     },
     "metadata": {
      "needs_background": "light"
     },
     "output_type": "display_data"
    },
    {
     "data": {
      "image/png": "[encoded data removed]",
      "text/plain": [
       "<Figure size 432x288 with 1 Axes>"
      ]
     },
     "metadata": {
      "needs_background": "light"
     },
     "output_type": "display_data"
    },
    {
     "name": "stdout",
     "output_type": "stream",
     "text": [
      "PD disagree\n"
     ]
    },
    {
     "data": {
      "image/png": "[encoded data removed]",
      "text/plain": [
       "<Figure size 432x288 with 1 Axes>"
      ]
     },
     "metadata": {
      "needs_background": "light"
     },
     "output_type": "display_data"
    },
    {
     "data": {
      "image/png": "[encoded data removed]",
      "text/plain": [
       "<Figure size 432x288 with 1 Axes>"
      ]
     },
     "metadata": {
      "needs_background": "light"
     },
     "output_type": "display_data"
    },
    {
     "data": {
      "text/html": [
       "<div>\n",
       "<style scoped>\n",
       "    .dataframe tbody tr th:only-of-type {\n",
       "        vertical-align: middle;\n",
       "    }\n",
       "\n",
       "    .dataframe tbody tr th {\n",
       "        vertical-align: top;\n",
       "    }\n",
       "\n",
       "    .dataframe thead th {\n",
       "        text-align: right;\n",
       "    }\n",
       "</style>\n",
       "<table border=\"1\" class=\"dataframe\">\n",
       "  <thead>\n",
       "    <tr style=\"text-align: right;\">\n",
       "      <th></th>\n",
       "      <th>count</th>\n",
       "      <th>mean</th>\n",
       "      <th>std</th>\n",
       "      <th>min</th>\n",
       "      <th>25%</th>\n",
       "      <th>50%</th>\n",
       "      <th>75%</th>\n",
       "      <th>max</th>\n",
       "    </tr>\n",
       "    <tr>\n",
       "      <th>The speaker should have the option to remove the tremors from the video.</th>\n",
       "      <th></th>\n",
       "      <th></th>\n",
       "      <th></th>\n",
       "      <th></th>\n",
       "      <th></th>\n",
       "      <th></th>\n",
       "      <th></th>\n",
       "      <th></th>\n",
       "    </tr>\n",
       "  </thead>\n",
       "  <tbody>\n",
       "    <tr>\n",
       "      <th>1</th>\n",
       "      <td>3.0</td>\n",
       "      <td>1.333333</td>\n",
       "      <td>0.577350</td>\n",
       "      <td>1.0</td>\n",
       "      <td>1.00</td>\n",
       "      <td>1.0</td>\n",
       "      <td>1.5</td>\n",
       "      <td>2.0</td>\n",
       "    </tr>\n",
       "    <tr>\n",
       "      <th>2</th>\n",
       "      <td>12.0</td>\n",
       "      <td>2.166667</td>\n",
       "      <td>1.193416</td>\n",
       "      <td>1.0</td>\n",
       "      <td>1.75</td>\n",
       "      <td>2.0</td>\n",
       "      <td>2.0</td>\n",
       "      <td>5.0</td>\n",
       "    </tr>\n",
       "    <tr>\n",
       "      <th>3</th>\n",
       "      <td>19.0</td>\n",
       "      <td>2.315789</td>\n",
       "      <td>1.249561</td>\n",
       "      <td>1.0</td>\n",
       "      <td>1.00</td>\n",
       "      <td>2.0</td>\n",
       "      <td>3.0</td>\n",
       "      <td>5.0</td>\n",
       "    </tr>\n",
       "    <tr>\n",
       "      <th>4</th>\n",
       "      <td>44.0</td>\n",
       "      <td>2.909091</td>\n",
       "      <td>1.326267</td>\n",
       "      <td>1.0</td>\n",
       "      <td>2.00</td>\n",
       "      <td>3.0</td>\n",
       "      <td>4.0</td>\n",
       "      <td>5.0</td>\n",
       "    </tr>\n",
       "    <tr>\n",
       "      <th>5</th>\n",
       "      <td>30.0</td>\n",
       "      <td>2.933333</td>\n",
       "      <td>1.484014</td>\n",
       "      <td>1.0</td>\n",
       "      <td>2.00</td>\n",
       "      <td>2.5</td>\n",
       "      <td>4.0</td>\n",
       "      <td>5.0</td>\n",
       "    </tr>\n",
       "  </tbody>\n",
       "</table>\n",
       "</div>"
      ],
      "text/plain": [
       "                                                    count      mean       std  \\\n",
       "The speaker should have the option to remove th...                              \n",
       "1                                                     3.0  1.333333  0.577350   \n",
       "2                                                    12.0  2.166667  1.193416   \n",
       "3                                                    19.0  2.315789  1.249561   \n",
       "4                                                    44.0  2.909091  1.326267   \n",
       "5                                                    30.0  2.933333  1.484014   \n",
       "\n",
       "                                                    min   25%  50%  75%  max  \n",
       "The speaker should have the option to remove th...                            \n",
       "1                                                   1.0  1.00  1.0  1.5  2.0  \n",
       "2                                                   1.0  1.75  2.0  2.0  5.0  \n",
       "3                                                   1.0  1.00  2.0  3.0  5.0  \n",
       "4                                                   1.0  2.00  3.0  4.0  5.0  \n",
       "5                                                   1.0  2.00  2.5  4.0  5.0  "
      ]
     },
     "metadata": {},
     "output_type": "display_data"
    },
    {
     "name": "stdout",
     "output_type": "stream",
     "text": [
      "p-value =  0.011986735499354806\n",
      "u-value=  -2.854235271692773\n",
      "PD agree:  [0.15403626626758893, 2.918918918918919, 5.683801571570249]\n",
      "PD disagree:  [-0.2677868380553634, 2.0, 4.267786838055363]\n",
      "There is a Difference:  False\n",
      "\n",
      "========================================\n",
      "\n",
      "I would want a viewer to have the option to change my gender in videos.\n",
      "PD agree\n"
     ]
    },
    {
     "data": {
      "image/png": "[encoded data removed]",
      "text/plain": [
       "<Figure size 432x288 with 1 Axes>"
      ]
     },
     "metadata": {
      "needs_background": "light"
     },
     "output_type": "display_data"
    },
    {
     "data": {
      "image/png": "[encoded data removed]",
      "text/plain": [
       "<Figure size 432x288 with 1 Axes>"
      ]
     },
     "metadata": {
      "needs_background": "light"
     },
     "output_type": "display_data"
    },
    {
     "name": "stdout",
     "output_type": "stream",
     "text": [
      "PD disagree\n"
     ]
    },
    {
     "data": {
      "image/png": "[encoded data removed]",
      "text/plain": [
       "<Figure size 432x288 with 1 Axes>"
      ]
     },
     "metadata": {
      "needs_background": "light"
     },
     "output_type": "display_data"
    },
    {
     "data": {
      "image/png": "[encoded data removed]",
      "text/plain": [
       "<Figure size 432x288 with 1 Axes>"
      ]
     },
     "metadata": {
      "needs_background": "light"
     },
     "output_type": "display_data"
    },
    {
     "data": {
      "text/html": [
       "<div>\n",
       "<style scoped>\n",
       "    .dataframe tbody tr th:only-of-type {\n",
       "        vertical-align: middle;\n",
       "    }\n",
       "\n",
       "    .dataframe tbody tr th {\n",
       "        vertical-align: top;\n",
       "    }\n",
       "\n",
       "    .dataframe thead th {\n",
       "        text-align: right;\n",
       "    }\n",
       "</style>\n",
       "<table border=\"1\" class=\"dataframe\">\n",
       "  <thead>\n",
       "    <tr style=\"text-align: right;\">\n",
       "      <th></th>\n",
       "      <th>count</th>\n",
       "      <th>mean</th>\n",
       "      <th>std</th>\n",
       "      <th>min</th>\n",
       "      <th>25%</th>\n",
       "      <th>50%</th>\n",
       "      <th>75%</th>\n",
       "      <th>max</th>\n",
       "    </tr>\n",
       "    <tr>\n",
       "      <th>The speaker should have the option to remove the tremors from the video.</th>\n",
       "      <th></th>\n",
       "      <th></th>\n",
       "      <th></th>\n",
       "      <th></th>\n",
       "      <th></th>\n",
       "      <th></th>\n",
       "      <th></th>\n",
       "      <th></th>\n",
       "    </tr>\n",
       "  </thead>\n",
       "  <tbody>\n",
       "    <tr>\n",
       "      <th>1</th>\n",
       "      <td>3.0</td>\n",
       "      <td>1.000000</td>\n",
       "      <td>0.000000</td>\n",
       "      <td>1.0</td>\n",
       "      <td>1.00</td>\n",
       "      <td>1.0</td>\n",
       "      <td>1.0</td>\n",
       "      <td>1.0</td>\n",
       "    </tr>\n",
       "    <tr>\n",
       "      <th>2</th>\n",
       "      <td>12.0</td>\n",
       "      <td>2.250000</td>\n",
       "      <td>1.138180</td>\n",
       "      <td>1.0</td>\n",
       "      <td>1.75</td>\n",
       "      <td>2.0</td>\n",
       "      <td>2.5</td>\n",
       "      <td>4.0</td>\n",
       "    </tr>\n",
       "    <tr>\n",
       "      <th>3</th>\n",
       "      <td>19.0</td>\n",
       "      <td>1.894737</td>\n",
       "      <td>0.875261</td>\n",
       "      <td>1.0</td>\n",
       "      <td>1.00</td>\n",
       "      <td>2.0</td>\n",
       "      <td>2.0</td>\n",
       "      <td>4.0</td>\n",
       "    </tr>\n",
       "    <tr>\n",
       "      <th>4</th>\n",
       "      <td>44.0</td>\n",
       "      <td>2.840909</td>\n",
       "      <td>1.477635</td>\n",
       "      <td>1.0</td>\n",
       "      <td>1.00</td>\n",
       "      <td>3.0</td>\n",
       "      <td>4.0</td>\n",
       "      <td>5.0</td>\n",
       "    </tr>\n",
       "    <tr>\n",
       "      <th>5</th>\n",
       "      <td>30.0</td>\n",
       "      <td>2.766667</td>\n",
       "      <td>1.568732</td>\n",
       "      <td>1.0</td>\n",
       "      <td>1.00</td>\n",
       "      <td>2.5</td>\n",
       "      <td>4.0</td>\n",
       "      <td>5.0</td>\n",
       "    </tr>\n",
       "  </tbody>\n",
       "</table>\n",
       "</div>"
      ],
      "text/plain": [
       "                                                    count      mean       std  \\\n",
       "The speaker should have the option to remove th...                              \n",
       "1                                                     3.0  1.000000  0.000000   \n",
       "2                                                    12.0  2.250000  1.138180   \n",
       "3                                                    19.0  1.894737  0.875261   \n",
       "4                                                    44.0  2.840909  1.477635   \n",
       "5                                                    30.0  2.766667  1.568732   \n",
       "\n",
       "                                                    min   25%  50%  75%  max  \n",
       "The speaker should have the option to remove th...                            \n",
       "1                                                   1.0  1.00  1.0  1.0  1.0  \n",
       "2                                                   1.0  1.75  2.0  2.5  4.0  \n",
       "3                                                   1.0  1.00  2.0  2.0  4.0  \n",
       "4                                                   1.0  1.00  3.0  4.0  5.0  \n",
       "5                                                   1.0  1.00  2.5  4.0  5.0  "
      ]
     },
     "metadata": {},
     "output_type": "display_data"
    },
    {
     "name": "stdout",
     "output_type": "stream",
     "text": [
      "p-value =  0.03532209101411419\n",
      "u-value=  -2.854235271692773\n",
      "PD agree:  [-0.19923038811855376, 2.810810810810811, 5.820852009740175]\n",
      "PD disagree:  [-0.2677868380553634, 2.0, 4.267786838055363]\n",
      "There is a Difference:  False\n",
      "\n",
      "========================================\n",
      "\n",
      "The speaker should have the option to remove the tremors from the video.\n",
      "PD agree\n"
     ]
    },
    {
     "data": {
      "image/png": "[encoded data removed]",
      "text/plain": [
       "<Figure size 432x288 with 1 Axes>"
      ]
     },
     "metadata": {
      "needs_background": "light"
     },
     "output_type": "display_data"
    },
    {
     "data": {
      "image/png": "[encoded data removed]",
      "text/plain": [
       "<Figure size 432x288 with 1 Axes>"
      ]
     },
     "metadata": {
      "needs_background": "light"
     },
     "output_type": "display_data"
    },
    {
     "name": "stdout",
     "output_type": "stream",
     "text": [
      "PD disagree\n"
     ]
    },
    {
     "data": {
      "image/png": "[encoded data removed]",
      "text/plain": [
       "<Figure size 432x288 with 1 Axes>"
      ]
     },
     "metadata": {
      "needs_background": "light"
     },
     "output_type": "display_data"
    },
    {
     "data": {
      "image/png": "[encoded data removed]",
      "text/plain": [
       "<Figure size 432x288 with 1 Axes>"
      ]
     },
     "metadata": {
      "needs_background": "light"
     },
     "output_type": "display_data"
    },
    {
     "data": {
      "text/html": [
       "<div>\n",
       "<style scoped>\n",
       "    .dataframe tbody tr th:only-of-type {\n",
       "        vertical-align: middle;\n",
       "    }\n",
       "\n",
       "    .dataframe tbody tr th {\n",
       "        vertical-align: top;\n",
       "    }\n",
       "\n",
       "    .dataframe thead th {\n",
       "        text-align: right;\n",
       "    }\n",
       "</style>\n",
       "<table border=\"1\" class=\"dataframe\">\n",
       "  <thead>\n",
       "    <tr style=\"text-align: right;\">\n",
       "      <th></th>\n",
       "      <th>count</th>\n",
       "      <th>mean</th>\n",
       "      <th>std</th>\n",
       "      <th>min</th>\n",
       "      <th>25%</th>\n",
       "      <th>50%</th>\n",
       "      <th>75%</th>\n",
       "      <th>max</th>\n",
       "    </tr>\n",
       "    <tr>\n",
       "      <th>The speaker should have the option to remove the tremors from the video.</th>\n",
       "      <th></th>\n",
       "      <th></th>\n",
       "      <th></th>\n",
       "      <th></th>\n",
       "      <th></th>\n",
       "      <th></th>\n",
       "      <th></th>\n",
       "      <th></th>\n",
       "    </tr>\n",
       "  </thead>\n",
       "  <tbody>\n",
       "    <tr>\n",
       "      <th>1</th>\n",
       "      <td>3.0</td>\n",
       "      <td>1.0</td>\n",
       "      <td>0.0</td>\n",
       "      <td>1.0</td>\n",
       "      <td>1.0</td>\n",
       "      <td>1.0</td>\n",
       "      <td>1.0</td>\n",
       "      <td>1.0</td>\n",
       "    </tr>\n",
       "    <tr>\n",
       "      <th>2</th>\n",
       "      <td>12.0</td>\n",
       "      <td>2.0</td>\n",
       "      <td>0.0</td>\n",
       "      <td>2.0</td>\n",
       "      <td>2.0</td>\n",
       "      <td>2.0</td>\n",
       "      <td>2.0</td>\n",
       "      <td>2.0</td>\n",
       "    </tr>\n",
       "    <tr>\n",
       "      <th>3</th>\n",
       "      <td>19.0</td>\n",
       "      <td>3.0</td>\n",
       "      <td>0.0</td>\n",
       "      <td>3.0</td>\n",
       "      <td>3.0</td>\n",
       "      <td>3.0</td>\n",
       "      <td>3.0</td>\n",
       "      <td>3.0</td>\n",
       "    </tr>\n",
       "    <tr>\n",
       "      <th>4</th>\n",
       "      <td>44.0</td>\n",
       "      <td>4.0</td>\n",
       "      <td>0.0</td>\n",
       "      <td>4.0</td>\n",
       "      <td>4.0</td>\n",
       "      <td>4.0</td>\n",
       "      <td>4.0</td>\n",
       "      <td>4.0</td>\n",
       "    </tr>\n",
       "    <tr>\n",
       "      <th>5</th>\n",
       "      <td>30.0</td>\n",
       "      <td>5.0</td>\n",
       "      <td>0.0</td>\n",
       "      <td>5.0</td>\n",
       "      <td>5.0</td>\n",
       "      <td>5.0</td>\n",
       "      <td>5.0</td>\n",
       "      <td>5.0</td>\n",
       "    </tr>\n",
       "  </tbody>\n",
       "</table>\n",
       "</div>"
      ],
      "text/plain": [
       "                                                    count  mean  std  min  \\\n",
       "The speaker should have the option to remove th...                          \n",
       "1                                                     3.0   1.0  0.0  1.0   \n",
       "2                                                    12.0   2.0  0.0  2.0   \n",
       "3                                                    19.0   3.0  0.0  3.0   \n",
       "4                                                    44.0   4.0  0.0  4.0   \n",
       "5                                                    30.0   5.0  0.0  5.0   \n",
       "\n",
       "                                                    25%  50%  75%  max  \n",
       "The speaker should have the option to remove th...                      \n",
       "1                                                   1.0  1.0  1.0  1.0  \n",
       "2                                                   2.0  2.0  2.0  2.0  \n",
       "3                                                   3.0  3.0  3.0  3.0  \n",
       "4                                                   4.0  4.0  4.0  4.0  \n",
       "5                                                   5.0  5.0  5.0  5.0  "
      ]
     },
     "metadata": {},
     "output_type": "display_data"
    },
    {
     "name": "stdout",
     "output_type": "stream",
     "text": [
      "p-value =  1.602244371402047e-11\n",
      "u-value=  -2.854235271692773\n",
      "PD agree:  [3.4167620056214787, 4.405405405405405, 5.394048805189332]\n",
      "PD disagree:  [0.9719213287891749, 1.8, 2.628078671210825]\n",
      "There is a Difference:  True\n",
      "\n",
      "========================================\n",
      "\n"
     ]
    }
   ],
   "source": [
    "# split off agree vs disagree with PD filter \n",
    "# Compute the Mann-Whitney rank test on samples x and y\n",
    "# scipy.stats.mannwhitneyu(x, y, use_continuity=True, alternative=None)\n",
    "\n",
    "g = df.groupby('The speaker should have the option to remove the tremors from the video.')\n",
    "\n",
    "df_pd_agree = df[(df['The speaker should have the option to remove the tremors from the video.'] == 4) |\n",
    "                (df['The speaker should have the option to remove the tremors from the video.'] == 5)].copy()\n",
    "df_pd_disagree = df[(df['The speaker should have the option to remove the tremors from the video.'] == 1) |\n",
    "                (df['The speaker should have the option to remove the tremors from the video.'] == 2)].copy()\n",
    "\n",
    "for q in q_list:\n",
    "    col_name = q\n",
    "    print(col_name)\n",
    "    print(\"PD agree\")\n",
    "    df_pd_agree[col_name].hist()\n",
    "    plt.show()\n",
    "    df_pd_agree.boxplot(col_name)\n",
    "    plt.show()\n",
    "    print(\"PD disagree\")\n",
    "    df_pd_disagree[col_name].hist()\n",
    "    plt.show()\n",
    "    df_pd_disagree.boxplot(col_name)\n",
    "    plt.show()\n",
    "    display(g[col_name].describe())\n",
    "    #Statistic test\n",
    "    u,p = mannwhitneyu(df_pd_agree[col_name], df_pd_disagree[col_name])\n",
    "    print('p-value = ', p)\n",
    "    print('u-value= ', t)\n",
    "    mu1 = df_pd_agree[col_name].mean()\n",
    "    std1 = df_pd_agree[col_name].std()\n",
    "    mu2 = df_pd_disagree[col_name].mean()\n",
    "    std2 = df_pd_disagree[col_name].std()\n",
    "    print(\"PD agree: \", compute_interval95(mu1, std1))\n",
    "    print(\"PD disagree: \", compute_interval95(mu2, std2))\n",
    "    print(\"There is a Difference: \", is_difference(compute_interval95(mu1, std1), compute_interval95(mu2, std2)))\n",
    "    print('\\n========================================\\n')"
   ]
  },
  {
   "cell_type": "code",
   "execution_count": null,
   "metadata": {},
   "outputs": [],
   "source": []
  }
 ],
 "metadata": {
  "kernelspec": {
   "display_name": "Python 3",
   "language": "python",
   "name": "python3"
  },
  "language_info": {
   "codemirror_mode": {
    "name": "ipython",
    "version": 3
   },
   "file_extension": ".py",
   "mimetype": "text/x-python",
   "name": "python",
   "nbconvert_exporter": "python",
   "pygments_lexer": "ipython3",
   "version": "3.8.3"
  }
 },
 "nbformat": 4,
 "nbformat_minor": 4
}
