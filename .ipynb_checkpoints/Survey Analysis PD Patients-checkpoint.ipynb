{
 "cells": [
  {
   "cell_type": "code",
   "execution_count": 1,
   "metadata": {},
   "outputs": [
    {
     "data": {
      "text/plain": [
       "'PROGRAM LOGIC\\n-Merge into one dataframe\\n-Stats analysis\\n'"
      ]
     },
     "execution_count": 1,
     "metadata": {},
     "output_type": "execute_result"
    }
   ],
   "source": [
    "'''PROGRAM LOGIC\n",
    "-Merge into one dataframe\n",
    "-Stats analysis\n",
    "'''"
   ]
  },
  {
   "cell_type": "code",
   "execution_count": 1,
   "metadata": {},
   "outputs": [],
   "source": [
    "import numpy as np\n",
    "import pandas as pd\n",
    "import matplotlib.pyplot as plt\n",
    "from scipy.stats import mannwhitneyu\n",
    "from statsmodels.stats.proportion import proportions_ztest"
   ]
  },
  {
   "cell_type": "code",
   "execution_count": 2,
   "metadata": {},
   "outputs": [],
   "source": [
    "df_rc = pd.read_csv('pd_patients_redcap.csv')"
   ]
  },
  {
   "cell_type": "code",
   "execution_count": 3,
   "metadata": {},
   "outputs": [],
   "source": [
    "df_g = pd.read_csv('pd_patients_google.csv')"
   ]
  },
  {
   "cell_type": "code",
   "execution_count": 4,
   "metadata": {},
   "outputs": [
    {
     "data": {
      "text/html": [
       "<div>\n",
       "<style scoped>\n",
       "    .dataframe tbody tr th:only-of-type {\n",
       "        vertical-align: middle;\n",
       "    }\n",
       "\n",
       "    .dataframe tbody tr th {\n",
       "        vertical-align: top;\n",
       "    }\n",
       "\n",
       "    .dataframe thead th {\n",
       "        text-align: right;\n",
       "    }\n",
       "</style>\n",
       "<table border=\"1\" class=\"dataframe\">\n",
       "  <thead>\n",
       "    <tr style=\"text-align: right;\">\n",
       "      <th></th>\n",
       "      <th>Record ID</th>\n",
       "      <th>What is your age?</th>\n",
       "      <th>What is your current employment status?</th>\n",
       "      <th>If you are retired, what was your last job?</th>\n",
       "      <th>What is your job/profession?</th>\n",
       "      <th>What is your gender?&amp;nbsp;</th>\n",
       "      <th>Are you of Hispanic, Latino/a, or Spanish origin?</th>\n",
       "      <th>What is your race? (Check all that apply)  (choice=White)</th>\n",
       "      <th>What is your race? (Check all that apply)  (choice=Black or African American)</th>\n",
       "      <th>What is your race? (Check all that apply)  (choice=American Indian or Alaska Native)</th>\n",
       "      <th>...</th>\n",
       "      <th>How long have you been diagnosed with Parkinson's Disease?</th>\n",
       "      <th>How many people do you personally know with Parkinson's Disease?</th>\n",
       "      <th>How often do you make video calls or post videos online?</th>\n",
       "      <th>I would like to have the option to remove tremors from videos of myself.</th>\n",
       "      <th>I would like for viewers to have the option to remove tremors from a video of myself.</th>\n",
       "      <th>My tremors affect my level of confidence.</th>\n",
       "      <th>I feel like my tremors cause others to perceive me as less competent.</th>\n",
       "      <th>Would you like to be contacted in the future for a follow-up interview or other research projects?</th>\n",
       "      <th>What is your email? (optional)</th>\n",
       "      <th>Complete?</th>\n",
       "    </tr>\n",
       "  </thead>\n",
       "  <tbody>\n",
       "  </tbody>\n",
       "</table>\n",
       "<p>0 rows × 26 columns</p>\n",
       "</div>"
      ],
      "text/plain": [
       "Empty DataFrame\n",
       "Columns: [Record ID, What is your age?, What is your current employment status?, If you are retired, what was your last job? , What is your job/profession? , What is your gender?&nbsp;, Are you of Hispanic, Latino/a, or Spanish origin?, What is your race? (Check all that apply)  (choice=White), What is your race? (Check all that apply)  (choice=Black or African American), What is your race? (Check all that apply)  (choice=American Indian or Alaska Native), What is your race? (Check all that apply)  (choice=Asian), What is your race? (Check all that apply)  (choice=Native Hawaiian or Pacific Islander), What is your race? (Check all that apply)  (choice=Other), What is the highest level of education you have obtained?, Are you part of a Parkinson's disease support group?, Have you taken on leadership or advocacy roles within the Parkinson's Disease community?, How long have you been diagnosed with Parkinson's Disease?, How many people do you personally know with Parkinson's Disease?, How often do you make video calls or post videos online?, I would like to have the option to remove tremors from videos of myself., I would like for viewers to have the option to remove tremors from a video of myself., My tremors affect my level of confidence. , I feel like my tremors cause others to perceive me as less competent. , Would you like to be contacted in the future for a follow-up interview or other research projects?, What is your email? (optional), Complete?]\n",
       "Index: []\n",
       "\n",
       "[0 rows x 26 columns]"
      ]
     },
     "metadata": {},
     "output_type": "display_data"
    },
    {
     "data": {
      "text/html": [
       "<div>\n",
       "<style scoped>\n",
       "    .dataframe tbody tr th:only-of-type {\n",
       "        vertical-align: middle;\n",
       "    }\n",
       "\n",
       "    .dataframe tbody tr th {\n",
       "        vertical-align: top;\n",
       "    }\n",
       "\n",
       "    .dataframe thead th {\n",
       "        text-align: right;\n",
       "    }\n",
       "</style>\n",
       "<table border=\"1\" class=\"dataframe\">\n",
       "  <thead>\n",
       "    <tr style=\"text-align: right;\">\n",
       "      <th></th>\n",
       "      <th>Timestamp</th>\n",
       "      <th>Username</th>\n",
       "      <th>What is your age?</th>\n",
       "      <th>What is your current employment status?</th>\n",
       "      <th>If you are retired, what was your last job?</th>\n",
       "      <th>What is your job/profession?</th>\n",
       "      <th>What is your gender?</th>\n",
       "      <th>Are you of Hispanic, Latino/a, or Spanish origin?</th>\n",
       "      <th>What is your race? (Check all that apply)</th>\n",
       "      <th>What the highest level of education you have obtained?</th>\n",
       "      <th>...</th>\n",
       "      <th>How many people do you personally know with Parkinson’s Disease?</th>\n",
       "      <th>How often do you make video calls or post videos online?</th>\n",
       "      <th>I would like to have the option to remove tremors from videos of myself.</th>\n",
       "      <th>I would like for viewers to have the option to remove tremors from a video of myself.</th>\n",
       "      <th>My tremors affect my level of confidence.</th>\n",
       "      <th>I feel like my tremors cause others to perceive me as less competent.</th>\n",
       "      <th>What is your email? (optional)</th>\n",
       "      <th>Would you like to be contacted in the future for a follow-up interview or other research projects?</th>\n",
       "      <th>Unnamed: 21</th>\n",
       "      <th>Unnamed: 22</th>\n",
       "    </tr>\n",
       "  </thead>\n",
       "  <tbody>\n",
       "  </tbody>\n",
       "</table>\n",
       "<p>0 rows × 23 columns</p>\n",
       "</div>"
      ],
      "text/plain": [
       "Empty DataFrame\n",
       "Columns: [Timestamp, Username, What is your age?, What is your current employment status?, If you are retired, what was your last job? , What is your job/profession? , What is your gender?, Are you of Hispanic, Latino/a, or Spanish origin?, What is your race? (Check all that apply), What the highest level of education you have obtained?, Are you part of a Parkinson's Disease support group?, Have you taken on leadership or advocacy roles within the Parkinson's Disease community?, How long have you been diagnosed with Parkinson's Disease?, How many people do you personally know with Parkinson’s Disease?, How often do you make video calls or post videos online?, I would like to have the option to remove tremors from videos of myself., I would like for viewers to have the option to remove tremors from a video of myself., My tremors affect my level of confidence. , I feel like my tremors cause others to perceive me as less competent. , What is your email? (optional), Would you like to be contacted in the future for a follow-up interview or other research projects?, Unnamed: 21, Unnamed: 22]\n",
       "Index: []\n",
       "\n",
       "[0 rows x 23 columns]"
      ]
     },
     "metadata": {},
     "output_type": "display_data"
    },
    {
     "name": "stdout",
     "output_type": "stream",
     "text": [
      "101 76\n"
     ]
    },
    {
     "data": {
      "text/html": [
       "<div>\n",
       "<style scoped>\n",
       "    .dataframe tbody tr th:only-of-type {\n",
       "        vertical-align: middle;\n",
       "    }\n",
       "\n",
       "    .dataframe tbody tr th {\n",
       "        vertical-align: top;\n",
       "    }\n",
       "\n",
       "    .dataframe thead th {\n",
       "        text-align: right;\n",
       "    }\n",
       "</style>\n",
       "<table border=\"1\" class=\"dataframe\">\n",
       "  <thead>\n",
       "    <tr style=\"text-align: right;\">\n",
       "      <th></th>\n",
       "      <th>Record ID</th>\n",
       "      <th>What is your age?</th>\n",
       "      <th>What is your current employment status?</th>\n",
       "      <th>If you are retired, what was your last job?</th>\n",
       "      <th>What is your job/profession?</th>\n",
       "      <th>What is your gender?&amp;nbsp;</th>\n",
       "      <th>Are you of Hispanic, Latino/a, or Spanish origin?</th>\n",
       "      <th>What is your race? (Check all that apply)  (choice=White)</th>\n",
       "      <th>What is your race? (Check all that apply)  (choice=Black or African American)</th>\n",
       "      <th>What is your race? (Check all that apply)  (choice=American Indian or Alaska Native)</th>\n",
       "      <th>...</th>\n",
       "      <th>Complete?</th>\n",
       "      <th>Timestamp</th>\n",
       "      <th>Username</th>\n",
       "      <th>What is your gender?</th>\n",
       "      <th>What is your race? (Check all that apply)</th>\n",
       "      <th>What the highest level of education you have obtained?</th>\n",
       "      <th>Are you part of a Parkinson's Disease support group?</th>\n",
       "      <th>How many people do you personally know with Parkinson’s Disease?</th>\n",
       "      <th>Unnamed: 21</th>\n",
       "      <th>Unnamed: 22</th>\n",
       "    </tr>\n",
       "  </thead>\n",
       "  <tbody>\n",
       "  </tbody>\n",
       "</table>\n",
       "<p>0 rows × 35 columns</p>\n",
       "</div>"
      ],
      "text/plain": [
       "Empty DataFrame\n",
       "Columns: [Record ID, What is your age?, What is your current employment status?, If you are retired, what was your last job? , What is your job/profession? , What is your gender?&nbsp;, Are you of Hispanic, Latino/a, or Spanish origin?, What is your race? (Check all that apply)  (choice=White), What is your race? (Check all that apply)  (choice=Black or African American), What is your race? (Check all that apply)  (choice=American Indian or Alaska Native), What is your race? (Check all that apply)  (choice=Asian), What is your race? (Check all that apply)  (choice=Native Hawaiian or Pacific Islander), What is your race? (Check all that apply)  (choice=Other), What is the highest level of education you have obtained?, Are you part of a Parkinson's disease support group?, Have you taken on leadership or advocacy roles within the Parkinson's Disease community?, How long have you been diagnosed with Parkinson's Disease?, How many people do you personally know with Parkinson's Disease?, How often do you make video calls or post videos online?, I would like to have the option to remove tremors from videos of myself., I would like for viewers to have the option to remove tremors from a video of myself., My tremors affect my level of confidence. , I feel like my tremors cause others to perceive me as less competent. , Would you like to be contacted in the future for a follow-up interview or other research projects?, What is your email? (optional), Complete?, Timestamp, Username, What is your gender?, What is your race? (Check all that apply), What the highest level of education you have obtained?, Are you part of a Parkinson's Disease support group?, How many people do you personally know with Parkinson’s Disease?, Unnamed: 21, Unnamed: 22]\n",
       "Index: []\n",
       "\n",
       "[0 rows x 35 columns]"
      ]
     },
     "metadata": {},
     "output_type": "display_data"
    },
    {
     "name": "stdout",
     "output_type": "stream",
     "text": [
      "177\n"
     ]
    }
   ],
   "source": [
    "display(df_rc.head(0))\n",
    "display(df_g.head(0))\n",
    "\n",
    "print(len(df_rc), len(df_g))\n",
    "\n",
    "frames = [df_rc, df_g]\n",
    "\n",
    "df_combo = pd.concat(frames, ignore_index=True)\n",
    "\n",
    "display(df_combo.head(0))\n",
    "print(len(df_combo))\n"
   ]
  },
  {
   "cell_type": "code",
   "execution_count": 5,
   "metadata": {},
   "outputs": [
    {
     "name": "stdout",
     "output_type": "stream",
     "text": [
      "Record ID\n",
      "What is your age?\n",
      "What is your current employment status?\n",
      "If you are retired, what was your last job? \n",
      "What is your job/profession? \n",
      "What is your gender?&nbsp;\n",
      "Are you of Hispanic, Latino/a, or Spanish origin?\n",
      "What is your race? (Check all that apply)  (choice=White)\n",
      "What is your race? (Check all that apply)  (choice=Black or African American)\n",
      "What is your race? (Check all that apply)  (choice=American Indian or Alaska Native)\n",
      "What is your race? (Check all that apply)  (choice=Asian)\n",
      "What is your race? (Check all that apply)  (choice=Native Hawaiian or Pacific Islander)\n",
      "What is your race? (Check all that apply)  (choice=Other)\n",
      "What is the highest level of education you have obtained?\n",
      "Are you part of a Parkinson's disease support group?\n",
      "Have you taken on leadership or advocacy roles within the Parkinson's Disease community?\n",
      "How long have you been diagnosed with Parkinson's Disease?\n",
      "How many people do you personally know with Parkinson's Disease?\n",
      "How often do you make video calls or post videos online?\n",
      "I would like to have the option to remove tremors from videos of myself.\n",
      "I would like for viewers to have the option to remove tremors from a video of myself.\n",
      "My tremors affect my level of confidence. \n",
      "I feel like my tremors cause others to perceive me as less competent. \n",
      "Would you like to be contacted in the future for a follow-up interview or other research projects?\n",
      "What is your email? (optional)\n",
      "Complete?\n",
      "Timestamp\n",
      "Username\n",
      "What is your gender?\n",
      "What is your race? (Check all that apply)\n",
      "What the highest level of education you have obtained?\n",
      "Are you part of a Parkinson's Disease support group?\n",
      "How many people do you personally know with Parkinson’s Disease?\n",
      "Unnamed: 21\n",
      "Unnamed: 22\n"
     ]
    }
   ],
   "source": [
    "for col in df_combo.columns:\n",
    "    print(col)"
   ]
  },
  {
   "cell_type": "code",
   "execution_count": 6,
   "metadata": {},
   "outputs": [],
   "source": [
    "#Self-contained cell for converting data into numerical format for strongly agree questions\n",
    "str2int_dict = {'Strongly Agree':5.0, 'Agree':4.0, 'Undecided': 3.0,'Disagree':2.0, 'Strongly Disagree':1.0}\n",
    "def str2int(st):\n",
    "    if ((type(st) == str) and (st.endswith('agree') or st.endswith('Agree') or st.endswith('decided'))):\n",
    "        return str2int_dict[st]\n",
    "    else:\n",
    "        return st\n",
    "\n"
   ]
  },
  {
   "cell_type": "code",
   "execution_count": 7,
   "metadata": {},
   "outputs": [],
   "source": [
    "for col in df_combo.columns:\n",
    "    df_combo[col] = df_combo[col].apply(str2int)\n"
   ]
  },
  {
   "cell_type": "code",
   "execution_count": 9,
   "metadata": {},
   "outputs": [],
   "source": [
    "# Create an array of questions to analyze\n",
    "q0 = \"I would like to have the option to remove tremors from videos of myself.\"\n",
    "q1 = \"I would like for viewers to have the option to remove tremors from a video of myself.\"\n",
    "q2 = \"My tremors affect my level of confidence. \" \n",
    "q3 = \"I feel like my tremors cause others to perceive me as less competent. \"\n",
    "\n",
    "q_list = [q0, q1, q2, q3]\n",
    "\n",
    "# There was a space in the google forms for q2 and q3"
   ]
  },
  {
   "cell_type": "code",
   "execution_count": 10,
   "metadata": {},
   "outputs": [
    {
     "data": {
      "text/html": [
       "<div>\n",
       "<style scoped>\n",
       "    .dataframe tbody tr th:only-of-type {\n",
       "        vertical-align: middle;\n",
       "    }\n",
       "\n",
       "    .dataframe tbody tr th {\n",
       "        vertical-align: top;\n",
       "    }\n",
       "\n",
       "    .dataframe thead th {\n",
       "        text-align: right;\n",
       "    }\n",
       "</style>\n",
       "<table border=\"1\" class=\"dataframe\">\n",
       "  <thead>\n",
       "    <tr style=\"text-align: right;\">\n",
       "      <th></th>\n",
       "      <th>I would like to have the option to remove tremors from videos of myself.</th>\n",
       "      <th>I would like for viewers to have the option to remove tremors from a video of myself.</th>\n",
       "      <th>My tremors affect my level of confidence.</th>\n",
       "      <th>I feel like my tremors cause others to perceive me as less competent.</th>\n",
       "    </tr>\n",
       "  </thead>\n",
       "  <tbody>\n",
       "    <tr>\n",
       "      <th>3.0</th>\n",
       "      <td>63</td>\n",
       "      <td>59</td>\n",
       "      <td>30</td>\n",
       "      <td>30</td>\n",
       "    </tr>\n",
       "    <tr>\n",
       "      <th>4.0</th>\n",
       "      <td>57</td>\n",
       "      <td>61</td>\n",
       "      <td>55</td>\n",
       "      <td>71</td>\n",
       "    </tr>\n",
       "    <tr>\n",
       "      <th>2.0</th>\n",
       "      <td>22</td>\n",
       "      <td>16</td>\n",
       "      <td>44</td>\n",
       "      <td>31</td>\n",
       "    </tr>\n",
       "    <tr>\n",
       "      <th>5.0</th>\n",
       "      <td>19</td>\n",
       "      <td>18</td>\n",
       "      <td>16</td>\n",
       "      <td>19</td>\n",
       "    </tr>\n",
       "    <tr>\n",
       "      <th>1.0</th>\n",
       "      <td>9</td>\n",
       "      <td>16</td>\n",
       "      <td>20</td>\n",
       "      <td>14</td>\n",
       "    </tr>\n",
       "  </tbody>\n",
       "</table>\n",
       "</div>"
      ],
      "text/plain": [
       "     I would like to have the option to remove tremors from videos of myself.  \\\n",
       "3.0                                                 63                          \n",
       "4.0                                                 57                          \n",
       "2.0                                                 22                          \n",
       "5.0                                                 19                          \n",
       "1.0                                                  9                          \n",
       "\n",
       "     I would like for viewers to have the option to remove tremors from a video of myself.  \\\n",
       "3.0                                                 59                                       \n",
       "4.0                                                 61                                       \n",
       "2.0                                                 16                                       \n",
       "5.0                                                 18                                       \n",
       "1.0                                                 16                                       \n",
       "\n",
       "     My tremors affect my level of confidence.   \\\n",
       "3.0                                          30   \n",
       "4.0                                          55   \n",
       "2.0                                          44   \n",
       "5.0                                          16   \n",
       "1.0                                          20   \n",
       "\n",
       "     I feel like my tremors cause others to perceive me as less competent.   \n",
       "3.0                                                 30                       \n",
       "4.0                                                 71                       \n",
       "2.0                                                 31                       \n",
       "5.0                                                 19                       \n",
       "1.0                                                 14                       "
      ]
     },
     "metadata": {},
     "output_type": "display_data"
    }
   ],
   "source": [
    "# This is to generate a table of distributions (counts) for each answer for each question\n",
    "# 'Strongly Agree':5, 'Agree':4, 'Undecided': 3,'Disagree':2, 'Strongly Disagree':1\n",
    "# str2int_dict2 = {'Always':5, 'Often':4, 'Sometimes': 3,'Rarely':2, 'Never':1}\n",
    "df_counts = pd.DataFrame()\n",
    "for q in q_list:\n",
    "    col_name = q\n",
    "    df_counts[col_name] = df_combo[col_name].value_counts() # applies function for every row in specified column\n",
    "display(df_counts)"
   ]
  },
  {
   "cell_type": "code",
   "execution_count": 11,
   "metadata": {},
   "outputs": [
    {
     "name": "stdout",
     "output_type": "stream",
     "text": [
      "Count for those who AGREED to the questions: \n"
     ]
    },
    {
     "data": {
      "text/plain": [
       "I would like to have the option to remove tremors from videos of myself.                 76\n",
       "I would like for viewers to have the option to remove tremors from a video of myself.    79\n",
       "My tremors affect my level of confidence.                                                71\n",
       "I feel like my tremors cause others to perceive me as less competent.                    90\n",
       "dtype: int64"
      ]
     },
     "metadata": {},
     "output_type": "display_data"
    },
    {
     "name": "stdout",
     "output_type": "stream",
     "text": [
      "Count for those who DISAGREED to the questions: \n"
     ]
    },
    {
     "data": {
      "text/plain": [
       "I would like to have the option to remove tremors from videos of myself.                 31\n",
       "I would like for viewers to have the option to remove tremors from a video of myself.    32\n",
       "My tremors affect my level of confidence.                                                64\n",
       "I feel like my tremors cause others to perceive me as less competent.                    45\n",
       "dtype: int64"
      ]
     },
     "metadata": {},
     "output_type": "display_data"
    },
    {
     "data": {
      "text/html": [
       "<div>\n",
       "<style scoped>\n",
       "    .dataframe tbody tr th:only-of-type {\n",
       "        vertical-align: middle;\n",
       "    }\n",
       "\n",
       "    .dataframe tbody tr th {\n",
       "        vertical-align: top;\n",
       "    }\n",
       "\n",
       "    .dataframe thead th {\n",
       "        text-align: right;\n",
       "    }\n",
       "</style>\n",
       "<table border=\"1\" class=\"dataframe\">\n",
       "  <thead>\n",
       "    <tr style=\"text-align: right;\">\n",
       "      <th></th>\n",
       "      <th>Agree</th>\n",
       "      <th>Disagree</th>\n",
       "    </tr>\n",
       "  </thead>\n",
       "  <tbody>\n",
       "    <tr>\n",
       "      <th>I would like to have the option to remove tremors from videos of myself.</th>\n",
       "      <td>76</td>\n",
       "      <td>31</td>\n",
       "    </tr>\n",
       "    <tr>\n",
       "      <th>I would like for viewers to have the option to remove tremors from a video of myself.</th>\n",
       "      <td>79</td>\n",
       "      <td>32</td>\n",
       "    </tr>\n",
       "    <tr>\n",
       "      <th>My tremors affect my level of confidence.</th>\n",
       "      <td>71</td>\n",
       "      <td>64</td>\n",
       "    </tr>\n",
       "    <tr>\n",
       "      <th>I feel like my tremors cause others to perceive me as less competent.</th>\n",
       "      <td>90</td>\n",
       "      <td>45</td>\n",
       "    </tr>\n",
       "  </tbody>\n",
       "</table>\n",
       "</div>"
      ],
      "text/plain": [
       "                                                    Agree  Disagree\n",
       "I would like to have the option to remove tremo...     76        31\n",
       "I would like for viewers to have the option to ...     79        32\n",
       "My tremors affect my level of confidence.              71        64\n",
       "I feel like my tremors cause others to perceive...     90        45"
      ]
     },
     "metadata": {},
     "output_type": "display_data"
    }
   ],
   "source": [
    "# here we create a dataframe containing only disagree and agree sums\n",
    "# Keep in mind there is a frequency question... close enough ?\n",
    "df_agree = df_counts.loc[[4.0, 5.0],:].sum()\n",
    "df_disagree = df_counts.loc[[1.0,2.0],:].sum()\n",
    "df_neutral = df_counts.loc[[3.0],:].sum()\n",
    "df_AD = pd.concat([df_agree, df_disagree], axis=1)\n",
    "df_AD.columns = ['Agree','Disagree']\n",
    "print(\"Count for those who AGREED to the questions: \")\n",
    "display(df_agree)\n",
    "print(\"Count for those who DISAGREED to the questions: \")\n",
    "display(df_disagree)\n",
    "display(df_AD)"
   ]
  },
  {
   "cell_type": "code",
   "execution_count": 12,
   "metadata": {},
   "outputs": [
    {
     "name": "stdout",
     "output_type": "stream",
     "text": [
      "I would like to have the option to remove tremors from videos of myself.\n",
      "T:  4.79497960077169 P:  1.6269138550665999e-06\n",
      "\n",
      "==========================\n",
      "\n",
      "I would like for viewers to have the option to remove tremors from a video of myself.\n",
      "T:  4.924258200898274 P:  8.468096480949749e-07\n",
      "\n",
      "==========================\n",
      "\n",
      "My tremors affect my level of confidence. \n",
      "T:  0.6032756097072094 P:  0.5463253557295227\n",
      "\n",
      "==========================\n",
      "\n",
      "I feel like my tremors cause others to perceive me as less competent. \n",
      "T:  4.107919181288745 P:  3.992397476901354e-05\n",
      "\n",
      "==========================\n",
      "\n"
     ]
    }
   ],
   "source": [
    "# testing for population differences on all questions\n",
    "# statsmodels.stats.proportion.proportions_ztest(count, nobs, value=None, \n",
    "#                   alternative='two-sided', prop_var=False)\n",
    "# Returns statistic and p-value\n",
    "# Null Hypothesis = There is no difference in public opinion. \n",
    "    # E.g., Number who agree is equal to the number who disagree\n",
    "\n",
    "for q in q_list:\n",
    "    print(q)\n",
    "    row_ID = q\n",
    "    num_agree = df_AD.loc[row_ID,'Agree']\n",
    "    num_disagree = df_AD.loc[row_ID,'Disagree']\n",
    "    t, p = proportions_ztest(num_agree, (num_agree+num_disagree), value=.5) # Assume no difference \n",
    "    print(\"T: \", t, \"P: \", p)\n",
    "    print(\"\\n==========================\\n\")"
   ]
  },
  {
   "cell_type": "code",
   "execution_count": 13,
   "metadata": {},
   "outputs": [],
   "source": [
    "# self-contained cell to determine interval for 95% of distr\n",
    "# 95 % of a distribution falls between 2 standard-deviations of the mean\n",
    "# params = (mu, std)\n",
    "# returns list [mu-std, mu, mu+std]\n",
    "def compute_interval95(mu, std):\n",
    "    lower_bound = mu - (2*std)\n",
    "    upper_bound = mu + (2*std)\n",
    "    ret_list = [lower_bound, mu, upper_bound]\n",
    "    return ret_list"
   ]
  },
  {
   "cell_type": "code",
   "execution_count": 14,
   "metadata": {},
   "outputs": [],
   "source": [
    "# self-contained cell for determining overlap of confidence intervals\n",
    "# Used to determine DIFFERENCE of opinoin betweeen 2 groups\n",
    "# params =[interval_list1, interval_list2]\n",
    "# Returns TRUE if NO overlap bc no overlap means difference\n",
    "def is_difference(interval_list1, interval_list2):\n",
    "    lower_bound1 = interval_list1[0]\n",
    "    upper_bound1 = interval_list1[-1]\n",
    "    lower_bound2 = interval_list2[0]\n",
    "    upper_bound2 = interval_list2[-1]\n",
    "    if ((lower_bound2 >= upper_bound1) or (upper_bound2 <= lower_bound1)):\n",
    "        return True # distributions do not overlap\n",
    "    else:\n",
    "        return False # distributinos overlap!"
   ]
  },
  {
   "cell_type": "code",
   "execution_count": 19,
   "metadata": {},
   "outputs": [
    {
     "name": "stdout",
     "output_type": "stream",
     "text": [
      "I would like to have the option to remove tremors from videos of myself.\n",
      "Male\n"
     ]
    },
    {
     "data": {
      "image/png": "[encoded data removed]",
      "text/plain": [
       "<Figure size 432x288 with 1 Axes>"
      ]
     },
     "metadata": {
      "needs_background": "light"
     },
     "output_type": "display_data"
    },
    {
     "data": {
      "image/png": "[encoded data removed]",
      "text/plain": [
       "<Figure size 432x288 with 1 Axes>"
      ]
     },
     "metadata": {
      "needs_background": "light"
     },
     "output_type": "display_data"
    },
    {
     "name": "stdout",
     "output_type": "stream",
     "text": [
      "Female\n"
     ]
    },
    {
     "data": {
      "image/png": "[encoded data removed]",
      "text/plain": [
       "<Figure size 432x288 with 1 Axes>"
      ]
     },
     "metadata": {
      "needs_background": "light"
     },
     "output_type": "display_data"
    },
    {
     "data": {
      "image/png": "[encoded data removed]",
      "text/plain": [
       "<Figure size 432x288 with 1 Axes>"
      ]
     },
     "metadata": {
      "needs_background": "light"
     },
     "output_type": "display_data"
    },
    {
     "data": {
      "text/html": [
       "<div>\n",
       "<style scoped>\n",
       "    .dataframe tbody tr th:only-of-type {\n",
       "        vertical-align: middle;\n",
       "    }\n",
       "\n",
       "    .dataframe tbody tr th {\n",
       "        vertical-align: top;\n",
       "    }\n",
       "\n",
       "    .dataframe thead th {\n",
       "        text-align: right;\n",
       "    }\n",
       "</style>\n",
       "<table border=\"1\" class=\"dataframe\">\n",
       "  <thead>\n",
       "    <tr style=\"text-align: right;\">\n",
       "      <th></th>\n",
       "      <th>count</th>\n",
       "      <th>mean</th>\n",
       "      <th>std</th>\n",
       "      <th>min</th>\n",
       "      <th>25%</th>\n",
       "      <th>50%</th>\n",
       "      <th>75%</th>\n",
       "      <th>max</th>\n",
       "    </tr>\n",
       "    <tr>\n",
       "      <th>What is your gender?</th>\n",
       "      <th></th>\n",
       "      <th></th>\n",
       "      <th></th>\n",
       "      <th></th>\n",
       "      <th></th>\n",
       "      <th></th>\n",
       "      <th></th>\n",
       "      <th></th>\n",
       "    </tr>\n",
       "  </thead>\n",
       "  <tbody>\n",
       "    <tr>\n",
       "      <th>Female</th>\n",
       "      <td>36.0</td>\n",
       "      <td>3.277778</td>\n",
       "      <td>1.111270</td>\n",
       "      <td>1.0</td>\n",
       "      <td>2.75</td>\n",
       "      <td>3.0</td>\n",
       "      <td>4.0</td>\n",
       "      <td>5.0</td>\n",
       "    </tr>\n",
       "    <tr>\n",
       "      <th>Genderqueer/gender-non-conforming</th>\n",
       "      <td>1.0</td>\n",
       "      <td>3.000000</td>\n",
       "      <td>NaN</td>\n",
       "      <td>3.0</td>\n",
       "      <td>3.00</td>\n",
       "      <td>3.0</td>\n",
       "      <td>3.0</td>\n",
       "      <td>3.0</td>\n",
       "    </tr>\n",
       "    <tr>\n",
       "      <th>Male</th>\n",
       "      <td>39.0</td>\n",
       "      <td>3.230769</td>\n",
       "      <td>0.841726</td>\n",
       "      <td>1.0</td>\n",
       "      <td>3.00</td>\n",
       "      <td>3.0</td>\n",
       "      <td>4.0</td>\n",
       "      <td>5.0</td>\n",
       "    </tr>\n",
       "  </tbody>\n",
       "</table>\n",
       "</div>"
      ],
      "text/plain": [
       "                                   count      mean       std  min   25%  50%  \\\n",
       "What is your gender?                                                           \n",
       "Female                              36.0  3.277778  1.111270  1.0  2.75  3.0   \n",
       "Genderqueer/gender-non-conforming    1.0  3.000000       NaN  3.0  3.00  3.0   \n",
       "Male                                39.0  3.230769  0.841726  1.0  3.00  3.0   \n",
       "\n",
       "                                   75%  max  \n",
       "What is your gender?                         \n",
       "Female                             4.0  5.0  \n",
       "Genderqueer/gender-non-conforming  3.0  3.0  \n",
       "Male                               4.0  5.0  "
      ]
     },
     "metadata": {},
     "output_type": "display_data"
    },
    {
     "data": {
      "text/html": [
       "<div>\n",
       "<style scoped>\n",
       "    .dataframe tbody tr th:only-of-type {\n",
       "        vertical-align: middle;\n",
       "    }\n",
       "\n",
       "    .dataframe tbody tr th {\n",
       "        vertical-align: top;\n",
       "    }\n",
       "\n",
       "    .dataframe thead th {\n",
       "        text-align: right;\n",
       "    }\n",
       "</style>\n",
       "<table border=\"1\" class=\"dataframe\">\n",
       "  <thead>\n",
       "    <tr style=\"text-align: right;\">\n",
       "      <th></th>\n",
       "      <th>count</th>\n",
       "      <th>mean</th>\n",
       "      <th>std</th>\n",
       "      <th>min</th>\n",
       "      <th>25%</th>\n",
       "      <th>50%</th>\n",
       "      <th>75%</th>\n",
       "      <th>max</th>\n",
       "    </tr>\n",
       "    <tr>\n",
       "      <th>What is your gender?&amp;nbsp;</th>\n",
       "      <th></th>\n",
       "      <th></th>\n",
       "      <th></th>\n",
       "      <th></th>\n",
       "      <th></th>\n",
       "      <th></th>\n",
       "      <th></th>\n",
       "      <th></th>\n",
       "    </tr>\n",
       "  </thead>\n",
       "  <tbody>\n",
       "    <tr>\n",
       "      <th>Female</th>\n",
       "      <td>47.0</td>\n",
       "      <td>3.468085</td>\n",
       "      <td>1.039462</td>\n",
       "      <td>1.0</td>\n",
       "      <td>3.0</td>\n",
       "      <td>3.0</td>\n",
       "      <td>4.0</td>\n",
       "      <td>5.0</td>\n",
       "    </tr>\n",
       "    <tr>\n",
       "      <th>Male</th>\n",
       "      <td>47.0</td>\n",
       "      <td>3.297872</td>\n",
       "      <td>1.061478</td>\n",
       "      <td>1.0</td>\n",
       "      <td>3.0</td>\n",
       "      <td>3.0</td>\n",
       "      <td>4.0</td>\n",
       "      <td>5.0</td>\n",
       "    </tr>\n",
       "  </tbody>\n",
       "</table>\n",
       "</div>"
      ],
      "text/plain": [
       "                            count      mean       std  min  25%  50%  75%  max\n",
       "What is your gender?&nbsp;                                                    \n",
       "Female                       47.0  3.468085  1.039462  1.0  3.0  3.0  4.0  5.0\n",
       "Male                         47.0  3.297872  1.061478  1.0  3.0  3.0  4.0  5.0"
      ]
     },
     "metadata": {},
     "output_type": "display_data"
    },
    {
     "name": "stdout",
     "output_type": "stream",
     "text": [
      "p-value =  0.1808696711420913\n",
      "u-value=  4.107919181288745\n",
      "Male:  [1.3411673432345437, 3.2674418604651163, 5.193716377695689]\n",
      "Female:  [1.2480413416611986, 3.3855421686746987, 5.523042995688199]\n",
      "There is a Difference:  False\n",
      "\n",
      "========================================\n",
      "\n",
      "I would like for viewers to have the option to remove tremors from a video of myself.\n",
      "Male\n"
     ]
    },
    {
     "data": {
      "image/png": "[encoded data removed]",
      "text/plain": [
       "<Figure size 432x288 with 1 Axes>"
      ]
     },
     "metadata": {
      "needs_background": "light"
     },
     "output_type": "display_data"
    },
    {
     "data": {
      "image/png": "[encoded data removed]",
      "text/plain": [
       "<Figure size 432x288 with 1 Axes>"
      ]
     },
     "metadata": {
      "needs_background": "light"
     },
     "output_type": "display_data"
    },
    {
     "name": "stdout",
     "output_type": "stream",
     "text": [
      "Female\n"
     ]
    },
    {
     "data": {
      "image/png": "[encoded data removed]",
      "text/plain": [
       "<Figure size 432x288 with 1 Axes>"
      ]
     },
     "metadata": {
      "needs_background": "light"
     },
     "output_type": "display_data"
    },
    {
     "data": {
      "image/png": "[encoded data removed]",
      "text/plain": [
       "<Figure size 432x288 with 1 Axes>"
      ]
     },
     "metadata": {
      "needs_background": "light"
     },
     "output_type": "display_data"
    },
    {
     "data": {
      "text/html": [
       "<div>\n",
       "<style scoped>\n",
       "    .dataframe tbody tr th:only-of-type {\n",
       "        vertical-align: middle;\n",
       "    }\n",
       "\n",
       "    .dataframe tbody tr th {\n",
       "        vertical-align: top;\n",
       "    }\n",
       "\n",
       "    .dataframe thead th {\n",
       "        text-align: right;\n",
       "    }\n",
       "</style>\n",
       "<table border=\"1\" class=\"dataframe\">\n",
       "  <thead>\n",
       "    <tr style=\"text-align: right;\">\n",
       "      <th></th>\n",
       "      <th>count</th>\n",
       "      <th>mean</th>\n",
       "      <th>std</th>\n",
       "      <th>min</th>\n",
       "      <th>25%</th>\n",
       "      <th>50%</th>\n",
       "      <th>75%</th>\n",
       "      <th>max</th>\n",
       "    </tr>\n",
       "    <tr>\n",
       "      <th>What is your gender?</th>\n",
       "      <th></th>\n",
       "      <th></th>\n",
       "      <th></th>\n",
       "      <th></th>\n",
       "      <th></th>\n",
       "      <th></th>\n",
       "      <th></th>\n",
       "      <th></th>\n",
       "    </tr>\n",
       "  </thead>\n",
       "  <tbody>\n",
       "    <tr>\n",
       "      <th>Female</th>\n",
       "      <td>36.0</td>\n",
       "      <td>3.25000</td>\n",
       "      <td>1.079021</td>\n",
       "      <td>1.0</td>\n",
       "      <td>3.0</td>\n",
       "      <td>3.0</td>\n",
       "      <td>4.0</td>\n",
       "      <td>5.0</td>\n",
       "    </tr>\n",
       "    <tr>\n",
       "      <th>Genderqueer/gender-non-conforming</th>\n",
       "      <td>1.0</td>\n",
       "      <td>4.00000</td>\n",
       "      <td>NaN</td>\n",
       "      <td>4.0</td>\n",
       "      <td>4.0</td>\n",
       "      <td>4.0</td>\n",
       "      <td>4.0</td>\n",
       "      <td>4.0</td>\n",
       "    </tr>\n",
       "    <tr>\n",
       "      <th>Male</th>\n",
       "      <td>39.0</td>\n",
       "      <td>3.25641</td>\n",
       "      <td>1.018718</td>\n",
       "      <td>1.0</td>\n",
       "      <td>3.0</td>\n",
       "      <td>3.0</td>\n",
       "      <td>4.0</td>\n",
       "      <td>5.0</td>\n",
       "    </tr>\n",
       "  </tbody>\n",
       "</table>\n",
       "</div>"
      ],
      "text/plain": [
       "                                   count     mean       std  min  25%  50%  \\\n",
       "What is your gender?                                                         \n",
       "Female                              36.0  3.25000  1.079021  1.0  3.0  3.0   \n",
       "Genderqueer/gender-non-conforming    1.0  4.00000       NaN  4.0  4.0  4.0   \n",
       "Male                                39.0  3.25641  1.018718  1.0  3.0  3.0   \n",
       "\n",
       "                                   75%  max  \n",
       "What is your gender?                         \n",
       "Female                             4.0  5.0  \n",
       "Genderqueer/gender-non-conforming  4.0  4.0  \n",
       "Male                               4.0  5.0  "
      ]
     },
     "metadata": {},
     "output_type": "display_data"
    },
    {
     "data": {
      "text/html": [
       "<div>\n",
       "<style scoped>\n",
       "    .dataframe tbody tr th:only-of-type {\n",
       "        vertical-align: middle;\n",
       "    }\n",
       "\n",
       "    .dataframe tbody tr th {\n",
       "        vertical-align: top;\n",
       "    }\n",
       "\n",
       "    .dataframe thead th {\n",
       "        text-align: right;\n",
       "    }\n",
       "</style>\n",
       "<table border=\"1\" class=\"dataframe\">\n",
       "  <thead>\n",
       "    <tr style=\"text-align: right;\">\n",
       "      <th></th>\n",
       "      <th>count</th>\n",
       "      <th>mean</th>\n",
       "      <th>std</th>\n",
       "      <th>min</th>\n",
       "      <th>25%</th>\n",
       "      <th>50%</th>\n",
       "      <th>75%</th>\n",
       "      <th>max</th>\n",
       "    </tr>\n",
       "    <tr>\n",
       "      <th>What is your gender?&amp;nbsp;</th>\n",
       "      <th></th>\n",
       "      <th></th>\n",
       "      <th></th>\n",
       "      <th></th>\n",
       "      <th></th>\n",
       "      <th></th>\n",
       "      <th></th>\n",
       "      <th></th>\n",
       "    </tr>\n",
       "  </thead>\n",
       "  <tbody>\n",
       "    <tr>\n",
       "      <th>Female</th>\n",
       "      <td>47.0</td>\n",
       "      <td>3.234043</td>\n",
       "      <td>1.107539</td>\n",
       "      <td>1.0</td>\n",
       "      <td>3.0</td>\n",
       "      <td>3.0</td>\n",
       "      <td>4.0</td>\n",
       "      <td>5.0</td>\n",
       "    </tr>\n",
       "    <tr>\n",
       "      <th>Male</th>\n",
       "      <td>47.0</td>\n",
       "      <td>3.382979</td>\n",
       "      <td>1.152562</td>\n",
       "      <td>1.0</td>\n",
       "      <td>3.0</td>\n",
       "      <td>4.0</td>\n",
       "      <td>4.0</td>\n",
       "      <td>5.0</td>\n",
       "    </tr>\n",
       "  </tbody>\n",
       "</table>\n",
       "</div>"
      ],
      "text/plain": [
       "                            count      mean       std  min  25%  50%  75%  max\n",
       "What is your gender?&nbsp;                                                    \n",
       "Female                       47.0  3.234043  1.107539  1.0  3.0  3.0  4.0  5.0\n",
       "Male                         47.0  3.382979  1.152562  1.0  3.0  4.0  4.0  5.0"
      ]
     },
     "metadata": {},
     "output_type": "display_data"
    },
    {
     "name": "stdout",
     "output_type": "stream",
     "text": [
      "p-value =  0.3654513978737047\n",
      "u-value=  4.107919181288745\n",
      "Male:  [1.1467126016289764, 3.3255813953488373, 5.504450189068699]\n",
      "Female:  [1.0636896265103903, 3.2409638554216866, 5.418238084332983]\n",
      "There is a Difference:  False\n",
      "\n",
      "========================================\n",
      "\n",
      "My tremors affect my level of confidence. \n",
      "Male\n"
     ]
    },
    {
     "data": {
      "image/png": "[encoded data removed]",
      "text/plain": [
       "<Figure size 432x288 with 1 Axes>"
      ]
     },
     "metadata": {
      "needs_background": "light"
     },
     "output_type": "display_data"
    },
    {
     "data": {
      "image/png": "[encoded data removed]",
      "text/plain": [
       "<Figure size 432x288 with 1 Axes>"
      ]
     },
     "metadata": {
      "needs_background": "light"
     },
     "output_type": "display_data"
    },
    {
     "name": "stdout",
     "output_type": "stream",
     "text": [
      "Female\n"
     ]
    },
    {
     "data": {
      "image/png": "[encoded data removed]",
      "text/plain": [
       "<Figure size 432x288 with 1 Axes>"
      ]
     },
     "metadata": {
      "needs_background": "light"
     },
     "output_type": "display_data"
    },
    {
     "data": {
      "image/png": "[encoded data removed]",
      "text/plain": [
       "<Figure size 432x288 with 1 Axes>"
      ]
     },
     "metadata": {
      "needs_background": "light"
     },
     "output_type": "display_data"
    },
    {
     "data": {
      "text/html": [
       "<div>\n",
       "<style scoped>\n",
       "    .dataframe tbody tr th:only-of-type {\n",
       "        vertical-align: middle;\n",
       "    }\n",
       "\n",
       "    .dataframe tbody tr th {\n",
       "        vertical-align: top;\n",
       "    }\n",
       "\n",
       "    .dataframe thead th {\n",
       "        text-align: right;\n",
       "    }\n",
       "</style>\n",
       "<table border=\"1\" class=\"dataframe\">\n",
       "  <thead>\n",
       "    <tr style=\"text-align: right;\">\n",
       "      <th></th>\n",
       "      <th>count</th>\n",
       "      <th>mean</th>\n",
       "      <th>std</th>\n",
       "      <th>min</th>\n",
       "      <th>25%</th>\n",
       "      <th>50%</th>\n",
       "      <th>75%</th>\n",
       "      <th>max</th>\n",
       "    </tr>\n",
       "    <tr>\n",
       "      <th>What is your gender?</th>\n",
       "      <th></th>\n",
       "      <th></th>\n",
       "      <th></th>\n",
       "      <th></th>\n",
       "      <th></th>\n",
       "      <th></th>\n",
       "      <th></th>\n",
       "      <th></th>\n",
       "    </tr>\n",
       "  </thead>\n",
       "  <tbody>\n",
       "    <tr>\n",
       "      <th>Female</th>\n",
       "      <td>35.0</td>\n",
       "      <td>3.057143</td>\n",
       "      <td>1.327157</td>\n",
       "      <td>1.0</td>\n",
       "      <td>2.0</td>\n",
       "      <td>3.0</td>\n",
       "      <td>4.0</td>\n",
       "      <td>5.0</td>\n",
       "    </tr>\n",
       "    <tr>\n",
       "      <th>Genderqueer/gender-non-conforming</th>\n",
       "      <td>1.0</td>\n",
       "      <td>3.000000</td>\n",
       "      <td>NaN</td>\n",
       "      <td>3.0</td>\n",
       "      <td>3.0</td>\n",
       "      <td>3.0</td>\n",
       "      <td>3.0</td>\n",
       "      <td>3.0</td>\n",
       "    </tr>\n",
       "    <tr>\n",
       "      <th>Male</th>\n",
       "      <td>35.0</td>\n",
       "      <td>2.885714</td>\n",
       "      <td>1.131668</td>\n",
       "      <td>1.0</td>\n",
       "      <td>2.0</td>\n",
       "      <td>3.0</td>\n",
       "      <td>4.0</td>\n",
       "      <td>5.0</td>\n",
       "    </tr>\n",
       "  </tbody>\n",
       "</table>\n",
       "</div>"
      ],
      "text/plain": [
       "                                   count      mean       std  min  25%  50%  \\\n",
       "What is your gender?                                                          \n",
       "Female                              35.0  3.057143  1.327157  1.0  2.0  3.0   \n",
       "Genderqueer/gender-non-conforming    1.0  3.000000       NaN  3.0  3.0  3.0   \n",
       "Male                                35.0  2.885714  1.131668  1.0  2.0  3.0   \n",
       "\n",
       "                                   75%  max  \n",
       "What is your gender?                         \n",
       "Female                             4.0  5.0  \n",
       "Genderqueer/gender-non-conforming  3.0  3.0  \n",
       "Male                               4.0  5.0  "
      ]
     },
     "metadata": {},
     "output_type": "display_data"
    },
    {
     "data": {
      "text/html": [
       "<div>\n",
       "<style scoped>\n",
       "    .dataframe tbody tr th:only-of-type {\n",
       "        vertical-align: middle;\n",
       "    }\n",
       "\n",
       "    .dataframe tbody tr th {\n",
       "        vertical-align: top;\n",
       "    }\n",
       "\n",
       "    .dataframe thead th {\n",
       "        text-align: right;\n",
       "    }\n",
       "</style>\n",
       "<table border=\"1\" class=\"dataframe\">\n",
       "  <thead>\n",
       "    <tr style=\"text-align: right;\">\n",
       "      <th></th>\n",
       "      <th>count</th>\n",
       "      <th>mean</th>\n",
       "      <th>std</th>\n",
       "      <th>min</th>\n",
       "      <th>25%</th>\n",
       "      <th>50%</th>\n",
       "      <th>75%</th>\n",
       "      <th>max</th>\n",
       "    </tr>\n",
       "    <tr>\n",
       "      <th>What is your gender?&amp;nbsp;</th>\n",
       "      <th></th>\n",
       "      <th></th>\n",
       "      <th></th>\n",
       "      <th></th>\n",
       "      <th></th>\n",
       "      <th></th>\n",
       "      <th></th>\n",
       "      <th></th>\n",
       "    </tr>\n",
       "  </thead>\n",
       "  <tbody>\n",
       "    <tr>\n",
       "      <th>Female</th>\n",
       "      <td>47.0</td>\n",
       "      <td>3.276596</td>\n",
       "      <td>1.297190</td>\n",
       "      <td>1.0</td>\n",
       "      <td>2.0</td>\n",
       "      <td>4.0</td>\n",
       "      <td>4.0</td>\n",
       "      <td>5.0</td>\n",
       "    </tr>\n",
       "    <tr>\n",
       "      <th>Male</th>\n",
       "      <td>47.0</td>\n",
       "      <td>2.829787</td>\n",
       "      <td>1.109625</td>\n",
       "      <td>1.0</td>\n",
       "      <td>2.0</td>\n",
       "      <td>3.0</td>\n",
       "      <td>4.0</td>\n",
       "      <td>5.0</td>\n",
       "    </tr>\n",
       "  </tbody>\n",
       "</table>\n",
       "</div>"
      ],
      "text/plain": [
       "                            count      mean       std  min  25%  50%  75%  max\n",
       "What is your gender?&nbsp;                                                    \n",
       "Female                       47.0  3.276596  1.297190  1.0  2.0  4.0  4.0  5.0\n",
       "Male                         47.0  2.829787  1.109625  1.0  2.0  3.0  4.0  5.0"
      ]
     },
     "metadata": {},
     "output_type": "display_data"
    },
    {
     "name": "stdout",
     "output_type": "stream",
     "text": [
      "p-value =  0.06348255388453572\n",
      "u-value=  4.107919181288745\n",
      "Male:  [0.6287279377062984, 2.8536585365853657, 5.0785891354644335]\n",
      "Female:  [0.5699856496874327, 3.182926829268293, 5.795868008849153]\n",
      "There is a Difference:  False\n",
      "\n",
      "========================================\n",
      "\n",
      "I feel like my tremors cause others to perceive me as less competent. \n",
      "Male\n"
     ]
    },
    {
     "data": {
      "image/png": "[encoded data removed]",
      "text/plain": [
       "<Figure size 432x288 with 1 Axes>"
      ]
     },
     "metadata": {
      "needs_background": "light"
     },
     "output_type": "display_data"
    },
    {
     "data": {
      "image/png": "[encoded data removed]",
      "text/plain": [
       "<Figure size 432x288 with 1 Axes>"
      ]
     },
     "metadata": {
      "needs_background": "light"
     },
     "output_type": "display_data"
    },
    {
     "name": "stdout",
     "output_type": "stream",
     "text": [
      "Female\n"
     ]
    },
    {
     "data": {
      "image/png": "[encoded data removed]",
      "text/plain": [
       "<Figure size 432x288 with 1 Axes>"
      ]
     },
     "metadata": {
      "needs_background": "light"
     },
     "output_type": "display_data"
    },
    {
     "data": {
      "image/png": "[encoded data removed]",
      "text/plain": [
       "<Figure size 432x288 with 1 Axes>"
      ]
     },
     "metadata": {
      "needs_background": "light"
     },
     "output_type": "display_data"
    },
    {
     "data": {
      "text/html": [
       "<div>\n",
       "<style scoped>\n",
       "    .dataframe tbody tr th:only-of-type {\n",
       "        vertical-align: middle;\n",
       "    }\n",
       "\n",
       "    .dataframe tbody tr th {\n",
       "        vertical-align: top;\n",
       "    }\n",
       "\n",
       "    .dataframe thead th {\n",
       "        text-align: right;\n",
       "    }\n",
       "</style>\n",
       "<table border=\"1\" class=\"dataframe\">\n",
       "  <thead>\n",
       "    <tr style=\"text-align: right;\">\n",
       "      <th></th>\n",
       "      <th>count</th>\n",
       "      <th>mean</th>\n",
       "      <th>std</th>\n",
       "      <th>min</th>\n",
       "      <th>25%</th>\n",
       "      <th>50%</th>\n",
       "      <th>75%</th>\n",
       "      <th>max</th>\n",
       "    </tr>\n",
       "    <tr>\n",
       "      <th>What is your gender?</th>\n",
       "      <th></th>\n",
       "      <th></th>\n",
       "      <th></th>\n",
       "      <th></th>\n",
       "      <th></th>\n",
       "      <th></th>\n",
       "      <th></th>\n",
       "      <th></th>\n",
       "    </tr>\n",
       "  </thead>\n",
       "  <tbody>\n",
       "    <tr>\n",
       "      <th>Female</th>\n",
       "      <td>35.0</td>\n",
       "      <td>3.314286</td>\n",
       "      <td>1.278129</td>\n",
       "      <td>1.0</td>\n",
       "      <td>2.0</td>\n",
       "      <td>4.0</td>\n",
       "      <td>4.0</td>\n",
       "      <td>5.0</td>\n",
       "    </tr>\n",
       "    <tr>\n",
       "      <th>Genderqueer/gender-non-conforming</th>\n",
       "      <td>1.0</td>\n",
       "      <td>4.000000</td>\n",
       "      <td>NaN</td>\n",
       "      <td>4.0</td>\n",
       "      <td>4.0</td>\n",
       "      <td>4.0</td>\n",
       "      <td>4.0</td>\n",
       "      <td>4.0</td>\n",
       "    </tr>\n",
       "    <tr>\n",
       "      <th>Male</th>\n",
       "      <td>35.0</td>\n",
       "      <td>3.257143</td>\n",
       "      <td>0.918530</td>\n",
       "      <td>1.0</td>\n",
       "      <td>3.0</td>\n",
       "      <td>3.0</td>\n",
       "      <td>4.0</td>\n",
       "      <td>5.0</td>\n",
       "    </tr>\n",
       "  </tbody>\n",
       "</table>\n",
       "</div>"
      ],
      "text/plain": [
       "                                   count      mean       std  min  25%  50%  \\\n",
       "What is your gender?                                                          \n",
       "Female                              35.0  3.314286  1.278129  1.0  2.0  4.0   \n",
       "Genderqueer/gender-non-conforming    1.0  4.000000       NaN  4.0  4.0  4.0   \n",
       "Male                                35.0  3.257143  0.918530  1.0  3.0  3.0   \n",
       "\n",
       "                                   75%  max  \n",
       "What is your gender?                         \n",
       "Female                             4.0  5.0  \n",
       "Genderqueer/gender-non-conforming  4.0  4.0  \n",
       "Male                               4.0  5.0  "
      ]
     },
     "metadata": {},
     "output_type": "display_data"
    },
    {
     "data": {
      "text/html": [
       "<div>\n",
       "<style scoped>\n",
       "    .dataframe tbody tr th:only-of-type {\n",
       "        vertical-align: middle;\n",
       "    }\n",
       "\n",
       "    .dataframe tbody tr th {\n",
       "        vertical-align: top;\n",
       "    }\n",
       "\n",
       "    .dataframe thead th {\n",
       "        text-align: right;\n",
       "    }\n",
       "</style>\n",
       "<table border=\"1\" class=\"dataframe\">\n",
       "  <thead>\n",
       "    <tr style=\"text-align: right;\">\n",
       "      <th></th>\n",
       "      <th>count</th>\n",
       "      <th>mean</th>\n",
       "      <th>std</th>\n",
       "      <th>min</th>\n",
       "      <th>25%</th>\n",
       "      <th>50%</th>\n",
       "      <th>75%</th>\n",
       "      <th>max</th>\n",
       "    </tr>\n",
       "    <tr>\n",
       "      <th>What is your gender?&amp;nbsp;</th>\n",
       "      <th></th>\n",
       "      <th></th>\n",
       "      <th></th>\n",
       "      <th></th>\n",
       "      <th></th>\n",
       "      <th></th>\n",
       "      <th></th>\n",
       "      <th></th>\n",
       "    </tr>\n",
       "  </thead>\n",
       "  <tbody>\n",
       "    <tr>\n",
       "      <th>Female</th>\n",
       "      <td>47.0</td>\n",
       "      <td>3.468085</td>\n",
       "      <td>1.265788</td>\n",
       "      <td>1.0</td>\n",
       "      <td>2.0</td>\n",
       "      <td>4.0</td>\n",
       "      <td>4.0</td>\n",
       "      <td>5.0</td>\n",
       "    </tr>\n",
       "    <tr>\n",
       "      <th>Male</th>\n",
       "      <td>47.0</td>\n",
       "      <td>3.148936</td>\n",
       "      <td>1.122472</td>\n",
       "      <td>1.0</td>\n",
       "      <td>2.0</td>\n",
       "      <td>4.0</td>\n",
       "      <td>4.0</td>\n",
       "      <td>5.0</td>\n",
       "    </tr>\n",
       "  </tbody>\n",
       "</table>\n",
       "</div>"
      ],
      "text/plain": [
       "                            count      mean       std  min  25%  50%  75%  max\n",
       "What is your gender?&nbsp;                                                    \n",
       "Female                       47.0  3.468085  1.265788  1.0  2.0  4.0  4.0  5.0\n",
       "Male                         47.0  3.148936  1.122472  1.0  2.0  4.0  4.0  5.0"
      ]
     },
     "metadata": {},
     "output_type": "display_data"
    },
    {
     "name": "stdout",
     "output_type": "stream",
     "text": [
      "p-value =  0.09551474044770458\n",
      "u-value=  4.107919181288745\n",
      "Male:  [1.1238242869879218, 3.1951219512195124, 5.2664196154511025]\n",
      "Female:  [0.8714507121303581, 3.402439024390244, 5.93342733665013]\n",
      "There is a Difference:  False\n",
      "\n",
      "========================================\n",
      "\n"
     ]
    }
   ],
   "source": [
    "# Gender Cell\n",
    "# Compute the Mann-Whitney rank test on samples x and y\n",
    "# scipy.stats.mannwhitneyu(x, y, use_continuity=True, alternative=None)\n",
    "\n",
    "g1 = df.groupby('What is your gender?')\n",
    "g2 = df.groupby('What is your gender?&nbsp;')\n",
    "\n",
    "df_male = df[(df['What is your gender?'] == 'Male') | (df['What is your gender?&nbsp;'] == 'Male')].copy()\n",
    "df_female = df[(df['What is your gender?'] == 'Female') | (df['What is your gender?&nbsp;'] == 'Female')].copy()\n",
    "\n",
    "for q in q_list:\n",
    "    col_name = q\n",
    "    print(col_name)\n",
    "    print(\"Male\")\n",
    "    df_male[col_name].hist()\n",
    "    plt.show()\n",
    "    df_male.boxplot(col_name)\n",
    "    plt.show()\n",
    "    print(\"Female\")\n",
    "    df_female[col_name].hist()\n",
    "    plt.show()\n",
    "    df_female.boxplot(col_name)\n",
    "    plt.show()\n",
    "    display(g1[col_name].describe())\n",
    "    display(g2[col_name].describe())\n",
    "    #Statistic test\n",
    "    u,p = mannwhitneyu(df_male[col_name], df_female[col_name])\n",
    "    print('p-value = ', p)\n",
    "    print('u-value= ', t)\n",
    "    mu1 = df_male[col_name].mean()\n",
    "    std1 = df_male[col_name].std()\n",
    "    mu2 = df_female[col_name].mean()\n",
    "    std2 = df_female[col_name].std()\n",
    "    print(\"Male: \", compute_interval95(mu1, std1))\n",
    "    print(\"Female: \", compute_interval95(mu2, std2))\n",
    "    print(\"There is a Difference: \", is_difference(compute_interval95(mu1, std1), compute_interval95(mu2, std2)))\n",
    "    #data1 = df_male[col_name]\n",
    "    #data2 = df_female[col_name]\n",
    "    #data = [data1, data2]\n",
    "    #plt.boxplot(data)\n",
    "    #plt.show()\n",
    "    print('\\n========================================\\n')"
   ]
  },
  {
   "cell_type": "code",
   "execution_count": 20,
   "metadata": {},
   "outputs": [
    {
     "name": "stdout",
     "output_type": "stream",
     "text": [
      "I would like to have the option to remove tremors from videos of myself.\n",
      "Young\n"
     ]
    },
    {
     "data": {
      "image/png": "[encoded data removed]",
      "text/plain": [
       "<Figure size 432x288 with 1 Axes>"
      ]
     },
     "metadata": {
      "needs_background": "light"
     },
     "output_type": "display_data"
    },
    {
     "data": {
      "image/png": "[encoded data removed]",
      "text/plain": [
       "<Figure size 432x288 with 1 Axes>"
      ]
     },
     "metadata": {
      "needs_background": "light"
     },
     "output_type": "display_data"
    },
    {
     "name": "stdout",
     "output_type": "stream",
     "text": [
      "Old\n"
     ]
    },
    {
     "data": {
      "image/png": "[encoded data removed]",
      "text/plain": [
       "<Figure size 432x288 with 1 Axes>"
      ]
     },
     "metadata": {
      "needs_background": "light"
     },
     "output_type": "display_data"
    },
    {
     "data": {
      "image/png": "[encoded data removed]",
      "text/plain": [
       "<Figure size 432x288 with 1 Axes>"
      ]
     },
     "metadata": {
      "needs_background": "light"
     },
     "output_type": "display_data"
    },
    {
     "data": {
      "text/html": [
       "<div>\n",
       "<style scoped>\n",
       "    .dataframe tbody tr th:only-of-type {\n",
       "        vertical-align: middle;\n",
       "    }\n",
       "\n",
       "    .dataframe tbody tr th {\n",
       "        vertical-align: top;\n",
       "    }\n",
       "\n",
       "    .dataframe thead th {\n",
       "        text-align: right;\n",
       "    }\n",
       "</style>\n",
       "<table border=\"1\" class=\"dataframe\">\n",
       "  <thead>\n",
       "    <tr style=\"text-align: right;\">\n",
       "      <th></th>\n",
       "      <th>count</th>\n",
       "      <th>mean</th>\n",
       "      <th>std</th>\n",
       "      <th>min</th>\n",
       "      <th>25%</th>\n",
       "      <th>50%</th>\n",
       "      <th>75%</th>\n",
       "      <th>max</th>\n",
       "    </tr>\n",
       "    <tr>\n",
       "      <th>What is your age?</th>\n",
       "      <th></th>\n",
       "      <th></th>\n",
       "      <th></th>\n",
       "      <th></th>\n",
       "      <th></th>\n",
       "      <th></th>\n",
       "      <th></th>\n",
       "      <th></th>\n",
       "    </tr>\n",
       "  </thead>\n",
       "  <tbody>\n",
       "    <tr>\n",
       "      <th>35-44 years old</th>\n",
       "      <td>1.0</td>\n",
       "      <td>3.000000</td>\n",
       "      <td>NaN</td>\n",
       "      <td>3.0</td>\n",
       "      <td>3.00</td>\n",
       "      <td>3.0</td>\n",
       "      <td>3.0</td>\n",
       "      <td>3.0</td>\n",
       "    </tr>\n",
       "    <tr>\n",
       "      <th>45-54 years old</th>\n",
       "      <td>12.0</td>\n",
       "      <td>3.416667</td>\n",
       "      <td>1.164500</td>\n",
       "      <td>1.0</td>\n",
       "      <td>2.75</td>\n",
       "      <td>4.0</td>\n",
       "      <td>4.0</td>\n",
       "      <td>5.0</td>\n",
       "    </tr>\n",
       "    <tr>\n",
       "      <th>55-64 years old</th>\n",
       "      <td>50.0</td>\n",
       "      <td>3.440000</td>\n",
       "      <td>0.951047</td>\n",
       "      <td>1.0</td>\n",
       "      <td>3.00</td>\n",
       "      <td>4.0</td>\n",
       "      <td>4.0</td>\n",
       "      <td>5.0</td>\n",
       "    </tr>\n",
       "    <tr>\n",
       "      <th>65-74 years old</th>\n",
       "      <td>71.0</td>\n",
       "      <td>3.295775</td>\n",
       "      <td>0.976793</td>\n",
       "      <td>1.0</td>\n",
       "      <td>3.00</td>\n",
       "      <td>3.0</td>\n",
       "      <td>4.0</td>\n",
       "      <td>5.0</td>\n",
       "    </tr>\n",
       "    <tr>\n",
       "      <th>75-84 years old</th>\n",
       "      <td>35.0</td>\n",
       "      <td>3.200000</td>\n",
       "      <td>1.158092</td>\n",
       "      <td>1.0</td>\n",
       "      <td>3.00</td>\n",
       "      <td>3.0</td>\n",
       "      <td>4.0</td>\n",
       "      <td>5.0</td>\n",
       "    </tr>\n",
       "    <tr>\n",
       "      <th>85 or older</th>\n",
       "      <td>1.0</td>\n",
       "      <td>3.000000</td>\n",
       "      <td>NaN</td>\n",
       "      <td>3.0</td>\n",
       "      <td>3.00</td>\n",
       "      <td>3.0</td>\n",
       "      <td>3.0</td>\n",
       "      <td>3.0</td>\n",
       "    </tr>\n",
       "  </tbody>\n",
       "</table>\n",
       "</div>"
      ],
      "text/plain": [
       "                   count      mean       std  min   25%  50%  75%  max\n",
       "What is your age?                                                     \n",
       "35-44 years old      1.0  3.000000       NaN  3.0  3.00  3.0  3.0  3.0\n",
       "45-54 years old     12.0  3.416667  1.164500  1.0  2.75  4.0  4.0  5.0\n",
       "55-64 years old     50.0  3.440000  0.951047  1.0  3.00  4.0  4.0  5.0\n",
       "65-74 years old     71.0  3.295775  0.976793  1.0  3.00  3.0  4.0  5.0\n",
       "75-84 years old     35.0  3.200000  1.158092  1.0  3.00  3.0  4.0  5.0\n",
       "85 or older          1.0  3.000000       NaN  3.0  3.00  3.0  3.0  3.0"
      ]
     },
     "metadata": {},
     "output_type": "display_data"
    },
    {
     "name": "stdout",
     "output_type": "stream",
     "text": [
      "p-value =  0.2421733451012376\n",
      "u-value=  2338.5\n",
      "Young:  [1.4704852755923319, 3.4285714285714284, 5.386657581550525]\n",
      "Old:  [1.3506345613673192, 3.2916666666666665, 5.232698771966014]\n",
      "There is a Difference:  False\n",
      "\n",
      "========================================\n",
      "\n",
      "I would like for viewers to have the option to remove tremors from a video of myself.\n",
      "Young\n"
     ]
    },
    {
     "data": {
      "image/png": "[encoded data removed]",
      "text/plain": [
       "<Figure size 432x288 with 1 Axes>"
      ]
     },
     "metadata": {
      "needs_background": "light"
     },
     "output_type": "display_data"
    },
    {
     "data": {
      "image/png": "[encoded data removed]",
      "text/plain": [
       "<Figure size 432x288 with 1 Axes>"
      ]
     },
     "metadata": {
      "needs_background": "light"
     },
     "output_type": "display_data"
    },
    {
     "name": "stdout",
     "output_type": "stream",
     "text": [
      "Old\n"
     ]
    },
    {
     "data": {
      "image/png": "[encoded data removed]",
      "text/plain": [
       "<Figure size 432x288 with 1 Axes>"
      ]
     },
     "metadata": {
      "needs_background": "light"
     },
     "output_type": "display_data"
    },
    {
     "data": {
      "image/png": "[encoded data removed]",
      "text/plain": [
       "<Figure size 432x288 with 1 Axes>"
      ]
     },
     "metadata": {
      "needs_background": "light"
     },
     "output_type": "display_data"
    },
    {
     "data": {
      "text/html": [
       "<div>\n",
       "<style scoped>\n",
       "    .dataframe tbody tr th:only-of-type {\n",
       "        vertical-align: middle;\n",
       "    }\n",
       "\n",
       "    .dataframe tbody tr th {\n",
       "        vertical-align: top;\n",
       "    }\n",
       "\n",
       "    .dataframe thead th {\n",
       "        text-align: right;\n",
       "    }\n",
       "</style>\n",
       "<table border=\"1\" class=\"dataframe\">\n",
       "  <thead>\n",
       "    <tr style=\"text-align: right;\">\n",
       "      <th></th>\n",
       "      <th>count</th>\n",
       "      <th>mean</th>\n",
       "      <th>std</th>\n",
       "      <th>min</th>\n",
       "      <th>25%</th>\n",
       "      <th>50%</th>\n",
       "      <th>75%</th>\n",
       "      <th>max</th>\n",
       "    </tr>\n",
       "    <tr>\n",
       "      <th>What is your age?</th>\n",
       "      <th></th>\n",
       "      <th></th>\n",
       "      <th></th>\n",
       "      <th></th>\n",
       "      <th></th>\n",
       "      <th></th>\n",
       "      <th></th>\n",
       "      <th></th>\n",
       "    </tr>\n",
       "  </thead>\n",
       "  <tbody>\n",
       "    <tr>\n",
       "      <th>35-44 years old</th>\n",
       "      <td>1.0</td>\n",
       "      <td>3.000000</td>\n",
       "      <td>NaN</td>\n",
       "      <td>3.0</td>\n",
       "      <td>3.0</td>\n",
       "      <td>3.0</td>\n",
       "      <td>3.0</td>\n",
       "      <td>3.0</td>\n",
       "    </tr>\n",
       "    <tr>\n",
       "      <th>45-54 years old</th>\n",
       "      <td>12.0</td>\n",
       "      <td>3.416667</td>\n",
       "      <td>1.311372</td>\n",
       "      <td>1.0</td>\n",
       "      <td>2.0</td>\n",
       "      <td>4.0</td>\n",
       "      <td>4.0</td>\n",
       "      <td>5.0</td>\n",
       "    </tr>\n",
       "    <tr>\n",
       "      <th>55-64 years old</th>\n",
       "      <td>50.0</td>\n",
       "      <td>3.320000</td>\n",
       "      <td>1.038838</td>\n",
       "      <td>1.0</td>\n",
       "      <td>3.0</td>\n",
       "      <td>3.5</td>\n",
       "      <td>4.0</td>\n",
       "      <td>5.0</td>\n",
       "    </tr>\n",
       "    <tr>\n",
       "      <th>65-74 years old</th>\n",
       "      <td>71.0</td>\n",
       "      <td>3.169014</td>\n",
       "      <td>1.027979</td>\n",
       "      <td>1.0</td>\n",
       "      <td>3.0</td>\n",
       "      <td>3.0</td>\n",
       "      <td>4.0</td>\n",
       "      <td>5.0</td>\n",
       "    </tr>\n",
       "    <tr>\n",
       "      <th>75-84 years old</th>\n",
       "      <td>35.0</td>\n",
       "      <td>3.457143</td>\n",
       "      <td>1.220965</td>\n",
       "      <td>1.0</td>\n",
       "      <td>3.0</td>\n",
       "      <td>4.0</td>\n",
       "      <td>4.0</td>\n",
       "      <td>5.0</td>\n",
       "    </tr>\n",
       "    <tr>\n",
       "      <th>85 or older</th>\n",
       "      <td>1.0</td>\n",
       "      <td>3.000000</td>\n",
       "      <td>NaN</td>\n",
       "      <td>3.0</td>\n",
       "      <td>3.0</td>\n",
       "      <td>3.0</td>\n",
       "      <td>3.0</td>\n",
       "      <td>3.0</td>\n",
       "    </tr>\n",
       "  </tbody>\n",
       "</table>\n",
       "</div>"
      ],
      "text/plain": [
       "                   count      mean       std  min  25%  50%  75%  max\n",
       "What is your age?                                                    \n",
       "35-44 years old      1.0  3.000000       NaN  3.0  3.0  3.0  3.0  3.0\n",
       "45-54 years old     12.0  3.416667  1.311372  1.0  2.0  4.0  4.0  5.0\n",
       "55-64 years old     50.0  3.320000  1.038838  1.0  3.0  3.5  4.0  5.0\n",
       "65-74 years old     71.0  3.169014  1.027979  1.0  3.0  3.0  4.0  5.0\n",
       "75-84 years old     35.0  3.457143  1.220965  1.0  3.0  4.0  4.0  5.0\n",
       "85 or older          1.0  3.000000       NaN  3.0  3.0  3.0  3.0  3.0"
      ]
     },
     "metadata": {},
     "output_type": "display_data"
    },
    {
     "name": "stdout",
     "output_type": "stream",
     "text": [
      "p-value =  0.20001866279477193\n",
      "u-value=  2305.0\n",
      "Young:  [1.1780697090120347, 3.3333333333333335, 5.488596957654632]\n",
      "Old:  [1.1248502977179209, 3.1666666666666665, 5.208483035615412]\n",
      "There is a Difference:  False\n",
      "\n",
      "========================================\n",
      "\n",
      "My tremors affect my level of confidence. \n",
      "Young\n"
     ]
    },
    {
     "data": {
      "image/png": "[encoded data removed]",
      "text/plain": [
       "<Figure size 432x288 with 1 Axes>"
      ]
     },
     "metadata": {
      "needs_background": "light"
     },
     "output_type": "display_data"
    },
    {
     "data": {
      "image/png": "[encoded data removed]",
      "text/plain": [
       "<Figure size 432x288 with 1 Axes>"
      ]
     },
     "metadata": {
      "needs_background": "light"
     },
     "output_type": "display_data"
    },
    {
     "name": "stdout",
     "output_type": "stream",
     "text": [
      "Old\n"
     ]
    },
    {
     "data": {
      "image/png": "[encoded data removed]",
      "text/plain": [
       "<Figure size 432x288 with 1 Axes>"
      ]
     },
     "metadata": {
      "needs_background": "light"
     },
     "output_type": "display_data"
    },
    {
     "data": {
      "image/png": "[encoded data removed]",
      "text/plain": [
       "<Figure size 432x288 with 1 Axes>"
      ]
     },
     "metadata": {
      "needs_background": "light"
     },
     "output_type": "display_data"
    },
    {
     "data": {
      "text/html": [
       "<div>\n",
       "<style scoped>\n",
       "    .dataframe tbody tr th:only-of-type {\n",
       "        vertical-align: middle;\n",
       "    }\n",
       "\n",
       "    .dataframe tbody tr th {\n",
       "        vertical-align: top;\n",
       "    }\n",
       "\n",
       "    .dataframe thead th {\n",
       "        text-align: right;\n",
       "    }\n",
       "</style>\n",
       "<table border=\"1\" class=\"dataframe\">\n",
       "  <thead>\n",
       "    <tr style=\"text-align: right;\">\n",
       "      <th></th>\n",
       "      <th>count</th>\n",
       "      <th>mean</th>\n",
       "      <th>std</th>\n",
       "      <th>min</th>\n",
       "      <th>25%</th>\n",
       "      <th>50%</th>\n",
       "      <th>75%</th>\n",
       "      <th>max</th>\n",
       "    </tr>\n",
       "    <tr>\n",
       "      <th>What is your age?</th>\n",
       "      <th></th>\n",
       "      <th></th>\n",
       "      <th></th>\n",
       "      <th></th>\n",
       "      <th></th>\n",
       "      <th></th>\n",
       "      <th></th>\n",
       "      <th></th>\n",
       "    </tr>\n",
       "  </thead>\n",
       "  <tbody>\n",
       "    <tr>\n",
       "      <th>35-44 years old</th>\n",
       "      <td>0.0</td>\n",
       "      <td>NaN</td>\n",
       "      <td>NaN</td>\n",
       "      <td>NaN</td>\n",
       "      <td>NaN</td>\n",
       "      <td>NaN</td>\n",
       "      <td>NaN</td>\n",
       "      <td>NaN</td>\n",
       "    </tr>\n",
       "    <tr>\n",
       "      <th>45-54 years old</th>\n",
       "      <td>10.0</td>\n",
       "      <td>3.700000</td>\n",
       "      <td>1.251666</td>\n",
       "      <td>1.0</td>\n",
       "      <td>4.0</td>\n",
       "      <td>4.0</td>\n",
       "      <td>4.0</td>\n",
       "      <td>5.0</td>\n",
       "    </tr>\n",
       "    <tr>\n",
       "      <th>55-64 years old</th>\n",
       "      <td>49.0</td>\n",
       "      <td>3.224490</td>\n",
       "      <td>1.159477</td>\n",
       "      <td>1.0</td>\n",
       "      <td>2.0</td>\n",
       "      <td>3.0</td>\n",
       "      <td>4.0</td>\n",
       "      <td>5.0</td>\n",
       "    </tr>\n",
       "    <tr>\n",
       "      <th>65-74 years old</th>\n",
       "      <td>70.0</td>\n",
       "      <td>2.957143</td>\n",
       "      <td>1.256124</td>\n",
       "      <td>1.0</td>\n",
       "      <td>2.0</td>\n",
       "      <td>3.0</td>\n",
       "      <td>4.0</td>\n",
       "      <td>5.0</td>\n",
       "    </tr>\n",
       "    <tr>\n",
       "      <th>75-84 years old</th>\n",
       "      <td>35.0</td>\n",
       "      <td>2.657143</td>\n",
       "      <td>1.136115</td>\n",
       "      <td>1.0</td>\n",
       "      <td>2.0</td>\n",
       "      <td>2.0</td>\n",
       "      <td>4.0</td>\n",
       "      <td>5.0</td>\n",
       "    </tr>\n",
       "    <tr>\n",
       "      <th>85 or older</th>\n",
       "      <td>1.0</td>\n",
       "      <td>3.000000</td>\n",
       "      <td>NaN</td>\n",
       "      <td>3.0</td>\n",
       "      <td>3.0</td>\n",
       "      <td>3.0</td>\n",
       "      <td>3.0</td>\n",
       "      <td>3.0</td>\n",
       "    </tr>\n",
       "  </tbody>\n",
       "</table>\n",
       "</div>"
      ],
      "text/plain": [
       "                   count      mean       std  min  25%  50%  75%  max\n",
       "What is your age?                                                    \n",
       "35-44 years old      0.0       NaN       NaN  NaN  NaN  NaN  NaN  NaN\n",
       "45-54 years old     10.0  3.700000  1.251666  1.0  4.0  4.0  4.0  5.0\n",
       "55-64 years old     49.0  3.224490  1.159477  1.0  2.0  3.0  4.0  5.0\n",
       "65-74 years old     70.0  2.957143  1.256124  1.0  2.0  3.0  4.0  5.0\n",
       "75-84 years old     35.0  2.657143  1.136115  1.0  2.0  2.0  4.0  5.0\n",
       "85 or older          1.0  3.000000       NaN  3.0  3.0  3.0  3.0  3.0"
      ]
     },
     "metadata": {},
     "output_type": "display_data"
    },
    {
     "name": "stdout",
     "output_type": "stream",
     "text": [
      "p-value =  0.06293667319666853\n",
      "u-value=  2138.0\n",
      "Young:  [0.9487510275752871, 3.305084745762712, 5.661418463950136]\n",
      "Old:  [0.4634874771240556, 2.9577464788732395, 5.452005480622423]\n",
      "There is a Difference:  False\n",
      "\n",
      "========================================\n",
      "\n",
      "I feel like my tremors cause others to perceive me as less competent. \n",
      "Young\n"
     ]
    },
    {
     "data": {
      "image/png": "[encoded data removed]",
      "text/plain": [
       "<Figure size 432x288 with 1 Axes>"
      ]
     },
     "metadata": {
      "needs_background": "light"
     },
     "output_type": "display_data"
    },
    {
     "data": {
      "image/png": "[encoded data removed]",
      "text/plain": [
       "<Figure size 432x288 with 1 Axes>"
      ]
     },
     "metadata": {
      "needs_background": "light"
     },
     "output_type": "display_data"
    },
    {
     "name": "stdout",
     "output_type": "stream",
     "text": [
      "Old\n"
     ]
    },
    {
     "data": {
      "image/png": "[encoded data removed]",
      "text/plain": [
       "<Figure size 432x288 with 1 Axes>"
      ]
     },
     "metadata": {
      "needs_background": "light"
     },
     "output_type": "display_data"
    },
    {
     "data": {
      "image/png": "[encoded data removed]",
      "text/plain": [
       "<Figure size 432x288 with 1 Axes>"
      ]
     },
     "metadata": {
      "needs_background": "light"
     },
     "output_type": "display_data"
    },
    {
     "data": {
      "text/html": [
       "<div>\n",
       "<style scoped>\n",
       "    .dataframe tbody tr th:only-of-type {\n",
       "        vertical-align: middle;\n",
       "    }\n",
       "\n",
       "    .dataframe tbody tr th {\n",
       "        vertical-align: top;\n",
       "    }\n",
       "\n",
       "    .dataframe thead th {\n",
       "        text-align: right;\n",
       "    }\n",
       "</style>\n",
       "<table border=\"1\" class=\"dataframe\">\n",
       "  <thead>\n",
       "    <tr style=\"text-align: right;\">\n",
       "      <th></th>\n",
       "      <th>count</th>\n",
       "      <th>mean</th>\n",
       "      <th>std</th>\n",
       "      <th>min</th>\n",
       "      <th>25%</th>\n",
       "      <th>50%</th>\n",
       "      <th>75%</th>\n",
       "      <th>max</th>\n",
       "    </tr>\n",
       "    <tr>\n",
       "      <th>What is your age?</th>\n",
       "      <th></th>\n",
       "      <th></th>\n",
       "      <th></th>\n",
       "      <th></th>\n",
       "      <th></th>\n",
       "      <th></th>\n",
       "      <th></th>\n",
       "      <th></th>\n",
       "    </tr>\n",
       "  </thead>\n",
       "  <tbody>\n",
       "    <tr>\n",
       "      <th>35-44 years old</th>\n",
       "      <td>0.0</td>\n",
       "      <td>NaN</td>\n",
       "      <td>NaN</td>\n",
       "      <td>NaN</td>\n",
       "      <td>NaN</td>\n",
       "      <td>NaN</td>\n",
       "      <td>NaN</td>\n",
       "      <td>NaN</td>\n",
       "    </tr>\n",
       "    <tr>\n",
       "      <th>45-54 years old</th>\n",
       "      <td>10.0</td>\n",
       "      <td>3.400000</td>\n",
       "      <td>1.074968</td>\n",
       "      <td>1.0</td>\n",
       "      <td>3.25</td>\n",
       "      <td>4.0</td>\n",
       "      <td>4.0</td>\n",
       "      <td>4.0</td>\n",
       "    </tr>\n",
       "    <tr>\n",
       "      <th>55-64 years old</th>\n",
       "      <td>49.0</td>\n",
       "      <td>3.571429</td>\n",
       "      <td>1.118034</td>\n",
       "      <td>1.0</td>\n",
       "      <td>3.00</td>\n",
       "      <td>4.0</td>\n",
       "      <td>4.0</td>\n",
       "      <td>5.0</td>\n",
       "    </tr>\n",
       "    <tr>\n",
       "      <th>65-74 years old</th>\n",
       "      <td>70.0</td>\n",
       "      <td>3.242857</td>\n",
       "      <td>1.172582</td>\n",
       "      <td>1.0</td>\n",
       "      <td>2.00</td>\n",
       "      <td>4.0</td>\n",
       "      <td>4.0</td>\n",
       "      <td>5.0</td>\n",
       "    </tr>\n",
       "    <tr>\n",
       "      <th>75-84 years old</th>\n",
       "      <td>35.0</td>\n",
       "      <td>3.028571</td>\n",
       "      <td>1.175378</td>\n",
       "      <td>1.0</td>\n",
       "      <td>2.00</td>\n",
       "      <td>3.0</td>\n",
       "      <td>4.0</td>\n",
       "      <td>5.0</td>\n",
       "    </tr>\n",
       "    <tr>\n",
       "      <th>85 or older</th>\n",
       "      <td>1.0</td>\n",
       "      <td>3.000000</td>\n",
       "      <td>NaN</td>\n",
       "      <td>3.0</td>\n",
       "      <td>3.00</td>\n",
       "      <td>3.0</td>\n",
       "      <td>3.0</td>\n",
       "      <td>3.0</td>\n",
       "    </tr>\n",
       "  </tbody>\n",
       "</table>\n",
       "</div>"
      ],
      "text/plain": [
       "                   count      mean       std  min   25%  50%  75%  max\n",
       "What is your age?                                                     \n",
       "35-44 years old      0.0       NaN       NaN  NaN   NaN  NaN  NaN  NaN\n",
       "45-54 years old     10.0  3.400000  1.074968  1.0  3.25  4.0  4.0  4.0\n",
       "55-64 years old     49.0  3.571429  1.118034  1.0  3.00  4.0  4.0  5.0\n",
       "65-74 years old     70.0  3.242857  1.172582  1.0  2.00  4.0  4.0  5.0\n",
       "75-84 years old     35.0  3.028571  1.175378  1.0  2.00  3.0  4.0  5.0\n",
       "85 or older          1.0  3.000000       NaN  3.0  3.00  3.0  3.0  3.0"
      ]
     },
     "metadata": {},
     "output_type": "display_data"
    },
    {
     "name": "stdout",
     "output_type": "stream",
     "text": [
      "p-value =  0.06344250352906804\n",
      "u-value=  2143.5\n",
      "Young:  [1.3351110763975154, 3.542372881355932, 5.749634686314349]\n",
      "Old:  [0.9103708663093997, 3.23943661971831, 5.56850237312722]\n",
      "There is a Difference:  False\n",
      "\n",
      "========================================\n",
      "\n"
     ]
    }
   ],
   "source": [
    "# Age Cell\n",
    "# Compute the Mann-Whitney rank test on samples x and y\n",
    "# scipy.stats.mannwhitneyu(x, y, use_continuity=True, alternative=None)\n",
    "\n",
    "g = df.groupby('What is your age?')\n",
    "\n",
    "df_young = df[(df['What is your age?'] == '18-24 years old') | \n",
    "             (df['What is your age?'] == '25-34 years old') |\n",
    "             (df['What is your age?'] == '35-44 years old') |\n",
    "             (df['What is your age?'] == '45-54 years old') |\n",
    "             (df['What is your age?'] == '55-64 years old')].copy()\n",
    "\n",
    "df_old = df[(df['What is your age?'] == '65-74 years old') |\n",
    "             (df['What is your age?'] == '75-74 years old') |\n",
    "             (df['What is your age?'] == '85 or older')].copy()\n",
    "\n",
    "for q in q_list:\n",
    "    col_name = q\n",
    "    print(col_name)\n",
    "    print(\"Young\")\n",
    "    df_young[col_name].hist()\n",
    "    plt.show()\n",
    "    df_young.boxplot(col_name)\n",
    "    plt.show()\n",
    "    print(\"Old\")\n",
    "    df_old[col_name].hist()\n",
    "    plt.show()\n",
    "    df_old.boxplot(col_name)\n",
    "    plt.show()\n",
    "    display(g[col_name].describe())\n",
    "    #Statistic test\n",
    "    u,p = mannwhitneyu(df_young[col_name], df_old[col_name])\n",
    "    print('p-value = ', p)\n",
    "    print('u-value= ', u)\n",
    "    mu1 = df_young[col_name].mean()\n",
    "    std1 = df_young[col_name].std()\n",
    "    mu2 = df_old[col_name].mean()\n",
    "    std2 = df_old[col_name].std()\n",
    "    print(\"Young: \", compute_interval95(mu1, std1))\n",
    "    print(\"Old: \", compute_interval95(mu2, std2))\n",
    "    print(\"There is a Difference: \", is_difference(compute_interval95(mu1, std1), compute_interval95(mu2, std2)))\n",
    "    print('\\n========================================\\n')"
   ]
  },
  {
   "cell_type": "code",
   "execution_count": 28,
   "metadata": {},
   "outputs": [
    {
     "name": "stdout",
     "output_type": "stream",
     "text": [
      "66 111\n"
     ]
    }
   ],
   "source": [
    "df_white = df[(df['What is your race? (Check all that apply)'] == 'White')].copy()\n",
    "df_notwhite = df[(df['What is your race? (Check all that apply)'] != 'White')].copy()\n",
    "print(len(df_white), len(df_notwhite))"
   ]
  },
  {
   "cell_type": "code",
   "execution_count": 22,
   "metadata": {},
   "outputs": [
    {
     "name": "stdout",
     "output_type": "stream",
     "text": [
      "I would like to have the option to remove tremors from videos of myself.\n",
      "White\n"
     ]
    },
    {
     "data": {
      "image/png": "[encoded data removed]",
      "text/plain": [
       "<Figure size 432x288 with 1 Axes>"
      ]
     },
     "metadata": {
      "needs_background": "light"
     },
     "output_type": "display_data"
    },
    {
     "data": {
      "image/png": "[encoded data removed]",
      "text/plain": [
       "<Figure size 432x288 with 1 Axes>"
      ]
     },
     "metadata": {
      "needs_background": "light"
     },
     "output_type": "display_data"
    },
    {
     "name": "stdout",
     "output_type": "stream",
     "text": [
      "Not White\n"
     ]
    },
    {
     "data": {
      "image/png": "[encoded data removed]",
      "text/plain": [
       "<Figure size 432x288 with 1 Axes>"
      ]
     },
     "metadata": {
      "needs_background": "light"
     },
     "output_type": "display_data"
    },
    {
     "data": {
      "image/png": "[encoded data removed]",
      "text/plain": [
       "<Figure size 432x288 with 1 Axes>"
      ]
     },
     "metadata": {
      "needs_background": "light"
     },
     "output_type": "display_data"
    },
    {
     "data": {
      "text/html": [
       "<div>\n",
       "<style scoped>\n",
       "    .dataframe tbody tr th:only-of-type {\n",
       "        vertical-align: middle;\n",
       "    }\n",
       "\n",
       "    .dataframe tbody tr th {\n",
       "        vertical-align: top;\n",
       "    }\n",
       "\n",
       "    .dataframe thead th {\n",
       "        text-align: right;\n",
       "    }\n",
       "</style>\n",
       "<table border=\"1\" class=\"dataframe\">\n",
       "  <thead>\n",
       "    <tr style=\"text-align: right;\">\n",
       "      <th></th>\n",
       "      <th>count</th>\n",
       "      <th>mean</th>\n",
       "      <th>std</th>\n",
       "      <th>min</th>\n",
       "      <th>25%</th>\n",
       "      <th>50%</th>\n",
       "      <th>75%</th>\n",
       "      <th>max</th>\n",
       "    </tr>\n",
       "    <tr>\n",
       "      <th>What is your race? (Check all that apply)</th>\n",
       "      <th></th>\n",
       "      <th></th>\n",
       "      <th></th>\n",
       "      <th></th>\n",
       "      <th></th>\n",
       "      <th></th>\n",
       "      <th></th>\n",
       "      <th></th>\n",
       "    </tr>\n",
       "  </thead>\n",
       "  <tbody>\n",
       "    <tr>\n",
       "      <th>American Indian or Alaska Native</th>\n",
       "      <td>1.0</td>\n",
       "      <td>4.000000</td>\n",
       "      <td>NaN</td>\n",
       "      <td>4.0</td>\n",
       "      <td>4.00</td>\n",
       "      <td>4.0</td>\n",
       "      <td>4.00</td>\n",
       "      <td>4.0</td>\n",
       "    </tr>\n",
       "    <tr>\n",
       "      <th>Asian</th>\n",
       "      <td>2.0</td>\n",
       "      <td>3.500000</td>\n",
       "      <td>0.707107</td>\n",
       "      <td>3.0</td>\n",
       "      <td>3.25</td>\n",
       "      <td>3.5</td>\n",
       "      <td>3.75</td>\n",
       "      <td>4.0</td>\n",
       "    </tr>\n",
       "    <tr>\n",
       "      <th>Black or African American</th>\n",
       "      <td>1.0</td>\n",
       "      <td>3.000000</td>\n",
       "      <td>NaN</td>\n",
       "      <td>3.0</td>\n",
       "      <td>3.00</td>\n",
       "      <td>3.0</td>\n",
       "      <td>3.00</td>\n",
       "      <td>3.0</td>\n",
       "    </tr>\n",
       "    <tr>\n",
       "      <th>Other</th>\n",
       "      <td>5.0</td>\n",
       "      <td>3.400000</td>\n",
       "      <td>0.547723</td>\n",
       "      <td>3.0</td>\n",
       "      <td>3.00</td>\n",
       "      <td>3.0</td>\n",
       "      <td>4.00</td>\n",
       "      <td>4.0</td>\n",
       "    </tr>\n",
       "    <tr>\n",
       "      <th>White</th>\n",
       "      <td>66.0</td>\n",
       "      <td>3.227273</td>\n",
       "      <td>1.019735</td>\n",
       "      <td>1.0</td>\n",
       "      <td>3.00</td>\n",
       "      <td>3.0</td>\n",
       "      <td>4.00</td>\n",
       "      <td>5.0</td>\n",
       "    </tr>\n",
       "    <tr>\n",
       "      <th>White;American Indian or Alaska Native</th>\n",
       "      <td>1.0</td>\n",
       "      <td>3.000000</td>\n",
       "      <td>NaN</td>\n",
       "      <td>3.0</td>\n",
       "      <td>3.00</td>\n",
       "      <td>3.0</td>\n",
       "      <td>3.00</td>\n",
       "      <td>3.0</td>\n",
       "    </tr>\n",
       "  </tbody>\n",
       "</table>\n",
       "</div>"
      ],
      "text/plain": [
       "                                           count      mean       std  min  \\\n",
       "What is your race? (Check all that apply)                                   \n",
       "American Indian or Alaska Native             1.0  4.000000       NaN  4.0   \n",
       "Asian                                        2.0  3.500000  0.707107  3.0   \n",
       "Black or African American                    1.0  3.000000       NaN  3.0   \n",
       "Other                                        5.0  3.400000  0.547723  3.0   \n",
       "White                                       66.0  3.227273  1.019735  1.0   \n",
       "White;American Indian or Alaska Native       1.0  3.000000       NaN  3.0   \n",
       "\n",
       "                                            25%  50%   75%  max  \n",
       "What is your race? (Check all that apply)                        \n",
       "American Indian or Alaska Native           4.00  4.0  4.00  4.0  \n",
       "Asian                                      3.25  3.5  3.75  4.0  \n",
       "Black or African American                  3.00  3.0  3.00  3.0  \n",
       "Other                                      3.00  3.0  4.00  4.0  \n",
       "White                                      3.00  3.0  4.00  5.0  \n",
       "White;American Indian or Alaska Native     3.00  3.0  3.00  3.0  "
      ]
     },
     "metadata": {},
     "output_type": "display_data"
    },
    {
     "name": "stdout",
     "output_type": "stream",
     "text": [
      "p-value =  0.04841724921192014\n",
      "u-value=  4.107919181288745\n",
      "White:  [1.1878020705971863, 3.227272727272727, 5.266743383948268]\n",
      "Not White:  [1.368993053145093, 3.3846153846153846, 5.400237716085677]\n",
      "There is a Difference:  False\n",
      "\n",
      "========================================\n",
      "\n",
      "I would like for viewers to have the option to remove tremors from a video of myself.\n",
      "White\n"
     ]
    },
    {
     "data": {
      "image/png": "[encoded data removed]",
      "text/plain": [
       "<Figure size 432x288 with 1 Axes>"
      ]
     },
     "metadata": {
      "needs_background": "light"
     },
     "output_type": "display_data"
    },
    {
     "data": {
      "image/png": "[encoded data removed]",
      "text/plain": [
       "<Figure size 432x288 with 1 Axes>"
      ]
     },
     "metadata": {
      "needs_background": "light"
     },
     "output_type": "display_data"
    },
    {
     "name": "stdout",
     "output_type": "stream",
     "text": [
      "Not White\n"
     ]
    },
    {
     "data": {
      "image/png": "[encoded data removed]",
      "text/plain": [
       "<Figure size 432x288 with 1 Axes>"
      ]
     },
     "metadata": {
      "needs_background": "light"
     },
     "output_type": "display_data"
    },
    {
     "data": {
      "image/png": "[encoded data removed]",
      "text/plain": [
       "<Figure size 432x288 with 1 Axes>"
      ]
     },
     "metadata": {
      "needs_background": "light"
     },
     "output_type": "display_data"
    },
    {
     "data": {
      "text/html": [
       "<div>\n",
       "<style scoped>\n",
       "    .dataframe tbody tr th:only-of-type {\n",
       "        vertical-align: middle;\n",
       "    }\n",
       "\n",
       "    .dataframe tbody tr th {\n",
       "        vertical-align: top;\n",
       "    }\n",
       "\n",
       "    .dataframe thead th {\n",
       "        text-align: right;\n",
       "    }\n",
       "</style>\n",
       "<table border=\"1\" class=\"dataframe\">\n",
       "  <thead>\n",
       "    <tr style=\"text-align: right;\">\n",
       "      <th></th>\n",
       "      <th>count</th>\n",
       "      <th>mean</th>\n",
       "      <th>std</th>\n",
       "      <th>min</th>\n",
       "      <th>25%</th>\n",
       "      <th>50%</th>\n",
       "      <th>75%</th>\n",
       "      <th>max</th>\n",
       "    </tr>\n",
       "    <tr>\n",
       "      <th>What is your race? (Check all that apply)</th>\n",
       "      <th></th>\n",
       "      <th></th>\n",
       "      <th></th>\n",
       "      <th></th>\n",
       "      <th></th>\n",
       "      <th></th>\n",
       "      <th></th>\n",
       "      <th></th>\n",
       "    </tr>\n",
       "  </thead>\n",
       "  <tbody>\n",
       "    <tr>\n",
       "      <th>American Indian or Alaska Native</th>\n",
       "      <td>1.0</td>\n",
       "      <td>5.000000</td>\n",
       "      <td>NaN</td>\n",
       "      <td>5.0</td>\n",
       "      <td>5.0</td>\n",
       "      <td>5.0</td>\n",
       "      <td>5.0</td>\n",
       "      <td>5.0</td>\n",
       "    </tr>\n",
       "    <tr>\n",
       "      <th>Asian</th>\n",
       "      <td>2.0</td>\n",
       "      <td>3.000000</td>\n",
       "      <td>1.414214</td>\n",
       "      <td>2.0</td>\n",
       "      <td>2.5</td>\n",
       "      <td>3.0</td>\n",
       "      <td>3.5</td>\n",
       "      <td>4.0</td>\n",
       "    </tr>\n",
       "    <tr>\n",
       "      <th>Black or African American</th>\n",
       "      <td>1.0</td>\n",
       "      <td>1.000000</td>\n",
       "      <td>NaN</td>\n",
       "      <td>1.0</td>\n",
       "      <td>1.0</td>\n",
       "      <td>1.0</td>\n",
       "      <td>1.0</td>\n",
       "      <td>1.0</td>\n",
       "    </tr>\n",
       "    <tr>\n",
       "      <th>Other</th>\n",
       "      <td>5.0</td>\n",
       "      <td>3.800000</td>\n",
       "      <td>0.447214</td>\n",
       "      <td>3.0</td>\n",
       "      <td>4.0</td>\n",
       "      <td>4.0</td>\n",
       "      <td>4.0</td>\n",
       "      <td>4.0</td>\n",
       "    </tr>\n",
       "    <tr>\n",
       "      <th>White</th>\n",
       "      <td>66.0</td>\n",
       "      <td>3.227273</td>\n",
       "      <td>1.019735</td>\n",
       "      <td>1.0</td>\n",
       "      <td>3.0</td>\n",
       "      <td>3.0</td>\n",
       "      <td>4.0</td>\n",
       "      <td>5.0</td>\n",
       "    </tr>\n",
       "    <tr>\n",
       "      <th>White;American Indian or Alaska Native</th>\n",
       "      <td>1.0</td>\n",
       "      <td>4.000000</td>\n",
       "      <td>NaN</td>\n",
       "      <td>4.0</td>\n",
       "      <td>4.0</td>\n",
       "      <td>4.0</td>\n",
       "      <td>4.0</td>\n",
       "      <td>4.0</td>\n",
       "    </tr>\n",
       "  </tbody>\n",
       "</table>\n",
       "</div>"
      ],
      "text/plain": [
       "                                           count      mean       std  min  \\\n",
       "What is your race? (Check all that apply)                                   \n",
       "American Indian or Alaska Native             1.0  5.000000       NaN  5.0   \n",
       "Asian                                        2.0  3.000000  1.414214  2.0   \n",
       "Black or African American                    1.0  1.000000       NaN  1.0   \n",
       "Other                                        5.0  3.800000  0.447214  3.0   \n",
       "White                                       66.0  3.227273  1.019735  1.0   \n",
       "White;American Indian or Alaska Native       1.0  4.000000       NaN  4.0   \n",
       "\n",
       "                                           25%  50%  75%  max  \n",
       "What is your race? (Check all that apply)                      \n",
       "American Indian or Alaska Native           5.0  5.0  5.0  5.0  \n",
       "Asian                                      2.5  3.0  3.5  4.0  \n",
       "Black or African American                  1.0  1.0  1.0  1.0  \n",
       "Other                                      4.0  4.0  4.0  4.0  \n",
       "White                                      3.0  3.0  4.0  5.0  \n",
       "White;American Indian or Alaska Native     4.0  4.0  4.0  4.0  "
      ]
     },
     "metadata": {},
     "output_type": "display_data"
    },
    {
     "name": "stdout",
     "output_type": "stream",
     "text": [
      "p-value =  0.06749092532141368\n",
      "u-value=  4.107919181288745\n",
      "White:  [1.1878020705971863, 3.227272727272727, 5.266743383948268]\n",
      "Not White:  [1.0723948147716724, 3.326923076923077, 5.581451339074482]\n",
      "There is a Difference:  False\n",
      "\n",
      "========================================\n",
      "\n",
      "My tremors affect my level of confidence. \n",
      "White\n"
     ]
    },
    {
     "data": {
      "image/png": "[encoded data removed]",
      "text/plain": [
       "<Figure size 432x288 with 1 Axes>"
      ]
     },
     "metadata": {
      "needs_background": "light"
     },
     "output_type": "display_data"
    },
    {
     "data": {
      "image/png": "[encoded data removed]",
      "text/plain": [
       "<Figure size 432x288 with 1 Axes>"
      ]
     },
     "metadata": {
      "needs_background": "light"
     },
     "output_type": "display_data"
    },
    {
     "name": "stdout",
     "output_type": "stream",
     "text": [
      "Not White\n"
     ]
    },
    {
     "data": {
      "image/png": "[encoded data removed]",
      "text/plain": [
       "<Figure size 432x288 with 1 Axes>"
      ]
     },
     "metadata": {
      "needs_background": "light"
     },
     "output_type": "display_data"
    },
    {
     "data": {
      "image/png": "[encoded data removed]",
      "text/plain": [
       "<Figure size 432x288 with 1 Axes>"
      ]
     },
     "metadata": {
      "needs_background": "light"
     },
     "output_type": "display_data"
    },
    {
     "data": {
      "text/html": [
       "<div>\n",
       "<style scoped>\n",
       "    .dataframe tbody tr th:only-of-type {\n",
       "        vertical-align: middle;\n",
       "    }\n",
       "\n",
       "    .dataframe tbody tr th {\n",
       "        vertical-align: top;\n",
       "    }\n",
       "\n",
       "    .dataframe thead th {\n",
       "        text-align: right;\n",
       "    }\n",
       "</style>\n",
       "<table border=\"1\" class=\"dataframe\">\n",
       "  <thead>\n",
       "    <tr style=\"text-align: right;\">\n",
       "      <th></th>\n",
       "      <th>count</th>\n",
       "      <th>mean</th>\n",
       "      <th>std</th>\n",
       "      <th>min</th>\n",
       "      <th>25%</th>\n",
       "      <th>50%</th>\n",
       "      <th>75%</th>\n",
       "      <th>max</th>\n",
       "    </tr>\n",
       "    <tr>\n",
       "      <th>What is your race? (Check all that apply)</th>\n",
       "      <th></th>\n",
       "      <th></th>\n",
       "      <th></th>\n",
       "      <th></th>\n",
       "      <th></th>\n",
       "      <th></th>\n",
       "      <th></th>\n",
       "      <th></th>\n",
       "    </tr>\n",
       "  </thead>\n",
       "  <tbody>\n",
       "    <tr>\n",
       "      <th>American Indian or Alaska Native</th>\n",
       "      <td>0.0</td>\n",
       "      <td>NaN</td>\n",
       "      <td>NaN</td>\n",
       "      <td>NaN</td>\n",
       "      <td>NaN</td>\n",
       "      <td>NaN</td>\n",
       "      <td>NaN</td>\n",
       "      <td>NaN</td>\n",
       "    </tr>\n",
       "    <tr>\n",
       "      <th>Asian</th>\n",
       "      <td>2.0</td>\n",
       "      <td>2.500000</td>\n",
       "      <td>2.121320</td>\n",
       "      <td>1.0</td>\n",
       "      <td>1.75</td>\n",
       "      <td>2.5</td>\n",
       "      <td>3.25</td>\n",
       "      <td>4.0</td>\n",
       "    </tr>\n",
       "    <tr>\n",
       "      <th>Black or African American</th>\n",
       "      <td>1.0</td>\n",
       "      <td>2.000000</td>\n",
       "      <td>NaN</td>\n",
       "      <td>2.0</td>\n",
       "      <td>2.00</td>\n",
       "      <td>2.0</td>\n",
       "      <td>2.00</td>\n",
       "      <td>2.0</td>\n",
       "    </tr>\n",
       "    <tr>\n",
       "      <th>Other</th>\n",
       "      <td>3.0</td>\n",
       "      <td>2.333333</td>\n",
       "      <td>0.577350</td>\n",
       "      <td>2.0</td>\n",
       "      <td>2.00</td>\n",
       "      <td>2.0</td>\n",
       "      <td>2.50</td>\n",
       "      <td>3.0</td>\n",
       "    </tr>\n",
       "    <tr>\n",
       "      <th>White</th>\n",
       "      <td>64.0</td>\n",
       "      <td>3.046875</td>\n",
       "      <td>1.227071</td>\n",
       "      <td>1.0</td>\n",
       "      <td>2.00</td>\n",
       "      <td>3.0</td>\n",
       "      <td>4.00</td>\n",
       "      <td>5.0</td>\n",
       "    </tr>\n",
       "    <tr>\n",
       "      <th>White;American Indian or Alaska Native</th>\n",
       "      <td>1.0</td>\n",
       "      <td>2.000000</td>\n",
       "      <td>NaN</td>\n",
       "      <td>2.0</td>\n",
       "      <td>2.00</td>\n",
       "      <td>2.0</td>\n",
       "      <td>2.00</td>\n",
       "      <td>2.0</td>\n",
       "    </tr>\n",
       "  </tbody>\n",
       "</table>\n",
       "</div>"
      ],
      "text/plain": [
       "                                           count      mean       std  min  \\\n",
       "What is your race? (Check all that apply)                                   \n",
       "American Indian or Alaska Native             0.0       NaN       NaN  NaN   \n",
       "Asian                                        2.0  2.500000  2.121320  1.0   \n",
       "Black or African American                    1.0  2.000000       NaN  2.0   \n",
       "Other                                        3.0  2.333333  0.577350  2.0   \n",
       "White                                       64.0  3.046875  1.227071  1.0   \n",
       "White;American Indian or Alaska Native       1.0  2.000000       NaN  2.0   \n",
       "\n",
       "                                            25%  50%   75%  max  \n",
       "What is your race? (Check all that apply)                        \n",
       "American Indian or Alaska Native            NaN  NaN   NaN  NaN  \n",
       "Asian                                      1.75  2.5  3.25  4.0  \n",
       "Black or African American                  2.00  2.0  2.00  2.0  \n",
       "Other                                      2.00  2.0  2.50  3.0  \n",
       "White                                      2.00  3.0  4.00  5.0  \n",
       "White;American Indian or Alaska Native     2.00  2.0  2.00  2.0  "
      ]
     },
     "metadata": {},
     "output_type": "display_data"
    },
    {
     "name": "stdout",
     "output_type": "stream",
     "text": [
      "p-value =  0.3167573973386376\n",
      "u-value=  4.107919181288745\n",
      "White:  [0.5927320823365929, 3.046875, 5.5010179176634075]\n",
      "Not White:  [0.5668949878807124, 3.0, 5.433105012119288]\n",
      "There is a Difference:  False\n",
      "\n",
      "========================================\n",
      "\n",
      "I feel like my tremors cause others to perceive me as less competent. \n",
      "White\n"
     ]
    },
    {
     "data": {
      "image/png": "[encoded data removed]",
      "text/plain": [
       "<Figure size 432x288 with 1 Axes>"
      ]
     },
     "metadata": {
      "needs_background": "light"
     },
     "output_type": "display_data"
    },
    {
     "data": {
      "image/png": "[encoded data removed]",
      "text/plain": [
       "<Figure size 432x288 with 1 Axes>"
      ]
     },
     "metadata": {
      "needs_background": "light"
     },
     "output_type": "display_data"
    },
    {
     "name": "stdout",
     "output_type": "stream",
     "text": [
      "Not White\n"
     ]
    },
    {
     "data": {
      "image/png": "[encoded data removed]",
      "text/plain": [
       "<Figure size 432x288 with 1 Axes>"
      ]
     },
     "metadata": {
      "needs_background": "light"
     },
     "output_type": "display_data"
    },
    {
     "data": {
      "image/png": "[encoded data removed]",
      "text/plain": [
       "<Figure size 432x288 with 1 Axes>"
      ]
     },
     "metadata": {
      "needs_background": "light"
     },
     "output_type": "display_data"
    },
    {
     "data": {
      "text/html": [
       "<div>\n",
       "<style scoped>\n",
       "    .dataframe tbody tr th:only-of-type {\n",
       "        vertical-align: middle;\n",
       "    }\n",
       "\n",
       "    .dataframe tbody tr th {\n",
       "        vertical-align: top;\n",
       "    }\n",
       "\n",
       "    .dataframe thead th {\n",
       "        text-align: right;\n",
       "    }\n",
       "</style>\n",
       "<table border=\"1\" class=\"dataframe\">\n",
       "  <thead>\n",
       "    <tr style=\"text-align: right;\">\n",
       "      <th></th>\n",
       "      <th>count</th>\n",
       "      <th>mean</th>\n",
       "      <th>std</th>\n",
       "      <th>min</th>\n",
       "      <th>25%</th>\n",
       "      <th>50%</th>\n",
       "      <th>75%</th>\n",
       "      <th>max</th>\n",
       "    </tr>\n",
       "    <tr>\n",
       "      <th>What is your race? (Check all that apply)</th>\n",
       "      <th></th>\n",
       "      <th></th>\n",
       "      <th></th>\n",
       "      <th></th>\n",
       "      <th></th>\n",
       "      <th></th>\n",
       "      <th></th>\n",
       "      <th></th>\n",
       "    </tr>\n",
       "  </thead>\n",
       "  <tbody>\n",
       "    <tr>\n",
       "      <th>American Indian or Alaska Native</th>\n",
       "      <td>0.0</td>\n",
       "      <td>NaN</td>\n",
       "      <td>NaN</td>\n",
       "      <td>NaN</td>\n",
       "      <td>NaN</td>\n",
       "      <td>NaN</td>\n",
       "      <td>NaN</td>\n",
       "      <td>NaN</td>\n",
       "    </tr>\n",
       "    <tr>\n",
       "      <th>Asian</th>\n",
       "      <td>2.0</td>\n",
       "      <td>2.500000</td>\n",
       "      <td>0.707107</td>\n",
       "      <td>2.0</td>\n",
       "      <td>2.25</td>\n",
       "      <td>2.5</td>\n",
       "      <td>2.75</td>\n",
       "      <td>3.0</td>\n",
       "    </tr>\n",
       "    <tr>\n",
       "      <th>Black or African American</th>\n",
       "      <td>1.0</td>\n",
       "      <td>4.000000</td>\n",
       "      <td>NaN</td>\n",
       "      <td>4.0</td>\n",
       "      <td>4.00</td>\n",
       "      <td>4.0</td>\n",
       "      <td>4.00</td>\n",
       "      <td>4.0</td>\n",
       "    </tr>\n",
       "    <tr>\n",
       "      <th>Other</th>\n",
       "      <td>3.0</td>\n",
       "      <td>3.666667</td>\n",
       "      <td>0.577350</td>\n",
       "      <td>3.0</td>\n",
       "      <td>3.50</td>\n",
       "      <td>4.0</td>\n",
       "      <td>4.00</td>\n",
       "      <td>4.0</td>\n",
       "    </tr>\n",
       "    <tr>\n",
       "      <th>White</th>\n",
       "      <td>64.0</td>\n",
       "      <td>3.281250</td>\n",
       "      <td>1.133456</td>\n",
       "      <td>1.0</td>\n",
       "      <td>2.00</td>\n",
       "      <td>4.0</td>\n",
       "      <td>4.00</td>\n",
       "      <td>5.0</td>\n",
       "    </tr>\n",
       "    <tr>\n",
       "      <th>White;American Indian or Alaska Native</th>\n",
       "      <td>1.0</td>\n",
       "      <td>4.000000</td>\n",
       "      <td>NaN</td>\n",
       "      <td>4.0</td>\n",
       "      <td>4.00</td>\n",
       "      <td>4.0</td>\n",
       "      <td>4.00</td>\n",
       "      <td>4.0</td>\n",
       "    </tr>\n",
       "  </tbody>\n",
       "</table>\n",
       "</div>"
      ],
      "text/plain": [
       "                                           count      mean       std  min  \\\n",
       "What is your race? (Check all that apply)                                   \n",
       "American Indian or Alaska Native             0.0       NaN       NaN  NaN   \n",
       "Asian                                        2.0  2.500000  0.707107  2.0   \n",
       "Black or African American                    1.0  4.000000       NaN  4.0   \n",
       "Other                                        3.0  3.666667  0.577350  3.0   \n",
       "White                                       64.0  3.281250  1.133456  1.0   \n",
       "White;American Indian or Alaska Native       1.0  4.000000       NaN  4.0   \n",
       "\n",
       "                                            25%  50%   75%  max  \n",
       "What is your race? (Check all that apply)                        \n",
       "American Indian or Alaska Native            NaN  NaN   NaN  NaN  \n",
       "Asian                                      2.25  2.5  2.75  3.0  \n",
       "Black or African American                  4.00  4.0  4.00  4.0  \n",
       "Other                                      3.50  4.0  4.00  4.0  \n",
       "White                                      2.00  4.0  4.00  5.0  \n",
       "White;American Indian or Alaska Native     4.00  4.0  4.00  4.0  "
      ]
     },
     "metadata": {},
     "output_type": "display_data"
    },
    {
     "name": "stdout",
     "output_type": "stream",
     "text": [
      "p-value =  0.1726261990068968\n",
      "u-value=  4.107919181288745\n",
      "White:  [1.0143382485440928, 3.28125, 5.548161751455908]\n",
      "Not White:  [0.9685439142727423, 3.3168316831683167, 5.665119452063891]\n",
      "There is a Difference:  False\n",
      "\n",
      "========================================\n",
      "\n"
     ]
    }
   ],
   "source": [
    "# Race Cell\n",
    "# Compute the Mann-Whitney rank test on samples x and y\n",
    "# scipy.stats.mannwhitneyu(x, y, use_continuity=True, alternative=None)\n",
    "\n",
    "g = df.groupby('What is your race? (Check all that apply)')\n",
    "\n",
    "df_white = df[(df['What is your race? (Check all that apply)'] == 'White')].copy()\n",
    "df_notwhite = df[(df['What is your race? (Check all that apply)'] != 'White')].copy()\n",
    "\n",
    "for q in q_list:\n",
    "    col_name = q\n",
    "    print(col_name)\n",
    "    print(\"White\")\n",
    "    df_white[col_name].hist()\n",
    "    plt.show()\n",
    "    df_white.boxplot(col_name)\n",
    "    plt.show()\n",
    "    print(\"Not White\")\n",
    "    df_notwhite[col_name].hist()\n",
    "    plt.show()\n",
    "    df_notwhite.boxplot(col_name)\n",
    "    plt.show()\n",
    "    display(g[col_name].describe())\n",
    "    #Statistic test\n",
    "    u,p = mannwhitneyu(df_white[col_name], df_notwhite[col_name])\n",
    "    print('p-value = ', p)\n",
    "    print('u-value= ', u)\n",
    "    mu1 = df_white[col_name].mean()\n",
    "    std1 = df_white[col_name].std()\n",
    "    mu2 = df_notwhite[col_name].mean()\n",
    "    std2 = df_notwhite[col_name].std()\n",
    "    print(\"White: \", compute_interval95(mu1, std1))\n",
    "    print(\"Not White: \", compute_interval95(mu2, std2))\n",
    "    print(\"There is a Difference: \", is_difference(compute_interval95(mu1, std1), compute_interval95(mu2, std2)))\n",
    "    print('\\n========================================\\n')"
   ]
  },
  {
   "cell_type": "code",
   "execution_count": 34,
   "metadata": {},
   "outputs": [
    {
     "name": "stdout",
     "output_type": "stream",
     "text": [
      "I would like to have the option to remove tremors from videos of myself.\n",
      "High Education\n"
     ]
    },
    {
     "data": {
      "image/png": "[encoded data removed]",
      "text/plain": [
       "<Figure size 432x288 with 1 Axes>"
      ]
     },
     "metadata": {
      "needs_background": "light"
     },
     "output_type": "display_data"
    },
    {
     "data": {
      "image/png": "[encoded data removed]",
      "text/plain": [
       "<Figure size 432x288 with 1 Axes>"
      ]
     },
     "metadata": {
      "needs_background": "light"
     },
     "output_type": "display_data"
    },
    {
     "name": "stdout",
     "output_type": "stream",
     "text": [
      "Low Education\n"
     ]
    },
    {
     "data": {
      "image/png": "[encoded data removed]",
      "text/plain": [
       "<Figure size 432x288 with 1 Axes>"
      ]
     },
     "metadata": {
      "needs_background": "light"
     },
     "output_type": "display_data"
    },
    {
     "data": {
      "image/png": "[encoded data removed]",
      "text/plain": [
       "<Figure size 432x288 with 1 Axes>"
      ]
     },
     "metadata": {
      "needs_background": "light"
     },
     "output_type": "display_data"
    },
    {
     "data": {
      "text/html": [
       "<div>\n",
       "<style scoped>\n",
       "    .dataframe tbody tr th:only-of-type {\n",
       "        vertical-align: middle;\n",
       "    }\n",
       "\n",
       "    .dataframe tbody tr th {\n",
       "        vertical-align: top;\n",
       "    }\n",
       "\n",
       "    .dataframe thead th {\n",
       "        text-align: right;\n",
       "    }\n",
       "</style>\n",
       "<table border=\"1\" class=\"dataframe\">\n",
       "  <thead>\n",
       "    <tr style=\"text-align: right;\">\n",
       "      <th></th>\n",
       "      <th>count</th>\n",
       "      <th>mean</th>\n",
       "      <th>std</th>\n",
       "      <th>min</th>\n",
       "      <th>25%</th>\n",
       "      <th>50%</th>\n",
       "      <th>75%</th>\n",
       "      <th>max</th>\n",
       "    </tr>\n",
       "    <tr>\n",
       "      <th>What is the highest level of education you have obtained?</th>\n",
       "      <th></th>\n",
       "      <th></th>\n",
       "      <th></th>\n",
       "      <th></th>\n",
       "      <th></th>\n",
       "      <th></th>\n",
       "      <th></th>\n",
       "      <th></th>\n",
       "    </tr>\n",
       "  </thead>\n",
       "  <tbody>\n",
       "    <tr>\n",
       "      <th>Bachelor's Degree</th>\n",
       "      <td>29.0</td>\n",
       "      <td>3.413793</td>\n",
       "      <td>0.907006</td>\n",
       "      <td>1.0</td>\n",
       "      <td>3.00</td>\n",
       "      <td>3.0</td>\n",
       "      <td>4.00</td>\n",
       "      <td>5.0</td>\n",
       "    </tr>\n",
       "    <tr>\n",
       "      <th>High School</th>\n",
       "      <td>1.0</td>\n",
       "      <td>3.000000</td>\n",
       "      <td>NaN</td>\n",
       "      <td>3.0</td>\n",
       "      <td>3.00</td>\n",
       "      <td>3.0</td>\n",
       "      <td>3.00</td>\n",
       "      <td>3.0</td>\n",
       "    </tr>\n",
       "    <tr>\n",
       "      <th>Master's Degree</th>\n",
       "      <td>31.0</td>\n",
       "      <td>3.516129</td>\n",
       "      <td>1.150970</td>\n",
       "      <td>1.0</td>\n",
       "      <td>3.00</td>\n",
       "      <td>4.0</td>\n",
       "      <td>4.00</td>\n",
       "      <td>5.0</td>\n",
       "    </tr>\n",
       "    <tr>\n",
       "      <th>Ph.D. or higher</th>\n",
       "      <td>12.0</td>\n",
       "      <td>3.333333</td>\n",
       "      <td>0.984732</td>\n",
       "      <td>2.0</td>\n",
       "      <td>3.00</td>\n",
       "      <td>3.0</td>\n",
       "      <td>4.00</td>\n",
       "      <td>5.0</td>\n",
       "    </tr>\n",
       "    <tr>\n",
       "      <th>Prefer not to say</th>\n",
       "      <td>2.0</td>\n",
       "      <td>2.500000</td>\n",
       "      <td>0.707107</td>\n",
       "      <td>2.0</td>\n",
       "      <td>2.25</td>\n",
       "      <td>2.5</td>\n",
       "      <td>2.75</td>\n",
       "      <td>3.0</td>\n",
       "    </tr>\n",
       "    <tr>\n",
       "      <th>Some College</th>\n",
       "      <td>16.0</td>\n",
       "      <td>3.375000</td>\n",
       "      <td>1.204159</td>\n",
       "      <td>1.0</td>\n",
       "      <td>2.75</td>\n",
       "      <td>3.5</td>\n",
       "      <td>4.00</td>\n",
       "      <td>5.0</td>\n",
       "    </tr>\n",
       "    <tr>\n",
       "      <th>Trade School</th>\n",
       "      <td>3.0</td>\n",
       "      <td>2.666667</td>\n",
       "      <td>1.154701</td>\n",
       "      <td>2.0</td>\n",
       "      <td>2.00</td>\n",
       "      <td>2.0</td>\n",
       "      <td>3.00</td>\n",
       "      <td>4.0</td>\n",
       "    </tr>\n",
       "  </tbody>\n",
       "</table>\n",
       "</div>"
      ],
      "text/plain": [
       "                                                    count      mean       std  \\\n",
       "What is the highest level of education you have...                              \n",
       "Bachelor's Degree                                    29.0  3.413793  0.907006   \n",
       "High School                                           1.0  3.000000       NaN   \n",
       "Master's Degree                                      31.0  3.516129  1.150970   \n",
       "Ph.D. or higher                                      12.0  3.333333  0.984732   \n",
       "Prefer not to say                                     2.0  2.500000  0.707107   \n",
       "Some College                                         16.0  3.375000  1.204159   \n",
       "Trade School                                          3.0  2.666667  1.154701   \n",
       "\n",
       "                                                    min   25%  50%   75%  max  \n",
       "What is the highest level of education you have...                             \n",
       "Bachelor's Degree                                   1.0  3.00  3.0  4.00  5.0  \n",
       "High School                                         3.0  3.00  3.0  3.00  3.0  \n",
       "Master's Degree                                     1.0  3.00  4.0  4.00  5.0  \n",
       "Ph.D. or higher                                     2.0  3.00  3.0  4.00  5.0  \n",
       "Prefer not to say                                   2.0  2.25  2.5  2.75  3.0  \n",
       "Some College                                        1.0  2.75  3.5  4.00  5.0  \n",
       "Trade School                                        2.0  2.00  2.0  3.00  4.0  "
      ]
     },
     "metadata": {},
     "output_type": "display_data"
    },
    {
     "name": "stdout",
     "output_type": "stream",
     "text": [
      "p-value =  0.2521690158837195\n",
      "u-value=  4.107919181288745\n",
      "High Education:  [1.3377483373980503, 3.3529411764705883, 5.368134015543126]\n",
      "Low Education:  [1.1554602476454288, 3.25, 5.344539752354571]\n",
      "There is a Difference:  False\n",
      "\n",
      "========================================\n",
      "\n",
      "I would like for viewers to have the option to remove tremors from a video of myself.\n",
      "High Education\n"
     ]
    },
    {
     "data": {
      "image/png": "[encoded data removed]",
      "text/plain": [
       "<Figure size 432x288 with 1 Axes>"
      ]
     },
     "metadata": {
      "needs_background": "light"
     },
     "output_type": "display_data"
    },
    {
     "data": {
      "image/png": "[encoded data removed]",
      "text/plain": [
       "<Figure size 432x288 with 1 Axes>"
      ]
     },
     "metadata": {
      "needs_background": "light"
     },
     "output_type": "display_data"
    },
    {
     "name": "stdout",
     "output_type": "stream",
     "text": [
      "Low Education\n"
     ]
    },
    {
     "data": {
      "image/png": "[encoded data removed]",
      "text/plain": [
       "<Figure size 432x288 with 1 Axes>"
      ]
     },
     "metadata": {
      "needs_background": "light"
     },
     "output_type": "display_data"
    },
    {
     "data": {
      "image/png": "[encoded data removed]",
      "text/plain": [
       "<Figure size 432x288 with 1 Axes>"
      ]
     },
     "metadata": {
      "needs_background": "light"
     },
     "output_type": "display_data"
    },
    {
     "data": {
      "text/html": [
       "<div>\n",
       "<style scoped>\n",
       "    .dataframe tbody tr th:only-of-type {\n",
       "        vertical-align: middle;\n",
       "    }\n",
       "\n",
       "    .dataframe tbody tr th {\n",
       "        vertical-align: top;\n",
       "    }\n",
       "\n",
       "    .dataframe thead th {\n",
       "        text-align: right;\n",
       "    }\n",
       "</style>\n",
       "<table border=\"1\" class=\"dataframe\">\n",
       "  <thead>\n",
       "    <tr style=\"text-align: right;\">\n",
       "      <th></th>\n",
       "      <th>count</th>\n",
       "      <th>mean</th>\n",
       "      <th>std</th>\n",
       "      <th>min</th>\n",
       "      <th>25%</th>\n",
       "      <th>50%</th>\n",
       "      <th>75%</th>\n",
       "      <th>max</th>\n",
       "    </tr>\n",
       "    <tr>\n",
       "      <th>What is the highest level of education you have obtained?</th>\n",
       "      <th></th>\n",
       "      <th></th>\n",
       "      <th></th>\n",
       "      <th></th>\n",
       "      <th></th>\n",
       "      <th></th>\n",
       "      <th></th>\n",
       "      <th></th>\n",
       "    </tr>\n",
       "  </thead>\n",
       "  <tbody>\n",
       "    <tr>\n",
       "      <th>Bachelor's Degree</th>\n",
       "      <td>29.0</td>\n",
       "      <td>3.379310</td>\n",
       "      <td>0.978840</td>\n",
       "      <td>1.0</td>\n",
       "      <td>3.0</td>\n",
       "      <td>3.0</td>\n",
       "      <td>4.0</td>\n",
       "      <td>5.0</td>\n",
       "    </tr>\n",
       "    <tr>\n",
       "      <th>High School</th>\n",
       "      <td>1.0</td>\n",
       "      <td>3.000000</td>\n",
       "      <td>NaN</td>\n",
       "      <td>3.0</td>\n",
       "      <td>3.0</td>\n",
       "      <td>3.0</td>\n",
       "      <td>3.0</td>\n",
       "      <td>3.0</td>\n",
       "    </tr>\n",
       "    <tr>\n",
       "      <th>Master's Degree</th>\n",
       "      <td>31.0</td>\n",
       "      <td>3.419355</td>\n",
       "      <td>1.360740</td>\n",
       "      <td>1.0</td>\n",
       "      <td>3.0</td>\n",
       "      <td>4.0</td>\n",
       "      <td>4.0</td>\n",
       "      <td>5.0</td>\n",
       "    </tr>\n",
       "    <tr>\n",
       "      <th>Ph.D. or higher</th>\n",
       "      <td>12.0</td>\n",
       "      <td>3.000000</td>\n",
       "      <td>1.206045</td>\n",
       "      <td>1.0</td>\n",
       "      <td>2.0</td>\n",
       "      <td>3.0</td>\n",
       "      <td>4.0</td>\n",
       "      <td>5.0</td>\n",
       "    </tr>\n",
       "    <tr>\n",
       "      <th>Prefer not to say</th>\n",
       "      <td>2.0</td>\n",
       "      <td>2.000000</td>\n",
       "      <td>0.000000</td>\n",
       "      <td>2.0</td>\n",
       "      <td>2.0</td>\n",
       "      <td>2.0</td>\n",
       "      <td>2.0</td>\n",
       "      <td>2.0</td>\n",
       "    </tr>\n",
       "    <tr>\n",
       "      <th>Some College</th>\n",
       "      <td>16.0</td>\n",
       "      <td>3.375000</td>\n",
       "      <td>0.885061</td>\n",
       "      <td>1.0</td>\n",
       "      <td>3.0</td>\n",
       "      <td>3.0</td>\n",
       "      <td>4.0</td>\n",
       "      <td>5.0</td>\n",
       "    </tr>\n",
       "    <tr>\n",
       "      <th>Trade School</th>\n",
       "      <td>3.0</td>\n",
       "      <td>3.333333</td>\n",
       "      <td>1.154701</td>\n",
       "      <td>2.0</td>\n",
       "      <td>3.0</td>\n",
       "      <td>4.0</td>\n",
       "      <td>4.0</td>\n",
       "      <td>4.0</td>\n",
       "    </tr>\n",
       "  </tbody>\n",
       "</table>\n",
       "</div>"
      ],
      "text/plain": [
       "                                                    count      mean       std  \\\n",
       "What is the highest level of education you have...                              \n",
       "Bachelor's Degree                                    29.0  3.379310  0.978840   \n",
       "High School                                           1.0  3.000000       NaN   \n",
       "Master's Degree                                      31.0  3.419355  1.360740   \n",
       "Ph.D. or higher                                      12.0  3.000000  1.206045   \n",
       "Prefer not to say                                     2.0  2.000000  0.000000   \n",
       "Some College                                         16.0  3.375000  0.885061   \n",
       "Trade School                                          3.0  3.333333  1.154701   \n",
       "\n",
       "                                                    min  25%  50%  75%  max  \n",
       "What is the highest level of education you have...                           \n",
       "Bachelor's Degree                                   1.0  3.0  3.0  4.0  5.0  \n",
       "High School                                         3.0  3.0  3.0  3.0  3.0  \n",
       "Master's Degree                                     1.0  3.0  4.0  4.0  5.0  \n",
       "Ph.D. or higher                                     1.0  2.0  3.0  4.0  5.0  \n",
       "Prefer not to say                                   2.0  2.0  2.0  2.0  2.0  \n",
       "Some College                                        1.0  3.0  3.0  4.0  5.0  \n",
       "Trade School                                        2.0  3.0  4.0  4.0  4.0  "
      ]
     },
     "metadata": {},
     "output_type": "display_data"
    },
    {
     "name": "stdout",
     "output_type": "stream",
     "text": [
      "p-value =  0.1056961384515831\n",
      "u-value=  4.107919181288745\n",
      "High Education:  [1.195721954592147, 3.3529411764705883, 5.510160398349029]\n",
      "Low Education:  [0.9170774876990677, 3.09375, 5.270422512300932]\n",
      "There is a Difference:  False\n",
      "\n",
      "========================================\n",
      "\n",
      "My tremors affect my level of confidence. \n",
      "High Education\n"
     ]
    },
    {
     "data": {
      "image/png": "[encoded data removed]",
      "text/plain": [
       "<Figure size 432x288 with 1 Axes>"
      ]
     },
     "metadata": {
      "needs_background": "light"
     },
     "output_type": "display_data"
    },
    {
     "data": {
      "image/png": "[encoded data removed]",
      "text/plain": [
       "<Figure size 432x288 with 1 Axes>"
      ]
     },
     "metadata": {
      "needs_background": "light"
     },
     "output_type": "display_data"
    },
    {
     "name": "stdout",
     "output_type": "stream",
     "text": [
      "Low Education\n"
     ]
    },
    {
     "data": {
      "image/png": "[encoded data removed]",
      "text/plain": [
       "<Figure size 432x288 with 1 Axes>"
      ]
     },
     "metadata": {
      "needs_background": "light"
     },
     "output_type": "display_data"
    },
    {
     "data": {
      "image/png": "[encoded data removed]",
      "text/plain": [
       "<Figure size 432x288 with 1 Axes>"
      ]
     },
     "metadata": {
      "needs_background": "light"
     },
     "output_type": "display_data"
    },
    {
     "data": {
      "text/html": [
       "<div>\n",
       "<style scoped>\n",
       "    .dataframe tbody tr th:only-of-type {\n",
       "        vertical-align: middle;\n",
       "    }\n",
       "\n",
       "    .dataframe tbody tr th {\n",
       "        vertical-align: top;\n",
       "    }\n",
       "\n",
       "    .dataframe thead th {\n",
       "        text-align: right;\n",
       "    }\n",
       "</style>\n",
       "<table border=\"1\" class=\"dataframe\">\n",
       "  <thead>\n",
       "    <tr style=\"text-align: right;\">\n",
       "      <th></th>\n",
       "      <th>count</th>\n",
       "      <th>mean</th>\n",
       "      <th>std</th>\n",
       "      <th>min</th>\n",
       "      <th>25%</th>\n",
       "      <th>50%</th>\n",
       "      <th>75%</th>\n",
       "      <th>max</th>\n",
       "    </tr>\n",
       "    <tr>\n",
       "      <th>What is the highest level of education you have obtained?</th>\n",
       "      <th></th>\n",
       "      <th></th>\n",
       "      <th></th>\n",
       "      <th></th>\n",
       "      <th></th>\n",
       "      <th></th>\n",
       "      <th></th>\n",
       "      <th></th>\n",
       "    </tr>\n",
       "  </thead>\n",
       "  <tbody>\n",
       "    <tr>\n",
       "      <th>Bachelor's Degree</th>\n",
       "      <td>29.0</td>\n",
       "      <td>2.862069</td>\n",
       "      <td>1.274030</td>\n",
       "      <td>1.0</td>\n",
       "      <td>2.0</td>\n",
       "      <td>3.0</td>\n",
       "      <td>4.0</td>\n",
       "      <td>5.0</td>\n",
       "    </tr>\n",
       "    <tr>\n",
       "      <th>High School</th>\n",
       "      <td>1.0</td>\n",
       "      <td>4.000000</td>\n",
       "      <td>NaN</td>\n",
       "      <td>4.0</td>\n",
       "      <td>4.0</td>\n",
       "      <td>4.0</td>\n",
       "      <td>4.0</td>\n",
       "      <td>4.0</td>\n",
       "    </tr>\n",
       "    <tr>\n",
       "      <th>Master's Degree</th>\n",
       "      <td>31.0</td>\n",
       "      <td>3.290323</td>\n",
       "      <td>1.160274</td>\n",
       "      <td>1.0</td>\n",
       "      <td>2.0</td>\n",
       "      <td>3.0</td>\n",
       "      <td>4.0</td>\n",
       "      <td>5.0</td>\n",
       "    </tr>\n",
       "    <tr>\n",
       "      <th>Ph.D. or higher</th>\n",
       "      <td>12.0</td>\n",
       "      <td>3.166667</td>\n",
       "      <td>1.403459</td>\n",
       "      <td>1.0</td>\n",
       "      <td>2.0</td>\n",
       "      <td>3.5</td>\n",
       "      <td>4.0</td>\n",
       "      <td>5.0</td>\n",
       "    </tr>\n",
       "    <tr>\n",
       "      <th>Prefer not to say</th>\n",
       "      <td>2.0</td>\n",
       "      <td>2.000000</td>\n",
       "      <td>0.000000</td>\n",
       "      <td>2.0</td>\n",
       "      <td>2.0</td>\n",
       "      <td>2.0</td>\n",
       "      <td>2.0</td>\n",
       "      <td>2.0</td>\n",
       "    </tr>\n",
       "    <tr>\n",
       "      <th>Some College</th>\n",
       "      <td>16.0</td>\n",
       "      <td>2.875000</td>\n",
       "      <td>1.204159</td>\n",
       "      <td>1.0</td>\n",
       "      <td>2.0</td>\n",
       "      <td>3.0</td>\n",
       "      <td>4.0</td>\n",
       "      <td>4.0</td>\n",
       "    </tr>\n",
       "    <tr>\n",
       "      <th>Trade School</th>\n",
       "      <td>3.0</td>\n",
       "      <td>3.333333</td>\n",
       "      <td>1.154701</td>\n",
       "      <td>2.0</td>\n",
       "      <td>3.0</td>\n",
       "      <td>4.0</td>\n",
       "      <td>4.0</td>\n",
       "      <td>4.0</td>\n",
       "    </tr>\n",
       "  </tbody>\n",
       "</table>\n",
       "</div>"
      ],
      "text/plain": [
       "                                                    count      mean       std  \\\n",
       "What is the highest level of education you have...                              \n",
       "Bachelor's Degree                                    29.0  2.862069  1.274030   \n",
       "High School                                           1.0  4.000000       NaN   \n",
       "Master's Degree                                      31.0  3.290323  1.160274   \n",
       "Ph.D. or higher                                      12.0  3.166667  1.403459   \n",
       "Prefer not to say                                     2.0  2.000000  0.000000   \n",
       "Some College                                         16.0  2.875000  1.204159   \n",
       "Trade School                                          3.0  3.333333  1.154701   \n",
       "\n",
       "                                                    min  25%  50%  75%  max  \n",
       "What is the highest level of education you have...                           \n",
       "Bachelor's Degree                                   1.0  2.0  3.0  4.0  5.0  \n",
       "High School                                         4.0  4.0  4.0  4.0  4.0  \n",
       "Master's Degree                                     1.0  2.0  3.0  4.0  5.0  \n",
       "Ph.D. or higher                                     1.0  2.0  3.5  4.0  5.0  \n",
       "Prefer not to say                                   2.0  2.0  2.0  2.0  2.0  \n",
       "Some College                                        1.0  2.0  3.0  4.0  4.0  \n",
       "Trade School                                        2.0  3.0  4.0  4.0  4.0  "
      ]
     },
     "metadata": {},
     "output_type": "display_data"
    },
    {
     "name": "stdout",
     "output_type": "stream",
     "text": [
      "p-value =  0.26460396216709264\n",
      "u-value=  4.107919181288745\n",
      "High Education:  [0.5668117148435301, 3.045801526717557, 5.524791338591584]\n",
      "Low Education:  [0.6695565930460212, 2.96875, 5.267943406953979]\n",
      "There is a Difference:  False\n",
      "\n",
      "========================================\n",
      "\n",
      "I feel like my tremors cause others to perceive me as less competent. \n",
      "High Education\n"
     ]
    },
    {
     "data": {
      "image/png": "[encoded data removed]",
      "text/plain": [
       "<Figure size 432x288 with 1 Axes>"
      ]
     },
     "metadata": {
      "needs_background": "light"
     },
     "output_type": "display_data"
    },
    {
     "data": {
      "image/png": "[encoded data removed]",
      "text/plain": [
       "<Figure size 432x288 with 1 Axes>"
      ]
     },
     "metadata": {
      "needs_background": "light"
     },
     "output_type": "display_data"
    },
    {
     "name": "stdout",
     "output_type": "stream",
     "text": [
      "Low Education\n"
     ]
    },
    {
     "data": {
      "image/png": "[encoded data removed]",
      "text/plain": [
       "<Figure size 432x288 with 1 Axes>"
      ]
     },
     "metadata": {
      "needs_background": "light"
     },
     "output_type": "display_data"
    },
    {
     "data": {
      "image/png": "[encoded data removed]",
      "text/plain": [
       "<Figure size 432x288 with 1 Axes>"
      ]
     },
     "metadata": {
      "needs_background": "light"
     },
     "output_type": "display_data"
    },
    {
     "data": {
      "text/html": [
       "<div>\n",
       "<style scoped>\n",
       "    .dataframe tbody tr th:only-of-type {\n",
       "        vertical-align: middle;\n",
       "    }\n",
       "\n",
       "    .dataframe tbody tr th {\n",
       "        vertical-align: top;\n",
       "    }\n",
       "\n",
       "    .dataframe thead th {\n",
       "        text-align: right;\n",
       "    }\n",
       "</style>\n",
       "<table border=\"1\" class=\"dataframe\">\n",
       "  <thead>\n",
       "    <tr style=\"text-align: right;\">\n",
       "      <th></th>\n",
       "      <th>count</th>\n",
       "      <th>mean</th>\n",
       "      <th>std</th>\n",
       "      <th>min</th>\n",
       "      <th>25%</th>\n",
       "      <th>50%</th>\n",
       "      <th>75%</th>\n",
       "      <th>max</th>\n",
       "    </tr>\n",
       "    <tr>\n",
       "      <th>What is the highest level of education you have obtained?</th>\n",
       "      <th></th>\n",
       "      <th></th>\n",
       "      <th></th>\n",
       "      <th></th>\n",
       "      <th></th>\n",
       "      <th></th>\n",
       "      <th></th>\n",
       "      <th></th>\n",
       "    </tr>\n",
       "  </thead>\n",
       "  <tbody>\n",
       "    <tr>\n",
       "      <th>Bachelor's Degree</th>\n",
       "      <td>29.0</td>\n",
       "      <td>3.206897</td>\n",
       "      <td>1.292266</td>\n",
       "      <td>1.0</td>\n",
       "      <td>2.0</td>\n",
       "      <td>4.0</td>\n",
       "      <td>4.00</td>\n",
       "      <td>5.0</td>\n",
       "    </tr>\n",
       "    <tr>\n",
       "      <th>High School</th>\n",
       "      <td>1.0</td>\n",
       "      <td>4.000000</td>\n",
       "      <td>NaN</td>\n",
       "      <td>4.0</td>\n",
       "      <td>4.0</td>\n",
       "      <td>4.0</td>\n",
       "      <td>4.00</td>\n",
       "      <td>4.0</td>\n",
       "    </tr>\n",
       "    <tr>\n",
       "      <th>Master's Degree</th>\n",
       "      <td>31.0</td>\n",
       "      <td>3.290323</td>\n",
       "      <td>1.243478</td>\n",
       "      <td>1.0</td>\n",
       "      <td>2.0</td>\n",
       "      <td>4.0</td>\n",
       "      <td>4.00</td>\n",
       "      <td>5.0</td>\n",
       "    </tr>\n",
       "    <tr>\n",
       "      <th>Ph.D. or higher</th>\n",
       "      <td>12.0</td>\n",
       "      <td>3.583333</td>\n",
       "      <td>1.240112</td>\n",
       "      <td>1.0</td>\n",
       "      <td>3.0</td>\n",
       "      <td>4.0</td>\n",
       "      <td>4.25</td>\n",
       "      <td>5.0</td>\n",
       "    </tr>\n",
       "    <tr>\n",
       "      <th>Prefer not to say</th>\n",
       "      <td>2.0</td>\n",
       "      <td>3.000000</td>\n",
       "      <td>1.414214</td>\n",
       "      <td>2.0</td>\n",
       "      <td>2.5</td>\n",
       "      <td>3.0</td>\n",
       "      <td>3.50</td>\n",
       "      <td>4.0</td>\n",
       "    </tr>\n",
       "    <tr>\n",
       "      <th>Some College</th>\n",
       "      <td>16.0</td>\n",
       "      <td>3.125000</td>\n",
       "      <td>1.024695</td>\n",
       "      <td>1.0</td>\n",
       "      <td>2.0</td>\n",
       "      <td>3.5</td>\n",
       "      <td>4.00</td>\n",
       "      <td>4.0</td>\n",
       "    </tr>\n",
       "    <tr>\n",
       "      <th>Trade School</th>\n",
       "      <td>3.0</td>\n",
       "      <td>4.333333</td>\n",
       "      <td>0.577350</td>\n",
       "      <td>4.0</td>\n",
       "      <td>4.0</td>\n",
       "      <td>4.0</td>\n",
       "      <td>4.50</td>\n",
       "      <td>5.0</td>\n",
       "    </tr>\n",
       "  </tbody>\n",
       "</table>\n",
       "</div>"
      ],
      "text/plain": [
       "                                                    count      mean       std  \\\n",
       "What is the highest level of education you have...                              \n",
       "Bachelor's Degree                                    29.0  3.206897  1.292266   \n",
       "High School                                           1.0  4.000000       NaN   \n",
       "Master's Degree                                      31.0  3.290323  1.243478   \n",
       "Ph.D. or higher                                      12.0  3.583333  1.240112   \n",
       "Prefer not to say                                     2.0  3.000000  1.414214   \n",
       "Some College                                         16.0  3.125000  1.024695   \n",
       "Trade School                                          3.0  4.333333  0.577350   \n",
       "\n",
       "                                                    min  25%  50%   75%  max  \n",
       "What is the highest level of education you have...                            \n",
       "Bachelor's Degree                                   1.0  2.0  4.0  4.00  5.0  \n",
       "High School                                         4.0  4.0  4.0  4.00  4.0  \n",
       "Master's Degree                                     1.0  2.0  4.0  4.00  5.0  \n",
       "Ph.D. or higher                                     1.0  3.0  4.0  4.25  5.0  \n",
       "Prefer not to say                                   2.0  2.5  3.0  3.50  4.0  \n",
       "Some College                                        1.0  2.0  3.5  4.00  4.0  \n",
       "Trade School                                        4.0  4.0  4.0  4.50  5.0  "
      ]
     },
     "metadata": {},
     "output_type": "display_data"
    },
    {
     "name": "stdout",
     "output_type": "stream",
     "text": [
      "p-value =  0.48565503132663634\n",
      "u-value=  4.107919181288745\n",
      "High Education:  [0.8866154888721924, 3.282442748091603, 5.6782700073110135]\n",
      "Low Education:  [1.4480167607369039, 3.40625, 5.364483239263096]\n",
      "There is a Difference:  False\n",
      "\n",
      "========================================\n",
      "\n"
     ]
    }
   ],
   "source": [
    "# level of education\n",
    "g = df.groupby('What is the highest level of education you have obtained?')\n",
    "\n",
    "df_lowedu = df[(df['What is the highest level of education you have obtained?'] == 'Trade School') |\n",
    "             (df['What is the highest level of education you have obtained?'] == 'Some High School') | \n",
    "             (df['What is the highest level of education you have obtained?'] == 'High School') |\n",
    "             (df['What is the highest level of education you have obtained?'] == 'Some College') |\n",
    "             (df['What the highest level of education you have obtained?'] == 'Trade School') |\n",
    "             (df['What the highest level of education you have obtained?'] == 'Some High School') | \n",
    "             (df['What the highest level of education you have obtained?'] == 'High School') |\n",
    "             (df['What the highest level of education you have obtained?'] == 'Some College')].copy()\n",
    "\n",
    "df_highedu = df[(df['What is the highest level of education you have obtained?'] == \"Bachelor's Degree\") | \n",
    "             (df['What is the highest level of education you have obtained?'] == \"Master's Degree\") |\n",
    "             (df['What is the highest level of education you have obtained?'] == 'Ph.D. or higher') |\n",
    "             (df['What the highest level of education you have obtained?'] == \"Bachelor's Degree\") | \n",
    "             (df['What the highest level of education you have obtained?'] == \"Master's Degree\") |\n",
    "             (df['What the highest level of education you have obtained?'] == 'Ph.D. or higher')].copy()\n",
    "\n",
    "for q in q_list:\n",
    "    col_name = q\n",
    "    print(col_name)\n",
    "    print(\"High Education\")\n",
    "    df_highedu[col_name].hist()\n",
    "    plt.show()\n",
    "    df_highedu.boxplot(col_name)\n",
    "    plt.show()\n",
    "    print(\"Low Education\")\n",
    "    df_lowedu[col_name].hist()\n",
    "    plt.show()\n",
    "    df_lowedu.boxplot(col_name)\n",
    "    plt.show()\n",
    "    display(g[col_name].describe())\n",
    "    #Statistic test\n",
    "    u,p = mannwhitneyu(df_highedu[col_name], df_lowedu[col_name])\n",
    "    print('p-value = ', p)\n",
    "    print('u-value= ', t)\n",
    "    mu1 = df_highedu[col_name].mean()\n",
    "    std1 = df_highedu[col_name].std()\n",
    "    mu2 = df_lowedu[col_name].mean()\n",
    "    std2 = df_lowedu[col_name].std()\n",
    "    print(\"High Education: \", compute_interval95(mu1, std1))\n",
    "    print(\"Low Education: \", compute_interval95(mu2, std2))\n",
    "    print(\"There is a Difference: \", is_difference(compute_interval95(mu1, std1), compute_interval95(mu2, std2)))\n",
    "    print('\\n========================================\\n')"
   ]
  },
  {
   "cell_type": "code",
   "execution_count": 24,
   "metadata": {},
   "outputs": [
    {
     "name": "stdout",
     "output_type": "stream",
     "text": [
      "I would like to have the option to remove tremors from videos of myself.\n",
      "High Frequency of Video Calls/Posts\n"
     ]
    },
    {
     "data": {
      "image/png": "[encoded data removed]",
      "text/plain": [
       "<Figure size 432x288 with 1 Axes>"
      ]
     },
     "metadata": {
      "needs_background": "light"
     },
     "output_type": "display_data"
    },
    {
     "data": {
      "image/png": "[encoded data removed]",
      "text/plain": [
       "<Figure size 432x288 with 1 Axes>"
      ]
     },
     "metadata": {
      "needs_background": "light"
     },
     "output_type": "display_data"
    },
    {
     "name": "stdout",
     "output_type": "stream",
     "text": [
      "Low Frequency of Video Calls/Posts\n"
     ]
    },
    {
     "data": {
      "image/png": "[encoded data removed]",
      "text/plain": [
       "<Figure size 432x288 with 1 Axes>"
      ]
     },
     "metadata": {
      "needs_background": "light"
     },
     "output_type": "display_data"
    },
    {
     "data": {
      "image/png": "[encoded data removed]",
      "text/plain": [
       "<Figure size 432x288 with 1 Axes>"
      ]
     },
     "metadata": {
      "needs_background": "light"
     },
     "output_type": "display_data"
    },
    {
     "data": {
      "text/html": [
       "<div>\n",
       "<style scoped>\n",
       "    .dataframe tbody tr th:only-of-type {\n",
       "        vertical-align: middle;\n",
       "    }\n",
       "\n",
       "    .dataframe tbody tr th {\n",
       "        vertical-align: top;\n",
       "    }\n",
       "\n",
       "    .dataframe thead th {\n",
       "        text-align: right;\n",
       "    }\n",
       "</style>\n",
       "<table border=\"1\" class=\"dataframe\">\n",
       "  <thead>\n",
       "    <tr style=\"text-align: right;\">\n",
       "      <th></th>\n",
       "      <th>count</th>\n",
       "      <th>mean</th>\n",
       "      <th>std</th>\n",
       "      <th>min</th>\n",
       "      <th>25%</th>\n",
       "      <th>50%</th>\n",
       "      <th>75%</th>\n",
       "      <th>max</th>\n",
       "    </tr>\n",
       "    <tr>\n",
       "      <th>How often do you make video calls or post videos online?</th>\n",
       "      <th></th>\n",
       "      <th></th>\n",
       "      <th></th>\n",
       "      <th></th>\n",
       "      <th></th>\n",
       "      <th></th>\n",
       "      <th></th>\n",
       "      <th></th>\n",
       "    </tr>\n",
       "  </thead>\n",
       "  <tbody>\n",
       "    <tr>\n",
       "      <th>Always</th>\n",
       "      <td>6.0</td>\n",
       "      <td>3.833333</td>\n",
       "      <td>1.471960</td>\n",
       "      <td>1.0</td>\n",
       "      <td>4.0</td>\n",
       "      <td>4.0</td>\n",
       "      <td>4.75</td>\n",
       "      <td>5.0</td>\n",
       "    </tr>\n",
       "    <tr>\n",
       "      <th>Never</th>\n",
       "      <td>15.0</td>\n",
       "      <td>2.933333</td>\n",
       "      <td>0.703732</td>\n",
       "      <td>1.0</td>\n",
       "      <td>3.0</td>\n",
       "      <td>3.0</td>\n",
       "      <td>3.00</td>\n",
       "      <td>4.0</td>\n",
       "    </tr>\n",
       "    <tr>\n",
       "      <th>Rarely</th>\n",
       "      <td>33.0</td>\n",
       "      <td>3.212121</td>\n",
       "      <td>0.819969</td>\n",
       "      <td>2.0</td>\n",
       "      <td>3.0</td>\n",
       "      <td>3.0</td>\n",
       "      <td>4.00</td>\n",
       "      <td>5.0</td>\n",
       "    </tr>\n",
       "    <tr>\n",
       "      <th>Sometimes</th>\n",
       "      <td>54.0</td>\n",
       "      <td>3.111111</td>\n",
       "      <td>0.964789</td>\n",
       "      <td>1.0</td>\n",
       "      <td>3.0</td>\n",
       "      <td>3.0</td>\n",
       "      <td>4.00</td>\n",
       "      <td>5.0</td>\n",
       "    </tr>\n",
       "    <tr>\n",
       "      <th>Very Often</th>\n",
       "      <td>57.0</td>\n",
       "      <td>3.596491</td>\n",
       "      <td>1.131681</td>\n",
       "      <td>1.0</td>\n",
       "      <td>3.0</td>\n",
       "      <td>4.0</td>\n",
       "      <td>4.00</td>\n",
       "      <td>5.0</td>\n",
       "    </tr>\n",
       "  </tbody>\n",
       "</table>\n",
       "</div>"
      ],
      "text/plain": [
       "                                                    count      mean       std  \\\n",
       "How often do you make video calls or post video...                              \n",
       "Always                                                6.0  3.833333  1.471960   \n",
       "Never                                                15.0  2.933333  0.703732   \n",
       "Rarely                                               33.0  3.212121  0.819969   \n",
       "Sometimes                                            54.0  3.111111  0.964789   \n",
       "Very Often                                           57.0  3.596491  1.131681   \n",
       "\n",
       "                                                    min  25%  50%   75%  max  \n",
       "How often do you make video calls or post video...                            \n",
       "Always                                              1.0  4.0  4.0  4.75  5.0  \n",
       "Never                                               1.0  3.0  3.0  3.00  4.0  \n",
       "Rarely                                              2.0  3.0  3.0  4.00  5.0  \n",
       "Sometimes                                           1.0  3.0  3.0  4.00  5.0  \n",
       "Very Often                                          1.0  3.0  4.0  4.00  5.0  "
      ]
     },
     "metadata": {},
     "output_type": "display_data"
    },
    {
     "name": "stdout",
     "output_type": "stream",
     "text": [
      "p-value =  0.0008578850260571149\n",
      "u-value=  1008.5\n",
      "High Frequency:  [1.3069874728110067, 3.619047619047619, 5.9311077652842314]\n",
      "Low Frequency:  [1.547228881577667, 3.125, 4.7027711184223335]\n",
      "There is a Difference:  False\n",
      "\n",
      "========================================\n",
      "\n",
      "I would like for viewers to have the option to remove tremors from a video of myself.\n",
      "High Frequency of Video Calls/Posts\n"
     ]
    },
    {
     "data": {
      "image/png": "[encoded data removed]",
      "text/plain": [
       "<Figure size 432x288 with 1 Axes>"
      ]
     },
     "metadata": {
      "needs_background": "light"
     },
     "output_type": "display_data"
    },
    {
     "data": {
      "image/png": "[encoded data removed]",
      "text/plain": [
       "<Figure size 432x288 with 1 Axes>"
      ]
     },
     "metadata": {
      "needs_background": "light"
     },
     "output_type": "display_data"
    },
    {
     "name": "stdout",
     "output_type": "stream",
     "text": [
      "Low Frequency of Video Calls/Posts\n"
     ]
    },
    {
     "data": {
      "image/png": "[encoded data removed]",
      "text/plain": [
       "<Figure size 432x288 with 1 Axes>"
      ]
     },
     "metadata": {
      "needs_background": "light"
     },
     "output_type": "display_data"
    },
    {
     "data": {
      "image/png": "[encoded data removed]",
      "text/plain": [
       "<Figure size 432x288 with 1 Axes>"
      ]
     },
     "metadata": {
      "needs_background": "light"
     },
     "output_type": "display_data"
    },
    {
     "data": {
      "text/html": [
       "<div>\n",
       "<style scoped>\n",
       "    .dataframe tbody tr th:only-of-type {\n",
       "        vertical-align: middle;\n",
       "    }\n",
       "\n",
       "    .dataframe tbody tr th {\n",
       "        vertical-align: top;\n",
       "    }\n",
       "\n",
       "    .dataframe thead th {\n",
       "        text-align: right;\n",
       "    }\n",
       "</style>\n",
       "<table border=\"1\" class=\"dataframe\">\n",
       "  <thead>\n",
       "    <tr style=\"text-align: right;\">\n",
       "      <th></th>\n",
       "      <th>count</th>\n",
       "      <th>mean</th>\n",
       "      <th>std</th>\n",
       "      <th>min</th>\n",
       "      <th>25%</th>\n",
       "      <th>50%</th>\n",
       "      <th>75%</th>\n",
       "      <th>max</th>\n",
       "    </tr>\n",
       "    <tr>\n",
       "      <th>How often do you make video calls or post videos online?</th>\n",
       "      <th></th>\n",
       "      <th></th>\n",
       "      <th></th>\n",
       "      <th></th>\n",
       "      <th></th>\n",
       "      <th></th>\n",
       "      <th></th>\n",
       "      <th></th>\n",
       "    </tr>\n",
       "  </thead>\n",
       "  <tbody>\n",
       "    <tr>\n",
       "      <th>Always</th>\n",
       "      <td>6.0</td>\n",
       "      <td>4.000000</td>\n",
       "      <td>1.549193</td>\n",
       "      <td>1.0</td>\n",
       "      <td>4.00</td>\n",
       "      <td>4.5</td>\n",
       "      <td>5.0</td>\n",
       "      <td>5.0</td>\n",
       "    </tr>\n",
       "    <tr>\n",
       "      <th>Never</th>\n",
       "      <td>15.0</td>\n",
       "      <td>2.933333</td>\n",
       "      <td>1.032796</td>\n",
       "      <td>1.0</td>\n",
       "      <td>2.50</td>\n",
       "      <td>3.0</td>\n",
       "      <td>4.0</td>\n",
       "      <td>4.0</td>\n",
       "    </tr>\n",
       "    <tr>\n",
       "      <th>Rarely</th>\n",
       "      <td>33.0</td>\n",
       "      <td>3.242424</td>\n",
       "      <td>0.936426</td>\n",
       "      <td>1.0</td>\n",
       "      <td>3.00</td>\n",
       "      <td>3.0</td>\n",
       "      <td>4.0</td>\n",
       "      <td>5.0</td>\n",
       "    </tr>\n",
       "    <tr>\n",
       "      <th>Sometimes</th>\n",
       "      <td>54.0</td>\n",
       "      <td>3.037037</td>\n",
       "      <td>1.063333</td>\n",
       "      <td>1.0</td>\n",
       "      <td>2.25</td>\n",
       "      <td>3.0</td>\n",
       "      <td>4.0</td>\n",
       "      <td>5.0</td>\n",
       "    </tr>\n",
       "    <tr>\n",
       "      <th>Very Often</th>\n",
       "      <td>57.0</td>\n",
       "      <td>3.526316</td>\n",
       "      <td>1.103651</td>\n",
       "      <td>1.0</td>\n",
       "      <td>3.00</td>\n",
       "      <td>4.0</td>\n",
       "      <td>4.0</td>\n",
       "      <td>5.0</td>\n",
       "    </tr>\n",
       "  </tbody>\n",
       "</table>\n",
       "</div>"
      ],
      "text/plain": [
       "                                                    count      mean       std  \\\n",
       "How often do you make video calls or post video...                              \n",
       "Always                                                6.0  4.000000  1.549193   \n",
       "Never                                                15.0  2.933333  1.032796   \n",
       "Rarely                                               33.0  3.242424  0.936426   \n",
       "Sometimes                                            54.0  3.037037  1.063333   \n",
       "Very Often                                           57.0  3.526316  1.103651   \n",
       "\n",
       "                                                    min   25%  50%  75%  max  \n",
       "How often do you make video calls or post video...                            \n",
       "Always                                              1.0  4.00  4.5  5.0  5.0  \n",
       "Never                                               1.0  2.50  3.0  4.0  4.0  \n",
       "Rarely                                              1.0  3.00  3.0  4.0  5.0  \n",
       "Sometimes                                           1.0  2.25  3.0  4.0  5.0  \n",
       "Very Often                                          1.0  3.00  4.0  4.0  5.0  "
      ]
     },
     "metadata": {},
     "output_type": "display_data"
    },
    {
     "name": "stdout",
     "output_type": "stream",
     "text": [
      "p-value =  0.0059924832915566875\n",
      "u-value=  1110.0\n",
      "High Frequency:  [1.2793866387410047, 3.5714285714285716, 5.863470504116139]\n",
      "Low Frequency:  [1.2111737246635192, 3.1458333333333335, 5.080492942003148]\n",
      "There is a Difference:  False\n",
      "\n",
      "========================================\n",
      "\n",
      "My tremors affect my level of confidence. \n",
      "High Frequency of Video Calls/Posts\n"
     ]
    },
    {
     "data": {
      "image/png": "[encoded data removed]",
      "text/plain": [
       "<Figure size 432x288 with 1 Axes>"
      ]
     },
     "metadata": {
      "needs_background": "light"
     },
     "output_type": "display_data"
    },
    {
     "data": {
      "image/png": "[encoded data removed]",
      "text/plain": [
       "<Figure size 432x288 with 1 Axes>"
      ]
     },
     "metadata": {
      "needs_background": "light"
     },
     "output_type": "display_data"
    },
    {
     "name": "stdout",
     "output_type": "stream",
     "text": [
      "Low Frequency of Video Calls/Posts\n"
     ]
    },
    {
     "data": {
      "image/png": "[encoded data removed]",
      "text/plain": [
       "<Figure size 432x288 with 1 Axes>"
      ]
     },
     "metadata": {
      "needs_background": "light"
     },
     "output_type": "display_data"
    },
    {
     "data": {
      "image/png": "[encoded data removed]",
      "text/plain": [
       "<Figure size 432x288 with 1 Axes>"
      ]
     },
     "metadata": {
      "needs_background": "light"
     },
     "output_type": "display_data"
    },
    {
     "data": {
      "text/html": [
       "<div>\n",
       "<style scoped>\n",
       "    .dataframe tbody tr th:only-of-type {\n",
       "        vertical-align: middle;\n",
       "    }\n",
       "\n",
       "    .dataframe tbody tr th {\n",
       "        vertical-align: top;\n",
       "    }\n",
       "\n",
       "    .dataframe thead th {\n",
       "        text-align: right;\n",
       "    }\n",
       "</style>\n",
       "<table border=\"1\" class=\"dataframe\">\n",
       "  <thead>\n",
       "    <tr style=\"text-align: right;\">\n",
       "      <th></th>\n",
       "      <th>count</th>\n",
       "      <th>mean</th>\n",
       "      <th>std</th>\n",
       "      <th>min</th>\n",
       "      <th>25%</th>\n",
       "      <th>50%</th>\n",
       "      <th>75%</th>\n",
       "      <th>max</th>\n",
       "    </tr>\n",
       "    <tr>\n",
       "      <th>How often do you make video calls or post videos online?</th>\n",
       "      <th></th>\n",
       "      <th></th>\n",
       "      <th></th>\n",
       "      <th></th>\n",
       "      <th></th>\n",
       "      <th></th>\n",
       "      <th></th>\n",
       "      <th></th>\n",
       "    </tr>\n",
       "  </thead>\n",
       "  <tbody>\n",
       "    <tr>\n",
       "      <th>Always</th>\n",
       "      <td>6.0</td>\n",
       "      <td>3.333333</td>\n",
       "      <td>1.505545</td>\n",
       "      <td>1.0</td>\n",
       "      <td>2.5</td>\n",
       "      <td>4.0</td>\n",
       "      <td>4.0</td>\n",
       "      <td>5.0</td>\n",
       "    </tr>\n",
       "    <tr>\n",
       "      <th>Never</th>\n",
       "      <td>15.0</td>\n",
       "      <td>3.266667</td>\n",
       "      <td>1.162919</td>\n",
       "      <td>1.0</td>\n",
       "      <td>2.0</td>\n",
       "      <td>4.0</td>\n",
       "      <td>4.0</td>\n",
       "      <td>5.0</td>\n",
       "    </tr>\n",
       "    <tr>\n",
       "      <th>Rarely</th>\n",
       "      <td>33.0</td>\n",
       "      <td>2.909091</td>\n",
       "      <td>1.071320</td>\n",
       "      <td>1.0</td>\n",
       "      <td>2.0</td>\n",
       "      <td>3.0</td>\n",
       "      <td>4.0</td>\n",
       "      <td>4.0</td>\n",
       "    </tr>\n",
       "    <tr>\n",
       "      <th>Sometimes</th>\n",
       "      <td>54.0</td>\n",
       "      <td>2.944444</td>\n",
       "      <td>1.188255</td>\n",
       "      <td>1.0</td>\n",
       "      <td>2.0</td>\n",
       "      <td>3.0</td>\n",
       "      <td>4.0</td>\n",
       "      <td>5.0</td>\n",
       "    </tr>\n",
       "    <tr>\n",
       "      <th>Very Often</th>\n",
       "      <td>57.0</td>\n",
       "      <td>3.052632</td>\n",
       "      <td>1.328547</td>\n",
       "      <td>1.0</td>\n",
       "      <td>2.0</td>\n",
       "      <td>3.0</td>\n",
       "      <td>4.0</td>\n",
       "      <td>5.0</td>\n",
       "    </tr>\n",
       "  </tbody>\n",
       "</table>\n",
       "</div>"
      ],
      "text/plain": [
       "                                                    count      mean       std  \\\n",
       "How often do you make video calls or post video...                              \n",
       "Always                                                6.0  3.333333  1.505545   \n",
       "Never                                                15.0  3.266667  1.162919   \n",
       "Rarely                                               33.0  2.909091  1.071320   \n",
       "Sometimes                                            54.0  2.944444  1.188255   \n",
       "Very Often                                           57.0  3.052632  1.328547   \n",
       "\n",
       "                                                    min  25%  50%  75%  max  \n",
       "How often do you make video calls or post video...                           \n",
       "Always                                              1.0  2.5  4.0  4.0  5.0  \n",
       "Never                                               1.0  2.0  4.0  4.0  5.0  \n",
       "Rarely                                              1.0  2.0  3.0  4.0  4.0  \n",
       "Sometimes                                           1.0  2.0  3.0  4.0  5.0  \n",
       "Very Often                                          1.0  2.0  3.0  4.0  5.0  "
      ]
     },
     "metadata": {},
     "output_type": "display_data"
    },
    {
     "name": "stdout",
     "output_type": "stream",
     "text": [
      "p-value =  0.3978908929339447\n",
      "u-value=  1469.5\n",
      "High Frequency:  [0.40809409272299435, 3.0793650793650795, 5.750636066007164]\n",
      "Low Frequency:  [0.8187228047399464, 3.0208333333333335, 5.222943861926721]\n",
      "There is a Difference:  False\n",
      "\n",
      "========================================\n",
      "\n",
      "I feel like my tremors cause others to perceive me as less competent. \n",
      "High Frequency of Video Calls/Posts\n"
     ]
    },
    {
     "data": {
      "image/png": "[encoded data removed]",
      "text/plain": [
       "<Figure size 432x288 with 1 Axes>"
      ]
     },
     "metadata": {
      "needs_background": "light"
     },
     "output_type": "display_data"
    },
    {
     "data": {
      "image/png": "[encoded data removed]",
      "text/plain": [
       "<Figure size 432x288 with 1 Axes>"
      ]
     },
     "metadata": {
      "needs_background": "light"
     },
     "output_type": "display_data"
    },
    {
     "name": "stdout",
     "output_type": "stream",
     "text": [
      "Low Frequency of Video Calls/Posts\n"
     ]
    },
    {
     "data": {
      "image/png": "[encoded data removed]",
      "text/plain": [
       "<Figure size 432x288 with 1 Axes>"
      ]
     },
     "metadata": {
      "needs_background": "light"
     },
     "output_type": "display_data"
    },
    {
     "data": {
      "image/png": "[encoded data removed]",
      "text/plain": [
       "<Figure size 432x288 with 1 Axes>"
      ]
     },
     "metadata": {
      "needs_background": "light"
     },
     "output_type": "display_data"
    },
    {
     "data": {
      "text/html": [
       "<div>\n",
       "<style scoped>\n",
       "    .dataframe tbody tr th:only-of-type {\n",
       "        vertical-align: middle;\n",
       "    }\n",
       "\n",
       "    .dataframe tbody tr th {\n",
       "        vertical-align: top;\n",
       "    }\n",
       "\n",
       "    .dataframe thead th {\n",
       "        text-align: right;\n",
       "    }\n",
       "</style>\n",
       "<table border=\"1\" class=\"dataframe\">\n",
       "  <thead>\n",
       "    <tr style=\"text-align: right;\">\n",
       "      <th></th>\n",
       "      <th>count</th>\n",
       "      <th>mean</th>\n",
       "      <th>std</th>\n",
       "      <th>min</th>\n",
       "      <th>25%</th>\n",
       "      <th>50%</th>\n",
       "      <th>75%</th>\n",
       "      <th>max</th>\n",
       "    </tr>\n",
       "    <tr>\n",
       "      <th>How often do you make video calls or post videos online?</th>\n",
       "      <th></th>\n",
       "      <th></th>\n",
       "      <th></th>\n",
       "      <th></th>\n",
       "      <th></th>\n",
       "      <th></th>\n",
       "      <th></th>\n",
       "      <th></th>\n",
       "    </tr>\n",
       "  </thead>\n",
       "  <tbody>\n",
       "    <tr>\n",
       "      <th>Always</th>\n",
       "      <td>6.0</td>\n",
       "      <td>3.666667</td>\n",
       "      <td>1.366260</td>\n",
       "      <td>1.0</td>\n",
       "      <td>4.0</td>\n",
       "      <td>4.0</td>\n",
       "      <td>4.0</td>\n",
       "      <td>5.0</td>\n",
       "    </tr>\n",
       "    <tr>\n",
       "      <th>Never</th>\n",
       "      <td>15.0</td>\n",
       "      <td>3.400000</td>\n",
       "      <td>1.242118</td>\n",
       "      <td>1.0</td>\n",
       "      <td>3.0</td>\n",
       "      <td>4.0</td>\n",
       "      <td>4.0</td>\n",
       "      <td>5.0</td>\n",
       "    </tr>\n",
       "    <tr>\n",
       "      <th>Rarely</th>\n",
       "      <td>33.0</td>\n",
       "      <td>3.333333</td>\n",
       "      <td>1.050793</td>\n",
       "      <td>1.0</td>\n",
       "      <td>2.0</td>\n",
       "      <td>4.0</td>\n",
       "      <td>4.0</td>\n",
       "      <td>5.0</td>\n",
       "    </tr>\n",
       "    <tr>\n",
       "      <th>Sometimes</th>\n",
       "      <td>54.0</td>\n",
       "      <td>3.333333</td>\n",
       "      <td>0.990521</td>\n",
       "      <td>1.0</td>\n",
       "      <td>3.0</td>\n",
       "      <td>4.0</td>\n",
       "      <td>4.0</td>\n",
       "      <td>5.0</td>\n",
       "    </tr>\n",
       "    <tr>\n",
       "      <th>Very Often</th>\n",
       "      <td>57.0</td>\n",
       "      <td>3.192982</td>\n",
       "      <td>1.328783</td>\n",
       "      <td>1.0</td>\n",
       "      <td>2.0</td>\n",
       "      <td>4.0</td>\n",
       "      <td>4.0</td>\n",
       "      <td>5.0</td>\n",
       "    </tr>\n",
       "  </tbody>\n",
       "</table>\n",
       "</div>"
      ],
      "text/plain": [
       "                                                    count      mean       std  \\\n",
       "How often do you make video calls or post video...                              \n",
       "Always                                                6.0  3.666667  1.366260   \n",
       "Never                                                15.0  3.400000  1.242118   \n",
       "Rarely                                               33.0  3.333333  1.050793   \n",
       "Sometimes                                            54.0  3.333333  0.990521   \n",
       "Very Often                                           57.0  3.192982  1.328783   \n",
       "\n",
       "                                                    min  25%  50%  75%  max  \n",
       "How often do you make video calls or post video...                           \n",
       "Always                                              1.0  4.0  4.0  4.0  5.0  \n",
       "Never                                               1.0  3.0  4.0  4.0  5.0  \n",
       "Rarely                                              1.0  2.0  4.0  4.0  5.0  \n",
       "Sometimes                                           1.0  3.0  4.0  4.0  5.0  \n",
       "Very Often                                          1.0  2.0  4.0  4.0  5.0  "
      ]
     },
     "metadata": {},
     "output_type": "display_data"
    },
    {
     "name": "stdout",
     "output_type": "stream",
     "text": [
      "p-value =  0.4075285378079062\n",
      "u-value=  1474.0\n",
      "High Frequency:  [0.5810465305813195, 3.238095238095238, 5.895143945609156]\n",
      "Low Frequency:  [1.1520561380732803, 3.3541666666666665, 5.556277195260053]\n",
      "There is a Difference:  False\n",
      "\n",
      "========================================\n",
      "\n"
     ]
    }
   ],
   "source": [
    "# Frequency of video calls Cell\n",
    "g = df.groupby('How often do you make video calls or post videos online?')\n",
    "\n",
    "df_highcalls = df[(df['How often do you make video calls or post videos online?'] == 'Always') |\n",
    "             (df['How often do you make video calls or post videos online?'] == 'Very Often')]\n",
    "\n",
    "df_lowcalls = df[(df['How often do you make video calls or post videos online?'] == 'Rarely') |\n",
    "             (df['How often do you make video calls or post videos online?'] == 'Never')]\n",
    "\n",
    "for q in q_list:\n",
    "    col_name = q\n",
    "    print(col_name)\n",
    "    print(\"High Frequency of Video Calls/Posts\")\n",
    "    df_highcalls[col_name].hist()\n",
    "    plt.show()\n",
    "    df_highcalls.boxplot(col_name)\n",
    "    plt.show()\n",
    "    print(\"Low Frequency of Video Calls/Posts\")\n",
    "    df_lowcalls[col_name].hist()\n",
    "    plt.show()\n",
    "    df_lowcalls.boxplot(col_name)\n",
    "    plt.show()\n",
    "    display(g[col_name].describe())\n",
    "    #Statistic test\n",
    "    u,p = mannwhitneyu(df_highcalls[col_name], df_lowcalls[col_name])\n",
    "    print('p-value = ', p)\n",
    "    print('u-value= ', u)\n",
    "    mu1 = df_highcalls[col_name].mean()\n",
    "    std1 = df_highcalls[col_name].std()\n",
    "    mu2 = df_lowcalls[col_name].mean()\n",
    "    std2 = df_lowcalls[col_name].std()\n",
    "    print(\"High Frequency: \", compute_interval95(mu1, std1))\n",
    "    print(\"Low Frequency: \", compute_interval95(mu2, std2))\n",
    "    print(\"There is a Difference: \", is_difference(compute_interval95(mu1, std1), compute_interval95(mu2, std2)))\n",
    "    print('\\n========================================\\n')"
   ]
  },
  {
   "cell_type": "code",
   "execution_count": 28,
   "metadata": {},
   "outputs": [
    {
     "name": "stdout",
     "output_type": "stream",
     "text": [
      "I would like to have the option to remove tremors from videos of myself.\n",
      "Long Duration of PD\n"
     ]
    },
    {
     "data": {
      "image/png": "[encoded data removed]",
      "text/plain": [
       "<Figure size 432x288 with 1 Axes>"
      ]
     },
     "metadata": {
      "needs_background": "light"
     },
     "output_type": "display_data"
    },
    {
     "data": {
      "image/png": "[encoded data removed]",
      "text/plain": [
       "<Figure size 432x288 with 1 Axes>"
      ]
     },
     "metadata": {
      "needs_background": "light"
     },
     "output_type": "display_data"
    },
    {
     "name": "stdout",
     "output_type": "stream",
     "text": [
      "Short Duration of PD\n"
     ]
    },
    {
     "data": {
      "image/png": "[encoded data removed]",
      "text/plain": [
       "<Figure size 432x288 with 1 Axes>"
      ]
     },
     "metadata": {
      "needs_background": "light"
     },
     "output_type": "display_data"
    },
    {
     "data": {
      "image/png": "[encoded data removed]",
      "text/plain": [
       "<Figure size 432x288 with 1 Axes>"
      ]
     },
     "metadata": {
      "needs_background": "light"
     },
     "output_type": "display_data"
    },
    {
     "data": {
      "text/html": [
       "<div>\n",
       "<style scoped>\n",
       "    .dataframe tbody tr th:only-of-type {\n",
       "        vertical-align: middle;\n",
       "    }\n",
       "\n",
       "    .dataframe tbody tr th {\n",
       "        vertical-align: top;\n",
       "    }\n",
       "\n",
       "    .dataframe thead th {\n",
       "        text-align: right;\n",
       "    }\n",
       "</style>\n",
       "<table border=\"1\" class=\"dataframe\">\n",
       "  <thead>\n",
       "    <tr style=\"text-align: right;\">\n",
       "      <th></th>\n",
       "      <th>count</th>\n",
       "      <th>mean</th>\n",
       "      <th>std</th>\n",
       "      <th>min</th>\n",
       "      <th>25%</th>\n",
       "      <th>50%</th>\n",
       "      <th>75%</th>\n",
       "      <th>max</th>\n",
       "    </tr>\n",
       "    <tr>\n",
       "      <th>How long have you been diagnosed with Parkinson's Disease?</th>\n",
       "      <th></th>\n",
       "      <th></th>\n",
       "      <th></th>\n",
       "      <th></th>\n",
       "      <th></th>\n",
       "      <th></th>\n",
       "      <th></th>\n",
       "      <th></th>\n",
       "    </tr>\n",
       "  </thead>\n",
       "  <tbody>\n",
       "    <tr>\n",
       "      <th>1-3 years</th>\n",
       "      <td>23.0</td>\n",
       "      <td>3.043478</td>\n",
       "      <td>0.824525</td>\n",
       "      <td>1.0</td>\n",
       "      <td>3.00</td>\n",
       "      <td>3.0</td>\n",
       "      <td>4.00</td>\n",
       "      <td>4.0</td>\n",
       "    </tr>\n",
       "    <tr>\n",
       "      <th>10 or more years</th>\n",
       "      <td>57.0</td>\n",
       "      <td>3.473684</td>\n",
       "      <td>1.151168</td>\n",
       "      <td>1.0</td>\n",
       "      <td>3.00</td>\n",
       "      <td>4.0</td>\n",
       "      <td>4.00</td>\n",
       "      <td>5.0</td>\n",
       "    </tr>\n",
       "    <tr>\n",
       "      <th>2008</th>\n",
       "      <td>1.0</td>\n",
       "      <td>4.000000</td>\n",
       "      <td>NaN</td>\n",
       "      <td>4.0</td>\n",
       "      <td>4.00</td>\n",
       "      <td>4.0</td>\n",
       "      <td>4.00</td>\n",
       "      <td>4.0</td>\n",
       "    </tr>\n",
       "    <tr>\n",
       "      <th>2013</th>\n",
       "      <td>2.0</td>\n",
       "      <td>4.000000</td>\n",
       "      <td>0.000000</td>\n",
       "      <td>4.0</td>\n",
       "      <td>4.00</td>\n",
       "      <td>4.0</td>\n",
       "      <td>4.00</td>\n",
       "      <td>4.0</td>\n",
       "    </tr>\n",
       "    <tr>\n",
       "      <th>2014</th>\n",
       "      <td>2.0</td>\n",
       "      <td>3.500000</td>\n",
       "      <td>0.707107</td>\n",
       "      <td>3.0</td>\n",
       "      <td>3.25</td>\n",
       "      <td>3.5</td>\n",
       "      <td>3.75</td>\n",
       "      <td>4.0</td>\n",
       "    </tr>\n",
       "    <tr>\n",
       "      <th>4-6 years</th>\n",
       "      <td>40.0</td>\n",
       "      <td>3.325000</td>\n",
       "      <td>0.944281</td>\n",
       "      <td>1.0</td>\n",
       "      <td>3.00</td>\n",
       "      <td>3.0</td>\n",
       "      <td>4.00</td>\n",
       "      <td>5.0</td>\n",
       "    </tr>\n",
       "    <tr>\n",
       "      <th>7-9 years</th>\n",
       "      <td>42.0</td>\n",
       "      <td>3.190476</td>\n",
       "      <td>1.017843</td>\n",
       "      <td>1.0</td>\n",
       "      <td>3.00</td>\n",
       "      <td>3.0</td>\n",
       "      <td>4.00</td>\n",
       "      <td>5.0</td>\n",
       "    </tr>\n",
       "    <tr>\n",
       "      <th>less than 1 year</th>\n",
       "      <td>3.0</td>\n",
       "      <td>3.666667</td>\n",
       "      <td>0.577350</td>\n",
       "      <td>3.0</td>\n",
       "      <td>3.50</td>\n",
       "      <td>4.0</td>\n",
       "      <td>4.00</td>\n",
       "      <td>4.0</td>\n",
       "    </tr>\n",
       "  </tbody>\n",
       "</table>\n",
       "</div>"
      ],
      "text/plain": [
       "                                                    count      mean       std  \\\n",
       "How long have you been diagnosed with Parkinson...                              \n",
       "1-3 years                                            23.0  3.043478  0.824525   \n",
       "10 or more years                                     57.0  3.473684  1.151168   \n",
       "2008                                                  1.0  4.000000       NaN   \n",
       "2013                                                  2.0  4.000000  0.000000   \n",
       "2014                                                  2.0  3.500000  0.707107   \n",
       "4-6 years                                            40.0  3.325000  0.944281   \n",
       "7-9 years                                            42.0  3.190476  1.017843   \n",
       "less than 1 year                                      3.0  3.666667  0.577350   \n",
       "\n",
       "                                                    min   25%  50%   75%  max  \n",
       "How long have you been diagnosed with Parkinson...                             \n",
       "1-3 years                                           1.0  3.00  3.0  4.00  4.0  \n",
       "10 or more years                                    1.0  3.00  4.0  4.00  5.0  \n",
       "2008                                                4.0  4.00  4.0  4.00  4.0  \n",
       "2013                                                4.0  4.00  4.0  4.00  4.0  \n",
       "2014                                                3.0  3.25  3.5  3.75  4.0  \n",
       "4-6 years                                           1.0  3.00  3.0  4.00  5.0  \n",
       "7-9 years                                           1.0  3.00  3.0  4.00  5.0  \n",
       "less than 1 year                                    3.0  3.50  4.0  4.00  4.0  "
      ]
     },
     "metadata": {},
     "output_type": "display_data"
    },
    {
     "name": "stdout",
     "output_type": "stream",
     "text": [
      "p-value =  0.242217356802152\n",
      "u-value=  3066.0\n",
      "Long:  [1.1531062430072048, 3.3535353535353534, 5.553964464063502]\n",
      "Short:  [1.451486162126877, 3.242424242424242, 5.033362322721607]\n",
      "There is a Difference:  False\n",
      "\n",
      "========================================\n",
      "\n",
      "I would like for viewers to have the option to remove tremors from a video of myself.\n",
      "Long Duration of PD\n"
     ]
    },
    {
     "data": {
      "image/png": "[encoded data removed]",
      "text/plain": [
       "<Figure size 432x288 with 1 Axes>"
      ]
     },
     "metadata": {
      "needs_background": "light"
     },
     "output_type": "display_data"
    },
    {
     "data": {
      "image/png": "[encoded data removed]",
      "text/plain": [
       "<Figure size 432x288 with 1 Axes>"
      ]
     },
     "metadata": {
      "needs_background": "light"
     },
     "output_type": "display_data"
    },
    {
     "name": "stdout",
     "output_type": "stream",
     "text": [
      "Short Duration of PD\n"
     ]
    },
    {
     "data": {
      "image/png": "[encoded data removed]",
      "text/plain": [
       "<Figure size 432x288 with 1 Axes>"
      ]
     },
     "metadata": {
      "needs_background": "light"
     },
     "output_type": "display_data"
    },
    {
     "data": {
      "image/png": "[encoded data removed]",
      "text/plain": [
       "<Figure size 432x288 with 1 Axes>"
      ]
     },
     "metadata": {
      "needs_background": "light"
     },
     "output_type": "display_data"
    },
    {
     "data": {
      "text/html": [
       "<div>\n",
       "<style scoped>\n",
       "    .dataframe tbody tr th:only-of-type {\n",
       "        vertical-align: middle;\n",
       "    }\n",
       "\n",
       "    .dataframe tbody tr th {\n",
       "        vertical-align: top;\n",
       "    }\n",
       "\n",
       "    .dataframe thead th {\n",
       "        text-align: right;\n",
       "    }\n",
       "</style>\n",
       "<table border=\"1\" class=\"dataframe\">\n",
       "  <thead>\n",
       "    <tr style=\"text-align: right;\">\n",
       "      <th></th>\n",
       "      <th>count</th>\n",
       "      <th>mean</th>\n",
       "      <th>std</th>\n",
       "      <th>min</th>\n",
       "      <th>25%</th>\n",
       "      <th>50%</th>\n",
       "      <th>75%</th>\n",
       "      <th>max</th>\n",
       "    </tr>\n",
       "    <tr>\n",
       "      <th>How long have you been diagnosed with Parkinson's Disease?</th>\n",
       "      <th></th>\n",
       "      <th></th>\n",
       "      <th></th>\n",
       "      <th></th>\n",
       "      <th></th>\n",
       "      <th></th>\n",
       "      <th></th>\n",
       "      <th></th>\n",
       "    </tr>\n",
       "  </thead>\n",
       "  <tbody>\n",
       "    <tr>\n",
       "      <th>1-3 years</th>\n",
       "      <td>23.0</td>\n",
       "      <td>2.869565</td>\n",
       "      <td>1.099766</td>\n",
       "      <td>1.0</td>\n",
       "      <td>2.0</td>\n",
       "      <td>3.0</td>\n",
       "      <td>4.0</td>\n",
       "      <td>5.0</td>\n",
       "    </tr>\n",
       "    <tr>\n",
       "      <th>10 or more years</th>\n",
       "      <td>57.0</td>\n",
       "      <td>3.491228</td>\n",
       "      <td>1.019853</td>\n",
       "      <td>1.0</td>\n",
       "      <td>3.0</td>\n",
       "      <td>4.0</td>\n",
       "      <td>4.0</td>\n",
       "      <td>5.0</td>\n",
       "    </tr>\n",
       "    <tr>\n",
       "      <th>2008</th>\n",
       "      <td>1.0</td>\n",
       "      <td>3.000000</td>\n",
       "      <td>NaN</td>\n",
       "      <td>3.0</td>\n",
       "      <td>3.0</td>\n",
       "      <td>3.0</td>\n",
       "      <td>3.0</td>\n",
       "      <td>3.0</td>\n",
       "    </tr>\n",
       "    <tr>\n",
       "      <th>2013</th>\n",
       "      <td>2.0</td>\n",
       "      <td>4.000000</td>\n",
       "      <td>0.000000</td>\n",
       "      <td>4.0</td>\n",
       "      <td>4.0</td>\n",
       "      <td>4.0</td>\n",
       "      <td>4.0</td>\n",
       "      <td>4.0</td>\n",
       "    </tr>\n",
       "    <tr>\n",
       "      <th>2014</th>\n",
       "      <td>2.0</td>\n",
       "      <td>4.000000</td>\n",
       "      <td>1.414214</td>\n",
       "      <td>3.0</td>\n",
       "      <td>3.5</td>\n",
       "      <td>4.0</td>\n",
       "      <td>4.5</td>\n",
       "      <td>5.0</td>\n",
       "    </tr>\n",
       "    <tr>\n",
       "      <th>4-6 years</th>\n",
       "      <td>40.0</td>\n",
       "      <td>3.250000</td>\n",
       "      <td>1.214232</td>\n",
       "      <td>1.0</td>\n",
       "      <td>3.0</td>\n",
       "      <td>4.0</td>\n",
       "      <td>4.0</td>\n",
       "      <td>5.0</td>\n",
       "    </tr>\n",
       "    <tr>\n",
       "      <th>7-9 years</th>\n",
       "      <td>42.0</td>\n",
       "      <td>3.190476</td>\n",
       "      <td>1.041530</td>\n",
       "      <td>1.0</td>\n",
       "      <td>3.0</td>\n",
       "      <td>3.0</td>\n",
       "      <td>4.0</td>\n",
       "      <td>5.0</td>\n",
       "    </tr>\n",
       "    <tr>\n",
       "      <th>less than 1 year</th>\n",
       "      <td>3.0</td>\n",
       "      <td>3.666667</td>\n",
       "      <td>0.577350</td>\n",
       "      <td>3.0</td>\n",
       "      <td>3.5</td>\n",
       "      <td>4.0</td>\n",
       "      <td>4.0</td>\n",
       "      <td>4.0</td>\n",
       "    </tr>\n",
       "  </tbody>\n",
       "</table>\n",
       "</div>"
      ],
      "text/plain": [
       "                                                    count      mean       std  \\\n",
       "How long have you been diagnosed with Parkinson...                              \n",
       "1-3 years                                            23.0  2.869565  1.099766   \n",
       "10 or more years                                     57.0  3.491228  1.019853   \n",
       "2008                                                  1.0  3.000000       NaN   \n",
       "2013                                                  2.0  4.000000  0.000000   \n",
       "2014                                                  2.0  4.000000  1.414214   \n",
       "4-6 years                                            40.0  3.250000  1.214232   \n",
       "7-9 years                                            42.0  3.190476  1.041530   \n",
       "less than 1 year                                      3.0  3.666667  0.577350   \n",
       "\n",
       "                                                    min  25%  50%  75%  max  \n",
       "How long have you been diagnosed with Parkinson...                           \n",
       "1-3 years                                           1.0  2.0  3.0  4.0  5.0  \n",
       "10 or more years                                    1.0  3.0  4.0  4.0  5.0  \n",
       "2008                                                3.0  3.0  3.0  3.0  3.0  \n",
       "2013                                                4.0  4.0  4.0  4.0  4.0  \n",
       "2014                                                3.0  3.5  4.0  4.5  5.0  \n",
       "4-6 years                                           1.0  3.0  4.0  4.0  5.0  \n",
       "7-9 years                                           1.0  3.0  3.0  4.0  5.0  \n",
       "less than 1 year                                    3.0  3.5  4.0  4.0  4.0  "
      ]
     },
     "metadata": {},
     "output_type": "display_data"
    },
    {
     "name": "stdout",
     "output_type": "stream",
     "text": [
      "p-value =  0.15935072583753174\n",
      "u-value=  2980.5\n",
      "Long:  [1.294336068711739, 3.3636363636363638, 5.432936658560989]\n",
      "Short:  [0.8122727170150403, 3.1363636363636362, 5.460454555712232]\n",
      "There is a Difference:  False\n",
      "\n",
      "========================================\n",
      "\n",
      "My tremors affect my level of confidence. \n",
      "Long Duration of PD\n"
     ]
    },
    {
     "data": {
      "image/png": "[encoded data removed]",
      "text/plain": [
       "<Figure size 432x288 with 1 Axes>"
      ]
     },
     "metadata": {
      "needs_background": "light"
     },
     "output_type": "display_data"
    },
    {
     "data": {
      "image/png": "[encoded data removed]",
      "text/plain": [
       "<Figure size 432x288 with 1 Axes>"
      ]
     },
     "metadata": {
      "needs_background": "light"
     },
     "output_type": "display_data"
    },
    {
     "name": "stdout",
     "output_type": "stream",
     "text": [
      "Short Duration of PD\n"
     ]
    },
    {
     "data": {
      "image/png": "[encoded data removed]",
      "text/plain": [
       "<Figure size 432x288 with 1 Axes>"
      ]
     },
     "metadata": {
      "needs_background": "light"
     },
     "output_type": "display_data"
    },
    {
     "data": {
      "image/png": "[encoded data removed]",
      "text/plain": [
       "<Figure size 432x288 with 1 Axes>"
      ]
     },
     "metadata": {
      "needs_background": "light"
     },
     "output_type": "display_data"
    },
    {
     "data": {
      "text/html": [
       "<div>\n",
       "<style scoped>\n",
       "    .dataframe tbody tr th:only-of-type {\n",
       "        vertical-align: middle;\n",
       "    }\n",
       "\n",
       "    .dataframe tbody tr th {\n",
       "        vertical-align: top;\n",
       "    }\n",
       "\n",
       "    .dataframe thead th {\n",
       "        text-align: right;\n",
       "    }\n",
       "</style>\n",
       "<table border=\"1\" class=\"dataframe\">\n",
       "  <thead>\n",
       "    <tr style=\"text-align: right;\">\n",
       "      <th></th>\n",
       "      <th>count</th>\n",
       "      <th>mean</th>\n",
       "      <th>std</th>\n",
       "      <th>min</th>\n",
       "      <th>25%</th>\n",
       "      <th>50%</th>\n",
       "      <th>75%</th>\n",
       "      <th>max</th>\n",
       "    </tr>\n",
       "    <tr>\n",
       "      <th>How long have you been diagnosed with Parkinson's Disease?</th>\n",
       "      <th></th>\n",
       "      <th></th>\n",
       "      <th></th>\n",
       "      <th></th>\n",
       "      <th></th>\n",
       "      <th></th>\n",
       "      <th></th>\n",
       "      <th></th>\n",
       "    </tr>\n",
       "  </thead>\n",
       "  <tbody>\n",
       "    <tr>\n",
       "      <th>1-3 years</th>\n",
       "      <td>23.0</td>\n",
       "      <td>2.782609</td>\n",
       "      <td>1.085295</td>\n",
       "      <td>1.0</td>\n",
       "      <td>2.0</td>\n",
       "      <td>3.0</td>\n",
       "      <td>4.0</td>\n",
       "      <td>4.0</td>\n",
       "    </tr>\n",
       "    <tr>\n",
       "      <th>10 or more years</th>\n",
       "      <td>57.0</td>\n",
       "      <td>3.315789</td>\n",
       "      <td>1.269954</td>\n",
       "      <td>1.0</td>\n",
       "      <td>2.0</td>\n",
       "      <td>4.0</td>\n",
       "      <td>4.0</td>\n",
       "      <td>5.0</td>\n",
       "    </tr>\n",
       "    <tr>\n",
       "      <th>2008</th>\n",
       "      <td>0.0</td>\n",
       "      <td>NaN</td>\n",
       "      <td>NaN</td>\n",
       "      <td>NaN</td>\n",
       "      <td>NaN</td>\n",
       "      <td>NaN</td>\n",
       "      <td>NaN</td>\n",
       "      <td>NaN</td>\n",
       "    </tr>\n",
       "    <tr>\n",
       "      <th>2013</th>\n",
       "      <td>0.0</td>\n",
       "      <td>NaN</td>\n",
       "      <td>NaN</td>\n",
       "      <td>NaN</td>\n",
       "      <td>NaN</td>\n",
       "      <td>NaN</td>\n",
       "      <td>NaN</td>\n",
       "      <td>NaN</td>\n",
       "    </tr>\n",
       "    <tr>\n",
       "      <th>2014</th>\n",
       "      <td>0.0</td>\n",
       "      <td>NaN</td>\n",
       "      <td>NaN</td>\n",
       "      <td>NaN</td>\n",
       "      <td>NaN</td>\n",
       "      <td>NaN</td>\n",
       "      <td>NaN</td>\n",
       "      <td>NaN</td>\n",
       "    </tr>\n",
       "    <tr>\n",
       "      <th>4-6 years</th>\n",
       "      <td>40.0</td>\n",
       "      <td>2.975000</td>\n",
       "      <td>1.329883</td>\n",
       "      <td>1.0</td>\n",
       "      <td>2.0</td>\n",
       "      <td>3.0</td>\n",
       "      <td>4.0</td>\n",
       "      <td>5.0</td>\n",
       "    </tr>\n",
       "    <tr>\n",
       "      <th>7-9 years</th>\n",
       "      <td>42.0</td>\n",
       "      <td>2.785714</td>\n",
       "      <td>1.071487</td>\n",
       "      <td>1.0</td>\n",
       "      <td>2.0</td>\n",
       "      <td>3.0</td>\n",
       "      <td>4.0</td>\n",
       "      <td>5.0</td>\n",
       "    </tr>\n",
       "    <tr>\n",
       "      <th>less than 1 year</th>\n",
       "      <td>3.0</td>\n",
       "      <td>3.000000</td>\n",
       "      <td>1.000000</td>\n",
       "      <td>2.0</td>\n",
       "      <td>2.5</td>\n",
       "      <td>3.0</td>\n",
       "      <td>3.5</td>\n",
       "      <td>4.0</td>\n",
       "    </tr>\n",
       "  </tbody>\n",
       "</table>\n",
       "</div>"
      ],
      "text/plain": [
       "                                                    count      mean       std  \\\n",
       "How long have you been diagnosed with Parkinson...                              \n",
       "1-3 years                                            23.0  2.782609  1.085295   \n",
       "10 or more years                                     57.0  3.315789  1.269954   \n",
       "2008                                                  0.0       NaN       NaN   \n",
       "2013                                                  0.0       NaN       NaN   \n",
       "2014                                                  0.0       NaN       NaN   \n",
       "4-6 years                                            40.0  2.975000  1.329883   \n",
       "7-9 years                                            42.0  2.785714  1.071487   \n",
       "less than 1 year                                      3.0  3.000000  1.000000   \n",
       "\n",
       "                                                    min  25%  50%  75%  max  \n",
       "How long have you been diagnosed with Parkinson...                           \n",
       "1-3 years                                           1.0  2.0  3.0  4.0  4.0  \n",
       "10 or more years                                    1.0  2.0  4.0  4.0  5.0  \n",
       "2008                                                NaN  NaN  NaN  NaN  NaN  \n",
       "2013                                                NaN  NaN  NaN  NaN  NaN  \n",
       "2014                                                NaN  NaN  NaN  NaN  NaN  \n",
       "4-6 years                                           1.0  2.0  3.0  4.0  5.0  \n",
       "7-9 years                                           1.0  2.0  3.0  4.0  5.0  \n",
       "less than 1 year                                    2.0  2.5  3.0  3.5  4.0  "
      ]
     },
     "metadata": {},
     "output_type": "display_data"
    },
    {
     "name": "stdout",
     "output_type": "stream",
     "text": [
      "p-value =  0.1902406275566491\n",
      "u-value=  3011.5\n",
      "Long:  [0.6650129326437662, 3.090909090909091, 5.516805249174416]\n",
      "Short:  [0.4601722095006595, 2.909090909090909, 5.358009608681159]\n",
      "There is a Difference:  False\n",
      "\n",
      "========================================\n",
      "\n",
      "I feel like my tremors cause others to perceive me as less competent. \n",
      "Long Duration of PD\n"
     ]
    },
    {
     "data": {
      "image/png": "[encoded data removed]",
      "text/plain": [
       "<Figure size 432x288 with 1 Axes>"
      ]
     },
     "metadata": {
      "needs_background": "light"
     },
     "output_type": "display_data"
    },
    {
     "data": {
      "image/png": "[encoded data removed]",
      "text/plain": [
       "<Figure size 432x288 with 1 Axes>"
      ]
     },
     "metadata": {
      "needs_background": "light"
     },
     "output_type": "display_data"
    },
    {
     "name": "stdout",
     "output_type": "stream",
     "text": [
      "Short Duration of PD\n"
     ]
    },
    {
     "data": {
      "image/png": "[encoded data removed]",
      "text/plain": [
       "<Figure size 432x288 with 1 Axes>"
      ]
     },
     "metadata": {
      "needs_background": "light"
     },
     "output_type": "display_data"
    },
    {
     "data": {
      "image/png": "[encoded data removed]",
      "text/plain": [
       "<Figure size 432x288 with 1 Axes>"
      ]
     },
     "metadata": {
      "needs_background": "light"
     },
     "output_type": "display_data"
    },
    {
     "data": {
      "text/html": [
       "<div>\n",
       "<style scoped>\n",
       "    .dataframe tbody tr th:only-of-type {\n",
       "        vertical-align: middle;\n",
       "    }\n",
       "\n",
       "    .dataframe tbody tr th {\n",
       "        vertical-align: top;\n",
       "    }\n",
       "\n",
       "    .dataframe thead th {\n",
       "        text-align: right;\n",
       "    }\n",
       "</style>\n",
       "<table border=\"1\" class=\"dataframe\">\n",
       "  <thead>\n",
       "    <tr style=\"text-align: right;\">\n",
       "      <th></th>\n",
       "      <th>count</th>\n",
       "      <th>mean</th>\n",
       "      <th>std</th>\n",
       "      <th>min</th>\n",
       "      <th>25%</th>\n",
       "      <th>50%</th>\n",
       "      <th>75%</th>\n",
       "      <th>max</th>\n",
       "    </tr>\n",
       "    <tr>\n",
       "      <th>How long have you been diagnosed with Parkinson's Disease?</th>\n",
       "      <th></th>\n",
       "      <th></th>\n",
       "      <th></th>\n",
       "      <th></th>\n",
       "      <th></th>\n",
       "      <th></th>\n",
       "      <th></th>\n",
       "      <th></th>\n",
       "    </tr>\n",
       "  </thead>\n",
       "  <tbody>\n",
       "    <tr>\n",
       "      <th>1-3 years</th>\n",
       "      <td>23.0</td>\n",
       "      <td>3.130435</td>\n",
       "      <td>1.099766</td>\n",
       "      <td>1.0</td>\n",
       "      <td>2.00</td>\n",
       "      <td>3.0</td>\n",
       "      <td>4.0</td>\n",
       "      <td>5.0</td>\n",
       "    </tr>\n",
       "    <tr>\n",
       "      <th>10 or more years</th>\n",
       "      <td>57.0</td>\n",
       "      <td>3.631579</td>\n",
       "      <td>1.143797</td>\n",
       "      <td>1.0</td>\n",
       "      <td>3.00</td>\n",
       "      <td>4.0</td>\n",
       "      <td>4.0</td>\n",
       "      <td>5.0</td>\n",
       "    </tr>\n",
       "    <tr>\n",
       "      <th>2008</th>\n",
       "      <td>0.0</td>\n",
       "      <td>NaN</td>\n",
       "      <td>NaN</td>\n",
       "      <td>NaN</td>\n",
       "      <td>NaN</td>\n",
       "      <td>NaN</td>\n",
       "      <td>NaN</td>\n",
       "      <td>NaN</td>\n",
       "    </tr>\n",
       "    <tr>\n",
       "      <th>2013</th>\n",
       "      <td>0.0</td>\n",
       "      <td>NaN</td>\n",
       "      <td>NaN</td>\n",
       "      <td>NaN</td>\n",
       "      <td>NaN</td>\n",
       "      <td>NaN</td>\n",
       "      <td>NaN</td>\n",
       "      <td>NaN</td>\n",
       "    </tr>\n",
       "    <tr>\n",
       "      <th>2014</th>\n",
       "      <td>0.0</td>\n",
       "      <td>NaN</td>\n",
       "      <td>NaN</td>\n",
       "      <td>NaN</td>\n",
       "      <td>NaN</td>\n",
       "      <td>NaN</td>\n",
       "      <td>NaN</td>\n",
       "      <td>NaN</td>\n",
       "    </tr>\n",
       "    <tr>\n",
       "      <th>4-6 years</th>\n",
       "      <td>40.0</td>\n",
       "      <td>3.275000</td>\n",
       "      <td>1.219237</td>\n",
       "      <td>1.0</td>\n",
       "      <td>2.75</td>\n",
       "      <td>4.0</td>\n",
       "      <td>4.0</td>\n",
       "      <td>5.0</td>\n",
       "    </tr>\n",
       "    <tr>\n",
       "      <th>7-9 years</th>\n",
       "      <td>42.0</td>\n",
       "      <td>2.976190</td>\n",
       "      <td>1.070402</td>\n",
       "      <td>1.0</td>\n",
       "      <td>2.00</td>\n",
       "      <td>3.0</td>\n",
       "      <td>4.0</td>\n",
       "      <td>5.0</td>\n",
       "    </tr>\n",
       "    <tr>\n",
       "      <th>less than 1 year</th>\n",
       "      <td>3.0</td>\n",
       "      <td>3.333333</td>\n",
       "      <td>1.154701</td>\n",
       "      <td>2.0</td>\n",
       "      <td>3.00</td>\n",
       "      <td>4.0</td>\n",
       "      <td>4.0</td>\n",
       "      <td>4.0</td>\n",
       "    </tr>\n",
       "  </tbody>\n",
       "</table>\n",
       "</div>"
      ],
      "text/plain": [
       "                                                    count      mean       std  \\\n",
       "How long have you been diagnosed with Parkinson...                              \n",
       "1-3 years                                            23.0  3.130435  1.099766   \n",
       "10 or more years                                     57.0  3.631579  1.143797   \n",
       "2008                                                  0.0       NaN       NaN   \n",
       "2013                                                  0.0       NaN       NaN   \n",
       "2014                                                  0.0       NaN       NaN   \n",
       "4-6 years                                            40.0  3.275000  1.219237   \n",
       "7-9 years                                            42.0  2.976190  1.070402   \n",
       "less than 1 year                                      3.0  3.333333  1.154701   \n",
       "\n",
       "                                                    min   25%  50%  75%  max  \n",
       "How long have you been diagnosed with Parkinson...                            \n",
       "1-3 years                                           1.0  2.00  3.0  4.0  5.0  \n",
       "10 or more years                                    1.0  3.00  4.0  4.0  5.0  \n",
       "2008                                                NaN   NaN  NaN  NaN  NaN  \n",
       "2013                                                NaN   NaN  NaN  NaN  NaN  \n",
       "2014                                                NaN   NaN  NaN  NaN  NaN  \n",
       "4-6 years                                           1.0  2.75  4.0  4.0  5.0  \n",
       "7-9 years                                           1.0  2.00  3.0  4.0  5.0  \n",
       "less than 1 year                                    2.0  3.00  4.0  4.0  4.0  "
      ]
     },
     "metadata": {},
     "output_type": "display_data"
    },
    {
     "name": "stdout",
     "output_type": "stream",
     "text": [
      "p-value =  0.2379103176907693\n",
      "u-value=  3062.5\n",
      "Long:  [1.0444913546416457, 3.3535353535353534, 5.662579352429061]\n",
      "Short:  [0.9055901929434111, 3.227272727272727, 5.5489552616020426]\n",
      "There is a Difference:  False\n",
      "\n",
      "========================================\n",
      "\n"
     ]
    }
   ],
   "source": [
    "g = df.groupby(\"How long have you been diagnosed with Parkinson's Disease?\")\n",
    "\n",
    "df_short = df[(df[\"How long have you been diagnosed with Parkinson's Disease?\"] == 'less than 1 year') |\n",
    "             (df[\"How long have you been diagnosed with Parkinson's Disease?\"] == '1-3 years') |\n",
    "             (df[\"How long have you been diagnosed with Parkinson's Disease?\"] == '4-6 years')]\n",
    "\n",
    "df_long = df[(df[\"How long have you been diagnosed with Parkinson's Disease?\"] == '7-9 years') |\n",
    "             (df[\"How long have you been diagnosed with Parkinson's Disease?\"] == '10 or more years')]\n",
    "\n",
    "for q in q_list:\n",
    "    col_name = q\n",
    "    print(col_name)\n",
    "    print(\"Long Duration of PD\")\n",
    "    df_long[col_name].hist()\n",
    "    plt.show()\n",
    "    df_long.boxplot(col_name)\n",
    "    plt.show()\n",
    "    print(\"Short Duration of PD\")\n",
    "    df_short[col_name].hist()\n",
    "    plt.show()\n",
    "    df_short.boxplot(col_name)\n",
    "    plt.show()\n",
    "    display(g[col_name].describe())\n",
    "    #Statistic test\n",
    "    u,p = mannwhitneyu(df_long[col_name], df_short[col_name])\n",
    "    print('p-value = ', p)\n",
    "    print('u-value= ', u)\n",
    "    mu1 = df_long[col_name].mean()\n",
    "    std1 = df_long[col_name].std()\n",
    "    mu2 = df_short[col_name].mean()\n",
    "    std2 = df_short[col_name].std()\n",
    "    print(\"Long: \", compute_interval95(mu1, std1))\n",
    "    print(\"Short: \", compute_interval95(mu2, std2))\n",
    "    print(\"There is a Difference: \", is_difference(compute_interval95(mu1, std1), compute_interval95(mu2, std2)))\n",
    "    print('\\n========================================\\n')"
   ]
  },
  {
   "cell_type": "code",
   "execution_count": null,
   "metadata": {},
   "outputs": [],
   "source": []
  }
 ],
 "metadata": {
  "kernelspec": {
   "display_name": "Python 3",
   "language": "python",
   "name": "python3"
  },
  "language_info": {
   "codemirror_mode": {
    "name": "ipython",
    "version": 3
   },
   "file_extension": ".py",
   "mimetype": "text/x-python",
   "name": "python",
   "nbconvert_exporter": "python",
   "pygments_lexer": "ipython3",
   "version": "3.7.6"
  }
 },
 "nbformat": 4,
 "nbformat_minor": 4
}
